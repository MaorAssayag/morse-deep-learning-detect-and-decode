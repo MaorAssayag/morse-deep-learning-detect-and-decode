{
 "cells": [
  {
   "cell_type": "markdown",
   "source": [
    "# Imports"
   ],
   "metadata": {
    "collapsed": false
   },
   "id": "54d4435245ddac68"
  },
  {
   "cell_type": "code",
   "execution_count": 1,
   "outputs": [],
   "source": [
    "import numpy as np\n",
    "from matplotlib import pyplot as plt\n",
    "from scipy.io import wavfile\n",
    "from IPython.display import Audio\n",
    "import logging\n",
    "import sys\n",
    "from random import choices\n",
    "from scipy import signal\n",
    "import torch\n",
    "import os\n",
    "import scipy.io.wavfile\n",
    "from torch.utils.tensorboard import SummaryWriter\n",
    "import torch.nn as nn\n",
    "import torch.nn.functional as F\n",
    "import torch.optim as optim\n",
    "from torch.utils import data\n",
    "from itertools import groupby\n",
    "import random\n",
    "\n",
    "logging.basicConfig(\n",
    "    format='%(asctime)s [%(levelname)s] %(name)s - %(message)s',\n",
    "    level=logging.DEBUG,\n",
    "    datefmt='%Y-%m-%d %H:%M:%S',\n",
    "    stream=sys.stdout,\n",
    ")\n",
    "log = logging.getLogger('')\n",
    "logging.getLogger(\"matplotlib\").setLevel(logging.INFO)\n",
    "logging.getLogger(\"librosa\").setLevel(logging.INFO)\n",
    "\n",
    "%load_ext tensorboard"
   ],
   "metadata": {
    "collapsed": false,
    "ExecuteTime": {
     "end_time": "2024-03-24T10:44:33.510206Z",
     "start_time": "2024-03-24T10:44:29.770640700Z"
    }
   },
   "id": "98c30cc252db74b0"
  },
  {
   "cell_type": "markdown",
   "source": [
    "# Dataset generation"
   ],
   "metadata": {
    "collapsed": false
   },
   "id": "7a5d2369bf73b9b6"
  },
  {
   "cell_type": "markdown",
   "source": [
    "## Utils"
   ],
   "metadata": {
    "collapsed": false
   },
   "id": "8bad2c073a71c919"
  },
  {
   "cell_type": "code",
   "execution_count": 192,
   "outputs": [],
   "source": [
    "def generate_sine_wave(f, sr, duration):\n",
    "    x = np.arange(duration * sr)\n",
    "    y = np.sin(2 * np.pi * f * x / sr)\n",
    "    return y\n",
    "\n",
    "\n",
    "morse_code_dict = {\n",
    "    '-----': '0',\n",
    "    '.----': '1',\n",
    "    '..---': '2',\n",
    "    '...--': '3',\n",
    "    '....-': '4',\n",
    "    '.....': '5',\n",
    "    '-....': '6',\n",
    "    '--...': '7',\n",
    "    '---..': '8',\n",
    "    '----.': '9',\n",
    "    '.-': 'A',\n",
    "    '-...': 'B',\n",
    "    '-.-.': 'C',\n",
    "    '-..': 'D',\n",
    "    '.': 'E',\n",
    "    '..-.': 'F',\n",
    "    '--.': 'G',\n",
    "    '....': 'H',\n",
    "    '..': 'I',\n",
    "    '.---': 'J',\n",
    "    '-.-': 'K',\n",
    "    '.-..': 'L',\n",
    "    '--': 'M',\n",
    "    '-.': 'N',\n",
    "    '---': 'O',\n",
    "    '.--.': 'P',\n",
    "    '--.-': 'Q',\n",
    "    '.-.': 'R',\n",
    "    '...': 'S',\n",
    "    '-': 'T',\n",
    "    '..-': 'U',\n",
    "    '...-': 'V',\n",
    "    '.--': 'W',\n",
    "    '-..-': 'X',\n",
    "    '-.--': 'Y',\n",
    "    '--..': 'Z',\n",
    "}\n",
    "\n",
    "num_tags = len(morse_code_dict)+1\n",
    "tag_to_idx = {c: i + 1 for i, c in enumerate(list(morse_code_dict.values()) + [' '])}\n",
    "idx_to_tag = {i + 1: c for i, c in enumerate(list(morse_code_dict.values()) + [' '])}\n",
    "\n",
    "def find_key_by_value(dictionary, target_value):\n",
    "    for key, value in dictionary.items():\n",
    "        if value == target_value:\n",
    "            return key\n",
    "    return None\n",
    "\n",
    "\n",
    "def char_to_morse(char):\n",
    "    return find_key_by_value(morse_code_dict, char.upper())\n",
    "\n",
    "\n",
    "def morse_char_to_signal(morse_char, dit_signal, dash_signal, dit_space_signal):\n",
    "    packet = []\n",
    "\n",
    "    for idx, v in enumerate(morse_char):\n",
    "        if v == '-':\n",
    "            packet = np.concatenate((packet, dash_signal))\n",
    "        if v == '.':\n",
    "            packet = np.concatenate((packet, dit_signal))\n",
    "        if idx < len(morse_char) - 1:\n",
    "            packet = np.concatenate((packet, dit_space_signal))\n",
    "\n",
    "    return packet\n",
    "\n",
    "\n",
    "def string_to_morse_signal(sentence, dit_signal, dash_signal, dit_space_signal, char_space_signal, word_space_signal):\n",
    "    packet = []\n",
    "\n",
    "    for _, c in enumerate(sentence):\n",
    "        if c == ' ':\n",
    "            packet = np.concatenate((packet, word_space_signal))\n",
    "        else:\n",
    "            char_signal = morse_char_to_signal(morse_char=char_to_morse(char=c),\n",
    "                                               dit_signal=dit_signal,\n",
    "                                               dash_signal=dash_signal,\n",
    "                                               dit_space_signal=dit_space_signal)\n",
    "            packet = np.concatenate((packet, char_signal))\n",
    "            packet = np.concatenate((packet, char_space_signal))\n",
    "    return packet\n",
    "\n",
    "\n",
    "def apply_noise_and_channel(signal, channelResponse, SNRdb, rayleigh_dist=False):\n",
    "    convolved = np.convolve(signal, channelResponse)\n",
    "    signal_power = np.mean(abs(convolved ** 2))\n",
    "    sigma2 = signal_power * 10 ** (-SNRdb / 10)  # calculate noise power based on signal power and SNR\n",
    "\n",
    "    if rayleigh_dist:\n",
    "        noise = np.sqrt(sigma2 / 2) * (np.random.rayleigh(*convolved.shape) + 1j * np.random.rayleigh(*convolved.shape))\n",
    "    else:\n",
    "        noise = np.sqrt(sigma2 / 2) * (np.random.randn(*convolved.shape) + 1j * np.random.randn(*convolved.shape))\n",
    "    return convolved + noise\n",
    "\n",
    "\n",
    "def save_packet_to_file(sr, packet, file_name='test', listen=False):\n",
    "    packet_norm = np.int16(packet / np.max(np.abs(packet)) * 32000)\n",
    "    filename = f'.//test_outputs//{file_name}.wav'\n",
    "    wavfile.write(filename, sr, packet_norm)\n",
    "    if listen:\n",
    "        Audio(filename)\n",
    "\n",
    "\n",
    "def apply_noise_to_signal(signal, SNRdb):\n",
    "    signal_power = np.mean(abs(signal ** 2))\n",
    "    sigma2 = signal_power * 10 ** (-SNRdb / 10)  # calculate noise power based on signal power and SNR\n",
    "    noise = np.sqrt(sigma2 / 2) * (np.random.randn(*signal.shape) + 1j * np.random.randn(*signal.shape))\n",
    "    return signal + noise\n",
    "\n",
    "def apply_random_variations(sr, main_freq, dit_duration, dash_duration, variation_percent=0.1):\n",
    "    \"\"\"\n",
    "    :param sr:\n",
    "    :param main_freq:\n",
    "    :param dit_duration:\n",
    "    :param dash_duration:\n",
    "    :param variation_percent: between 0 and 1\n",
    "    :return:\n",
    "    \"\"\"\n",
    "    rand = 1 + random.uniform(-variation_percent, variation_percent)\n",
    "    dit_signal = generate_sine_wave(main_freq, sr, dit_duration * rand)\n",
    "\n",
    "    rand = 1 + random.uniform(-variation_percent, variation_percent)\n",
    "    dash_signal = generate_sine_wave(main_freq, sr, dash_duration * rand)\n",
    "\n",
    "    rand = 1 + random.uniform(-variation_percent, variation_percent)\n",
    "    dit_space_signal = np.int16(np.zeros(int(sr * dit_duration * rand)))\n",
    "\n",
    "    rand = 1 + random.uniform(-variation_percent, variation_percent)\n",
    "    char_space_signal = np.int16(np.zeros(int(sr * 3 * dit_duration * rand)))\n",
    "\n",
    "    rand = 1 + random.uniform(-variation_percent, variation_percent)\n",
    "    word_space_signal = np.int16(np.zeros(int(sr * 4 * dit_duration * rand)))\n",
    "\n",
    "    return dit_signal, dash_signal, dit_space_signal, char_space_signal, word_space_signal\n",
    "\n",
    "\n",
    "def generate_random_word(vocab, word_length):\n",
    "    return ''.join(choices(list(vocab.values()) + [' '], k=word_length))\n",
    "\n",
    "def prediction_to_str(seq):\n",
    "    if not isinstance(seq, list):\n",
    "        seq = seq.tolist()\n",
    "\n",
    "    # remove duplicates\n",
    "    seq = [i[0] for i in groupby(seq)]\n",
    "\n",
    "    # remove blanks\n",
    "    seq = [s for s in seq if s != 0]\n",
    "\n",
    "    # convert to string\n",
    "    seq = \"\".join(idx_to_tag[c] for c in seq)\n",
    "\n",
    "    return seq"
   ],
   "metadata": {
    "collapsed": false,
    "ExecuteTime": {
     "end_time": "2024-03-22T21:43:29.704597400Z",
     "start_time": "2024-03-22T21:43:29.685306Z"
    }
   },
   "id": "7b913d5aad734255"
  },
  {
   "cell_type": "markdown",
   "source": [
    "## Generator"
   ],
   "metadata": {
    "collapsed": false
   },
   "id": "c6d874a82d4dfe8f"
  },
  {
   "cell_type": "code",
   "execution_count": 255,
   "outputs": [],
   "source": [
    "class MorseGenerator:\n",
    "    def __init__(self, sr=11025, base_duration=0.06, main_freq=1e3):\n",
    "        # params\n",
    "        self.sr = sr\n",
    "        self.base_duration = base_duration\n",
    "        self.main_freq = main_freq\n",
    "        self.dit_duration = self.base_duration\n",
    "        self.dash_duration = 3 * self.base_duration\n",
    "        \n",
    "        # generate base signals\n",
    "        self.dit_signal = generate_sine_wave(main_freq, sr, self.dit_duration)\n",
    "        self.dash_signal = generate_sine_wave(main_freq, sr, self.dash_duration)\n",
    "        self.dit_space_signal = np.int16(np.zeros(int(sr * self.dit_duration)))\n",
    "        self.char_space_signal = np.int16(np.zeros(int(sr * 3 * self.dit_duration)))\n",
    "        self.word_space_signal = np.int16(np.zeros(int(sr * 4 * self.dit_duration)))\n",
    "\n",
    "\n",
    "    def generate_morse_signal(self, s, snr, apply_noise=False, padding_start=True, padding_end=True, const_signal_length_sec=-1):\n",
    "        \"\"\"\n",
    "        :param s: string\n",
    "        :param snr: \n",
    "        :param apply_noise: \n",
    "        :return: \n",
    "        \"\"\"\n",
    "        # generate\n",
    "        p = string_to_morse_signal(s, self.dit_signal, self.dash_signal, self.dit_space_signal, self.char_space_signal, self.word_space_signal)\n",
    "        \n",
    "        if padding_start:\n",
    "            p = np.concatenate((self.word_space_signal, p))\n",
    "            \n",
    "        if padding_end:\n",
    "            p = np.concatenate((p, self.word_space_signal))\n",
    "        \n",
    "        if const_signal_length_sec != -1:\n",
    "            diff_signal = np.int16(np.zeros(int((sr * const_signal_length_sec) - len(p))))\n",
    "            p = np.concatenate((p, diff_signal))\n",
    "            \n",
    "        if apply_noise:\n",
    "            p = apply_noise_to_signal(signal=p, SNRdb=snr)\n",
    "        \n",
    "        # normalization\n",
    "        p = np.int16(p / np.max(np.abs(p)) * 32000)\n",
    "        return p\n",
    "\n",
    "\n",
    "    def get_spectrogram(self, x):\n",
    "        window_length = int(0.02 * self.sr)  # 20 ms windows\n",
    "        _, _, sxx = signal.spectrogram(x, nperseg=window_length, noverlap=0)\n",
    "        return sxx\n",
    "\n",
    "    def get_training_sample(self, x, str):\n",
    "        sxx = self.get_spectrogram(x)\n",
    "\n",
    "        sxx = torch.from_numpy(sxx)\n",
    "        sxx = sxx.permute(1, 0)\n",
    "        \n",
    "        y_tags = [tag_to_idx[c] for c in str]\n",
    "        y_tags = torch.tensor(y_tags)\n",
    "\n",
    "        return sxx, y_tags"
   ],
   "metadata": {
    "collapsed": false,
    "ExecuteTime": {
     "end_time": "2024-03-23T19:01:01.621056800Z",
     "start_time": "2024-03-23T19:01:01.613565200Z"
    }
   },
   "id": "c75ea1fa911f03af"
  },
  {
   "cell_type": "markdown",
   "source": [
    "## init generator"
   ],
   "metadata": {
    "collapsed": false
   },
   "id": "9c3ba6fcb6d3b3fc"
  },
  {
   "cell_type": "code",
   "execution_count": 256,
   "outputs": [],
   "source": [
    "# params\n",
    "sr = 11025\n",
    "main_freq = 1e3\n",
    "base_duration = 0.06\n",
    "word_length = 4\n",
    "snr = 5\n",
    "const_signal_length_sec = 4\n",
    "\n",
    "# Dataset size\n",
    "number_of_samples = 10\n",
    "directory_path = './/test_outputs'\n",
    "\n",
    "# generator init\n",
    "morse_generator = MorseGenerator(sr=sr, base_duration=base_duration, main_freq=main_freq)"
   ],
   "metadata": {
    "collapsed": false,
    "ExecuteTime": {
     "end_time": "2024-03-23T19:01:03.837188400Z",
     "start_time": "2024-03-23T19:01:03.813526900Z"
    }
   },
   "id": "d750fe3a7c3ed34"
  },
  {
   "cell_type": "markdown",
   "source": [
    "## Generate 1 Example"
   ],
   "metadata": {
    "collapsed": false
   },
   "id": "4a6a252c58a51c5b"
  },
  {
   "cell_type": "code",
   "execution_count": 221,
   "outputs": [
    {
     "name": "stderr",
     "output_type": "stream",
     "text": [
      "C:\\Users\\Maor\\AppData\\Local\\Temp\\ipykernel_39628\\76156896.py:42: ComplexWarning:\n",
      "\n",
      "Casting complex values to real discards the imaginary part\n",
      "\n"
     ]
    },
    {
     "data": {
      "text/plain": "<Figure size 640x480 with 1 Axes>",
      "image/png": "[encoded data removed]"
     },
     "metadata": {},
     "output_type": "display_data"
    },
    {
     "name": "stderr",
     "output_type": "stream",
     "text": [
      "C:\\Users\\Maor\\AppData\\Local\\Temp\\ipykernel_39628\\4247521335.py:6: ComplexWarning:\n",
      "\n",
      "Casting complex values to real discards the imaginary part\n",
      "\n"
     ]
    },
    {
     "data": {
      "text/plain": "<IPython.lib.display.Audio object>",
      "text/html": "\n                <audio  controls=\"controls\" >\n                    <source src=\"data:audio/wav;base64,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\" type=\"audio/wav\" />\n                    Your browser does not support the audio element.\n                </audio>\n              "
     },
     "execution_count": 221,
     "metadata": {},
     "output_type": "execute_result"
    }
   ],
   "source": [
    "random_str = generate_random_word(morse_code_dict, word_length=word_length)\n",
    "s_i = morse_generator.generate_morse_signal(random_str, snr=snr, apply_noise=True, padding_start=True, padding_end=True, const_signal_length_sec=const_signal_length_sec)\n",
    "\n",
    "plt.plot(s_i)\n",
    "plt.show()\n",
    "packet_norm = np.int16(packet / np.max(np.abs(packet)) * 32000)\n",
    "filename = f'.//test.wav'\n",
    "wavfile.write(filename, sr, packet_norm)\n",
    "Audio(filename)"
   ],
   "metadata": {
    "collapsed": false,
    "ExecuteTime": {
     "end_time": "2024-03-22T22:36:23.695143100Z",
     "start_time": "2024-03-22T22:36:23.495081800Z"
    }
   },
   "id": "1253d31219b4647"
  },
  {
   "cell_type": "markdown",
   "source": [
    "## Generate dataset"
   ],
   "metadata": {
    "collapsed": false
   },
   "id": "c060c0054d5c4127"
  },
  {
   "cell_type": "code",
   "execution_count": 220,
   "outputs": [
    {
     "name": "stdout",
     "output_type": "stream",
     "text": [
      "2024-03-23 00:34:32 [DEBUG] root - file #0, word=\"4KQK\" has been saved to: .//test_outputs//4KQK.wav\n",
      "2024-03-23 00:34:32 [DEBUG] root - file #1, word=\"UJZM\" has been saved to: .//test_outputs//UJZM.wav\n",
      "2024-03-23 00:34:32 [DEBUG] root - file #2, word=\"LGME\" has been saved to: .//test_outputs//LGME.wav\n",
      "2024-03-23 00:34:32 [DEBUG] root - file #3, word=\"LA76\" has been saved to: .//test_outputs//LA76.wav\n",
      "2024-03-23 00:34:32 [DEBUG] root - file #4, word=\"MOH3\" has been saved to: .//test_outputs//MOH3.wav\n",
      "2024-03-23 00:34:32 [DEBUG] root - file #5, word=\"SWYV\" has been saved to: .//test_outputs//SWYV.wav\n",
      "2024-03-23 00:34:32 [DEBUG] root - file #6, word=\"XYKE\" has been saved to: .//test_outputs//XYKE.wav\n",
      "2024-03-23 00:34:32 [DEBUG] root - file #7, word=\"QAUV\" has been saved to: .//test_outputs//QAUV.wav\n",
      "2024-03-23 00:34:32 [DEBUG] root - file #8, word=\"XLZL\" has been saved to: .//test_outputs//XLZL.wav\n",
      "2024-03-23 00:34:32 [DEBUG] root - file #9, word=\"GO X\" has been saved to: .//test_outputs//GO X.wav\n"
     ]
    },
    {
     "name": "stderr",
     "output_type": "stream",
     "text": [
      "C:\\Users\\Maor\\AppData\\Local\\Temp\\ipykernel_39628\\76156896.py:42: ComplexWarning:\n",
      "\n",
      "Casting complex values to real discards the imaginary part\n",
      "\n"
     ]
    }
   ],
   "source": [
    "# generate samples to dict\n",
    "for i in range(number_of_samples):\n",
    "    # generate\n",
    "    random_str = generate_random_word(morse_code_dict, word_length=word_length)\n",
    "    s_i = morse_generator.generate_morse_signal(random_str, snr=snr, apply_noise=True, padding_start=True, padding_end=True, const_signal_length_sec=const_signal_length_sec)\n",
    "    \n",
    "    # write to file\n",
    "    filename = f'{directory_path}//{random_str}.wav'\n",
    "    wavfile.write(filename, morse_generator.sr, s_i)\n",
    "    log.debug(f'file #{i}, word=\"{random_str}\" has been saved to: {filename}')"
   ],
   "metadata": {
    "collapsed": false,
    "ExecuteTime": {
     "end_time": "2024-03-22T22:34:32.712207900Z",
     "start_time": "2024-03-22T22:34:32.657904900Z"
    }
   },
   "id": "d02964395b742dee"
  },
  {
   "cell_type": "markdown",
   "source": [
    "## Load dataset\n",
    "loading all files as <morse string, spectrogram>"
   ],
   "metadata": {
    "collapsed": false
   },
   "id": "cc1d783ff6fecf22"
  },
  {
   "cell_type": "code",
   "execution_count": 257,
   "outputs": [
    {
     "name": "stdout",
     "output_type": "stream",
     "text": [
      "2024-03-23 21:03:02 [DEBUG] root - 10 files has been loaded to the dataset!\n"
     ]
    },
    {
     "name": "stderr",
     "output_type": "stream",
     "text": [
      "C:\\Users\\Maor\\AppData\\Local\\Temp\\ipykernel_39628\\190331490.py:19: UserWarning:\n",
      "\n",
      "To copy construct from a tensor, it is recommended to use sourceTensor.clone().detach() or sourceTensor.clone().detach().requires_grad_(True), rather than torch.tensor(sourceTensor).\n",
      "\n"
     ]
    }
   ],
   "source": [
    "directory_path = './/test_outputs'\n",
    "spectrograms = []\n",
    "target_strings = []\n",
    "\n",
    "files = os.listdir(directory_path)\n",
    "for filename in files:\n",
    "    if os.path.isfile(os.path.join(directory_path, filename)):\n",
    "        # read audio file\n",
    "        _, d = scipy.io.wavfile.read(f'{directory_path}//{filename}')\n",
    "        d = d.astype(np.float32)\n",
    "        d /= np.max(np.abs(d))\n",
    "\n",
    "        # extract morse word to be tokenized\n",
    "        morse_str, _ = os.path.splitext(filename)\n",
    "        \n",
    "        # get <morse str tokens, spectrogram>\n",
    "        sxx, token = morse_generator.get_training_sample(d, morse_str)\n",
    "        spectrograms.append(torch.tensor(sxx))\n",
    "        target_strings.append(token)\n",
    "        # dataset.append(morse_generator.get_training_sample(d, morse_str))\n",
    "        \n",
    "dataset = TensorDataset(torch.stack(spectrograms), torch.stack(target_strings))\n",
    "log.debug(f'{len(files)} files has been loaded to the dataset!')"
   ],
   "metadata": {
    "collapsed": false,
    "ExecuteTime": {
     "end_time": "2024-03-23T19:03:02.206788400Z",
     "start_time": "2024-03-23T19:03:02.187392Z"
    }
   },
   "id": "e85f1cbbbd06fa4d"
  },
  {
   "cell_type": "markdown",
   "source": [
    "# junk"
   ],
   "metadata": {
    "collapsed": false
   },
   "id": "cf55a0fc8575879e"
  },
  {
   "cell_type": "code",
   "execution_count": 222,
   "outputs": [
    {
     "data": {
      "text/plain": "<Figure size 640x480 with 1 Axes>",
      "image/png": "[encoded data removed]"
     },
     "metadata": {},
     "output_type": "display_data"
    }
   ],
   "source": [
    "Sxx = morse_generator.get_spectrogram(s_i)\n",
    "plt.pcolormesh(Sxx, shading='gouraud')\n",
    "plt.ylabel('Frequency [Hz]')\n",
    "plt.xlabel('Time [sec]')\n",
    "plt.show()"
   ],
   "metadata": {
    "collapsed": false,
    "ExecuteTime": {
     "end_time": "2024-03-22T22:36:37.981879200Z",
     "start_time": "2024-03-22T22:36:37.833727200Z"
    }
   },
   "id": "9c924a473b4361eb"
  },
  {
   "cell_type": "code",
   "execution_count": 224,
   "outputs": [
    {
     "data": {
      "text/plain": "(111, 200)"
     },
     "execution_count": 224,
     "metadata": {},
     "output_type": "execute_result"
    }
   ],
   "source": [
    "Sxx.shape"
   ],
   "metadata": {
    "collapsed": false,
    "ExecuteTime": {
     "end_time": "2024-03-22T22:37:02.553930Z",
     "start_time": "2024-03-22T22:37:02.543928500Z"
    }
   },
   "id": "ebfdd93e67eed2b0"
  },
  {
   "cell_type": "code",
   "execution_count": null,
   "outputs": [],
   "source": [
    "_, data1 = scipy.io.wavfile.read('.//test_outputs//XWGM2.wav')\n",
    "data1 = data1.astype(np.float32)\n",
    "data1 /= np.max(np.abs(data1))\n",
    "plt.plot(data1)\n",
    "plt.show()"
   ],
   "metadata": {
    "collapsed": false
   },
   "id": "6b70ad87fc952236"
  },
  {
   "cell_type": "markdown",
   "source": [
    "# Uses"
   ],
   "metadata": {
    "collapsed": false
   },
   "id": "f927a219b95d36a6"
  },
  {
   "cell_type": "markdown",
   "source": [
    "## Morse Utils"
   ],
   "metadata": {
    "collapsed": false
   },
   "id": "77db0b15a2d56e44"
  },
  {
   "cell_type": "code",
   "execution_count": 172,
   "outputs": [],
   "source": [
    "MORSE_CODE_DICT = {\n",
    "    'A': '.-', 'B': '-...',\n",
    "    'C': '-.-.', 'D': '-..', 'E': '.',\n",
    "    'F': '..-.', 'G': '--.', 'H': '....',\n",
    "    'I': '..', 'J': '.---', 'K': '-.-',\n",
    "    'L': '.-..', 'M': '--', 'N': '-.',\n",
    "    'O': '---', 'P': '.--.', 'Q': '--.-',\n",
    "    'R': '.-.', 'S': '...', 'T': '-',\n",
    "    'U': '..-', 'V': '...-', 'W': '.--',\n",
    "    'X': '-..-', 'Y': '-.--', 'Z': '--..',\n",
    "    '1': '.----', '2': '..---', '3': '...--',\n",
    "    '4': '....-', '5': '.....', '6': '-....',\n",
    "    '7': '--...', '8': '---..', '9': '----.',\n",
    "    '0': '-----',\n",
    "    '.': '.-.-.-', ',': '--..--', '?': '..--..',\n",
    "    '=': '-...-', '+': '.-.-.',\n",
    "}\n",
    "ALPHABET = \" \" + \"\".join(MORSE_CODE_DICT.keys())\n",
    "num_tags = len(ALPHABET)\n",
    "\n",
    "def get_spectrogram(samples, sr, nfft, nperseg, main_freq_idx=None):\n",
    "    _, _, sxx = signal.spectrogram(samples, fs=sr, nfft=nfft, nperseg=nperseg, noverlap=int((0.001 * sr)))\n",
    "    if main_freq_idx != None:\n",
    "        sxx_filterd = sxx[list(range(main_freq_idx-2,main_freq_idx+2)), :]\n",
    "        return sxx_filterd\n",
    "    else:\n",
    "        return sxx"
   ],
   "metadata": {
    "collapsed": false,
    "ExecuteTime": {
     "end_time": "2024-03-24T18:30:02.968611800Z",
     "start_time": "2024-03-24T18:30:02.936999800Z"
    }
   },
   "id": "a6b6140ecf98869d"
  },
  {
   "cell_type": "markdown",
   "source": [
    "## Morse Generator"
   ],
   "metadata": {
    "collapsed": false
   },
   "id": "3975c073629dba46"
  },
  {
   "cell_type": "code",
   "execution_count": 221,
   "outputs": [],
   "source": [
    "SAMPLE_FREQ = 11025\n",
    "\n",
    "def generate_sample(text_len=10, pitch=1000, wpm=18, noise_power=1, amplitude=100, s=None, main_freq_idx=6):\n",
    "    assert pitch < SAMPLE_FREQ / 2  # Nyquist\n",
    "\n",
    "    # Reference word is PARIS, 50 dots long\n",
    "    dot = (60 / wpm) / 50 * SAMPLE_FREQ\n",
    "\n",
    "    # Add some noise on the length of dash and dot\n",
    "    def get_dot():\n",
    "        scale = np.clip(np.random.normal(1, 0.2), 0.5, 2.0)\n",
    "        return int(dot * scale)\n",
    "\n",
    "    # The length of a dash is three times the length of a dot.\n",
    "    def get_dash():\n",
    "        scale = np.clip(np.random.normal(1, 0.2), 0.5, 2.0)\n",
    "        return int(3 * dot * scale)\n",
    "\n",
    "    # Create random string that doesn't start or end with a space\n",
    "    if s is None:\n",
    "        s1 = ''.join(random.choices(ALPHABET, k=text_len - 2))\n",
    "        s2 = ''.join(random.choices(ALPHABET[1:], k=2))\n",
    "        s = s2[0] + s1 + s2[1]\n",
    "\n",
    "    out = []\n",
    "    out.append(np.zeros(5 * get_dot()))\n",
    "\n",
    "    # The space between two signs of the same character is equal to the length of one dot.\n",
    "    # The space between two characters of the same word is three times the length of a dot.\n",
    "    # The space between two words is seven times the length of a dot (or more).\n",
    "    for c in s:\n",
    "        if c == ' ':\n",
    "            out.append(np.zeros(7 * get_dot()))\n",
    "        else:\n",
    "            for m in MORSE_CODE_DICT[c]:\n",
    "                if m == '.':\n",
    "                    out.append(np.ones(get_dot()))\n",
    "                    out.append(np.zeros(get_dot()))\n",
    "                elif m == '-':\n",
    "                    out.append(np.ones(get_dash()))\n",
    "                    out.append(np.zeros(get_dot()))\n",
    "\n",
    "            out.append(np.zeros(2 * get_dot()))\n",
    "\n",
    "    out.append(np.zeros(5 * get_dot()))\n",
    "    out = np.hstack(out)\n",
    "\n",
    "    # Modulatation\n",
    "    t = np.arange(len(out)) / SAMPLE_FREQ\n",
    "    sine = np.sin(2 * np.pi * t * pitch)\n",
    "    out = sine * out\n",
    "\n",
    "    # Add noise\n",
    "    noise_power = 1e-6 * noise_power * SAMPLE_FREQ / 2\n",
    "    noise = np.random.normal(scale=np.sqrt(noise_power), size=len(out))\n",
    "    out = 0.5 * out + noise\n",
    "\n",
    "    out *= amplitude / 100\n",
    "    out = np.clip(out, -1, 1)\n",
    "\n",
    "    out = out.astype(np.float32)\n",
    "\n",
    "    spec = get_spectrogram(out, sr=SAMPLE_FREQ, nfft=64, nperseg=64, main_freq_idx=main_freq_idx)\n",
    "\n",
    "    return out, spec, s"
   ],
   "metadata": {
    "collapsed": false,
    "ExecuteTime": {
     "end_time": "2024-03-24T23:26:59.010109200Z",
     "start_time": "2024-03-24T23:26:58.984087400Z"
    }
   },
   "id": "7a24cbc9a2fe62a8"
  },
  {
   "cell_type": "markdown",
   "source": [
    "## Example generating 1 signal"
   ],
   "metadata": {
    "collapsed": false
   },
   "id": "84904b9ba97beea0"
  },
  {
   "cell_type": "code",
   "execution_count": 211,
   "outputs": [
    {
     "name": "stdout",
     "output_type": "stream",
     "text": [
      "pitch: 1000, wpm: 18, noise: 71, amplitude: 102, str: ELZ2\n"
     ]
    },
    {
     "data": {
      "text/plain": "<Figure size 640x480 with 1 Axes>",
      "image/png": "[encoded data removed]"
     },
     "metadata": {},
     "output_type": "display_data"
    }
   ],
   "source": [
    "length = random.randrange(1, 5)\n",
    "pitch = 1000\n",
    "wpm = 18\n",
    "main_freq_idx = 6\n",
    "# pitch = random.randrange(100, 950)\n",
    "# wpm = random.randrange(10, 40)\n",
    "noise_power = random.randrange(0, 200)\n",
    "amplitude = random.randrange(50, 150)\n",
    "\n",
    "samples, spec, y = generate_sample(length, pitch, wpm, noise_power, amplitude, None, main_freq_idx)\n",
    "samples = samples.astype(np.float32)\n",
    "print(f\"pitch: {pitch}, wpm: {wpm}, noise: {noise_power}, amplitude: {amplitude}, str: {y}\")\n",
    "plt.figure()\n",
    "plt.pcolormesh(spec)\n",
    "plt.show()"
   ],
   "metadata": {
    "collapsed": false,
    "ExecuteTime": {
     "end_time": "2024-03-24T18:31:02.345439300Z",
     "start_time": "2024-03-24T18:31:02.214516700Z"
    }
   },
   "id": "48d8e89e0790b22"
  },
  {
   "cell_type": "markdown",
   "source": [
    "## Tokenizer"
   ],
   "metadata": {
    "collapsed": false
   },
   "id": "c95f2cc5f7c41689"
  },
  {
   "cell_type": "code",
   "execution_count": 5,
   "outputs": [],
   "source": [
    "# 0: blank label\n",
    "tag_to_idx = {c: i + 1 for i, c in enumerate(ALPHABET)}\n",
    "idx_to_tag = {i + 1: c for i, c in enumerate(ALPHABET)}"
   ],
   "metadata": {
    "collapsed": false,
    "ExecuteTime": {
     "end_time": "2024-03-24T10:44:49.269361300Z",
     "start_time": "2024-03-24T10:44:49.256360900Z"
    }
   },
   "id": "f7aae072e7218ba4"
  },
  {
   "cell_type": "markdown",
   "source": [
    "## NN Helpers"
   ],
   "metadata": {
    "collapsed": false
   },
   "id": "8f256aed3e7b1f67"
  },
  {
   "cell_type": "code",
   "execution_count": 6,
   "outputs": [],
   "source": [
    "def prediction_to_str(seq):\n",
    "    if not isinstance(seq, list):\n",
    "        seq = seq.tolist()\n",
    "\n",
    "    seq = [i[0] for i in groupby(seq)] # remove duplicates\n",
    "    seq = [s for s in seq if s != 0] # remove blanks\n",
    "    seq = \"\".join(idx_to_tag[c] for c in seq) # convert to string\n",
    "    \n",
    "    return seq\n",
    "\n",
    "\n",
    "def get_training_sample(*args, **kwargs):\n",
    "    _, spec, y = generate_sample(*args, **kwargs)\n",
    "\n",
    "    spec = torch.from_numpy(spec)\n",
    "    spec = spec.permute(1, 0)\n",
    "\n",
    "    y_tags = [tag_to_idx[c] for c in y]\n",
    "    y_tags = torch.tensor(y_tags)\n",
    "\n",
    "    return spec, y_tags\n",
    "\n",
    "\n",
    "def collate_fn_pad(batch):\n",
    "    xs, ys = zip(*batch)\n",
    "\n",
    "    input_lengths = torch.tensor([t.shape[0] for t in xs])\n",
    "    output_lengths = torch.tensor([t.shape[0] for t in ys])\n",
    "\n",
    "    seqs = nn.utils.rnn.pad_sequence(xs, batch_first=True)\n",
    "    ys = nn.utils.rnn.pad_sequence(ys, batch_first=True)\n",
    "\n",
    "    return input_lengths, output_lengths, seqs, ys"
   ],
   "metadata": {
    "collapsed": false,
    "ExecuteTime": {
     "end_time": "2024-03-24T10:44:51.467187Z",
     "start_time": "2024-03-24T10:44:51.438187100Z"
    }
   },
   "id": "e03c2cc147b30235"
  },
  {
   "cell_type": "markdown",
   "source": [
    "## Model Architecture"
   ],
   "metadata": {
    "collapsed": false
   },
   "id": "7ec79507a88b908f"
  },
  {
   "cell_type": "code",
   "execution_count": 219,
   "outputs": [],
   "source": [
    "class Net(nn.Module):\n",
    "    def __init__(self, num_tags, spectrogram_size):\n",
    "        super(Net, self).__init__()\n",
    "\n",
    "        num_tags = num_tags + 1  # 0: blank\n",
    "        hidden_dim = 256\n",
    "        lstm_dim1 = 256\n",
    "\n",
    "        self.dense1 = nn.Linear(spectrogram_size, hidden_dim)\n",
    "        self.dense2 = nn.Linear(hidden_dim, hidden_dim)\n",
    "        self.dense3 = nn.Linear(hidden_dim, hidden_dim)\n",
    "        self.dense4 = nn.Linear(hidden_dim, lstm_dim1)\n",
    "        self.lstm1 = nn.LSTM(lstm_dim1, lstm_dim1, batch_first=True)\n",
    "        self.dense5 = nn.Linear(lstm_dim1, num_tags)\n",
    "\n",
    "    def forward(self, x):\n",
    "        x = F.relu(self.dense1(x))\n",
    "        x = F.relu(self.dense2(x))\n",
    "        x = F.relu(self.dense3(x))\n",
    "        x = F.relu(self.dense4(x))\n",
    "        x, _ = self.lstm1(x)\n",
    "        x = self.dense5(x)\n",
    "        x = F.log_softmax(x, dim=2)\n",
    "        return x\n",
    "\n",
    "    def count_parameters(self):\n",
    "        return sum(p.numel() for p in self.parameters() if p.requires_grad)\n",
    "\n",
    "\n",
    "class Dataset(data.Dataset):\n",
    "    def __init__(self, number_of_samples=1024):\n",
    "        self.length = number_of_samples\n",
    "        \n",
    "    def __len__(self):\n",
    "        return self.length\n",
    "\n",
    "    def __getitem__(self, index):\n",
    "        length = random.randrange(1, 5)\n",
    "        pitch = 1000\n",
    "        wpm = 18\n",
    "        main_freq_idx = 6\n",
    "        noise_power = random.randrange(0, 200)\n",
    "        amplitude = random.randrange(50, 150)\n",
    "        \n",
    "        return get_training_sample(length, pitch, wpm, noise_power, amplitude, None, main_freq_idx)"
   ],
   "metadata": {
    "collapsed": false,
    "ExecuteTime": {
     "end_time": "2024-03-24T23:26:27.087077400Z",
     "start_time": "2024-03-24T23:26:27.055500300Z"
    }
   },
   "id": "526e82f9d4e1ff38"
  },
  {
   "cell_type": "markdown",
   "source": [
    "## Training loop\n",
    "launch tensorboard with CLI \n",
    "tensorboard --logdir C:/Users/Maor/Desktop/dev/tensorboard/morse-dl/runs"
   ],
   "metadata": {
    "collapsed": false
   },
   "id": "b59204188012c80d"
  },
  {
   "cell_type": "code",
   "execution_count": null,
   "outputs": [
    {
     "name": "stdout",
     "output_type": "stream",
     "text": [
      "Number of params 736043\n",
      "Model has been loaded from prev state of epoch: 360\n",
      "Epoch #360| target: 9X, pred: 5N, loss: 4.104963779449463\n",
      "Epoch #361| target: OKR0, pred: 8., loss: 4.129741191864014\n",
      "Epoch #362| target: ?=, pred: 7, loss: 4.166772842407227\n",
      "Epoch #363| target: AY, pred: 6J, loss: 4.0761518478393555\n",
      "Epoch #364| target: ,N1, pred: QY, loss: 4.065909385681152\n",
      "Epoch #365| target: KC, pred: ,N, loss: 4.096238136291504\n",
      "Epoch #366| target: C2D, pred: ,6, loss: 4.056150436401367\n",
      "Epoch #367| target: I., pred: ,F, loss: 4.073970794677734\n",
      "Epoch #368| target: 6P1, pred: Z=, loss: 4.113176345825195\n",
      "Epoch #369| target: SGQ, pred: =, loss: 4.098601341247559\n",
      "Epoch #370| target: P9, pred: Q5, loss: 4.093518257141113\n",
      "Epoch #371| target: FD?I, pred: ,C, loss: 4.081343650817871\n",
      "Epoch #372| target: K6, pred: ,, loss: 4.099030494689941\n",
      "Epoch #373| target: +Y3, pred: ,S, loss: 4.0438456535339355\n",
      "Epoch #374| target: CE+, pred: XL, loss: 4.090047836303711\n",
      "Epoch #375| target: Y7N, pred: X?, loss: 4.090510368347168\n",
      "Epoch #376| target: P0, pred: X, loss: 4.028172969818115\n",
      "Epoch #377| target: Q2=, pred: X, loss: 4.076955795288086\n",
      "Epoch #378| target: 3G, pred: XN, loss: 4.028313636779785\n",
      "Epoch #379| target: =4Y, pred: ,O, loss: 3.997880220413208\n",
      "Epoch #380| target: RW, pred: ZM, loss: 4.005338191986084\n",
      "Epoch #381| target: UGK2, pred: Z, loss: 4.079527378082275\n",
      "Epoch #382| target: TMZ6, pred: HZ, loss: 3.9939382076263428\n",
      "Epoch #383| target: ?TQD, pred: H, loss: 4.000474452972412\n",
      "Epoch #384| target: F0, pred: HC, loss: 3.9950814247131348\n",
      "Epoch #385| target: KS, pred: KI, loss: 4.006274223327637\n",
      "Epoch #386| target: 5HKD, pred: 6F, loss: 4.015265464782715\n",
      "Epoch #387| target: CX, pred: ,F, loss: 4.073355674743652\n",
      "Epoch #388| target: WF, pred: X+, loss: 3.998305320739746\n",
      "Epoch #389| target: 3Q0X, pred: X, loss: 3.954810857772827\n",
      "Epoch #390| target: 84, pred: CQ, loss: 3.9575483798980713\n",
      "Epoch #391| target: VNJ, pred: 8I, loss: 4.005664348602295\n",
      "Epoch #392| target: U2, pred: CQ, loss: 3.959221601486206\n",
      "Epoch #393| target: 5W, pred: ,Q, loss: 4.054226398468018\n",
      "Epoch #394| target: 9, pred: =, loss: 4.081920623779297\n",
      "Epoch #395| target: SC4, pred: =I, loss: 3.994579553604126\n",
      "Epoch #396| target: ,D, pred: HW, loss: 4.087070941925049\n",
      "Epoch #397| target: ?J, pred: HW, loss: 3.9980831146240234\n",
      "Epoch #398| target: 2XDL, pred: HI, loss: 4.035135746002197\n",
      "Epoch #399| target: C1, pred: HI, loss: 4.03790283203125\n",
      "Epoch #400| target: JR, pred: ,, loss: 3.934939384460449\n",
      "Epoch #401| target: A0=, pred: ,, loss: 4.077802658081055\n",
      "Epoch #402| target: MH U, pred: ,Q, loss: 4.101090431213379\n",
      "Epoch #403| target: 6E, pred: 0+, loss: 4.017385482788086\n",
      "Epoch #404| target: FML7, pred: JN, loss: 3.9914021492004395\n",
      "Epoch #405| target: OM, pred: .N, loss: 4.105836868286133\n",
      "Epoch #406| target: MA, pred: CD, loss: 4.0305376052856445\n",
      "Epoch #407| target: WT8Q, pred: CE, loss: 4.029221057891846\n",
      "Epoch #408| target: J., pred: CD, loss: 3.951962471008301\n",
      "Epoch #409| target: CD, pred: CP, loss: 4.059459686279297\n",
      "Epoch #410| target: 4M, pred: 8F, loss: 3.966154098510742\n",
      "Epoch #411| target: 4Z,, pred: 1F, loss: 3.940704107284546\n",
      "Epoch #412| target: 3G, pred: HZ, loss: 4.098659515380859\n",
      "Epoch #413| target: PN1, pred: HG, loss: 4.03981876373291\n",
      "Epoch #414| target: OM, pred: H, loss: 4.093279838562012\n",
      "Epoch #415| target: EL, pred: HD, loss: 4.059849739074707\n",
      "Epoch #416| target: ,3, pred: HD, loss: 4.002087593078613\n",
      "Epoch #417| target: M1, pred: 3,, loss: 4.0071611404418945\n",
      "Epoch #418| target: T5Y, pred: T,, loss: 4.047887802124023\n",
      "Epoch #419| target: 1I, pred: 3,, loss: 4.036764144897461\n",
      "Epoch #420| target: 6CL, pred: 34, loss: 4.017752647399902\n",
      "Epoch #421| target: 8?O, pred: 3V, loss: 4.031281471252441\n",
      "Epoch #422| target: 3BEB, pred: 3X, loss: 4.0153937339782715\n",
      "Epoch #423| target: FIH, pred: 32, loss: 4.1430511474609375\n",
      "Epoch #424| target: 6, pred: O, loss: 4.0319318771362305\n",
      "Epoch #425| target: ILJ=, pred: 20, loss: 3.9831724166870117\n",
      "Epoch #426| target: SD, pred: 52, loss: 4.030839443206787\n",
      "Epoch #427| target: +S+W, pred: 5, loss: 4.084294319152832\n",
      "Epoch #428| target: DO, pred: 5, loss: 3.9480204582214355\n",
      "Epoch #429| target: ,Y,., pred: 2K, loss: 3.981372833251953\n",
      "Epoch #430| target: RZ61, pred: 58, loss: 3.963202953338623\n",
      "Epoch #431| target: 5XYK, pred: 53, loss: 4.022105693817139\n",
      "Epoch #432| target: MY, pred: O3, loss: 3.9753780364990234\n",
      "Epoch #433| target: MR57, pred: MB, loss: 4.067674160003662\n",
      "Epoch #434| target: 2K, pred: ,, loss: 4.044230937957764\n",
      "Epoch #435| target: 8ZA, pred: ,B, loss: 3.9909701347351074\n",
      "Epoch #436| target: 9?, pred: DT, loss: 4.0814337730407715\n",
      "Epoch #437| target: LK, pred: D?, loss: 4.0208210945129395\n",
      "Epoch #438| target: ZT, pred: D3, loss: 3.9653000831604004\n",
      "Epoch #439| target: FDZG, pred: O1, loss: 4.087001800537109\n",
      "Epoch #440| target: ZWK, pred: O5, loss: 4.060329437255859\n",
      "Epoch #441| target: 87P0, pred: O1, loss: 4.016677379608154\n",
      "Epoch #442| target: .V, pred: MR, loss: 4.039217472076416\n",
      "Epoch #443| target: HC, pred: MR, loss: 4.013986110687256\n",
      "Epoch #444| target: BK, pred: XR, loss: 3.982325553894043\n",
      "Epoch #445| target: PH, pred: XY, loss: 4.024368762969971\n",
      "Epoch #446| target: FQ, pred: XH, loss: 4.071249485015869\n",
      "Epoch #447| target: 31NV, pred: HF, loss: 4.039825439453125\n",
      "Epoch #448| target: N0VU, pred: HT, loss: 4.058269500732422\n",
      "Epoch #449| target: ZE, pred: H9, loss: 4.0656280517578125\n",
      "Epoch #450| target: RQ, pred: =U, loss: 3.9605791568756104\n",
      "Epoch #451| target: .N, pred: ZR, loss: 4.012292861938477\n",
      "Epoch #452| target: UT, pred: MN, loss: 4.042712211608887\n",
      "Epoch #453| target: HV +, pred: MA, loss: 4.058732509613037\n",
      "Epoch #454| target: Y4Q, pred: V7, loss: 3.9834864139556885\n",
      "Epoch #455| target: XG1, pred: 6W, loss: 4.027878761291504\n",
      "Epoch #456| target: 2J, pred: X6, loss: 3.9711642265319824\n",
      "Epoch #457| target: XA,, pred: M, loss: 4.03754186630249\n",
      "Epoch #458| target: E8, pred: GM, loss: 4.041682243347168\n",
      "Epoch #459| target: Y3, pred: H+, loss: 4.036426544189453\n",
      "Epoch #460| target: M6Y0, pred: 23, loss: 4.00987434387207\n",
      "Epoch #461| target: GLK, pred: 1C, loss: 4.032240390777588\n",
      "Epoch #462| target: JY, pred: 2, loss: 3.9647879600524902\n",
      "Epoch #463| target: 7R5, pred: 2, loss: 3.9765634536743164\n",
      "Epoch #464| target: 4Q6, pred: 2?, loss: 4.058726787567139\n",
      "Epoch #465| target: 6K, pred: H., loss: 3.98012638092041\n",
      "Epoch #466| target: ,=, pred: ., loss: 4.0131611824035645\n",
      "Epoch #467| target: 4K3, pred: 6., loss: 3.9735729694366455\n",
      "Epoch #468| target: LT, pred: 6, loss: 3.960667610168457\n",
      "Epoch #469| target: L,FM, pred: 1G, loss: 3.998307943344116\n",
      "Epoch #470| target: HX, pred: X1, loss: 3.9714694023132324\n",
      "Epoch #471| target: MK, pred: X=, loss: 4.071000099182129\n",
      "Epoch #472| target: 2Y, pred: V=, loss: 4.087786674499512\n",
      "Epoch #473| target: S2, pred: Y3, loss: 3.94289493560791\n",
      "Epoch #474| target: 0M, pred: T=, loss: 4.041593551635742\n",
      "Epoch #475| target: XE, pred: =, loss: 4.007776737213135\n",
      "Epoch #476| target: +.9S, pred: Y=, loss: 4.00286865234375\n",
      "Epoch #477| target: Z6N8, pred: Y3, loss: 4.007211685180664\n",
      "Epoch #478| target: FHUQ, pred: 2R, loss: 3.966266632080078\n",
      "Epoch #479| target: NV, pred: ,S, loss: 3.944021701812744\n",
      "Epoch #480| target: NG, pred: ,=, loss: 4.073917865753174\n",
      "Epoch #481| target: DZ, pred: X=, loss: 3.96549391746521\n",
      "Epoch #482| target: 6=, pred: XI, loss: 3.9650001525878906\n",
      "Epoch #483| target: CW, pred: X9, loss: 4.109682083129883\n",
      "Epoch #484| target: R8, pred: F9, loss: 3.9885005950927734\n",
      "Epoch #485| target: 2H, pred: UO, loss: 4.008439540863037\n",
      "Epoch #486| target: +N9, pred: UO, loss: 4.030141353607178\n",
      "Epoch #487| target: 6X0B, pred: JO, loss: 3.9809184074401855\n",
      "Epoch #488| target: RY I, pred: A3, loss: 3.9747707843780518\n",
      "Epoch #489| target: N7, pred: U3, loss: 4.027097225189209\n",
      "Epoch #490| target: UFX, pred: UD, loss: 3.973687171936035\n",
      "Epoch #491| target: CJ, pred: UL, loss: 4.023671627044678\n",
      "Epoch #492| target: 3VA6, pred: HL, loss: 4.065732002258301\n",
      "Epoch #493| target: G4, pred: HD, loss: 4.035744667053223\n",
      "Epoch #494| target: GWN, pred: HD, loss: 3.9913489818573\n",
      "Epoch #495| target: 9W, pred: E, loss: 4.068500518798828\n",
      "Epoch #496| target: ,I, pred: Z, loss: 4.021581649780273\n",
      "Epoch #497| target: +C, pred: Z, loss: 3.9969115257263184\n",
      "Epoch #498| target: 0?84, pred: HW, loss: 4.051875114440918\n",
      "Epoch #499| target: A=, pred: SW, loss: 4.0563812255859375\n",
      "Epoch #500| target: 2B, pred: 43, loss: 3.9968934059143066\n",
      "Epoch #501| target: HF4, pred: 3, loss: 3.985780715942383\n",
      "Epoch #502| target: O., pred: H3, loss: 3.993361473083496\n",
      "Epoch #503| target: .1ES, pred: H, loss: 4.120523452758789\n",
      "Epoch #504| target: E7E, pred: HO, loss: 4.072673320770264\n",
      "Epoch #505| target: C5T, pred: Y1, loss: 3.9500999450683594\n",
      "Epoch #506| target: YS5, pred: YX, loss: 4.002593040466309\n",
      "Epoch #507| target: DJ, pred: EN, loss: 3.9875693321228027\n",
      "Epoch #508| target: DR, pred: 4F, loss: 4.040412902832031\n",
      "Epoch #509| target: I?F, pred: 6I, loss: 4.225574493408203\n",
      "Epoch #510| target: VK68, pred: 4I, loss: 3.965320587158203\n",
      "Epoch #511| target: 1W, pred: NI, loss: 4.0969038009643555\n",
      "Epoch #512| target: XI, pred: NW, loss: 4.012092113494873\n",
      "Epoch #513| target: J0, pred: OW, loss: 4.058321475982666\n",
      "Epoch #514| target: 9I92, pred: OW, loss: 3.9731078147888184\n",
      "Epoch #515| target: WV, pred: 9., loss: 3.9366934299468994\n",
      "Epoch #516| target: 1AI, pred: V+, loss: 3.969252109527588\n",
      "Epoch #517| target: I2W, pred: 1I, loss: 3.9681003093719482\n",
      "Epoch #518| target: BS1F, pred: Q+, loss: 4.001674652099609\n",
      "Epoch #519| target: US, pred: U, loss: 4.030385971069336\n",
      "Epoch #520| target: SO, pred: U, loss: 3.9681777954101562\n",
      "Epoch #521| target: F8, pred: U, loss: 3.9635562896728516\n",
      "Epoch #522| target: GRHE, pred: U8, loss: 4.019796371459961\n",
      "Epoch #523| target: 3Q, pred: U8, loss: 4.0849456787109375\n",
      "Epoch #524| target: .P, pred: X5, loss: 4.021988868713379\n",
      "Epoch #525| target: ZN, pred: ,G, loss: 4.034566879272461\n",
      "Epoch #526| target: T?B, pred: VG, loss: 4.013736724853516\n",
      "Epoch #527| target: 95?+, pred: V5, loss: 4.0029730796813965\n",
      "Epoch #528| target: E3, pred: ,5, loss: 4.005810737609863\n",
      "Epoch #529| target: 9X, pred: ,M, loss: 3.9859862327575684\n",
      "Epoch #530| target: =NLI, pred: DM, loss: 4.129327774047852\n",
      "Epoch #531| target: 2M, pred: D,, loss: 4.1063737869262695\n",
      "Epoch #532| target: J6B, pred: Y, loss: 3.980144500732422\n",
      "Epoch #533| target: 2H, pred: Y, loss: 4.045222759246826\n",
      "Epoch #534| target: 7, pred: A8, loss: 3.9870662689208984\n",
      "Epoch #535| target: 9YNL, pred: A8, loss: 3.9728338718414307\n"
     ]
    }
   ],
   "source": [
    "tf_board_log_dir_path = \"C:/Users/Maor/Desktop/dev/tensorboard/morse-dl/runs\" # path without hebrew unicode chars\n",
    "batch_size = 64\n",
    "spectrogram_size = generate_sample()[1].shape[0]\n",
    "\n",
    "device = torch.device(\"cuda\")\n",
    "writer = SummaryWriter(tf_board_log_dir_path)\n",
    "\n",
    "# Set up trainer & evaluator\n",
    "model = Net(num_tags, spectrogram_size).to(device)\n",
    "print(\"Number of params\", model.count_parameters())\n",
    "\n",
    "# Lower learning rate to 1e-4 after about 1500 epochs\n",
    "optimizer = optim.Adam(model.parameters(), lr=1e-3)\n",
    "ctc_loss = nn.CTCLoss()\n",
    "\n",
    "train_loader = torch.utils.data.DataLoader(\n",
    "    Dataset(number_of_samples=1024),\n",
    "    batch_size=batch_size,\n",
    "    collate_fn=collate_fn_pad,\n",
    ")\n",
    "\n",
    "random.seed(0)\n",
    "\n",
    "epoch = 360\n",
    "epochs = epoch + 700\n",
    "losses = []\n",
    "\n",
    "# Resume training\n",
    "if epoch != 0:\n",
    "    model.load_state_dict(torch.load(f\"models/{epoch:06}.pt\", map_location=device))\n",
    "    print(f'Model has been loaded from prev state of epoch: {epoch}')\n",
    "\n",
    "model.train()\n",
    "while epoch < epochs:\n",
    "    i = 0\n",
    "    for (input_lengths, output_lengths, x, y) in train_loader:\n",
    "        x, y = x.to(device), y.to(device)\n",
    "        optimizer.zero_grad()\n",
    "        y_pred = model(x)\n",
    "        m = torch.argmax(y_pred[0], 1)\n",
    "        y_pred = y_pred.permute(1, 0, 2)\n",
    "\n",
    "        loss = ctc_loss(y_pred, y, input_lengths, output_lengths)\n",
    "        loss.backward()\n",
    "        optimizer.step()\n",
    "        i += 1\n",
    "\n",
    "    writer.add_scalar(\"training/loss\", loss.item(), epoch)\n",
    "    if epoch % 10 == 0:\n",
    "        torch.save(model.state_dict(), f\"models/{epoch:06}.pt\")\n",
    "\n",
    "    losses.append(loss.item())\n",
    "    print(f'Epoch #{epoch}| target: {prediction_to_str(y[0])}, pred: {prediction_to_str(m)}, loss: {loss.item()}')\n",
    "    epoch += 1"
   ],
   "metadata": {
    "collapsed": false,
    "is_executing": true,
    "ExecuteTime": {
     "start_time": "2024-03-25T06:48:28.692060800Z"
    }
   },
   "id": "11b47e23310bae3e"
  },
  {
   "cell_type": "markdown",
   "source": [
    "## Visualize"
   ],
   "metadata": {
    "collapsed": false
   },
   "id": "8ef156632d6c68e1"
  },
  {
   "cell_type": "code",
   "execution_count": 28,
   "outputs": [
    {
     "data": {
      "text/plain": "<Figure size 1200x500 with 1 Axes>",
      "image/png": "[encoded data removed]"
     },
     "metadata": {},
     "output_type": "display_data"
    }
   ],
   "source": [
    "plt.figure(figsize=(12, 5))\n",
    "plt.subplot(1, 3, 1)\n",
    "plt.plot(range(1, len(losses) + 1), losses)\n",
    "plt.xlabel('Epoch')\n",
    "plt.ylabel('Training Loss')\n",
    "plt.title('Training Loss')\n",
    "plt.show()"
   ],
   "metadata": {
    "collapsed": false,
    "ExecuteTime": {
     "end_time": "2024-03-24T11:05:05.000945700Z",
     "start_time": "2024-03-24T11:05:04.852497400Z"
    }
   },
   "id": "17fd95da5aced9b"
  },
  {
   "cell_type": "markdown",
   "source": [
    "## Example of tensorboard add images"
   ],
   "metadata": {
    "collapsed": false
   },
   "id": "8f20c6f974cc3138"
  },
  {
   "cell_type": "code",
   "execution_count": 43,
   "outputs": [],
   "source": [
    "from torchvision.utils import make_grid\n",
    "\n",
    "for i, image_tensor in enumerate([torch.tensor(spec), torch.tensor(spec)]):\n",
    "    img_grid = make_grid(image_tensor, nrow=8)  # Show 8 images per row\n",
    "    writer.add_image(f\"Training data\", img_grid, i)"
   ],
   "metadata": {
    "collapsed": false,
    "ExecuteTime": {
     "end_time": "2024-03-24T11:22:36.053816300Z",
     "start_time": "2024-03-24T11:22:36.027189900Z"
    }
   },
   "id": "98b0ece2c0499190"
  },
  {
   "cell_type": "markdown",
   "source": [
    "# Approaches"
   ],
   "metadata": {
    "collapsed": false
   },
   "id": "d642bc45f7ef311"
  },
  {
   "cell_type": "markdown",
   "source": [
    "## LSTM + RNN"
   ],
   "metadata": {
    "collapsed": false
   },
   "id": "53f045caa652fe55"
  },
  {
   "cell_type": "markdown",
   "source": [
    "### Dataset"
   ],
   "metadata": {
    "collapsed": false
   },
   "id": "df7c2b9c62cfddac"
  },
  {
   "cell_type": "code",
   "execution_count": 184,
   "outputs": [],
   "source": [
    "class SpectrogramTagDataset(data.Dataset):\n",
    "    \"\"\"\n",
    "    PyTorch Dataset class for spectrogram and tag data.\n",
    "  \n",
    "    Args:\n",
    "        data: A list of tuples where each tuple is (<spectrogram>, <y_tags>).\n",
    "            <spectrogram> should be a tensor representing the spectrogram.\n",
    "            <y_tags> should be a string containing the tokenized tags.\n",
    "    \"\"\"\n",
    "    def __init__(self, data):\n",
    "        self.data = data\n",
    "\n",
    "    def __len__(self):\n",
    "        return len(self.data)\n",
    "\n",
    "    def __getitem__(self, idx):\n",
    "        \"\"\"\n",
    "        Retrieves a data sample at the specified index.\n",
    "    \n",
    "        Args:\n",
    "            idx: The index of the data sample to retrieve.\n",
    "    \n",
    "        Returns:\n",
    "            A tuple containing the spectrogram tensor and the tokenized tags string.\n",
    "        \"\"\"\n",
    "        spectrogram, y_tags = self.data[idx]\n",
    "        return spectrogram, y_tags"
   ],
   "metadata": {
    "collapsed": false,
    "ExecuteTime": {
     "end_time": "2024-03-22T21:37:32.982841600Z",
     "start_time": "2024-03-22T21:37:32.975842700Z"
    }
   },
   "id": "3272b6f1ae1a1533"
  },
  {
   "cell_type": "markdown",
   "source": [
    "### Model Architecture"
   ],
   "metadata": {
    "collapsed": false
   },
   "id": "3956d4735e194cea"
  },
  {
   "cell_type": "code",
   "execution_count": 275,
   "outputs": [],
   "source": [
    "class Net(nn.Module):\n",
    "    def __init__(self, num_tags, spectrogram_size):\n",
    "        super(Net, self).__init__()\n",
    "\n",
    "        hidden_dim = 256\n",
    "        lstm_dim1 = 256\n",
    "\n",
    "        self.dense1 = nn.Linear(spectrogram_size, hidden_dim)\n",
    "        self.dense2 = nn.Linear(hidden_dim, hidden_dim)\n",
    "        self.dense3 = nn.Linear(hidden_dim, hidden_dim)\n",
    "        self.dense4 = nn.Linear(hidden_dim, lstm_dim1)\n",
    "        self.lstm1 = nn.LSTM(lstm_dim1, lstm_dim1, batch_first=True)\n",
    "        self.dense5 = nn.Linear(lstm_dim1, num_tags+1)\n",
    "\n",
    "    def forward(self, x):\n",
    "        batch_size = x.size(0)\n",
    "        x = x.view(batch_size, -1)\n",
    "\n",
    "        x = F.relu(self.dense1(x))\n",
    "        x = F.relu(self.dense2(x))\n",
    "        x = F.relu(self.dense3(x))\n",
    "        x = F.relu(self.dense4(x))\n",
    "        x, _ = self.lstm1(x)\n",
    "        x = self.dense5(x.squeeze(1))\n",
    "        # x = F.log_softmax(x, dim=2)\n",
    "        x = x.log_softmax(1)\n",
    "        return x\n",
    "\n",
    "    def count_parameters(self):\n",
    "        return sum(p.numel() for p in self.parameters() if p.requires_grad)"
   ],
   "metadata": {
    "collapsed": false,
    "ExecuteTime": {
     "end_time": "2024-03-23T19:18:36.135274800Z",
     "start_time": "2024-03-23T19:18:36.117248600Z"
    }
   },
   "id": "4da98f5af6d15404"
  },
  {
   "cell_type": "markdown",
   "source": [
    "### Utils"
   ],
   "metadata": {
    "collapsed": false
   },
   "id": "b1761acd2c8f2579"
  },
  {
   "cell_type": "code",
   "execution_count": 163,
   "outputs": [],
   "source": [
    "def collate_fn_pad(batch):\n",
    "    xs, ys = zip(*batch)\n",
    "\n",
    "    input_lengths = torch.tensor([t.shape[0] for t in xs])\n",
    "    output_lengths = torch.tensor([t.shape[0] for t in ys])\n",
    "\n",
    "    seqs = nn.utils.rnn.pad_sequence(xs, batch_first=True)\n",
    "    ys = nn.utils.rnn.pad_sequence(ys, batch_first=True)\n",
    "\n",
    "    return input_lengths, output_lengths, seqs, ys"
   ],
   "metadata": {
    "collapsed": false,
    "ExecuteTime": {
     "end_time": "2024-03-22T18:59:13.545627200Z",
     "start_time": "2024-03-22T18:59:13.514243300Z"
    }
   },
   "id": "a7b7e7707d2e975"
  },
  {
   "cell_type": "markdown",
   "source": [
    "### Training"
   ],
   "metadata": {
    "collapsed": false
   },
   "id": "685f4fedd7a7b8b6"
  },
  {
   "cell_type": "code",
   "execution_count": 282,
   "outputs": [
    {
     "name": "stdout",
     "output_type": "stream",
     "text": [
      "Number of params 6416934\n",
      "Epoch: 1, Train Loss: 0.0\n",
      "Epoch: 2, Train Loss: 0.0\n",
      "Epoch: 3, Train Loss: 0.0\n",
      "Epoch: 4, Train Loss: 0.0\n",
      "Epoch: 5, Train Loss: 0.0\n",
      "Epoch: 6, Train Loss: 0.0\n",
      "Epoch: 7, Train Loss: 0.0\n",
      "Epoch: 8, Train Loss: 0.0\n",
      "Epoch: 9, Train Loss: 0.0\n",
      "Epoch: 10, Train Loss: 0.0\n",
      "Epoch: 11, Train Loss: 0.0\n",
      "Epoch: 12, Train Loss: 0.0\n",
      "Epoch: 13, Train Loss: 0.0\n",
      "Epoch: 14, Train Loss: 0.0\n",
      "Epoch: 15, Train Loss: 0.0\n",
      "Epoch: 16, Train Loss: 0.0\n",
      "Epoch: 17, Train Loss: 0.0\n",
      "Epoch: 18, Train Loss: 0.0\n",
      "Epoch: 19, Train Loss: 0.0\n",
      "Epoch: 20, Train Loss: 0.0\n",
      "Epoch: 21, Train Loss: 0.0\n",
      "Epoch: 22, Train Loss: 0.0\n",
      "Epoch: 23, Train Loss: 0.0\n",
      "Epoch: 24, Train Loss: 0.0\n",
      "Epoch: 25, Train Loss: 0.0\n",
      "Epoch: 26, Train Loss: 0.0\n",
      "Epoch: 27, Train Loss: 0.0\n",
      "Epoch: 28, Train Loss: 0.0\n",
      "Epoch: 29, Train Loss: 0.0\n",
      "Epoch: 30, Train Loss: 0.0\n",
      "Epoch: 31, Train Loss: 0.0\n",
      "Epoch: 32, Train Loss: 0.0\n",
      "Epoch: 33, Train Loss: 0.0\n",
      "Epoch: 34, Train Loss: 0.0\n",
      "Epoch: 35, Train Loss: 0.0\n",
      "Epoch: 36, Train Loss: 0.0\n",
      "Epoch: 37, Train Loss: 0.0\n",
      "Epoch: 38, Train Loss: 0.0\n",
      "Epoch: 39, Train Loss: 0.0\n",
      "Epoch: 40, Train Loss: 0.0\n",
      "Epoch: 41, Train Loss: 0.0\n",
      "Epoch: 42, Train Loss: 0.0\n",
      "Epoch: 43, Train Loss: 0.0\n",
      "Epoch: 44, Train Loss: 0.0\n",
      "Epoch: 45, Train Loss: 0.0\n",
      "Epoch: 46, Train Loss: 0.0\n",
      "Epoch: 47, Train Loss: 0.0\n",
      "Epoch: 48, Train Loss: 0.0\n",
      "Epoch: 49, Train Loss: 0.0\n",
      "Epoch: 50, Train Loss: 0.0\n"
     ]
    }
   ],
   "source": [
    "device = torch.device('cuda' if torch.cuda.is_available() else 'cpu')\n",
    "\n",
    "# Params\n",
    "batch_size = 1\n",
    "spectrogram_size = dataset[0][0].shape[0] * dataset[0][0].shape[1] \n",
    "epochs = 50\n",
    "\n",
    "# Set up trainer & evaluator\n",
    "model = Net(num_tags, spectrogram_size).to(device)\n",
    "print(\"Number of params\", model.count_parameters())\n",
    "\n",
    "optimizer = optim.Adam(model.parameters(), lr=1e-3)\n",
    "# ctc_loss = nn.CTCLoss()\n",
    "criterion = nn.CTCLoss(blank=num_tags, zero_infinity=True)\n",
    "train_loader = torch.utils.data.DataLoader(\n",
    "    # SpectrogramTagDataset(dataset),\n",
    "    dataset,\n",
    "    batch_size=batch_size,\n",
    "    shuffle=True,\n",
    "    # collate_fn=collate_fn_pad,\n",
    ")\n",
    "\n",
    "random.seed(0)\n",
    "epoch = 0\n",
    "# \n",
    "# # Resume training\n",
    "# if epoch != 0:\n",
    "#     model.load_state_dict(torch.load(f\"models/{epoch:06}.pt\", map_location=device))\n",
    "\n",
    "model.train()\n",
    "while epoch < epochs:\n",
    "    # for (input_lengths, output_lengths, x, y) in train_loader:\n",
    "    for spectrograms, targets in train_loader:\n",
    "        spectrograms, targets = spectrograms.to(device), targets.to(device)\n",
    "\n",
    "        optimizer.zero_grad()\n",
    "        y_pred = model(spectrograms)\n",
    "\n",
    "        # m = torch.argmax(y_pred[0], 1)\n",
    "        # y_pred = y_pred.permute(1, 0, 2)\n",
    "\n",
    "        input_lengths = torch.tensor([targets.size(0)] * spectrograms.size(0), dtype=torch.long)\n",
    "        target_lengths = torch.full(size=(targets.size(0),), fill_value=targets.size(1), dtype=torch.long)\n",
    "\n",
    "        # input_lengths = torch.tensor([t.shape[0] for t in spectrograms])\n",
    "        # target_lengths = torch.tensor([t.shape[0] for t in targets])\n",
    "\n",
    "        # input_lengths = torch.full(size=(y_pred.size(0),), fill_value=y_pred.size(1), dtype=torch.long)\n",
    "        # target_lengths = torch.full(size=(targets.size(0),), fill_value=targets.size(1), dtype=torch.long)\n",
    "        loss = criterion(y_pred, targets, input_lengths, target_lengths)\n",
    "        # loss = ctc_loss(y_pred, y, input_lengths, output_lengths)\n",
    "\n",
    "        loss.backward()\n",
    "        optimizer.step()\n",
    "\n",
    "    # if epoch % 10 == 0:\n",
    "    #     torch.save(model.state_dict(), f\"models/{epoch:06}.pt\")\n",
    "    print(f'Epoch: {epoch + 1}, Train Loss: {loss.item()}')\n",
    "    # print(prediction_to_str(y_pred[0]))\n",
    "    # print(prediction_to_str(m))\n",
    "    epoch += 1"
   ],
   "metadata": {
    "collapsed": false,
    "ExecuteTime": {
     "end_time": "2024-03-23T19:29:39.822125600Z",
     "start_time": "2024-03-23T19:29:36.821905900Z"
    }
   },
   "id": "e685a8ebba626186"
  }
 ],
 "metadata": {
  "kernelspec": {
   "display_name": "Python 3",
   "language": "python",
   "name": "python3"
  },
  "language_info": {
   "codemirror_mode": {
    "name": "ipython",
    "version": 2
   },
   "file_extension": ".py",
   "mimetype": "text/x-python",
   "name": "python",
   "nbconvert_exporter": "python",
   "pygments_lexer": "ipython2",
   "version": "2.7.6"
  }
 },
 "nbformat": 4,
 "nbformat_minor": 5
}
