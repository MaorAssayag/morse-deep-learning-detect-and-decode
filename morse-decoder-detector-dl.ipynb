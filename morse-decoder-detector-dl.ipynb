{
 "metadata": {
  "kernelspec": {
   "name": "python3",
   "display_name": "Python 3",
   "language": "python"
  },
  "language_info": {
   "name": "python",
   "version": "3.10.13",
   "mimetype": "text/x-python",
   "codemirror_mode": {
    "name": "ipython",
    "version": 3
   },
   "pygments_lexer": "ipython3",
   "nbconvert_exporter": "python",
   "file_extension": ".py"
  },
  "colab": {
   "provenance": [],
   "gpuType": "T4",
   "toc_visible": true
  },
  "accelerator": "GPU",
  "kaggle": {
   "accelerator": "gpu",
   "dataSources": [
    {
     "sourceId": 7969221,
     "sourceType": "datasetVersion",
     "datasetId": 4689038
    }
   ],
   "dockerImageVersionId": 30674,
   "isInternetEnabled": true,
   "language": "python",
   "sourceType": "notebook",
   "isGpuEnabled": true
  }
 },
 "nbformat_minor": 5,
 "nbformat": 4,
 "cells": [
  {
   "metadata": {},
   "cell_type": "markdown",
   "source": "![](assets/demo_output_cropped.png) ",
   "id": "eec962f53602f4a9"
  },
  {
   "cell_type": "markdown",
   "source": [
    "# ECE 046211 - Technion - Deep Learning\n",
    "\n",
    "## Project - DSP in Deep Learning – CW (carrier wave) Detector + Decoder"
   ],
   "metadata": {
    "collapsed": false
   },
   "id": "2133a2c652acd009"
  },
  {
   "cell_type": "markdown",
   "source": [
    "<img src=\"https://img.icons8.com/bubbles/50/000000/information.png\" style=\"height:50px;display:inline\">\n",
    "\n",
    "### Students Information\n",
    "\n",
    "---\n",
    "\n",
    "| Name      |Campus Email| ID  |\n",
    "|-----------|-------------------------------|----------|\n",
    "| Student 1 | maor.asyag@campus.technion.ac.il | 318550746 |\n",
    "| Student 2 | elirazkadosh@campus.technion.ac.il | 315675090 |\n",
    "| Student 3 | eliramamrusi@campus.technion.ac.il | 319040325 |"
   ],
   "metadata": {
    "collapsed": false
   },
   "id": "4f5fbd88a3fd0f97"
  },
  {
   "cell_type": "markdown",
   "source": [
    "<img src=\"https://img.icons8.com/bubbles/50/000000/upload-to-cloud.png\" style=\"height:50px;display:inline\">\n",
    "\n",
    "### Summary\n",
    "\n",
    "---\n",
    "* **General**\n",
    "    * Implementation in pytorch\n",
    "    * Digital signal processing from scratch\n",
    "    * Generating training samples (morse signals -> spectrogram) on-the-fly with various hyperparameters\n",
    "    * Morse signals varies in **pitch** (main frequency), **length** (number of chars), **signal amplitude**, noise amplitude (**SNR** [dB]), morse **dit\\dah length**\n",
    "    * Used **TensorBoard** for local training tracking\n",
    "    \n",
    "* **Part 1: LSTM-RNN morse decoder**\n",
    "    * input: spectrogram [shape: (dynamic, 21)] + target string, output: string\n",
    "    * Model size: 740,395 parameters\n",
    "    * trained on ~50,000,000 morse chars\n",
    "    * Average CER (Character Error Rate) <2% on SNR above -5dB\n",
    "    * loss function: CTCLoss\n",
    "        * The Connectionist Temporal Classification loss. Calculates loss between a continuous (unsegmented) time series and a target sequence.\n",
    "    * Train loss: 0.15\n",
    "    * Fixed vs Dynamic pitch (main frequency) - Model training on fixed frequency performed better in evaluation\n",
    "       \n",
    "* **Part 2: FASTER RCNN (resnet50) morse object detection**\n",
    "    * input: spectrogram [shape: (dynamic, 21)] , output: bounding box, scores, labels\n",
    "    * Bounding box prediction\n",
    "    * Trained on ~1,000,000 spectrogram's\n",
    "    * Model size:\n",
    "        * Total number of parameters: 41,299,161\n",
    "        * Number of trainable parameters: 41,076,761\n",
    "    * Accuracy: IoU-x axis 97%\n",
    "    * loss function: [RPN Loss Function](https://towardsdatascience.com/review-faster-r-cnn-object-detection-f5685cb30202), combines:\n",
    "        * classification loss over 2 classes\n",
    "        * regression loss of bounding boxes\n",
    "    * Train loss: 0.12, Validation loss: 0.3  "
   ],
   "metadata": {
    "collapsed": false
   },
   "id": "702007b2bcf0c8c1"
  },
  {
   "cell_type": "markdown",
   "source": [
    "<img src=\"https://img.icons8.com/bubbles/50/000000/information.png\" style=\"height:50px;display:inline\">\n",
    "\n",
    "### Morse Code\n",
    "\n",
    "---\n",
    "\n",
    "Morse code is a method of transmitting text information using a series of short and long signals, called \"dits\" and \"dahs\" respectively. The basic unit of time measurement in Morse code is the \"dit,\" and the \"dah\" is equal to three dits in duration. The spacing between dits and dahs within a character is equal to one dit. The spacing between characters within a word is equal to three dits, and the spacing between words is equal to seven dits.\n",
    "\n",
    "Here's an image that illustrates the structure of Morse code:\n",
    "\n",
    "<img src=\"assets/International_Morse_Code.png\" style=\"height: 200px;\"/>\n",
    "\n",
    "The image shows the relative timing of dits, dahs, and the spacing between them. As you can see, a \"dah\" is three times longer than a \"dit,\" and the spacing within a character is one dit, between characters is three dits, and between words is seven dits.\n",
    "\n",
    "For example, the letter \"A\" is represented by \".-\" in Morse code, which corresponds to a dit (left) followed by a dah (right). The letter \"Q\" is represented by \"--.-\", which corresponds to two dahs (right, right), a dit (left), and a dah (right)."
   ],
   "metadata": {
    "collapsed": false
   },
   "id": "ec9902b7e0ed1bff"
  },
  {
   "cell_type": "markdown",
   "source": [
    "# Imports"
   ],
   "metadata": {
    "id": "54d4435245ddac68"
   },
   "id": "2e74b85322dde4cf"
  },
  {
   "cell_type": "code",
   "source": [
    "import numpy as np\n",
    "from scipy.io import wavfile\n",
    "from IPython.display import Audio\n",
    "import logging\n",
    "import sys\n",
    "from scipy import signal\n",
    "import torch\n",
    "import os\n",
    "from torch.utils.tensorboard import SummaryWriter\n",
    "import torch.nn as nn\n",
    "import torch.nn.functional as F\n",
    "import torch.optim as optim\n",
    "from torch.utils import data\n",
    "from itertools import groupby\n",
    "# !pip install Levenshtein # uncomment in Colab\n",
    "from Levenshtein import distance\n",
    "import matplotlib.patches as patches\n",
    "import torchvision\n",
    "from torchvision.models.detection.faster_rcnn import FastRCNNPredictor\n",
    "from tqdm import tqdm\n",
    "from matplotlib import pyplot as plt\n",
    "import pickle\n",
    "import random\n",
    "import warnings\n",
    "\n",
    "# Configs\n",
    "logging.basicConfig(\n",
    "    format='%(asctime)s [%(levelname)s] %(name)s - %(message)s',\n",
    "    level=logging.DEBUG,\n",
    "    datefmt='%Y-%m-%d %H:%M:%S',\n",
    "    stream=sys.stdout,\n",
    ")\n",
    "log = logging.getLogger('')\n",
    "logging.getLogger(\"matplotlib\").setLevel(logging.INFO)\n",
    "logging.getLogger(\"librosa\").setLevel(logging.INFO)\n",
    "warnings.filterwarnings(\"ignore\", message=\".*complex*\")\n",
    "\n",
    "%load_ext tensorboard"
   ],
   "metadata": {
    "id": "98c30cc252db74b0",
    "execution": {
     "iopub.status.busy": "2024-03-28T20:20:14.656648Z",
     "iopub.execute_input": "2024-03-28T20:20:14.657601Z",
     "iopub.status.idle": "2024-03-28T20:20:14.671189Z",
     "shell.execute_reply.started": "2024-03-28T20:20:14.657564Z",
     "shell.execute_reply": "2024-03-28T20:20:14.670322Z"
    },
    "trusted": true,
    "ExecuteTime": {
     "end_time": "2024-04-02T07:02:23.338707Z",
     "start_time": "2024-04-02T07:02:07.359675Z"
    }
   },
   "id": "c2dd0c1c27e8e1d1",
   "outputs": [],
   "execution_count": 1
  },
  {
   "cell_type": "markdown",
   "source": [
    "# Morse"
   ],
   "metadata": {
    "id": "f927a219b95d36a6"
   },
   "id": "e5b015734e36f24f"
  },
  {
   "cell_type": "markdown",
   "source": [
    "## Morse Utils"
   ],
   "metadata": {
    "id": "77db0b15a2d56e44"
   },
   "id": "f6beae8cce1ac2c0"
  },
  {
   "cell_type": "code",
   "source": [
    "MORSE_CODE_DICT = {\n",
    "    'A': '.-',\n",
    "    'B': '-...',\n",
    "    'C': '-.-.', \n",
    "    'D': '-..',\n",
    "    'E': '.',\n",
    "    'F': '..-.',\n",
    "    'G': '--.',\n",
    "    'H': '....',\n",
    "    'I': '..',\n",
    "    'J': '.---',\n",
    "    'K': '-.-',\n",
    "    'L': '.-..',\n",
    "    'M': '--',\n",
    "    'N': '-.',\n",
    "    'O': '---',\n",
    "    'P': '.--.',\n",
    "    'Q': '--.-',\n",
    "    'R': '.-.',\n",
    "    'S': '...',\n",
    "    'T': '-',\n",
    "    'U': '..-',\n",
    "    'V': '...-',\n",
    "    'W': '.--',\n",
    "    'X': '-..-',\n",
    "    'Y': '-.--',\n",
    "    'Z': '--..',\n",
    "    '1': '.----',\n",
    "    '2': '..---',\n",
    "    '3': '...--',\n",
    "    '4': '....-',\n",
    "    '5': '.....',\n",
    "    '6': '-....',\n",
    "    '7': '--...',\n",
    "    '8': '---..',\n",
    "    '9': '----.',\n",
    "    '0': '-----',\n",
    "    '.': '.-.-.-',\n",
    "    ',': '--..--',\n",
    "    '?': '..--..',\n",
    "    '=': '-...-',\n",
    "    '+': '.-.-.',\n",
    "}\n",
    "ALPHABET = \" \" + \"\".join(MORSE_CODE_DICT.keys())\n",
    "num_tags = len(ALPHABET)\n",
    "sr = 2000 # sample rate, affect spectrum size\n",
    "\n",
    "def get_spectrogram(samples, sr):\n",
    "    \"\"\"\n",
    "    Calculate the spectrogram of a time series signal with sample rate sr\n",
    "    :param samples: time domain signal\n",
    "    :param sr: sample rate\n",
    "    :return: \n",
    "    \"\"\"\n",
    "    _, _, sxx = signal.spectrogram(samples, nperseg=int(0.02 * sr) , noverlap=0)\n",
    "    return sxx\n",
    "\n",
    "\n",
    "def aggregate_cer(prev_cer, prev_total_chars, y, y_pred):\n",
    "    \"\"\"\n",
    "    Calculate new CER (Character Error Rate) given previous CER and new data points [y, y_pred]\n",
    "    :param prev_cer: previous CER, from .0 to 1.0\n",
    "    :param prev_total_chars: total chars (int)\n",
    "    :param y: series of chars (tokens)\n",
    "    :param y_pred: target chars\n",
    "    :return: new CER\n",
    "    \"\"\"\n",
    "    new_cer = prev_cer\n",
    "    new_total_chars = prev_total_chars\n",
    "\n",
    "    for i in range(len(y)):\n",
    "        a = prediction_to_str(y[i])\n",
    "        b = prediction_to_str(torch.argmax(y_pred[i], 1))\n",
    "        new_cer = calculate_levenshtein_distance(new_cer, new_total_chars, a, b)\n",
    "        new_total_chars += max(len(a), len(b))\n",
    "\n",
    "    return new_cer, new_total_chars\n",
    "\n",
    "\n",
    "def calculate_levenshtein_distance(prev_cer, prev_total_chars, original, predicted):\n",
    "    \"\"\"\n",
    "    Calculate CER based on Levenshtein distance\n",
    "    :param prev_cer: 0.0 to 1.0\n",
    "    :param prev_total_chars: int\n",
    "    :param original: target string\n",
    "    :param predicted: predicted string\n",
    "    :return: \n",
    "    \"\"\"\n",
    "    d = distance(original, predicted)\n",
    "    new_total_chars = prev_total_chars + max(len(original), len(predicted))\n",
    "\n",
    "    return (prev_cer * prev_total_chars + d) / new_total_chars\n",
    "\n",
    "\n",
    "def calculate_cer(prev_cer, prev_total_chars, original, predicted):\n",
    "    \"\"\"\n",
    "    Computes the Character Error Rate (CER) between the original and predicted strings\n",
    "    :param prev_cer: \n",
    "    :param prev_total_chars: \n",
    "    :param original: \n",
    "    :param predicted: \n",
    "    :return: new CER\n",
    "    \"\"\"\n",
    "    # Convert strings to lists of characters\n",
    "    original_chars = list(original)\n",
    "    predicted_chars = list(predicted)\n",
    "\n",
    "    # Get the length of the longer string\n",
    "    max_length = max(len(original_chars), len(predicted_chars))\n",
    "\n",
    "    # Initialize counters\n",
    "    errors = 0\n",
    "\n",
    "    # Iterate over the characters and count errors\n",
    "    for i in range(max_length):\n",
    "        try:\n",
    "            if original_chars[i] != predicted_chars[i]:\n",
    "                errors += 1\n",
    "        except IndexError:\n",
    "            # If the string is shorter, consider the remaining characters as errors\n",
    "            errors += 1\n",
    "\n",
    "    if errors > 0:\n",
    "        log.error(original, predicted, errors)\n",
    "\n",
    "    return (prev_cer * prev_total_chars + errors) / (prev_total_chars + max_length)\n",
    "\n",
    "def find_one_first_element(ndarrays):\n",
    "    \"\"\"\n",
    "    Find the first and last array that contains ones (bounding the activity in a spectrogram)\n",
    "    :param ndarrays: spectrogram\n",
    "    :return: \n",
    "    \"\"\"\n",
    "    first_index = -1\n",
    "    last_index = -1\n",
    "    for i, arr in enumerate(ndarrays):\n",
    "        if arr[0] == 1:\n",
    "            if first_index == -1:\n",
    "                first_index = i\n",
    "            last_index = i\n",
    "    return first_index, last_index\n",
    "\n",
    "\n",
    "def accumulated_length(array_list, start_index, end_index):\n",
    "    \"\"\"\n",
    "    Given a list of time-series values (represents morse chars), return the accumulated length in the time domain\n",
    "    :param array_list: \n",
    "    :param start_index: \n",
    "    :param end_index: \n",
    "    :return: \n",
    "    \"\"\"\n",
    "    acc_length_start = 0\n",
    "    for i in range(start_index):\n",
    "        acc_length_start += len(array_list[i])\n",
    "\n",
    "    acc_length_end = acc_length_start\n",
    "    for i in range(start_index, end_index + 1):\n",
    "        acc_length_end += len(array_list[i])\n",
    "\n",
    "    return acc_length_start, acc_length_end\n",
    "\n",
    "\n",
    "def get_signal_bbx(signal_array, spec_time_len, signal_len, pitch):\n",
    "    \"\"\"\n",
    "    Get signal boundary box\n",
    "    :param signal_array:\n",
    "    :param spec_time_len:\n",
    "    :param signal_len:\n",
    "    :return: x_start, y_start, x_end, y_end\n",
    "    \"\"\"\n",
    "    activity_array_start_idx, activity_array_end_idx = find_one_first_element(signal_array)\n",
    "    time_domain_start_idx, time_domain_end_idx = accumulated_length(signal_array, activity_array_start_idx,\n",
    "                                                                    activity_array_end_idx)\n",
    "    alpha = signal_len // spec_time_len\n",
    "    bbx_idx_start_x = time_domain_start_idx // alpha\n",
    "    bbx_idx_end_x = time_domain_end_idx // alpha\n",
    "\n",
    "    main_freq_idx = pitch*2 // 100\n",
    "    return bbx_idx_start_x, main_freq_idx, bbx_idx_end_x, main_freq_idx+1\n",
    "\n",
    "\n",
    "def apply_noise_to_signal(signal, SNRdb):\n",
    "    \"\"\"\n",
    "    Apply noise to signal\n",
    "    :param signal: \n",
    "    :param SNRdb: specific SNR (Signal to Noise ratio)\n",
    "    :return: \n",
    "    \"\"\"\n",
    "    signal_power = np.mean(abs(signal ** 2))\n",
    "    sigma2 = signal_power * 10 ** (-SNRdb / 10)  # calculate noise power based on signal power and SNR\n",
    "    noise = np.sqrt(sigma2 / 2) * (np.random.randn(*signal.shape) + 1j * np.random.randn(*signal.shape))\n",
    "    return signal + noise\n",
    "\n",
    "def get_dot(ref, apply_random_length_dots):\n",
    "    if apply_random_length_dots:\n",
    "        scale = np.clip(np.random.normal(1, 0.2), 0.5, 2.0)\n",
    "        return int(ref * scale)\n",
    "    else:\n",
    "        return int(ref)\n",
    "\n",
    "def get_dash(ref, apply_random_length_dots):\n",
    "    if apply_random_length_dots:\n",
    "        scale = np.clip(np.random.normal(1, 0.2), 0.5, 2.0)\n",
    "        return int(3 * ref * scale)\n",
    "    else:\n",
    "        return int(3 * ref)\n"
   ],
   "metadata": {
    "id": "a6b6140ecf98869d",
    "execution": {
     "iopub.status.busy": "2024-03-28T22:59:41.849626Z",
     "iopub.execute_input": "2024-03-28T22:59:41.850500Z",
     "iopub.status.idle": "2024-03-28T22:59:41.872340Z",
     "shell.execute_reply.started": "2024-03-28T22:59:41.850470Z",
     "shell.execute_reply": "2024-03-28T22:59:41.871411Z"
    },
    "trusted": true,
    "ExecuteTime": {
     "end_time": "2024-04-02T07:02:41.448155Z",
     "start_time": "2024-04-02T07:02:41.413336Z"
    }
   },
   "id": "c63ab2923004d52",
   "outputs": [],
   "execution_count": 3
  },
  {
   "cell_type": "markdown",
   "source": [
    "## Morse Generator"
   ],
   "metadata": {
    "id": "3975c073629dba46"
   },
   "id": "969687db1be978b0"
  },
  {
   "cell_type": "code",
   "source": [
    "def generate_morse_sample(sr=2000, text_len=10, pitch=950, wpm=18, snrDB=1, amplitude=100, s=None, apply_random_length_dots = True):\n",
    "    \"\"\"\n",
    "    Generate morse sample\n",
    "    :param apply_random_length_dots: \n",
    "    :param sr: \n",
    "    :param text_len: \n",
    "    :param pitch: \n",
    "    :param wpm: \n",
    "    :param snrDB: \n",
    "    :param amplitude: \n",
    "    :param s: specific string\n",
    "    :return: <time domain signal, frequency domain spectrogram, morse string, spectrogram bounding box>\n",
    "    \"\"\"\n",
    "    assert pitch < sr / 2  # Nyquist\n",
    "\n",
    "    # Common morse spacing [https://en.wikipedia.org/wiki/Morse_code]\n",
    "    ref = (60 / wpm) / 50 * sr\n",
    "\n",
    "    # Create random string that doesn't start or end with a space\n",
    "    if s is None:\n",
    "        s1 = ''.join(random.choices(ALPHABET, k=text_len - 2))\n",
    "        s2 = ''.join(random.choices(ALPHABET[1:], k=2))\n",
    "        s = s2[0] + s1 + s2[1]\n",
    "\n",
    "    time_domain_signal = []\n",
    "    time_domain_signal.append(np.zeros(5 * get_dot(ref, apply_random_length_dots)))\n",
    "\n",
    "    # dat\\dit space = 1 dot, char space = 3 dots, word space = 7 dots\n",
    "    for c in s:\n",
    "        if c == ' ':\n",
    "            time_domain_signal.append(np.zeros(7 * get_dot(ref, apply_random_length_dots)))\n",
    "        else:\n",
    "            for m in MORSE_CODE_DICT[c]:\n",
    "                if m == '.':\n",
    "                    time_domain_signal.append(np.ones(get_dot(ref, apply_random_length_dots)))\n",
    "                    time_domain_signal.append(np.zeros(get_dot(ref, apply_random_length_dots)))\n",
    "                elif m == '-':\n",
    "                    time_domain_signal.append(np.ones(get_dash(ref, apply_random_length_dots)))\n",
    "                    time_domain_signal.append(np.zeros(get_dot(ref,apply_random_length_dots)))\n",
    "\n",
    "            time_domain_signal.append(np.zeros(2 * get_dot(ref, apply_random_length_dots)))\n",
    "\n",
    "    time_domain_signal.append(np.zeros(5 * get_dot(ref, apply_random_length_dots)))\n",
    "    time_domain_signal_ = time_domain_signal.copy()\n",
    "    time_domain_signal = np.hstack(time_domain_signal)\n",
    "\n",
    "    # Modulation\n",
    "    t = np.arange(len(time_domain_signal)) / sr\n",
    "    sine = np.sin(2 * np.pi * t * pitch)\n",
    "    time_domain_signal = sine * time_domain_signal\n",
    "\n",
    "    # Add noise\n",
    "    time_domain_signal = apply_noise_to_signal(time_domain_signal, snrDB)\n",
    "    time_domain_signal *= amplitude / 100\n",
    "    time_domain_signal = np.clip(time_domain_signal, -1, 1)\n",
    "    time_domain_signal = time_domain_signal.astype(np.float32)\n",
    "\n",
    "    # calculate spectrum\n",
    "    spec = get_spectrogram(time_domain_signal, sr=sr)\n",
    "\n",
    "    # calculate spec boundaries\n",
    "    bbx = get_signal_bbx(time_domain_signal_, spec.shape[1], len(time_domain_signal), pitch)\n",
    "\n",
    "    return time_domain_signal, spec, s, bbx"
   ],
   "metadata": {
    "id": "7a24cbc9a2fe62a8",
    "execution": {
     "iopub.status.busy": "2024-03-28T22:57:46.134626Z",
     "iopub.execute_input": "2024-03-28T22:57:46.135262Z",
     "iopub.status.idle": "2024-03-28T22:57:46.150745Z",
     "shell.execute_reply.started": "2024-03-28T22:57:46.135230Z",
     "shell.execute_reply": "2024-03-28T22:57:46.149850Z"
    },
    "trusted": true,
    "ExecuteTime": {
     "end_time": "2024-04-02T07:02:46.359428Z",
     "start_time": "2024-04-02T07:02:46.335387Z"
    }
   },
   "id": "44a8ff173cb2e22f",
   "outputs": [],
   "execution_count": 4
  },
  {
   "cell_type": "markdown",
   "source": [
    "## Example generating 1 signal"
   ],
   "metadata": {
    "id": "84904b9ba97beea0"
   },
   "id": "53d914f5ad1ce270"
  },
  {
   "cell_type": "code",
   "source": [
    "# Params\n",
    "sr = 2000\n",
    "length = random.randrange(1, 8)\n",
    "pitch = random.randint(2, 19) * 50\n",
    "wpm = 18\n",
    "snrDB = random.randrange(-10, 10)\n",
    "amplitude = random.randrange(50, 200)\n",
    "\n",
    "time_domain_signal, spec, y, bbx = generate_morse_sample(sr, length, pitch, wpm, snrDB, amplitude, None)\n",
    "log.info(f\"pitch: {pitch}, wpm: {wpm}, snrDB: {snrDB}, amplitude: {amplitude}, str: {y}, bbx: {bbx}\")\n",
    "\n",
    "# Display spectrogram\n",
    "min_value = np.min(spec)\n",
    "max_value = np.max(spec)\n",
    "normalized_spectrum = (spec - min_value) / (max_value - min_value)\n",
    "\n",
    "fig, ax = plt.subplots(1, figsize=(16, 8))\n",
    "plt.pcolormesh(normalized_spectrum)\n",
    "rect = patches.Rectangle(\n",
    "    (bbx[0], bbx[1]),\n",
    "    bbx[2]-bbx[0],\n",
    "    bbx[3]-bbx[1],\n",
    "    linewidth=4,\n",
    "    edgecolor='red',\n",
    "    facecolor=\"none\",\n",
    ")\n",
    "# Add the patch to the Axes\n",
    "ax.add_patch(rect)\n",
    "plt.text(\n",
    "    bbx[0], bbx[1],\n",
    "    s=y + '| morse' + \" \" + str(int(100*1)) + \"%\",\n",
    "    color=\"white\",\n",
    "    fontsize=16,\n",
    "    verticalalignment=\"top\",\n",
    "    bbox={\"color\": 'red', \"pad\": 0},\n",
    ")\n",
    "plt.show()\n",
    "\n",
    "# Save file\n",
    "filename = f'./assets/test.wav'\n",
    "time_domain_signal = np.int16(time_domain_signal / np.max(np.abs(time_domain_signal)) * 32000)\n",
    "wavfile.write(filename, sr, time_domain_signal)\n",
    "Audio(filename)"
   ],
   "metadata": {
    "colab": {
     "base_uri": "https://localhost:8080/",
     "height": 702
    },
    "id": "48d8e89e0790b22",
    "outputId": "713fde84-077e-4c26-d6e9-e9dcdfd18a6c",
    "execution": {
     "iopub.status.busy": "2024-03-28T21:38:02.621788Z",
     "iopub.execute_input": "2024-03-28T21:38:02.622877Z",
     "iopub.status.idle": "2024-03-28T21:38:02.852546Z",
     "shell.execute_reply.started": "2024-03-28T21:38:02.622834Z",
     "shell.execute_reply": "2024-03-28T21:38:02.851562Z"
    },
    "trusted": true,
    "ExecuteTime": {
     "end_time": "2024-04-02T07:03:03.901749Z",
     "start_time": "2024-04-02T07:03:03.679396Z"
    }
   },
   "id": "bec109a4c16e7b67",
   "outputs": [
    {
     "name": "stdout",
     "output_type": "stream",
     "text": [
      "2024-04-02 10:03:03 [INFO] root - pitch: 350, wpm: 18, snrDB: 9, amplitude: 76, str: Z7=VF, bbx: (13, 7, 244, 8)\n"
     ]
    },
    {
     "data": {
      "text/plain": [
       "<Figure size 1600x800 with 1 Axes>"
      ],
      "image/png": "[encoded data removed]"
     },
     "metadata": {},
     "output_type": "display_data"
    },
    {
     "data": {
      "text/plain": [
       "<IPython.lib.display.Audio object>"
      ],
      "text/html": [
       "\n",
       "                <audio  controls=\"controls\" >\n",
       "                    <source src=\"data:audio/wav;base64,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\" type=\"audio/wav\" />\n",
       "                    Your browser does not support the audio element.\n",
       "                </audio>\n",
       "              "
      ]
     },
     "execution_count": 10,
     "metadata": {},
     "output_type": "execute_result"
    }
   ],
   "execution_count": 10
  },
  {
   "cell_type": "markdown",
   "source": [
    "# Models"
   ],
   "metadata": {
    "collapsed": false
   },
   "id": "cade18711f007db7"
  },
  {
   "cell_type": "markdown",
   "source": [
    "## Decoder: LSTM RNN\n",
    "\n",
    "Long Short-Term Memory (LSTM) is a type of Recurrent Neural Network (RNN) architecture that has been widely used for sequence-to-sequence tasks, such as machine translation, speech recognition, and, in our case, decoding Morse code from a spectrogram.\n",
    "\n",
    "**Spectrogram Representation**\n",
    "\n",
    "Before feeding the data into the LSTM, we need to represent the Morse code signal as a spectrogram. A spectrogram is a visual representation of the spectrum of frequencies in a signal as they vary with time. It is a 2D image-like representation, where the x-axis represents time, the y-axis represents frequency, and the intensity of each pixel represents the energy or amplitude of the signal at that particular time and frequency.\n",
    "\n",
    "**LSTM Architecture**\n",
    "\n",
    "The LSTM network is designed to process sequential data, such as the spectrogram representation of Morse code. It consists of a series of interconnected memory cells, which are capable of maintaining and updating their internal state over time. This allows the LSTM to selectively remember or forget information from previous time steps, making it well-suited for tasks that require long-term dependencies.\n",
    "\n",
    "Our LSTM architecture typically consists of the following components:\n",
    "\n",
    "1. **Input Layer**: This layer receives the input data, which in our case is the spectrogram of the Morse code signal.\n",
    "2. 3 More **Dense Layers**\n",
    "3. Dropuout Layer after most of the Dense Layers\n",
    "2. **LSTM Layer**: One LSTM layer to process the input sequence\n",
    "4. **Output Layer**: The final layer produces the predicted output sequence, which is the decoded text.\n",
    "\n",
    "**Training and Decoding**\n",
    "\n",
    "During training, the LSTM network is fed with pairs of spectrogram representations and their corresponding text transcriptions. The network learns to map the input spectrograms to the correct text sequences by adjusting its weights and biases through backpropagation and optimization algorithms like stochastic gradient descent.\n",
    "\n",
    "During decoding (inference), the trained LSTM model takes a new spectrogram as input and generates the predicted text sequence by iteratively processing the input and updating its internal state. Techniques like beam search or greedy decoding can be employed to find the most likely text sequence given the input spectrogram.\n",
    "\n",
    "**Advantages of LSTM for Morse Code Decoding**\n",
    "\n",
    "LSTM networks are well-suited for decoding Morse code from spectrograms due to the following reasons:\n",
    "\n",
    "1. **Sequence Processing**: LSTM can handle variable-length input sequences, making it suitable for processing Morse code signals of different durations.\n",
    "2. **Long-Term Dependencies**: LSTM can capture long-term dependencies in the input data, which is important for correctly decoding Morse code characters that may be separated by various timing gaps.\n",
    "3. **Robustness to Noise**: LSTM networks can learn to be robust to noise and variations in the input data, which is crucial for decoding Morse code signals that may be corrupted by environmental factors or imperfect transmission.\n",
    "\n",
    "Overall, the LSTM architecture, combined with the spectrogram representation of Morse code signals, provides a powerful and effective approach for decoding Morse code sequences from audio or radio signals.\n"
   ],
   "metadata": {
    "collapsed": false
   },
   "id": "8d59d51a8960dc70"
  },
  {
   "cell_type": "markdown",
   "source": [
    "### Tokenizer"
   ],
   "metadata": {
    "id": "c95f2cc5f7c41689"
   },
   "id": "b726325126356b6d"
  },
  {
   "cell_type": "code",
   "source": [
    "# 0: blank label\n",
    "tag_to_idx = {c: i + 1 for i, c in enumerate(ALPHABET)}\n",
    "idx_to_tag = {i + 1: c for i, c in enumerate(ALPHABET)}"
   ],
   "metadata": {
    "id": "f7aae072e7218ba4",
    "execution": {
     "iopub.status.busy": "2024-03-28T20:21:48.207236Z",
     "iopub.execute_input": "2024-03-28T20:21:48.207968Z",
     "iopub.status.idle": "2024-03-28T20:21:48.212709Z",
     "shell.execute_reply.started": "2024-03-28T20:21:48.207937Z",
     "shell.execute_reply": "2024-03-28T20:21:48.211659Z"
    },
    "trusted": true,
    "ExecuteTime": {
     "end_time": "2024-04-02T07:03:08.383451Z",
     "start_time": "2024-04-02T07:03:08.366910Z"
    }
   },
   "id": "b1d124518fa7e9fb",
   "outputs": [],
   "execution_count": 11
  },
  {
   "cell_type": "markdown",
   "source": [
    "### Utils"
   ],
   "metadata": {
    "id": "8f256aed3e7b1f67"
   },
   "id": "665344c1f576bc68"
  },
  {
   "cell_type": "code",
   "source": [
    "def prediction_to_str(seq):\n",
    "    \"\"\"\n",
    "    LSTM tokenize output to string\n",
    "    :param seq: \n",
    "    :return: predicted utf-8 string\n",
    "    \"\"\"\n",
    "    if not isinstance(seq, list):\n",
    "        seq = seq.tolist()\n",
    "\n",
    "    seq = [i[0] for i in groupby(seq)]  # remove duplicates\n",
    "    seq = [s for s in seq if s != 0]  # remove blanks\n",
    "    seq = \"\".join(idx_to_tag[c] for c in seq)  # convert to string\n",
    "    seq = seq.rstrip()\n",
    "\n",
    "    return seq\n",
    "\n",
    "\n",
    "def get_training_sample(*args, **kwargs):\n",
    "    \"\"\"\n",
    "    Generate training morse sample\n",
    "    :param args: \n",
    "    :param kwargs: \n",
    "    :return: <spectrogram, tokenized target string>\n",
    "    \"\"\"\n",
    "    _, spec, y, _ = generate_morse_sample(*args, **kwargs)\n",
    "\n",
    "    spec = torch.from_numpy(spec)\n",
    "    spec = spec.permute(1, 0)\n",
    "\n",
    "    y_tags = [tag_to_idx[c] for c in y]\n",
    "    y_tags = torch.tensor(y_tags)\n",
    "\n",
    "    return spec, y_tags\n",
    "\n",
    "\n",
    "def collate_fn_pad(batch):\n",
    "    \"\"\"\n",
    "    Batching helper\n",
    "    :param batch: \n",
    "    :return: \n",
    "    \"\"\"\n",
    "    xs, ys = zip(*batch)\n",
    "\n",
    "    input_lengths = torch.tensor([t.shape[0] for t in xs])\n",
    "    output_lengths = torch.tensor([t.shape[0] for t in ys])\n",
    "\n",
    "    seqs = nn.utils.rnn.pad_sequence(xs, batch_first=True)\n",
    "    ys = nn.utils.rnn.pad_sequence(ys, batch_first=True)\n",
    "\n",
    "    return input_lengths, output_lengths, seqs, ys"
   ],
   "metadata": {
    "id": "e03c2cc147b30235",
    "execution": {
     "iopub.status.busy": "2024-03-28T20:21:50.098168Z",
     "iopub.execute_input": "2024-03-28T20:21:50.098967Z",
     "iopub.status.idle": "2024-03-28T20:21:50.108282Z",
     "shell.execute_reply.started": "2024-03-28T20:21:50.098938Z",
     "shell.execute_reply": "2024-03-28T20:21:50.107434Z"
    },
    "trusted": true,
    "ExecuteTime": {
     "end_time": "2024-04-02T07:03:09.840571Z",
     "start_time": "2024-04-02T07:03:09.817305Z"
    }
   },
   "id": "7cdf80104e2bdcc0",
   "outputs": [],
   "execution_count": 12
  },
  {
   "cell_type": "markdown",
   "source": [
    "### Model Architecture"
   ],
   "metadata": {
    "id": "7ec79507a88b908f"
   },
   "id": "6f7476ffe1da8181"
  },
  {
   "cell_type": "code",
   "source": [
    "class LSTMRnn(nn.Module):\n",
    "    def __init__(self, num_tags, spectrogram_size):\n",
    "        super(LSTMRnn, self).__init__()\n",
    "\n",
    "        num_tags = num_tags + 1  # 0: blank\n",
    "        hidden_dim = 256\n",
    "        lstm_dim1 = 256\n",
    "\n",
    "        self.dense1 = nn.Linear(spectrogram_size, hidden_dim)\n",
    "        self.dropout1 = nn.Dropout(0.1)\n",
    "        self.dense2 = nn.Linear(hidden_dim, hidden_dim)\n",
    "        self.dense3 = nn.Linear(hidden_dim, hidden_dim)\n",
    "        self.dropout2 = nn.Dropout(0.1)\n",
    "        self.dense4 = nn.Linear(hidden_dim, lstm_dim1)\n",
    "        self.lstm1 = nn.LSTM(lstm_dim1, lstm_dim1, batch_first=True)\n",
    "        self.dense5 = nn.Linear(lstm_dim1, num_tags)\n",
    "\n",
    "    def forward(self, x):\n",
    "        x = F.relu(self.dense1(x))\n",
    "        x = self.dropout1(x)\n",
    "        x = F.relu(self.dense2(x))\n",
    "        x = self.dropout2(x)\n",
    "        x = F.relu(self.dense3(x))\n",
    "        x = F.relu(self.dense4(x))\n",
    "        x, _ = self.lstm1(x)\n",
    "        x = self.dense5(x)\n",
    "        x = F.log_softmax(x, dim=2)\n",
    "        return x\n",
    "\n",
    "    def count_parameters(self):\n",
    "        return sum(p.numel() for p in self.parameters() if p.requires_grad)"
   ],
   "metadata": {
    "id": "526e82f9d4e1ff38",
    "ExecuteTime": {
     "end_time": "2024-04-02T07:03:11.906318Z",
     "start_time": "2024-04-02T07:03:11.892296Z"
    }
   },
   "id": "ce36626e74536d5a",
   "outputs": [],
   "execution_count": 13
  },
  {
   "cell_type": "markdown",
   "source": [
    "### Dataset"
   ],
   "metadata": {
    "collapsed": false
   },
   "id": "ca4de58e1f6af71a"
  },
  {
   "cell_type": "code",
   "source": [
    "class Dataset(data.Dataset):\n",
    "    \"\"\"\n",
    "    Custom PyTorch dataset for lstm morse decoder task\n",
    "    Generates data samples in runtime\n",
    "    \"\"\"\n",
    "    def __init__(self, number_of_samples=2048, sr=2000, explicit_snr=None):\n",
    "        self.length = number_of_samples\n",
    "        self.sr = sr\n",
    "        self.explicit_snr = explicit_snr\n",
    "\n",
    "    def __len__(self):\n",
    "        return self.length\n",
    "\n",
    "    def __getitem__(self, index):\n",
    "        length = random.randrange(10, 20)  # 10,20\n",
    "        pitch = 950\n",
    "        wpm = 18\n",
    "        amplitude = random.randrange(50, 200)\n",
    "        if self.explicit_snr != None:\n",
    "            snrDB = self.explicit_snr\n",
    "        else:\n",
    "            snrDB = random.randrange(-10, 10)\n",
    "            \n",
    "        return get_training_sample(self.sr, length, pitch, wpm, snrDB, amplitude, None, None)"
   ],
   "metadata": {
    "collapsed": false,
    "ExecuteTime": {
     "end_time": "2024-04-01T06:35:37.384564Z",
     "start_time": "2024-04-01T06:35:37.380053Z"
    }
   },
   "id": "cbec4fc275815fb1",
   "outputs": [],
   "execution_count": 192
  },
  {
   "cell_type": "markdown",
   "source": [
    "### Training\n",
    "launch tensorboard with CLI\n",
    "tensorboard --logdir C:/Users/Maor/Desktop/dev/tensorboard/morse-dl/runs"
   ],
   "metadata": {
    "id": "b59204188012c80d"
   },
   "id": "840a60ba9c304866"
  },
  {
   "cell_type": "code",
   "source": [
    "tf_board_log_dir_path = \"C:/Users/Maor/Desktop/dev/tensorboard/morse-dl/runs\"  # path without hebrew unicode chars\n",
    "batch_size = 64\n",
    "spectrogram_size = generate_morse_sample(sr=2000)[1].shape[0]\n",
    "\n",
    "device = torch.device('cuda') if torch.cuda.is_available() else torch.device('cpu')\n",
    "writer = SummaryWriter(tf_board_log_dir_path)\n",
    "\n",
    "# Set up trainer & evaluator\n",
    "model = LSTMRnn(num_tags, spectrogram_size).to(device)\n",
    "log.info(\"Number of params\", model.count_parameters())\n",
    "\n",
    "# Lower learning rate to 1e-4 after about 1500 epochs\n",
    "optimizer = optim.Adam(model.parameters(), lr=0.001, betas=(0.9, 0.999))\n",
    "ctc_loss = nn.CTCLoss()\n",
    "\n",
    "train_loader = torch.utils.data.DataLoader(\n",
    "    Dataset(number_of_samples=2048),\n",
    "    batch_size=batch_size,\n",
    "    collate_fn=collate_fn_pad,\n",
    ")\n",
    "\n",
    "random.seed(0)\n",
    "\n",
    "# run_date = datetime.now().strftime(\"%Y-%m-%d_%H-%M-%S\")\n",
    "run_date = '2024-03-31_23-29-30'\n",
    "epoch = 1100\n",
    "epochs = epoch + 0\n",
    "losses = []\n",
    "\n",
    "# Resume training\n",
    "if epoch != 0:\n",
    "    model.load_state_dict(torch.load(f\"models/{run_date}_{epoch:06}.pt\", map_location=device))\n",
    "    # state_dict = torch.load(f\"models/{run_date}_{epoch:06}.pt\")\n",
    "    # model.dense1.weight = torch.nn.Parameter(state_dict[\"dense1.weight\"])\n",
    "    # model.dense1.bias = torch.nn.Parameter(state_dict[\"dense1.bias\"])\n",
    "    # model.dense2.weight = torch.nn.Parameter(state_dict[\"dense2.weight\"])\n",
    "    # model.dense2.bias = torch.nn.Parameter(state_dict[\"dense2.bias\"])\n",
    "    # model.dense3.weight = torch.nn.Parameter(state_dict[\"dense3.weight\"])\n",
    "    # model.dense3.bias = torch.nn.Parameter(state_dict[\"dense3.bias\"])\n",
    "    # model.dense4.weight = torch.nn.Parameter(state_dict[\"dense4.weight\"])\n",
    "    # model.dense4.bias = torch.nn.Parameter(state_dict[\"dense4.bias\"])\n",
    "    # model.dense5.weight = torch.nn.Parameter(state_dict[\"dense5.weight\"])\n",
    "    # model.dense5.bias = torch.nn.Parameter(state_dict[\"dense5.bias\"])\n",
    "    # model.lstm1.weight_ih_l0.data = torch.nn.Parameter(state_dict[\"lstm1.weight_ih_l0\"])\n",
    "    # model.lstm1.weight_hh_l0.data = torch.nn.Parameter(state_dict[\"lstm1.weight_hh_l0\"])\n",
    "    # model.lstm1.bias_ih_l0.data = torch.nn.Parameter(state_dict[\"lstm1.bias_ih_l0\"])\n",
    "    # model.lstm1.bias_hh_l0.data = torch.nn.Parameter(state_dict[\"lstm1.bias_hh_l0\"])\n",
    "    log.info(f'Model has been loaded from prev state of epoch: {epoch}')\n",
    "\n",
    "model.train()\n",
    "while epoch < epochs:\n",
    "    train_loss = 0\n",
    "    curr_cer = 1.0\n",
    "    total_chars = 0\n",
    "\n",
    "    for (input_lengths, output_lengths, x, y) in train_loader:\n",
    "        x, y = x.to(device), y.to(device)\n",
    "\n",
    "        optimizer.zero_grad()\n",
    "        # print(x.shape)\n",
    "        y_pred = model(x)\n",
    "\n",
    "        m = torch.argmax(y_pred[0], 1)\n",
    "        curr_cer, total_chars = aggregate_cer(curr_cer, total_chars, y, y_pred)\n",
    "        y_pred = y_pred.permute(1, 0, 2)\n",
    "\n",
    "        loss = ctc_loss(y_pred, y, input_lengths, output_lengths)\n",
    "        loss.backward()\n",
    "        optimizer.step()\n",
    "\n",
    "        train_loss += loss.item()\n",
    "\n",
    "    writer.add_scalar(f\"training/{run_date}_loss\", train_loss / len(train_loader), epoch)\n",
    "    writer.add_scalar(f\"training/{run_date}_lvstn\", curr_cer * 100, epoch)\n",
    "    if epoch % 10 == 0:\n",
    "        torch.save(model.state_dict(), f\"models/{run_date}_{epoch:06}.pt\")\n",
    "\n",
    "    losses.append(train_loss / len(train_loader))\n",
    "    log.info(\n",
    "        f'Epoch #{epoch}| (e.g. target: {prediction_to_str(y[0])}, pred: {prediction_to_str(m)}), loss: {loss.item():2f}, CER: {curr_cer * 100:1f}% on {total_chars} chars')\n",
    "    epoch += 1"
   ],
   "metadata": {
    "id": "11b47e23310bae3e",
    "outputId": "12a71227-f481-4b30-d407-50c87202c352",
    "ExecuteTime": {
     "end_time": "2024-04-01T06:28:53.402906Z",
     "start_time": "2024-04-01T06:28:53.331901Z"
    }
   },
   "id": "8dfc545e083e38c",
   "outputs": [
    {
     "name": "stdout",
     "output_type": "stream",
     "text": [
      "2024-04-01 09:28:53 [INFO] root - Model has been loaded from prev state of epoch: 1100\n"
     ]
    },
    {
     "name": "stderr",
     "output_type": "stream",
     "text": [
      "C:\\Users\\Maor\\AppData\\Local\\Temp\\ipykernel_31128\\3015226362.py:56: ComplexWarning: Casting complex values to real discards the imaginary part\n",
      "  time_domain_signal = time_domain_signal.astype(np.float32)\n",
      "--- Logging error ---\n",
      "Traceback (most recent call last):\n",
      "  File \"C:\\Users\\Maor\\AppData\\Local\\Programs\\Python\\Python39\\lib\\logging\\__init__.py\", line 1083, in emit\n",
      "    msg = self.format(record)\n",
      "  File \"C:\\Users\\Maor\\AppData\\Local\\Programs\\Python\\Python39\\lib\\logging\\__init__.py\", line 927, in format\n",
      "    return fmt.format(record)\n",
      "  File \"C:\\Users\\Maor\\AppData\\Local\\Programs\\Python\\Python39\\lib\\logging\\__init__.py\", line 663, in format\n",
      "    record.message = record.getMessage()\n",
      "  File \"C:\\Users\\Maor\\AppData\\Local\\Programs\\Python\\Python39\\lib\\logging\\__init__.py\", line 367, in getMessage\n",
      "    msg = msg % self.args\n",
      "TypeError: not all arguments converted during string formatting\n",
      "Call stack:\n",
      "  File \"C:\\Users\\Maor\\AppData\\Local\\Programs\\Python\\Python39\\lib\\runpy.py\", line 197, in _run_module_as_main\n",
      "    return _run_code(code, main_globals, None,\n",
      "  File \"C:\\Users\\Maor\\AppData\\Local\\Programs\\Python\\Python39\\lib\\runpy.py\", line 87, in _run_code\n",
      "    exec(code, run_globals)\n",
      "  File \"c:\\users\\maor\\appdata\\roaming\\jetbrains\\dataspell2021.3\\projects\\workspace\\venv\\lib\\site-packages\\ipykernel_launcher.py\", line 17, in <module>\n",
      "    app.launch_new_instance()\n",
      "  File \"c:\\users\\maor\\appdata\\roaming\\jetbrains\\dataspell2021.3\\projects\\workspace\\venv\\lib\\site-packages\\traitlets\\config\\application.py\", line 1043, in launch_instance\n",
      "    app.start()\n",
      "  File \"c:\\users\\maor\\appdata\\roaming\\jetbrains\\dataspell2021.3\\projects\\workspace\\venv\\lib\\site-packages\\ipykernel\\kernelapp.py\", line 725, in start\n",
      "    self.io_loop.start()\n",
      "  File \"c:\\users\\maor\\appdata\\roaming\\jetbrains\\dataspell2021.3\\projects\\workspace\\venv\\lib\\site-packages\\tornado\\platform\\asyncio.py\", line 215, in start\n",
      "    self.asyncio_loop.run_forever()\n",
      "  File \"C:\\Users\\Maor\\AppData\\Local\\Programs\\Python\\Python39\\lib\\asyncio\\base_events.py\", line 596, in run_forever\n",
      "    self._run_once()\n",
      "  File \"C:\\Users\\Maor\\AppData\\Local\\Programs\\Python\\Python39\\lib\\asyncio\\base_events.py\", line 1890, in _run_once\n",
      "    handle._run()\n",
      "  File \"C:\\Users\\Maor\\AppData\\Local\\Programs\\Python\\Python39\\lib\\asyncio\\events.py\", line 80, in _run\n",
      "    self._context.run(self._callback, *self._args)\n",
      "  File \"c:\\users\\maor\\appdata\\roaming\\jetbrains\\dataspell2021.3\\projects\\workspace\\venv\\lib\\site-packages\\ipykernel\\kernelbase.py\", line 513, in dispatch_queue\n",
      "    await self.process_one()\n",
      "  File \"c:\\users\\maor\\appdata\\roaming\\jetbrains\\dataspell2021.3\\projects\\workspace\\venv\\lib\\site-packages\\ipykernel\\kernelbase.py\", line 502, in process_one\n",
      "    await dispatch(*args)\n",
      "  File \"c:\\users\\maor\\appdata\\roaming\\jetbrains\\dataspell2021.3\\projects\\workspace\\venv\\lib\\site-packages\\ipykernel\\kernelbase.py\", line 409, in dispatch_shell\n",
      "    await result\n",
      "  File \"c:\\users\\maor\\appdata\\roaming\\jetbrains\\dataspell2021.3\\projects\\workspace\\venv\\lib\\site-packages\\ipykernel\\kernelbase.py\", line 729, in execute_request\n",
      "    reply_content = await reply_content\n",
      "  File \"c:\\users\\maor\\appdata\\roaming\\jetbrains\\dataspell2021.3\\projects\\workspace\\venv\\lib\\site-packages\\ipykernel\\ipkernel.py\", line 422, in do_execute\n",
      "    res = shell.run_cell(\n",
      "  File \"c:\\users\\maor\\appdata\\roaming\\jetbrains\\dataspell2021.3\\projects\\workspace\\venv\\lib\\site-packages\\ipykernel\\zmqshell.py\", line 540, in run_cell\n",
      "    return super().run_cell(*args, **kwargs)\n",
      "  File \"c:\\users\\maor\\appdata\\roaming\\jetbrains\\dataspell2021.3\\projects\\workspace\\venv\\lib\\site-packages\\IPython\\core\\interactiveshell.py\", line 2961, in run_cell\n",
      "    result = self._run_cell(\n",
      "  File \"c:\\users\\maor\\appdata\\roaming\\jetbrains\\dataspell2021.3\\projects\\workspace\\venv\\lib\\site-packages\\IPython\\core\\interactiveshell.py\", line 3016, in _run_cell\n",
      "    result = runner(coro)\n",
      "  File \"c:\\users\\maor\\appdata\\roaming\\jetbrains\\dataspell2021.3\\projects\\workspace\\venv\\lib\\site-packages\\IPython\\core\\async_helpers.py\", line 129, in _pseudo_sync_runner\n",
      "    coro.send(None)\n",
      "  File \"c:\\users\\maor\\appdata\\roaming\\jetbrains\\dataspell2021.3\\projects\\workspace\\venv\\lib\\site-packages\\IPython\\core\\interactiveshell.py\", line 3221, in run_cell_async\n",
      "    has_raised = await self.run_ast_nodes(code_ast.body, cell_name,\n",
      "  File \"c:\\users\\maor\\appdata\\roaming\\jetbrains\\dataspell2021.3\\projects\\workspace\\venv\\lib\\site-packages\\IPython\\core\\interactiveshell.py\", line 3400, in run_ast_nodes\n",
      "    if await self.run_code(code, result, async_=asy):\n",
      "  File \"c:\\users\\maor\\appdata\\roaming\\jetbrains\\dataspell2021.3\\projects\\workspace\\venv\\lib\\site-packages\\IPython\\core\\interactiveshell.py\", line 3460, in run_code\n",
      "    exec(code_obj, self.user_global_ns, self.user_ns)\n",
      "  File \"C:\\Users\\Maor\\AppData\\Local\\Temp\\ipykernel_31128\\2709595738.py\", line 10, in <module>\n",
      "    log.info(\"Number of params\", model.count_parameters())\n",
      "Message: 'Number of params'\n",
      "Arguments: (740395,)\n"
     ]
    }
   ],
   "execution_count": 163
  },
  {
   "cell_type": "markdown",
   "source": [],
   "metadata": {
    "id": "2d264e8356d0225b"
   },
   "id": "272ab58d25984ef8"
  },
  {
   "cell_type": "markdown",
   "source": "### Evaluation loop vs SNR",
   "metadata": {
    "id": "8a62f3dbe418a973"
   },
   "id": "87ca24c733e18613"
  },
  {
   "cell_type": "code",
   "source": [
    "snrs = [-15, -10, -5, 0, 5, 10, 15]\n",
    "cers = []\n",
    "val_losses = []\n",
    "\n",
    "for i in range(len(snrs)):\n",
    "    print('Validating model for snr: ', snrs[i])\n",
    "\n",
    "    val_loader = torch.utils.data.DataLoader(\n",
    "        Dataset(number_of_samples=2048, sr=2000, explicit_snr=snrs[i]),\n",
    "        batch_size=batch_size,\n",
    "        collate_fn=collate_fn_pad,\n",
    "    )\n",
    "    val_loss = 0.0\n",
    "    curr_cer = 1.0\n",
    "    total_chars = 0\n",
    "\n",
    "    model.eval()\n",
    "    with torch.no_grad():\n",
    "        for (input_lengths, output_lengths, x, y) in val_loader:\n",
    "            x, y = x.to(device), y.to(device)\n",
    "\n",
    "            # Forward pass\n",
    "            y_pred = model(x)\n",
    "\n",
    "            # Compute loss\n",
    "            m = torch.argmax(y_pred[0], 1)\n",
    "            curr_cer, total_chars = aggregate_cer(curr_cer, total_chars, y, y_pred)\n",
    "            y_pred = y_pred.permute(1, 0, 2)\n",
    "\n",
    "            loss = ctc_loss(y_pred, y, input_lengths, output_lengths)\n",
    "            val_loss += loss.item()\n",
    "\n",
    "    val_losses.append(val_loss/len(val_loader))\n",
    "    cers.append(curr_cer)"
   ],
   "metadata": {
    "id": "c6ab003ccb7a548",
    "ExecuteTime": {
     "end_time": "2024-04-01T06:29:50.250257Z",
     "start_time": "2024-04-01T06:29:01.388064Z"
    }
   },
   "id": "6bb442478096df24",
   "outputs": [
    {
     "name": "stdout",
     "output_type": "stream",
     "text": [
      "Validating model for snr:  -15\n"
     ]
    },
    {
     "name": "stderr",
     "output_type": "stream",
     "text": [
      "C:\\Users\\Maor\\AppData\\Local\\Temp\\ipykernel_31128\\3015226362.py:56: ComplexWarning: Casting complex values to real discards the imaginary part\n",
      "  time_domain_signal = time_domain_signal.astype(np.float32)\n"
     ]
    },
    {
     "name": "stdout",
     "output_type": "stream",
     "text": [
      "Validating model for snr:  -10\n",
      "Validating model for snr:  -5\n",
      "Validating model for snr:  0\n",
      "Validating model for snr:  5\n",
      "Validating model for snr:  10\n",
      "Validating model for snr:  15\n"
     ]
    }
   ],
   "execution_count": 164
  },
  {
   "cell_type": "markdown",
   "source": [
    "### Visualize"
   ],
   "metadata": {
    "id": "8ef156632d6c68e1"
   },
   "id": "6acdf92d006a09ec"
  },
  {
   "cell_type": "code",
   "source": [
    "plt.plot(snrs, val_losses, color='blue')\n",
    "plt.scatter(snrs, val_losses, marker='x', color='red')\n",
    "plt.xlabel('SNR')\n",
    "plt.ylabel('Validating Loss')\n",
    "plt.title('LSTM RNN Validating Loss vs SNR')\n",
    "plt.show()\n",
    "\n",
    "plt.plot(snrs, [100*c for c in cers], color='blue')\n",
    "plt.scatter(snrs, [100*c for c in cers], marker='x', color='red')\n",
    "plt.xlabel('CER')\n",
    "plt.ylabel('CER %')\n",
    "plt.title('LSTM RNN Validating CER vs SNR')\n",
    "plt.show()"
   ],
   "metadata": {
    "id": "17fd95da5aced9b",
    "outputId": "1327f6a9-6c0b-4a7a-e468-4ceef9c611f7",
    "ExecuteTime": {
     "end_time": "2024-04-01T06:32:07.950249Z",
     "start_time": "2024-04-01T06:32:07.674682Z"
    }
   },
   "id": "d59a40f1519b9be",
   "outputs": [
    {
     "data": {
      "text/plain": [
       "<Figure size 640x480 with 1 Axes>"
      ],
      "image/png": "[encoded data removed]"
     },
     "metadata": {},
     "output_type": "display_data"
    },
    {
     "data": {
      "text/plain": [
       "<Figure size 640x480 with 1 Axes>"
      ],
      "image/png": "[encoded data removed]"
     },
     "metadata": {},
     "output_type": "display_data"
    }
   ],
   "execution_count": 166
  },
  {
   "cell_type": "markdown",
   "source": [
    "## Detection: Faster R-CNN\n",
    "Faster R-CNN (Faster Regions with Convolutional Neural Networks) is an object detection algorithm that builds upon the success of its predecessors, R-CNN and Fast R-CNN. It was introduced in the 2015 paper [\"Faster R-CNN: Towards Real-Time Object Detection with Region Proposal Networks\"](https://arxiv.org/abs/1506.01497) by Shaoqing Ren, Kaiming He, Ross Girshick, and Jian Sun.\n",
    "\n",
    "The key innovation in Faster R-CNN is the introduction of a **Region Proposal Network** (RPN), which is a fully convolutional network that generates region proposals (bounding boxes) for objects in the input image. This contrasts with previous approaches that relied on external region proposal algorithms like selective search, which were computationally expensive and slow.\n",
    "\n",
    "The Faster R-CNN architecture consists of two main components:\n",
    "\n",
    "1. **Region Proposal Network (RPN)**: This is a lightweight convolutional neural network that takes an input image and outputs a set of object proposals or regions of interest (RoIs). The RPN works by sliding a small window over the input feature map and outputting multiple region proposals for each window location. These proposals are then filtered and ranked based on their objectness score, which is the probability that a region contains an object of interest.\n",
    "\n",
    "2. **Object Detection Network**: This is a Fast R-CNN network that takes the proposed RoIs from the RPN and performs object classification and bounding box regression. It extracts features from each RoI using a RoI pooling layer and then passes these features through fully connected layers to predict the class and refine the bounding box coordinates.\n",
    "\n",
    "The key advantages of Faster R-CNN are:\n",
    "\n",
    "1. **Speed**: By integrating the region proposal step into the network, Faster R-CNN can process images much faster than its predecessors, enabling real-time object detection.\n",
    "2. **Accuracy**: The RPN and the shared convolutional features used for both region proposal and object detection improve the overall accuracy of the system.\n",
    "3. **End-to-End Training**: The entire Faster R-CNN network can be trained end-to-end, making the training process more efficient and effective.\n",
    "\n",
    "Faster R-CNN has been widely adopted and has inspired numerous subsequent object detection algorithms, such as Mask R-CNN for instance segmentation and RetinaNet for dense object detection.\n",
    "\n",
    "We will use 'fasterrcnn_resnet50_fpn' varient (original model), read more here [\"PyTorch FASTER R-CNN\"](https://pytorch.org/vision/0.16/models/faster_rcnn.html)"
   ],
   "metadata": {
    "id": "c1175cc07be845ad"
   },
   "id": "2edef4d20e0b0c2a"
  },
  {
   "cell_type": "markdown",
   "source": [
    "### Utils"
   ],
   "metadata": {
    "id": "dd055d12afe7f871"
   },
   "id": "e4f228b33cd34368"
  },
  {
   "cell_type": "code",
   "source": [
    "def spectrum_to_img(spec):\n",
    "    '''\n",
    "    Transform spectrum to grey-image, ready for training in resnet50 model\n",
    "    \n",
    "    :param spec: ndarray (shape: [H, W])\n",
    "    :return: normalized torch image (shape: [1, H, W])\n",
    "    '''\n",
    "    # Normalize the spectrum (min-max scaling)\n",
    "    min_value = np.min(spec)\n",
    "    max_value = np.max(spec)\n",
    "    normalized_spectrum = (spec - min_value) / (max_value - min_value)\n",
    "\n",
    "    # Adapt dimension for resnet50\n",
    "    normalized_spectrum = np.expand_dims(normalized_spectrum, axis=-1)\n",
    "    normalized_spectrum = torch.from_numpy(normalized_spectrum).permute(2,0,1)\n",
    "\n",
    "    return normalized_spectrum\n",
    "\n",
    "\n",
    "def get_training_sample_bbx(*args, **kwargs):\n",
    "    '''\n",
    "    Used in NN dataset to generate sample with bounding box of the morse content\n",
    "    :param args: generate_morse_sample args\n",
    "    :param kwargs: \n",
    "    :return: torch image (shape: [1, H, W]) and bounding box (list[x_start, y_start, x_end, y_end])\n",
    "    '''\n",
    "    _, spec, morse_str, bbx = generate_morse_sample(*args, **kwargs)\n",
    "    spec = spectrum_to_img(spec)\n",
    "\n",
    "    return spec, bbx, morse_str\n",
    "\n",
    "\n",
    "def inference(img, model_, detection_threshold=0.5):\n",
    "    '''\n",
    "    Infernece of a single input image from resnet\n",
    "\n",
    "    inputs:\n",
    "      img: input-image as torch.tensor (shape: [C, H, W])\n",
    "      model: model for infernce (torch.nn.Module)\n",
    "      detection_threshold: Confidence-threshold for NMS (default=0.7)\n",
    "\n",
    "    returns:\n",
    "      boxes: bounding boxes (Format [N, 4] => N times [xmin, ymin, xmax, ymax])\n",
    "      labels: class-prediction (Format [N] => N times an number between 0 and _num_classes-1)\n",
    "      scores: confidence-score (Format [N] => N times confidence-score between 0 and 1)\n",
    "    '''\n",
    "    model_.eval()\n",
    "\n",
    "    img = img.to(device)\n",
    "    outputs = model_([img])\n",
    "\n",
    "    boxes = outputs[0]['boxes'].data.cpu().numpy()\n",
    "    scores = outputs[0]['scores'].data.cpu().numpy()\n",
    "    labels = outputs[0]['labels'].data.cpu().numpy()\n",
    "\n",
    "    boxes = boxes[scores >= detection_threshold].astype(np.int32)\n",
    "    labels = labels[scores >= detection_threshold]\n",
    "    scores = scores[scores >= detection_threshold]\n",
    "\n",
    "    return boxes, scores, labels\n",
    "\n",
    "\n",
    "def plot_image(img, boxes, scores, labels, dataset, morse_str, save_path=None):\n",
    "    '''\n",
    "    Function that draws the BBoxes, scores, and labels on the image.\n",
    "\n",
    "    inputs:\n",
    "      img: input-image as numpy.array (shape: [H, W, C])\n",
    "      boxes: list of bounding boxes (Format [N, 4] => N times [xmin, ymin, xmax, ymax])\n",
    "      scores: list of conf-scores (Format [N] => N times confidence-score between 0 and 1)\n",
    "      labels: list of class-prediction (Format [N] => N times an number between 0 and _num_classes-1)\n",
    "      dataset: list of all classes [\"background\", \"morse\"] => Format [N_classes]\n",
    "    '''\n",
    "    # Preprocessing\n",
    "    img = img.permute(1,2,0).numpy()\n",
    "    img = np.squeeze(img, axis=-1)\n",
    "    class_labels = np.array(dataset)\n",
    "\n",
    "    # Plotting\n",
    "    fig, ax = plt.subplots(1, figsize=(16, 8))\n",
    "    plt.pcolormesh(img)\n",
    "    for i, box in enumerate(boxes):\n",
    "\n",
    "        # BBX\n",
    "        class_pred = labels[i]\n",
    "        conf = scores[i]\n",
    "        rect = patches.Rectangle(\n",
    "            (box[0], box[1]),\n",
    "            box[2]-box[0],\n",
    "            box[3]-box[1],\n",
    "            linewidth=4,\n",
    "            edgecolor='red',\n",
    "            facecolor=\"none\",\n",
    "        )\n",
    "        ax.add_patch(rect)\n",
    "\n",
    "        # Add vertical lines\n",
    "        ax.axvline(x=box[0], color='r', linestyle='--', linewidth=3, alpha=0.5)\n",
    "        ax.axvline(x=box[2], color='r', linestyle='--', linewidth=3, alpha=0.5)\n",
    "\n",
    "        # Add the label\n",
    "        plt.text(\n",
    "            box[0], box[1],\n",
    "            s='\"' + morse_str + '\" | ' + class_labels[int(class_pred)] + \" \" + str(int(100*conf)) + \"%\",\n",
    "            color=\"white\",\n",
    "            fontsize=14,\n",
    "            verticalalignment=\"top\",\n",
    "            bbox={\"color\": 'red', \"pad\": 0},\n",
    "        )\n",
    "\n",
    "    # Used to save inference phase results\n",
    "    if save_path is not None:\n",
    "        plt.savefig(save_path)\n",
    "\n",
    "    plt.show()\n",
    "\n",
    "\n",
    "def collate_fn(batch):\n",
    "    return tuple(zip(*batch))"
   ],
   "metadata": {
    "id": "63272d9fae3625cb",
    "execution": {
     "iopub.status.busy": "2024-03-28T20:22:16.920867Z",
     "iopub.execute_input": "2024-03-28T20:22:16.921231Z",
     "iopub.status.idle": "2024-03-28T20:22:16.926791Z",
     "shell.execute_reply.started": "2024-03-28T20:22:16.921202Z",
     "shell.execute_reply": "2024-03-28T20:22:16.925897Z"
    },
    "trusted": true,
    "ExecuteTime": {
     "end_time": "2024-04-02T07:27:58.891635Z",
     "start_time": "2024-04-02T07:27:58.866104Z"
    }
   },
   "id": "c92e273c0bed5d7e",
   "outputs": [],
   "execution_count": 213
  },
  {
   "cell_type": "markdown",
   "source": [
    "### Generate and Plot 1 example"
   ],
   "metadata": {
    "collapsed": false
   },
   "id": "422ed4baf852e536"
  },
  {
   "cell_type": "code",
   "source": [
    "sr = 2000\n",
    "\n",
    "# Random params\n",
    "length = random.randrange(1, 7)\n",
    "pitch = random.randint(2, 19) * 50\n",
    "wpm = 18\n",
    "snrDB = random.randrange(-10, 10)\n",
    "amplitude = random.randrange(50, 200)\n",
    "\n",
    "# Generate\n",
    "spec, bbx, morse_str = get_training_sample_bbx(sr, length, pitch, wpm, snrDB, amplitude)\n",
    "\n",
    "# Plot\n",
    "plot_image(spec, [bbx], [1.0], [1], ['background', 'morse'], morse_str)"
   ],
   "metadata": {
    "colab": {
     "base_uri": "https://localhost:8080/",
     "height": 110
    },
    "id": "31366734189a3736",
    "outputId": "91b21069-8632-41dd-cea5-48a5582d1b06",
    "execution": {
     "iopub.status.busy": "2024-03-28T23:02:10.979132Z",
     "iopub.execute_input": "2024-03-28T23:02:10.979998Z",
     "iopub.status.idle": "2024-03-28T23:02:11.198870Z",
     "shell.execute_reply.started": "2024-03-28T23:02:10.979963Z",
     "shell.execute_reply": "2024-03-28T23:02:11.197920Z"
    },
    "trusted": true,
    "ExecuteTime": {
     "end_time": "2024-04-02T07:11:24.748676Z",
     "start_time": "2024-04-02T07:11:24.609760Z"
    }
   },
   "id": "7d3d2dc3ff75d73",
   "outputs": [
    {
     "data": {
      "text/plain": [
       "<Figure size 1600x800 with 1 Axes>"
      ],
      "image/png": "[encoded data removed]"
     },
     "metadata": {},
     "output_type": "display_data"
    }
   ],
   "execution_count": 47
  },
  {
   "cell_type": "markdown",
   "source": [
    "### Dataset"
   ],
   "metadata": {
    "collapsed": false
   },
   "id": "338d603f7024d549"
  },
  {
   "cell_type": "code",
   "source": [
    "class DatasetBBX(data.Dataset):\n",
    "    \"\"\"\n",
    "    Custom PyTorch dataset for bounding box detection task in morse\n",
    "    Generates data samples in runtime\n",
    "    \"\"\"\n",
    "    def __init__(self, number_of_samples=4096, sr=2000, explicit_snr=None):\n",
    "        self.length = number_of_samples\n",
    "        self.sr = sr\n",
    "        self.explicit_snr=explicit_snr\n",
    "\n",
    "    def __len__(self):\n",
    "        return self.length\n",
    "\n",
    "    def __getitem__(self, index):\n",
    "        target = {}\n",
    "\n",
    "        # Generate random parameters for the sample\n",
    "        length = random.randrange(1, 8)\n",
    "        pitch = random.randint(2, 19) * 50\n",
    "        wpm = 18\n",
    "        amplitude = random.randrange(50, 200)\n",
    "        if self.explicit_snr != None:\n",
    "            snrDB = self.explicit_snr\n",
    "        else:\n",
    "            snrDB = random.randrange(-10, 10)\n",
    "\n",
    "        spec, bbx, _ = get_training_sample_bbx(self.sr, length, pitch, wpm, snrDB, amplitude, None, True)\n",
    "\n",
    "        # Store the bounding box and label in the target dictionary\n",
    "        target[\"boxes\"] = torch.Tensor([bbx]).float()\n",
    "        target[\"labels\"] = torch.LongTensor([1])\n",
    "\n",
    "        return spec, target"
   ],
   "metadata": {
    "id": "8d8c9be72b5b2c29",
    "execution": {
     "iopub.status.busy": "2024-03-28T23:03:06.082110Z",
     "iopub.execute_input": "2024-03-28T23:03:06.082497Z",
     "iopub.status.idle": "2024-03-28T23:03:06.090912Z",
     "shell.execute_reply.started": "2024-03-28T23:03:06.082468Z",
     "shell.execute_reply": "2024-03-28T23:03:06.090003Z"
    },
    "trusted": true,
    "ExecuteTime": {
     "end_time": "2024-04-02T07:11:27.745940Z",
     "start_time": "2024-04-02T07:11:27.724361Z"
    }
   },
   "id": "370d42db68fd5314",
   "outputs": [],
   "execution_count": 48
  },
  {
   "cell_type": "markdown",
   "source": [
    "### Training"
   ],
   "metadata": {
    "id": "43a1e075e6622189"
   },
   "id": "46358481a5f32df4"
  },
  {
   "cell_type": "markdown",
   "source": [
    "#### Hyperparameter"
   ],
   "metadata": {
    "id": "3f4abec0f902b291"
   },
   "id": "ae36613af1671f5e"
  },
  {
   "cell_type": "code",
   "source": [
    "SEED = 42\n",
    "NUM_EPOCHS = 50\n",
    "LR = 0.005\n",
    "LR_MOMENTUM=0.9\n",
    "LR_DECAY_RATE=0.001\n",
    "LR_SCHED_STEP_SIZE = 0.1\n",
    "LR_SCHED_GAMMA = 0.1\n",
    "BATCH_SIZE = 64\n",
    "NUM_TEST_IMAGES = 5\n",
    "OUTPUT_DIR = 'faster_rnn_outputs'"
   ],
   "metadata": {
    "id": "4f508c6753e66ee5",
    "execution": {
     "iopub.status.busy": "2024-03-28T23:04:25.128783Z",
     "iopub.execute_input": "2024-03-28T23:04:25.129503Z",
     "iopub.status.idle": "2024-03-28T23:04:25.134581Z",
     "shell.execute_reply.started": "2024-03-28T23:04:25.129470Z",
     "shell.execute_reply": "2024-03-28T23:04:25.133646Z"
    },
    "trusted": true,
    "ExecuteTime": {
     "end_time": "2024-04-02T07:11:30.085636Z",
     "start_time": "2024-04-02T07:11:30.065002Z"
    }
   },
   "id": "7ed17b7eeab8b271",
   "outputs": [],
   "execution_count": 49
  },
  {
   "cell_type": "markdown",
   "source": [
    "#### Model init"
   ],
   "metadata": {
    "id": "52bedd4c11ece79d"
   },
   "id": "308008fc2d383da"
  },
  {
   "cell_type": "code",
   "source": [
    "device = torch.device('cuda') if torch.cuda.is_available() else torch.device('cpu')\n",
    "\n",
    "# Classes\n",
    "labels = ['background', 'morse']\n",
    "num_classes = len(labels)\n",
    "\n",
    "# Model\n",
    "model = torchvision.models.detection.fasterrcnn_resnet50_fpn(min_size=50, max_size=550) # 1 up to 9 morse chars max img size is ~550\n",
    "in_features = model.roi_heads.box_predictor.cls_score.in_features\n",
    "model.roi_heads.box_predictor = FastRCNNPredictor(in_features, num_classes)\n",
    "model.to(device)\n",
    "\n",
    "# Optimizer\n",
    "params = [p for p in model.parameters() if p.requires_grad]\n",
    "optimizer = torch.optim.SGD(params, lr=LR, momentum=LR_MOMENTUM, weight_decay=LR_DECAY_RATE)\n",
    "\n",
    "# Dataset\n",
    "dataset = DatasetBBX()\n",
    "dataset_test = DatasetBBX()\n",
    "torch.manual_seed(SEED)\n",
    "\n",
    "# learning rate scheduler\n",
    "lr_scheduler = torch.optim.lr_scheduler.StepLR(optimizer, step_size=LR_SCHED_STEP_SIZE, gamma=LR_SCHED_GAMMA)\n",
    "\n",
    "# data loaders\n",
    "data_loader = torch.utils.data.DataLoader(\n",
    "    dataset, batch_size=BATCH_SIZE, shuffle=True,\n",
    "    # num_workers=4,\n",
    "    collate_fn=collate_fn)\n",
    "\n",
    "data_loader_test = torch.utils.data.DataLoader(\n",
    "    dataset_test, batch_size=1, shuffle=False,\n",
    "    # num_workers=4,\n",
    "    collate_fn=collate_fn)"
   ],
   "metadata": {
    "colab": {
     "base_uri": "https://localhost:8080/"
    },
    "id": "844864f0d6609f4",
    "outputId": "d4e796cd-b5b4-4a87-9882-e702d777d2fb",
    "execution": {
     "iopub.status.busy": "2024-03-28T23:04:37.144136Z",
     "iopub.execute_input": "2024-03-28T23:04:37.144851Z",
     "iopub.status.idle": "2024-03-28T23:04:37.896937Z",
     "shell.execute_reply.started": "2024-03-28T23:04:37.144819Z",
     "shell.execute_reply": "2024-03-28T23:04:37.895706Z"
    },
    "trusted": true,
    "ExecuteTime": {
     "end_time": "2024-04-02T07:11:33.290710Z",
     "start_time": "2024-04-02T07:11:32.318477Z"
    }
   },
   "id": "7ffc43d400b9d788",
   "outputs": [],
   "execution_count": 50
  },
  {
   "cell_type": "markdown",
   "source": [
    "#### Training functions"
   ],
   "metadata": {
    "id": "9929889e54fe378c"
   },
   "id": "d15e08d403f0637b"
  },
  {
   "cell_type": "code",
   "source": [
    "def train_one_epoch(model, optimizer, data_loader, device):\n",
    "    '''\n",
    "    train the model over one epoch.\n",
    "    '''\n",
    "    train_loss_list = []\n",
    "    tqdm_bar = tqdm(data_loader, total=len(data_loader))\n",
    "    \n",
    "    for idx, data in enumerate(tqdm_bar):\n",
    "        optimizer.zero_grad()\n",
    "        images, targets = data\n",
    "\n",
    "        images = list(image.to(device) for image in images)\n",
    "        targets = [{k: v.to(device) for k, v in t.items()} for t in targets]  # targets = {'boxes'=tensor, 'labels'=tensor}\n",
    "\n",
    "        losses = model(images, targets)\n",
    "        loss = sum(loss for loss in losses.values())\n",
    "        train_loss_list.append(loss.detach().cpu().numpy())\n",
    "\n",
    "        loss.backward()\n",
    "        optimizer.step()\n",
    "        tqdm_bar.set_description(desc=f\"Training Loss: {loss:.3f}\")\n",
    "\n",
    "    return train_loss_list\n",
    "\n",
    "\n",
    "def evaluate(model, data_loader_test, device):\n",
    "    '''\n",
    "    validate the model\n",
    "    '''\n",
    "    val_loss_list = []\n",
    "    tqdm_bar = tqdm(data_loader_test, total=len(data_loader_test))\n",
    "\n",
    "    for i, data in enumerate(tqdm_bar):\n",
    "        images, targets = data\n",
    "\n",
    "        images = list(image.to(device) for image in images)\n",
    "        targets = [{k: v.to(device) for k, v in t.items()} for t in targets]\n",
    "\n",
    "        with torch.no_grad():\n",
    "            losses = model(images, targets)\n",
    "        loss = sum(loss for loss in losses.values())\n",
    "        loss_val = loss.item()\n",
    "        \n",
    "        val_loss_list.append(loss_val)\n",
    "        tqdm_bar.set_description(desc=f\"Validation Loss: {loss:.4f}\")\n",
    "        \n",
    "    return val_loss_list\n",
    "\n",
    "\n",
    "def plot_loss(train_loss, valid_loss):\n",
    "    '''\n",
    "    plot training and valdiation losses and save them in `output_dir'\n",
    "    '''\n",
    "    \n",
    "    figure_1, train_ax = plt.subplots()\n",
    "    figure_2, valid_ax = plt.subplots()\n",
    "\n",
    "    train_ax.plot(train_loss, color='blue')\n",
    "    train_ax.set_xlabel('Iteration')\n",
    "    train_ax.set_ylabel('Training Loss')\n",
    "\n",
    "    valid_ax.plot(valid_loss, color='red')\n",
    "    valid_ax.set_xlabel('Iteration')\n",
    "    valid_ax.set_ylabel('Validation loss')\n",
    "\n",
    "    figure_1.savefig(f\"{OUTPUT_DIR}/train_loss.png\")\n",
    "    figure_2.savefig(f\"{OUTPUT_DIR}/valid_loss.png\")"
   ],
   "metadata": {
    "id": "e86e16df87d12e57",
    "execution": {
     "iopub.status.busy": "2024-03-28T23:04:41.743986Z",
     "iopub.execute_input": "2024-03-28T23:04:41.744879Z",
     "iopub.status.idle": "2024-03-28T23:04:41.758845Z",
     "shell.execute_reply.started": "2024-03-28T23:04:41.744845Z",
     "shell.execute_reply": "2024-03-28T23:04:41.757958Z"
    },
    "trusted": true,
    "ExecuteTime": {
     "end_time": "2024-04-02T07:11:35.952949Z",
     "start_time": "2024-04-02T07:11:35.932885Z"
    }
   },
   "id": "df221e613fa2df03",
   "outputs": [],
   "execution_count": 51
  },
  {
   "cell_type": "markdown",
   "source": [
    "#### Load checkpoint\n",
    "epoch 541 checkpoint available at: https://we.tl/t-Bk8Sfvh2bR [320 MB]"
   ],
   "metadata": {
    "collapsed": false
   },
   "id": "3b67f1cfadd2c409"
  },
  {
   "cell_type": "code",
   "source": [
    "checkpoint_files = [f for f in os.listdir(OUTPUT_DIR) if f.endswith('.pth')]\n",
    "if checkpoint_files:\n",
    "    # Last checkpoint file\n",
    "    checkpoint_files.sort()\n",
    "    latest_checkpoint = os.path.join(OUTPUT_DIR, checkpoint_files[-1])\n",
    "    checkpoint = torch.load(latest_checkpoint)\n",
    "    model.load_state_dict(checkpoint['model_state_dict'])\n",
    "    optimizer.load_state_dict(checkpoint['optimizer_state_dict'])\n",
    "    start_epoch = checkpoint['epoch']\n",
    "    loss_dict = checkpoint['loss_dict']\n",
    "else:\n",
    "    start_epoch = 0\n",
    "    loss_dict = {'train_loss': [], 'valid_loss': []}"
   ],
   "metadata": {
    "collapsed": false,
    "ExecuteTime": {
     "end_time": "2024-04-02T07:23:54.622638Z",
     "start_time": "2024-04-02T07:23:53.829937Z"
    }
   },
   "id": "d1b1f676e7bafd90",
   "outputs": [],
   "execution_count": 197
  },
  {
   "cell_type": "code",
   "source": [
    "# Count the total number of parameters\n",
    "total_params = sum(p.numel() for p in model.parameters())\n",
    "log.info(f\"Total number of parameters: {total_params}\")\n",
    "\n",
    "# Count the number of trainable parameters\n",
    "trainable_params = sum(p.numel() for p in model.parameters() if p.requires_grad)\n",
    "log.info(f\"Number of trainable parameters: {trainable_params}\")"
   ],
   "metadata": {
    "collapsed": false,
    "ExecuteTime": {
     "end_time": "2024-04-02T07:23:56.410350Z",
     "start_time": "2024-04-02T07:23:56.388264Z"
    }
   },
   "id": "7a5a849a0013d8ec",
   "outputs": [
    {
     "name": "stdout",
     "output_type": "stream",
     "text": [
      "2024-04-02 10:23:56 [INFO] root - Total number of parameters: 41299161\n",
      "2024-04-02 10:23:56 [INFO] root - Number of trainable parameters: 41076761\n"
     ]
    }
   ],
   "execution_count": 198
  },
  {
   "cell_type": "markdown",
   "source": [
    "#### Train"
   ],
   "metadata": {
    "id": "5d3462636bd06cb5"
   },
   "id": "4c00c10f3d12d3d5"
  },
  {
   "cell_type": "code",
   "source": [
    "for epoch in range(start_epoch, start_epoch + NUM_EPOCHS):\n",
    "    log.info(\"----------Epoch {}----------\".format(epoch+1))\n",
    "\n",
    "    # Train the model for one epoch\n",
    "    train_loss_list = train_one_epoch(model, optimizer, data_loader, device)\n",
    "    loss_dict['train_loss'].extend(train_loss_list)\n",
    "\n",
    "    lr_scheduler.step()\n",
    "\n",
    "    # Run evaluation\n",
    "    valid_loss_list = evaluate(model, data_loader_test, device)\n",
    "    loss_dict['valid_loss'].extend(valid_loss_list)\n",
    "\n",
    "    if epoch % 10 == 0:\n",
    "        # Save model\n",
    "        ckpt_file_name = f\"{OUTPUT_DIR}/epoch_{epoch+1}_model.pth\"\n",
    "        torch.save({\n",
    "            'epoch': epoch+1,\n",
    "            'model_state_dict': model.state_dict(),\n",
    "            'optimizer_state_dict': optimizer.state_dict(),\n",
    "            'loss_dict': loss_dict\n",
    "        }, ckpt_file_name)\n",
    "\n",
    "    plot_loss(loss_dict['train_loss'], loss_dict['valid_loss'])\n",
    "\n",
    "# Store the losses after the training in a pickle\n",
    "with open(f\"{OUTPUT_DIR}/loss_dict.pkl\", \"wb\") as file:\n",
    "    pickle.dump(loss_dict, file)\n",
    "\n",
    "log.info(\"Training Finished !\")"
   ],
   "metadata": {
    "colab": {
     "base_uri": "https://localhost:8080/",
     "height": 1000
    },
    "id": "8e04700b64ae7eae",
    "outputId": "599aed50-daa2-4277-8b0f-c1aefcea34ab",
    "execution": {
     "iopub.status.busy": "2024-03-28T23:04:56.869015Z",
     "iopub.execute_input": "2024-03-28T23:04:56.870039Z",
     "iopub.status.idle": "2024-03-29T00:38:42.262969Z",
     "shell.execute_reply.started": "2024-03-28T23:04:56.870005Z",
     "shell.execute_reply": "2024-03-29T00:38:42.261850Z"
    },
    "trusted": true
   },
   "id": "7ff96b0b6a1b24bf",
   "outputs": [],
   "execution_count": null
  },
  {
   "cell_type": "markdown",
   "source": "### Evaluate",
   "metadata": {
    "collapsed": false
   },
   "id": "8b83c72073f4e1e0"
  },
  {
   "metadata": {
    "ExecuteTime": {
     "end_time": "2024-04-02T07:11:45.712067Z",
     "start_time": "2024-04-02T07:11:45.691985Z"
    }
   },
   "cell_type": "code",
   "source": [
    "def IoU_loss_x_axis_only(pred_box, gt_box):\n",
    "    \"\"\"\n",
    "    Calculates modified Intersection-over-Union loss considering only x-axis overlap.\n",
    "  \n",
    "    Args:\n",
    "        pred_boxes: numpy array of predicted bounding boxes (format: [x1, y1, x2, y2])\n",
    "        gt_boxes: numpy array of ground truth bounding boxes (same format)\n",
    "  \n",
    "    Returns:\n",
    "        Modified IoU loss (float)\n",
    "    \"\"\"\n",
    "    # Calculate overlap width\n",
    "    overlap_width = np.maximum(0, np.minimum(pred_box[2], gt_box[2]) - np.maximum(pred_box[0], gt_box[0]))\n",
    "\n",
    "    # Union width based on wider box (modify as needed)\n",
    "    union_width = np.maximum(pred_box[2] - pred_box[0], gt_box[2] - gt_box[0])\n",
    "\n",
    "    # Calculate modified IoU loss (1 - IoU_x)\n",
    "    iou_loss = 1.0 - np.mean(overlap_width / np.maximum(union_width, 1e-10))\n",
    "    return iou_loss"
   ],
   "id": "5f5fb07eea7a4726",
   "outputs": [],
   "execution_count": 54
  },
  {
   "cell_type": "code",
   "source": [
    "random.seed(SEED)\n",
    "num_images = NUM_TEST_IMAGES\n",
    "\n",
    "plot = True\n",
    "num_of_samples = 1\n",
    "\n",
    "eval_loss = []\n",
    "model.eval()\n",
    "for i in range(num_of_samples):\n",
    "    x = random.randint(0, (dataset_test.__len__()-1))\n",
    "    img, target = dataset_test.__getitem__(x)\n",
    "    img = img.to(device)\n",
    "    box, scores, labels = inference(img, model)\n",
    "    if len(box) > 0:\n",
    "        iou_loss = IoU_loss_x_axis_only(box[0], target[\"boxes\"][0].numpy())\n",
    "    else:\n",
    "        iou_loss = 1.0\n",
    "    eval_loss.append(iou_loss)\n",
    "    if plot:\n",
    "        log.info(f'IoU-x loss = {iou_loss}')\n",
    "        plot_image(img.cpu(), box, scores, labels, ['background', 'morse'],'')\n",
    "print(f'Final IoU-x loss = {np.mean(eval_loss)}')"
   ],
   "metadata": {
    "colab": {
     "base_uri": "https://localhost:8080/"
    },
    "id": "sa3HuG6phBD2",
    "outputId": "260d91f7-c053-43ec-fada-b7c5666adfc7",
    "execution": {
     "iopub.status.busy": "2024-03-29T00:41:33.769367Z",
     "iopub.execute_input": "2024-03-29T00:41:33.770382Z",
     "iopub.status.idle": "2024-03-29T00:42:12.182549Z",
     "shell.execute_reply.started": "2024-03-29T00:41:33.770344Z",
     "shell.execute_reply": "2024-03-29T00:42:12.181385Z"
    },
    "trusted": true,
    "ExecuteTime": {
     "end_time": "2024-04-02T07:26:01.334566Z",
     "start_time": "2024-04-02T07:26:01.083200Z"
    }
   },
   "id": "e3433ad6f5bfd005",
   "outputs": [
    {
     "name": "stdout",
     "output_type": "stream",
     "text": [
      "2024-04-02 10:26:01 [INFO] root - IoU-x loss = 0.05405405405405406\n"
     ]
    },
    {
     "data": {
      "text/plain": [
       "<Figure size 1600x800 with 1 Axes>"
      ],
      "image/png": "[encoded data removed]"
     },
     "metadata": {},
     "output_type": "display_data"
    },
    {
     "name": "stdout",
     "output_type": "stream",
     "text": [
      "Final IoU-x loss = 0.05405405405405406\n"
     ]
    }
   ],
   "execution_count": 210
  },
  {
   "metadata": {
    "ExecuteTime": {
     "end_time": "2024-03-31T17:04:15.666586Z",
     "start_time": "2024-03-31T16:59:52.137296Z"
    }
   },
   "cell_type": "code",
   "source": [
    "# per SNR\n",
    "snrs = [-15, -10, -5, 0, 5, 10, 15]\n",
    "ious = []\n",
    "num_of_samples = 1000\n",
    "\n",
    "for i in range(len(snrs)):\n",
    "    log.info(f'Evaluating model for snr: {snrs[i]}')\n",
    "\n",
    "    dataset_test = DatasetBBX(explicit_snr=snrs[i])    \n",
    "    data_loader_test = torch.utils.data.DataLoader(\n",
    "        dataset_test, batch_size=1, shuffle=False,\n",
    "        collate_fn=collate_fn)\n",
    "\n",
    "    eval_loss = []\n",
    "    model.eval()\n",
    "    for i in range(num_of_samples):\n",
    "        x = random.randint(0, (dataset_test.__len__()-1))\n",
    "        img, target = dataset_test.__getitem__(x)\n",
    "        img = img.to(device)\n",
    "        box, scores, labels = inference(img, model)\n",
    "        if len(box) > 0:\n",
    "            iou_loss = IoU_loss_x_axis_only(box[0], target[\"boxes\"][0].numpy())\n",
    "        else:\n",
    "            iou_loss = 1.0\n",
    "        eval_loss.append(iou_loss)\n",
    "\n",
    "    ious.append(np.mean(eval_loss))"
   ],
   "id": "b722dc0ce3511443",
   "outputs": [
    {
     "name": "stdout",
     "output_type": "stream",
     "text": [
      "2024-03-31 19:59:52 [INFO] root - Evaluating model for snr: -15\n"
     ]
    },
    {
     "name": "stderr",
     "output_type": "stream",
     "text": [
      "C:\\Users\\Maor\\AppData\\Local\\Temp\\ipykernel_31128\\3015226362.py:56: ComplexWarning: Casting complex values to real discards the imaginary part\n",
      "  time_domain_signal = time_domain_signal.astype(np.float32)\n"
     ]
    },
    {
     "name": "stdout",
     "output_type": "stream",
     "text": [
      "2024-03-31 20:00:27 [INFO] root - Evaluating model for snr: -10\n",
      "2024-03-31 20:01:00 [INFO] root - Evaluating model for snr: -5\n",
      "2024-03-31 20:01:39 [INFO] root - Evaluating model for snr: 0\n",
      "2024-03-31 20:02:13 [INFO] root - Evaluating model for snr: 5\n",
      "2024-03-31 20:02:48 [INFO] root - Evaluating model for snr: 10\n",
      "2024-03-31 20:03:23 [INFO] root - Evaluating model for snr: 15\n"
     ]
    }
   ],
   "execution_count": 153
  },
  {
   "metadata": {
    "ExecuteTime": {
     "end_time": "2024-03-31T17:08:00.372136Z",
     "start_time": "2024-03-31T17:08:00.283066Z"
    }
   },
   "cell_type": "code",
   "source": [
    "plt.plot(snrs, ious, color='blue')\n",
    "plt.scatter(snrs, ious, marker='x', color='red')\n",
    "plt.xlabel('SNR')\n",
    "plt.ylabel('IoU-x Loss')\n",
    "plt.title('Faster-RCNN IoU-x Loss vs SNR')\n",
    "plt.ylim(0, 0.5)\n",
    "plt.show()"
   ],
   "id": "9caccb4cf349e5f0",
   "outputs": [
    {
     "data": {
      "text/plain": [
       "<Figure size 640x480 with 1 Axes>"
      ],
      "image/png": "[encoded data removed]"
     },
     "metadata": {},
     "output_type": "display_data"
    }
   ],
   "execution_count": 159
  },
  {
   "metadata": {},
   "cell_type": "markdown",
   "source": [
    "# Demo\n",
    "Example on how we can use both models - one for decoding the morse information, and the other for detecting morse in the frame"
   ],
   "id": "69f8abd3fd332155"
  },
  {
   "metadata": {},
   "cell_type": "markdown",
   "source": "## Utils",
   "id": "e156d6428a35225b"
  },
  {
   "metadata": {
    "ExecuteTime": {
     "end_time": "2024-04-02T07:15:41.760569Z",
     "start_time": "2024-04-02T07:15:41.744693Z"
    }
   },
   "cell_type": "code",
   "source": [
    "def plot_decode_detect(img, boxes, scores, labels, dataset, original_str, predicted_str):\n",
    "    '''\n",
    "    Function that draws the BBoxes, scores, and labels on the image.\n",
    "\n",
    "    inputs:\n",
    "      img: input-image as numpy.array (shape: [H, W, C])\n",
    "      boxes: list of bounding boxes (Format [N, 4] => N times [xmin, ymin, xmax, ymax])\n",
    "      scores: list of conf-scores (Format [N] => N times confidence-score between 0 and 1)\n",
    "      labels: list of class-prediction (Format [N] => N times an number between 0 and _num_classes-1)\n",
    "      dataset: list of all classes [\"background\", \"morse\"] => Format [N_classes]\n",
    "    '''\n",
    "    # Preprocessing\n",
    "    img = img.permute(1,2,0).numpy()\n",
    "    img = np.squeeze(img, axis=-1)\n",
    "    class_labels = np.array(dataset)\n",
    "\n",
    "    # Plotting\n",
    "    fig, ax = plt.subplots(1, figsize=(16, 8))\n",
    "    plt.pcolormesh(img)\n",
    "    for i, box in enumerate(boxes):\n",
    "        # box[1] += 1\n",
    "        # box[3] += 1\n",
    "        \n",
    "        # BBX\n",
    "        class_pred = labels[i]\n",
    "        conf = scores[i]\n",
    "        rect = patches.Rectangle(\n",
    "            (box[0], box[1]),\n",
    "            box[2]-box[0],\n",
    "            box[3]-box[1],\n",
    "            linewidth=4,\n",
    "            edgecolor='red',\n",
    "            facecolor=\"none\",\n",
    "        )\n",
    "        ax.add_patch(rect)\n",
    "\n",
    "        # Add vertical lines\n",
    "        ax.axvline(x=box[0], color='r', linestyle='--', linewidth=3, alpha=0.5)\n",
    "        ax.axvline(x=box[2], color='r', linestyle='--', linewidth=3, alpha=0.5)\n",
    "\n",
    "        # Add the label\n",
    "        plt.text(\n",
    "            box[0], box[1],\n",
    "            s='predicted <' + predicted_str + '> ' + class_labels[int(class_pred)] + \" \" + str(int(100*conf)) + \"%\",\n",
    "            color=\"white\",\n",
    "            fontsize=14,\n",
    "            verticalalignment=\"top\",\n",
    "            bbox={\"color\": 'red', \"pad\": 0},\n",
    "        )\n",
    "        plt.text(\n",
    "            box[0], box[3],\n",
    "            s='target <' + original_str + '>',\n",
    "            color=\"white\",\n",
    "            fontsize=14,\n",
    "            verticalalignment=\"bottom\",\n",
    "            bbox={\"color\": 'darkred', \"pad\": 0},\n",
    "        )\n",
    "\n",
    "    plt.show()\n",
    "    \n",
    "    \n",
    "def spec_to_lstm(spec):\n",
    "    spec_ = torch.from_numpy(spec)\n",
    "    spec_ = spec_.permute(1, 0)\n",
    "    return spec_"
   ],
   "id": "4b8952c7a2a2d663",
   "outputs": [],
   "execution_count": 93
  },
  {
   "metadata": {},
   "cell_type": "markdown",
   "source": "## init models",
   "id": "84a1dc7f9e86b088"
  },
  {
   "metadata": {
    "ExecuteTime": {
     "end_time": "2024-04-02T07:27:34.779397Z",
     "start_time": "2024-04-02T07:27:33.141081Z"
    }
   },
   "cell_type": "code",
   "source": [
    "device = torch.device('cuda') if torch.cuda.is_available() else torch.device('cpu')\n",
    "\n",
    "# init decoder\n",
    "run_date = '2024-03-26_01-45-23'\n",
    "# run_date = '2024-03-31_23-29-30'\n",
    "epoch = 3950\n",
    "spectrogram_size = generate_morse_sample(sr=2000)[1].shape[0]\n",
    "model_lstm = LSTMRnn(num_tags, spectrogram_size).to(device)\n",
    "model_lstm.load_state_dict(torch.load(f\"models/{run_date}_{epoch:06}.pt\", map_location=device))\n",
    "model_lstm.eval()\n",
    "print(f\"models/{run_date}_{epoch:06}.pt\")\n",
    "\n",
    "# init detector\n",
    "labels = ['background', 'morse']\n",
    "num_classes = len(labels)\n",
    "model_resnet = torchvision.models.detection.fasterrcnn_resnet50_fpn(min_size=50, max_size=550) # 1 up to 9 morse chars max img size is ~550\n",
    "in_features = model_resnet.roi_heads.box_predictor.cls_score.in_features\n",
    "model_resnet.roi_heads.box_predictor = FastRCNNPredictor(in_features, num_classes)\n",
    "\n",
    "checkpoint_files = [f for f in os.listdir(OUTPUT_DIR) if f.endswith('.pth')]\n",
    "checkpoint_files.sort()\n",
    "latest_checkpoint = os.path.join(OUTPUT_DIR, checkpoint_files[-1])\n",
    "checkpoint = torch.load(latest_checkpoint)\n",
    "model_resnet.load_state_dict(checkpoint['model_state_dict'])\n",
    "optimizer.load_state_dict(checkpoint['optimizer_state_dict'])\n",
    "model_resnet.to(device)\n",
    "print(latest_checkpoint)"
   ],
   "id": "ce0194c92c3f0720",
   "outputs": [
    {
     "name": "stdout",
     "output_type": "stream",
     "text": [
      "models/2024-03-26_01-45-23_003950.pt\n",
      "faster_rnn_outputs\\epoch_541_model.pth\n"
     ]
    }
   ],
   "execution_count": 212
  },
  {
   "metadata": {},
   "cell_type": "markdown",
   "source": "## Generate, Decode & Detect",
   "id": "aa38c0ff364a0326"
  },
  {
   "metadata": {
    "ExecuteTime": {
     "end_time": "2024-04-02T08:20:29.623661Z",
     "start_time": "2024-04-02T08:20:29.256124Z"
    }
   },
   "cell_type": "code",
   "source": [
    "# Params\n",
    "# ----------------------------------------------------------------\n",
    "sr = 2000\n",
    "length = random.randrange(1, 7)\n",
    "pitch = 950 # random.randint(2, 19) * 50\n",
    "wpm = 18\n",
    "snrDB = random.randrange(-5, 10)\n",
    "amplitude = random.randrange(100, 300)\n",
    "\n",
    "# Generate random morse sample\n",
    "# ----------------------------------------------------------------\n",
    "time_domain_signal, spec, target_str, bbx = generate_morse_sample(sr, length, pitch, wpm, -5, amplitude, \"TAL\")\n",
    "log.info(f\"pitch: {pitch}, wpm: {wpm}, snrDB: {snrDB}, amplitude: {amplitude}, str: {target_str}, bbx: {bbx}\")\n",
    "\n",
    "# Decode\n",
    "# ----------------------------------------------------------------\n",
    "spec_lstm = torch.from_numpy(spec).permute(1, 0).unsqueeze(0).to(device) # preprocess for lstm\n",
    "with torch.no_grad():\n",
    "    y_pred_lstm = model_lstm(spec_lstm)\n",
    "predicted_str = prediction_to_str(torch.argmax(y_pred_lstm[0], 1))\n",
    "\n",
    "# Detect\n",
    "# ----------------------------------------------------------------\n",
    "spec_frnn = spectrum_to_img(spec) # preprocess for faster-rcnn\n",
    "with torch.no_grad():\n",
    "    bbx, scores, labels = inference(spec_frnn, model_resnet)\n",
    "\n",
    "# Plot\n",
    "# ----------------------------------------------------------------\n",
    "plot_decode_detect(spec_frnn.cpu(), bbx, scores, labels, ['background', 'morse'], predicted_str, target_str)"
   ],
   "id": "9d19f466ac555aeb",
   "outputs": [
    {
     "name": "stdout",
     "output_type": "stream",
     "text": [
      "2024-04-02 11:20:29 [INFO] root - pitch: 950, wpm: 18, snrDB: 9, amplitude: 245, str: TAL, bbx: (17, 19, 90, 20)\n"
     ]
    },
    {
     "data": {
      "text/plain": [
       "<Figure size 1600x800 with 1 Axes>"
      ],
      "image/png": "[encoded data removed]"
     },
     "metadata": {},
     "output_type": "display_data"
    }
   ],
   "execution_count": 222
  },
  {
   "cell_type": "markdown",
   "source": [
    "# Other stuff"
   ],
   "metadata": {
    "collapsed": false
   },
   "id": "698541de514af309"
  },
  {
   "cell_type": "markdown",
   "source": [
    "## For Kaggle \\ Colab"
   ],
   "metadata": {
    "collapsed": false
   },
   "id": "b90baecc2402ec10"
  },
  {
   "cell_type": "code",
   "execution_count": null,
   "outputs": [],
   "source": [
    "# Free space in Kaggle\n",
    "import os\n",
    "\n",
    "for the_file in os.listdir('/kaggle/working/faster_rnn_outputs'):\n",
    "    if the_file != 'epoch_50_model.pth' and the_file != 'loss_dict.pkl':\n",
    "        os.unlink(os.path.join('/kaggle/working/faster_rnn_outputs', the_file))"
   ],
   "metadata": {
    "collapsed": false
   },
   "id": "ae20e115c25e725"
  },
  {
   "cell_type": "code",
   "execution_count": null,
   "outputs": [],
   "source": [
    "# Move files from input to output in Kaggle\n",
    "import shutil\n",
    "\n",
    "src_path = r\"/kaggle/input/faster-rnn-epoch-50/epoch_50_model.pth\"\n",
    "dst_path = r\"/kaggle/working/faster_rnn_outputs/\"\n",
    "\n",
    "shutil.copy(src_path, dst_path)\n",
    "print('Copied')"
   ],
   "metadata": {
    "collapsed": false
   },
   "id": "bb13f732a9fb4c82"
  },
  {
   "cell_type": "code",
   "execution_count": 14,
   "outputs": [],
   "source": [
    "# Mount google drive in Colab\n",
    "from google.colab import drive\n",
    "\n",
    "drive.mount('/content/drive')"
   ],
   "metadata": {
    "collapsed": false,
    "ExecuteTime": {
     "end_time": "2024-03-29T21:34:43.177849800Z",
     "start_time": "2024-03-29T21:34:42.909033600Z"
    }
   },
   "id": "2518f9aee3cf0922"
  }
 ]
}
