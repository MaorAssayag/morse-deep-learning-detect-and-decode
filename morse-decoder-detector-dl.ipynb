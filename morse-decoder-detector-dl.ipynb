{
 "metadata": {
  "kernelspec": {
   "name": "python3",
   "display_name": "Python 3",
   "language": "python"
  },
  "language_info": {
   "name": "python",
   "version": "3.10.13",
   "mimetype": "text/x-python",
   "codemirror_mode": {
    "name": "ipython",
    "version": 3
   },
   "pygments_lexer": "ipython3",
   "nbconvert_exporter": "python",
   "file_extension": ".py"
  },
  "colab": {
   "provenance": [],
   "gpuType": "T4",
   "toc_visible": true
  },
  "accelerator": "GPU",
  "kaggle": {
   "accelerator": "gpu",
   "dataSources": [
    {
     "sourceId": 7969221,
     "sourceType": "datasetVersion",
     "datasetId": 4689038
    }
   ],
   "dockerImageVersionId": 30674,
   "isInternetEnabled": true,
   "language": "python",
   "sourceType": "notebook",
   "isGpuEnabled": true
  }
 },
 "nbformat_minor": 5,
 "nbformat": 4,
 "cells": [
  {
   "metadata": {},
   "cell_type": "markdown",
   "source": "![](assets/demo_output_cropped.png) ",
   "id": "eec962f53602f4a9"
  },
  {
   "cell_type": "markdown",
   "source": [
    "# ECE 046211 - Technion - Deep Learning\n",
    "\n",
    "## Project - DSP in Deep Learning – CW (carrier wave) Detector + Decoder"
   ],
   "metadata": {
    "collapsed": false
   },
   "id": "2133a2c652acd009"
  },
  {
   "cell_type": "markdown",
   "source": [
    "<img src=\"https://img.icons8.com/bubbles/50/000000/upload-to-cloud.png\" style=\"height:50px;display:inline\">\n",
    "\n",
    "### Summary\n",
    "\n",
    "---\n",
    "* **General**\n",
    "    * Implementation in pytorch\n",
    "    * Digital signal processing from scratch\n",
    "    * Generating training samples (morse signals -> spectrogram) on-the-fly with various hyperparameters\n",
    "    * Morse signals varies in **pitch** (main frequency), **length** (number of chars), **signal amplitude**, noise amplitude (**SNR** [dB]), morse **dit\\dah length**\n",
    "    * Used **TensorBoard** for local training tracking\n",
    "    \n",
    "* **Part 1: LSTM-RNN morse decoder**\n",
    "    * input: spectrogram [shape: (dynamic, 21)] + target string, output: string\n",
    "    * Model size: 740,395 parameters\n",
    "    * trained on ~50,000,000 morse chars\n",
    "    * Average CER (Character Error Rate) <2% on SNR above -5dB\n",
    "    * loss function: CTCLoss\n",
    "        * The Connectionist Temporal Classification loss. Calculates loss between a continuous (unsegmented) time series and a target sequence.\n",
    "    * Train loss: 0.15\n",
    "    * Fixed vs Dynamic pitch (main frequency) - Model training on fixed frequency performed better in evaluation\n",
    "       \n",
    "* **Part 2: FASTER RCNN (resnet50) morse object detection**\n",
    "    * input: spectrogram [shape: (dynamic, 21)] , output: bounding box, scores, labels\n",
    "    * Bounding box prediction\n",
    "    * Trained on ~1,000,000 spectrogram's\n",
    "    * Model size:\n",
    "        * Total number of parameters: 41,299,161\n",
    "        * Number of trainable parameters: 41,076,761\n",
    "    * Accuracy: IoU-x axis 97%\n",
    "    * loss function: [RPN Loss Function](https://towardsdatascience.com/review-faster-r-cnn-object-detection-f5685cb30202), combines:\n",
    "        * classification loss over 2 classes\n",
    "        * regression loss of bounding boxes\n",
    "    * Train loss: 0.12, Validation loss: 0.3  "
   ],
   "metadata": {
    "collapsed": false
   },
   "id": "702007b2bcf0c8c1"
  },
  {
   "cell_type": "markdown",
   "source": [
    "<img src=\"https://img.icons8.com/bubbles/50/000000/information.png\" style=\"height:50px;display:inline\">\n",
    "\n",
    "### Morse Code\n",
    "\n",
    "---\n",
    "\n",
    "Morse code is a method of transmitting text information using a series of short and long signals, called \"dits\" and \"dahs\" respectively. The basic unit of time measurement in Morse code is the \"dit,\" and the \"dah\" is equal to three dits in duration. The spacing between dits and dahs within a character is equal to one dit. The spacing between characters within a word is equal to three dits, and the spacing between words is equal to seven dits.\n",
    "\n",
    "Here's an image that illustrates the structure of Morse code:\n",
    "\n",
    "<img src=\"assets/International_Morse_Code.png\" style=\"height: 200px;\"/>\n",
    "\n",
    "The image shows the relative timing of dits, dahs, and the spacing between them. As you can see, a \"dah\" is three times longer than a \"dit,\" and the spacing within a character is one dit, between characters is three dits, and between words is seven dits.\n",
    "\n",
    "For example, the letter \"A\" is represented by \".-\" in Morse code, which corresponds to a dit (left) followed by a dah (right). The letter \"Q\" is represented by \"--.-\", which corresponds to two dahs (right, right), a dit (left), and a dah (right)."
   ],
   "metadata": {
    "collapsed": false
   },
   "id": "ec9902b7e0ed1bff"
  },
  {
   "cell_type": "markdown",
   "source": [
    "# Imports"
   ],
   "metadata": {
    "id": "54d4435245ddac68"
   },
   "id": "2e74b85322dde4cf"
  },
  {
   "cell_type": "code",
   "source": [
    "import numpy as np\n",
    "from scipy.io import wavfile\n",
    "from IPython.display import Audio\n",
    "import logging\n",
    "import sys\n",
    "from scipy import signal\n",
    "import torch\n",
    "import os\n",
    "from torch.utils.tensorboard import SummaryWriter\n",
    "import torch.nn as nn\n",
    "import torch.nn.functional as F\n",
    "import torch.optim as optim\n",
    "from torch.utils import data\n",
    "from itertools import groupby\n",
    "# !pip install Levenshtein # uncomment in Colab\n",
    "from Levenshtein import distance\n",
    "import matplotlib.patches as patches\n",
    "import torchvision\n",
    "from torchvision.models.detection.faster_rcnn import FastRCNNPredictor\n",
    "from tqdm import tqdm\n",
    "from matplotlib import pyplot as plt\n",
    "import pickle\n",
    "import random\n",
    "import warnings\n",
    "\n",
    "# Configs\n",
    "logging.basicConfig(\n",
    "    format='%(asctime)s [%(levelname)s] %(name)s - %(message)s',\n",
    "    level=logging.DEBUG,\n",
    "    datefmt='%Y-%m-%d %H:%M:%S',\n",
    "    stream=sys.stdout,\n",
    ")\n",
    "log = logging.getLogger('')\n",
    "logging.getLogger(\"matplotlib\").setLevel(logging.INFO)\n",
    "logging.getLogger(\"librosa\").setLevel(logging.INFO)\n",
    "warnings.filterwarnings(\"ignore\", message=\".*complex*\")\n",
    "\n",
    "%load_ext tensorboard"
   ],
   "metadata": {
    "id": "98c30cc252db74b0",
    "execution": {
     "iopub.status.busy": "2024-03-28T20:20:14.656648Z",
     "iopub.execute_input": "2024-03-28T20:20:14.657601Z",
     "iopub.status.idle": "2024-03-28T20:20:14.671189Z",
     "shell.execute_reply.started": "2024-03-28T20:20:14.657564Z",
     "shell.execute_reply": "2024-03-28T20:20:14.670322Z"
    },
    "trusted": true,
    "ExecuteTime": {
     "end_time": "2024-04-02T07:02:23.338707Z",
     "start_time": "2024-04-02T07:02:07.359675Z"
    }
   },
   "id": "c2dd0c1c27e8e1d1",
   "outputs": [],
   "execution_count": 1
  },
  {
   "metadata": {},
   "cell_type": "code",
   "outputs": [],
   "execution_count": null,
   "source": "",
   "id": "24a52dd5e6caf2d1"
  },
  {
   "metadata": {
    "ExecuteTime": {
     "end_time": "2024-04-10T10:22:20.289945Z",
     "start_time": "2024-04-10T10:22:20.266938Z"
    }
   },
   "cell_type": "code",
   "source": [
    "from torchmetrics.text import CharErrorRate\n",
    "preds = [\"bright\"]\n",
    "target = [\"buy_it\"]\n",
    "cer = CharErrorRate()\n",
    "cer(preds, target)"
   ],
   "id": "ac997bbcf92a8cde",
   "outputs": [
    {
     "data": {
      "text/plain": [
       "tensor(0.6667)"
      ]
     },
     "execution_count": 4,
     "metadata": {},
     "output_type": "execute_result"
    }
   ],
   "execution_count": 4
  },
  {
   "cell_type": "markdown",
   "source": [
    "# Morse"
   ],
   "metadata": {
    "id": "f927a219b95d36a6"
   },
   "id": "e5b015734e36f24f"
  },
  {
   "cell_type": "markdown",
   "source": [
    "## Morse Utils"
   ],
   "metadata": {
    "id": "77db0b15a2d56e44"
   },
   "id": "f6beae8cce1ac2c0"
  },
  {
   "cell_type": "code",
   "source": [
    "MORSE_CODE_DICT = {\n",
    "    'A': '.-',\n",
    "    'B': '-...',\n",
    "    'C': '-.-.', \n",
    "    'D': '-..',\n",
    "    'E': '.',\n",
    "    'F': '..-.',\n",
    "    'G': '--.',\n",
    "    'H': '....',\n",
    "    'I': '..',\n",
    "    'J': '.---',\n",
    "    'K': '-.-',\n",
    "    'L': '.-..',\n",
    "    'M': '--',\n",
    "    'N': '-.',\n",
    "    'O': '---',\n",
    "    'P': '.--.',\n",
    "    'Q': '--.-',\n",
    "    'R': '.-.',\n",
    "    'S': '...',\n",
    "    'T': '-',\n",
    "    'U': '..-',\n",
    "    'V': '...-',\n",
    "    'W': '.--',\n",
    "    'X': '-..-',\n",
    "    'Y': '-.--',\n",
    "    'Z': '--..',\n",
    "    '1': '.----',\n",
    "    '2': '..---',\n",
    "    '3': '...--',\n",
    "    '4': '....-',\n",
    "    '5': '.....',\n",
    "    '6': '-....',\n",
    "    '7': '--...',\n",
    "    '8': '---..',\n",
    "    '9': '----.',\n",
    "    '0': '-----',\n",
    "    '.': '.-.-.-',\n",
    "    ',': '--..--',\n",
    "    '?': '..--..',\n",
    "    '=': '-...-',\n",
    "    '+': '.-.-.',\n",
    "}\n",
    "ALPHABET = \" \" + \"\".join(MORSE_CODE_DICT.keys())\n",
    "num_tags = len(ALPHABET)\n",
    "sr = 2000 # sample rate, affect spectrum size\n",
    "\n",
    "def get_spectrogram(samples, sr):\n",
    "    \"\"\"\n",
    "    Calculate the spectrogram of a time series signal with sample rate sr\n",
    "    :param samples: time domain signal\n",
    "    :param sr: sample rate\n",
    "    :return: \n",
    "    \"\"\"\n",
    "    _, _, sxx = signal.spectrogram(samples, nperseg=int(0.02 * sr) , noverlap=0)\n",
    "    return sxx\n",
    "\n",
    "\n",
    "def aggregate_cer(prev_cer, prev_total_chars, y, y_pred):\n",
    "    \"\"\"\n",
    "    Calculate new CER (Character Error Rate) given previous CER and new data points [y, y_pred]\n",
    "    :param prev_cer: previous CER, from .0 to 1.0\n",
    "    :param prev_total_chars: total chars (int)\n",
    "    :param y: series of chars (tokens)\n",
    "    :param y_pred: target chars\n",
    "    :return: new CER\n",
    "    \"\"\"\n",
    "    new_cer = prev_cer\n",
    "    new_total_chars = prev_total_chars\n",
    "\n",
    "    for i in range(len(y)):\n",
    "        a = prediction_to_str(y[i])\n",
    "        b = prediction_to_str(torch.argmax(y_pred[i], 1))\n",
    "        new_cer = calculate_levenshtein_distance(new_cer, new_total_chars, a, b)\n",
    "        new_total_chars += max(len(a), len(b))\n",
    "\n",
    "    return new_cer, new_total_chars\n",
    "\n",
    "\n",
    "def calculate_levenshtein_distance(prev_cer, prev_total_chars, original, predicted):\n",
    "    \"\"\"\n",
    "    Calculate CER based on Levenshtein distance\n",
    "    :param prev_cer: 0.0 to 1.0\n",
    "    :param prev_total_chars: int\n",
    "    :param original: target string\n",
    "    :param predicted: predicted string\n",
    "    :return: \n",
    "    \"\"\"\n",
    "    d = distance(original, predicted)\n",
    "    new_total_chars = prev_total_chars + max(len(original), len(predicted))\n",
    "\n",
    "    return (prev_cer * prev_total_chars + d) / new_total_chars\n",
    "\n",
    "\n",
    "def calculate_cer(prev_cer, prev_total_chars, original, predicted):\n",
    "    \"\"\"\n",
    "    Computes the Character Error Rate (CER) between the original and predicted strings\n",
    "    :param prev_cer: \n",
    "    :param prev_total_chars: \n",
    "    :param original: \n",
    "    :param predicted: \n",
    "    :return: new CER\n",
    "    \"\"\"\n",
    "    # Convert strings to lists of characters\n",
    "    original_chars = list(original)\n",
    "    predicted_chars = list(predicted)\n",
    "\n",
    "    # Get the length of the longer string\n",
    "    max_length = max(len(original_chars), len(predicted_chars))\n",
    "\n",
    "    # Initialize counters\n",
    "    errors = 0\n",
    "\n",
    "    # Iterate over the characters and count errors\n",
    "    for i in range(max_length):\n",
    "        try:\n",
    "            if original_chars[i] != predicted_chars[i]:\n",
    "                errors += 1\n",
    "        except IndexError:\n",
    "            # If the string is shorter, consider the remaining characters as errors\n",
    "            errors += 1\n",
    "\n",
    "    if errors > 0:\n",
    "        log.error(original, predicted, errors)\n",
    "\n",
    "    return (prev_cer * prev_total_chars + errors) / (prev_total_chars + max_length)\n",
    "\n",
    "def find_one_first_element(ndarrays):\n",
    "    \"\"\"\n",
    "    Find the first and last array that contains ones (bounding the activity in a spectrogram)\n",
    "    :param ndarrays: spectrogram\n",
    "    :return: \n",
    "    \"\"\"\n",
    "    first_index = -1\n",
    "    last_index = -1\n",
    "    for i, arr in enumerate(ndarrays):\n",
    "        if arr[0] == 1:\n",
    "            if first_index == -1:\n",
    "                first_index = i\n",
    "            last_index = i\n",
    "    return first_index, last_index\n",
    "\n",
    "\n",
    "def accumulated_length(array_list, start_index, end_index):\n",
    "    \"\"\"\n",
    "    Given a list of time-series values (represents morse chars), return the accumulated length in the time domain\n",
    "    :param array_list: \n",
    "    :param start_index: \n",
    "    :param end_index: \n",
    "    :return: \n",
    "    \"\"\"\n",
    "    acc_length_start = 0\n",
    "    for i in range(start_index):\n",
    "        acc_length_start += len(array_list[i])\n",
    "\n",
    "    acc_length_end = acc_length_start\n",
    "    for i in range(start_index, end_index + 1):\n",
    "        acc_length_end += len(array_list[i])\n",
    "\n",
    "    return acc_length_start, acc_length_end\n",
    "\n",
    "\n",
    "def get_signal_bbx(signal_array, spec_time_len, signal_len, pitch):\n",
    "    \"\"\"\n",
    "    Get signal boundary box\n",
    "    :param signal_array:\n",
    "    :param spec_time_len:\n",
    "    :param signal_len:\n",
    "    :return: x_start, y_start, x_end, y_end\n",
    "    \"\"\"\n",
    "    activity_array_start_idx, activity_array_end_idx = find_one_first_element(signal_array)\n",
    "    time_domain_start_idx, time_domain_end_idx = accumulated_length(signal_array, activity_array_start_idx,\n",
    "                                                                    activity_array_end_idx)\n",
    "    alpha = signal_len // spec_time_len\n",
    "    bbx_idx_start_x = time_domain_start_idx // alpha\n",
    "    bbx_idx_end_x = time_domain_end_idx // alpha\n",
    "\n",
    "    main_freq_idx = pitch*2 // 100\n",
    "    return bbx_idx_start_x, main_freq_idx, bbx_idx_end_x, main_freq_idx+1\n",
    "\n",
    "\n",
    "def apply_noise_to_signal(signal, SNRdb):\n",
    "    \"\"\"\n",
    "    Apply noise to signal\n",
    "    :param signal: \n",
    "    :param SNRdb: specific SNR (Signal to Noise ratio)\n",
    "    :return: \n",
    "    \"\"\"\n",
    "    signal_power = np.mean(abs(signal ** 2))\n",
    "    sigma2 = signal_power * 10 ** (-SNRdb / 10)  # calculate noise power based on signal power and SNR\n",
    "    noise = np.sqrt(sigma2 / 2) * (np.random.randn(*signal.shape) + 1j * np.random.randn(*signal.shape))\n",
    "    return signal + noise\n",
    "\n",
    "def get_dot(ref, apply_random_length_dots):\n",
    "    if apply_random_length_dots:\n",
    "        scale = np.clip(np.random.normal(1, 0.2), 0.5, 2.0)\n",
    "        return int(ref * scale)\n",
    "    else:\n",
    "        return int(ref)\n",
    "\n",
    "def get_dash(ref, apply_random_length_dots):\n",
    "    if apply_random_length_dots:\n",
    "        scale = np.clip(np.random.normal(1, 0.2), 0.5, 2.0)\n",
    "        return int(3 * ref * scale)\n",
    "    else:\n",
    "        return int(3 * ref)\n"
   ],
   "metadata": {
    "id": "a6b6140ecf98869d",
    "execution": {
     "iopub.status.busy": "2024-03-28T22:59:41.849626Z",
     "iopub.execute_input": "2024-03-28T22:59:41.850500Z",
     "iopub.status.idle": "2024-03-28T22:59:41.872340Z",
     "shell.execute_reply.started": "2024-03-28T22:59:41.850470Z",
     "shell.execute_reply": "2024-03-28T22:59:41.871411Z"
    },
    "trusted": true,
    "ExecuteTime": {
     "end_time": "2024-04-02T07:02:41.448155Z",
     "start_time": "2024-04-02T07:02:41.413336Z"
    }
   },
   "id": "c63ab2923004d52",
   "outputs": [],
   "execution_count": 3
  },
  {
   "cell_type": "markdown",
   "source": [
    "## Morse Generator"
   ],
   "metadata": {
    "id": "3975c073629dba46"
   },
   "id": "969687db1be978b0"
  },
  {
   "cell_type": "code",
   "source": [
    "def generate_morse_sample(sr=2000, text_len=10, pitch=950, wpm=18, snrDB=1, amplitude=100, s=None, apply_random_length_dots = True):\n",
    "    \"\"\"\n",
    "    Generate morse sample\n",
    "    :param apply_random_length_dots: \n",
    "    :param sr: \n",
    "    :param text_len: \n",
    "    :param pitch: \n",
    "    :param wpm: \n",
    "    :param snrDB: \n",
    "    :param amplitude: \n",
    "    :param s: specific string\n",
    "    :return: <time domain signal, frequency domain spectrogram, morse string, spectrogram bounding box>\n",
    "    \"\"\"\n",
    "    assert pitch < sr / 2  # Nyquist\n",
    "\n",
    "    # Common morse spacing [https://en.wikipedia.org/wiki/Morse_code]\n",
    "    ref = (60 / wpm) / 50 * sr\n",
    "\n",
    "    # Create random string that doesn't start or end with a space\n",
    "    if s is None:\n",
    "        s1 = ''.join(random.choices(ALPHABET, k=text_len - 2))\n",
    "        s2 = ''.join(random.choices(ALPHABET[1:], k=2))\n",
    "        s = s2[0] + s1 + s2[1]\n",
    "\n",
    "    time_domain_signal = []\n",
    "    time_domain_signal.append(np.zeros(5 * get_dot(ref, apply_random_length_dots)))\n",
    "\n",
    "    # dat\\dit space = 1 dot, char space = 3 dots, word space = 7 dots\n",
    "    for c in s:\n",
    "        if c == ' ':\n",
    "            time_domain_signal.append(np.zeros(7 * get_dot(ref, apply_random_length_dots)))\n",
    "        else:\n",
    "            for m in MORSE_CODE_DICT[c]:\n",
    "                if m == '.':\n",
    "                    time_domain_signal.append(np.ones(get_dot(ref, apply_random_length_dots)))\n",
    "                    time_domain_signal.append(np.zeros(get_dot(ref, apply_random_length_dots)))\n",
    "                elif m == '-':\n",
    "                    time_domain_signal.append(np.ones(get_dash(ref, apply_random_length_dots)))\n",
    "                    time_domain_signal.append(np.zeros(get_dot(ref,apply_random_length_dots)))\n",
    "\n",
    "            time_domain_signal.append(np.zeros(2 * get_dot(ref, apply_random_length_dots)))\n",
    "\n",
    "    time_domain_signal.append(np.zeros(5 * get_dot(ref, apply_random_length_dots)))\n",
    "    time_domain_signal_ = time_domain_signal.copy()\n",
    "    time_domain_signal = np.hstack(time_domain_signal)\n",
    "\n",
    "    # Modulation\n",
    "    t = np.arange(len(time_domain_signal)) / sr\n",
    "    sine = np.sin(2 * np.pi * t * pitch)\n",
    "    time_domain_signal = sine * time_domain_signal\n",
    "\n",
    "    # Add noise\n",
    "    time_domain_signal = apply_noise_to_signal(time_domain_signal, snrDB)\n",
    "    time_domain_signal *= amplitude / 100\n",
    "    time_domain_signal = np.clip(time_domain_signal, -1, 1)\n",
    "    time_domain_signal = time_domain_signal.astype(np.float32)\n",
    "\n",
    "    # calculate spectrum\n",
    "    spec = get_spectrogram(time_domain_signal, sr=sr)\n",
    "\n",
    "    # calculate spec boundaries\n",
    "    bbx = get_signal_bbx(time_domain_signal_, spec.shape[1], len(time_domain_signal), pitch)\n",
    "\n",
    "    return time_domain_signal, spec, s, bbx"
   ],
   "metadata": {
    "id": "7a24cbc9a2fe62a8",
    "execution": {
     "iopub.status.busy": "2024-03-28T22:57:46.134626Z",
     "iopub.execute_input": "2024-03-28T22:57:46.135262Z",
     "iopub.status.idle": "2024-03-28T22:57:46.150745Z",
     "shell.execute_reply.started": "2024-03-28T22:57:46.135230Z",
     "shell.execute_reply": "2024-03-28T22:57:46.149850Z"
    },
    "trusted": true,
    "ExecuteTime": {
     "end_time": "2024-04-02T07:02:46.359428Z",
     "start_time": "2024-04-02T07:02:46.335387Z"
    }
   },
   "id": "44a8ff173cb2e22f",
   "outputs": [],
   "execution_count": 4
  },
  {
   "cell_type": "markdown",
   "source": [
    "## Example generating 1 signal"
   ],
   "metadata": {
    "id": "84904b9ba97beea0"
   },
   "id": "53d914f5ad1ce270"
  },
  {
   "cell_type": "code",
   "source": [
    "# Params\n",
    "sr = 2000\n",
    "length = random.randrange(1, 8)\n",
    "pitch = random.randint(2, 19) * 50\n",
    "wpm = 18\n",
    "snrDB = random.randrange(-10, 10)\n",
    "amplitude = random.randrange(50, 200)\n",
    "\n",
    "time_domain_signal, spec, y, bbx = generate_morse_sample(sr, length, pitch, wpm, snrDB, amplitude, \"YOUTUBE\")\n",
    "log.info(f\"pitch: {pitch}, wpm: {wpm}, snrDB: {snrDB}, amplitude: {amplitude}, str: {y}, bbx: {bbx}\")\n",
    "\n",
    "# Display spectrogram\n",
    "min_value = np.min(spec)\n",
    "max_value = np.max(spec)\n",
    "normalized_spectrum = (spec - min_value) / (max_value - min_value)\n",
    "\n",
    "fig, ax = plt.subplots(1, figsize=(16, 8))\n",
    "plt.pcolormesh(normalized_spectrum)\n",
    "# rect = patches.Rectangle(\n",
    "#     (bbx[0], bbx[1]),\n",
    "#     bbx[2]-bbx[0],\n",
    "#     bbx[3]-bbx[1],\n",
    "#     linewidth=4,\n",
    "#     edgecolor='red',\n",
    "#     facecolor=\"none\",\n",
    "# )\n",
    "# # Add the patch to the Axes\n",
    "# ax.add_patch(rect)\n",
    "# plt.text(\n",
    "#     bbx[0], bbx[1],\n",
    "#     s=y + '| morse' + \" \" + str(int(100*1)) + \"%\",\n",
    "#     color=\"white\",\n",
    "#     fontsize=16,\n",
    "#     verticalalignment=\"top\",\n",
    "#     bbox={\"color\": 'red', \"pad\": 0},\n",
    "# )\n",
    "plt.show()\n",
    "\n",
    "# Save file\n",
    "filename = f'./assets/test.wav'\n",
    "time_domain_signal = np.int16(time_domain_signal / np.max(np.abs(time_domain_signal)) * 32000)\n",
    "wavfile.write(filename, sr, time_domain_signal)\n",
    "Audio(filename)"
   ],
   "metadata": {
    "colab": {
     "base_uri": "https://localhost:8080/",
     "height": 702
    },
    "id": "48d8e89e0790b22",
    "outputId": "713fde84-077e-4c26-d6e9-e9dcdfd18a6c",
    "execution": {
     "iopub.status.busy": "2024-03-28T21:38:02.621788Z",
     "iopub.execute_input": "2024-03-28T21:38:02.622877Z",
     "iopub.status.idle": "2024-03-28T21:38:02.852546Z",
     "shell.execute_reply.started": "2024-03-28T21:38:02.622834Z",
     "shell.execute_reply": "2024-03-28T21:38:02.851562Z"
    },
    "trusted": true,
    "ExecuteTime": {
     "end_time": "2024-04-02T13:29:10.238673Z",
     "start_time": "2024-04-02T13:29:10.110451Z"
    }
   },
   "id": "bec109a4c16e7b67",
   "outputs": [
    {
     "name": "stdout",
     "output_type": "stream",
     "text": [
      "2024-04-02 16:29:10 [INFO] root - pitch: 100, wpm: 18, snrDB: -7, amplitude: 187, str: YOUTUBE, bbx: (19, 2, 234, 3)\n"
     ]
    },
    {
     "data": {
      "text/plain": [
       "<Figure size 1600x800 with 1 Axes>"
      ],
      "image/png": "[encoded data removed]"
     },
     "metadata": {},
     "output_type": "display_data"
    },
    {
     "data": {
      "text/plain": [
       "<IPython.lib.display.Audio object>"
      ],
      "text/html": [
       "\n",
       "                <audio  controls=\"controls\" >\n",
       "                    <source src=\"data:audio/wav;base64,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\" type=\"audio/wav\" />\n",
       "                    Your browser does not support the audio element.\n",
       "                </audio>\n",
       "              "
      ]
     },
     "execution_count": 230,
     "metadata": {},
     "output_type": "execute_result"
    }
   ],
   "execution_count": 230
  },
  {
   "cell_type": "markdown",
   "source": [
    "# Models"
   ],
   "metadata": {
    "collapsed": false
   },
   "id": "cade18711f007db7"
  },
  {
   "cell_type": "markdown",
   "source": [
    "## Decoder: LSTM RNN\n",
    "\n",
    "Long Short-Term Memory (LSTM) is a type of Recurrent Neural Network (RNN) architecture that has been widely used for sequence-to-sequence tasks, such as machine translation, speech recognition, and, in our case, decoding Morse code from a spectrogram.\n",
    "\n",
    "**Spectrogram Representation**\n",
    "\n",
    "Before feeding the data into the LSTM, we need to represent the Morse code signal as a spectrogram. A spectrogram is a visual representation of the spectrum of frequencies in a signal as they vary with time. It is a 2D image-like representation, where the x-axis represents time, the y-axis represents frequency, and the intensity of each pixel represents the energy or amplitude of the signal at that particular time and frequency.\n",
    "\n",
    "**LSTM Architecture**\n",
    "\n",
    "The LSTM network is designed to process sequential data, such as the spectrogram representation of Morse code. It consists of a series of interconnected memory cells, which are capable of maintaining and updating their internal state over time. This allows the LSTM to selectively remember or forget information from previous time steps, making it well-suited for tasks that require long-term dependencies.\n",
    "\n",
    "Our LSTM architecture typically consists of the following components:\n",
    "\n",
    "1. **Input Layer**: This layer receives the input data, which in our case is the spectrogram of the Morse code signal.\n",
    "2. 3 More **Dense Layers**\n",
    "3. Dropuout Layer after most of the Dense Layers\n",
    "2. **LSTM Layer**: One LSTM layer to process the input sequence\n",
    "4. **Output Layer**: The final layer produces the predicted output sequence, which is the decoded text.\n",
    "\n",
    "**Training and Decoding**\n",
    "\n",
    "During training, the LSTM network is fed with pairs of spectrogram representations and their corresponding text transcriptions. The network learns to map the input spectrograms to the correct text sequences by adjusting its weights and biases through backpropagation and optimization algorithms like stochastic gradient descent.\n",
    "\n",
    "During decoding (inference), the trained LSTM model takes a new spectrogram as input and generates the predicted text sequence by iteratively processing the input and updating its internal state. Techniques like beam search or greedy decoding can be employed to find the most likely text sequence given the input spectrogram.\n",
    "\n",
    "**Advantages of LSTM for Morse Code Decoding**\n",
    "\n",
    "LSTM networks are well-suited for decoding Morse code from spectrograms due to the following reasons:\n",
    "\n",
    "1. **Sequence Processing**: LSTM can handle variable-length input sequences, making it suitable for processing Morse code signals of different durations.\n",
    "2. **Long-Term Dependencies**: LSTM can capture long-term dependencies in the input data, which is important for correctly decoding Morse code characters that may be separated by various timing gaps.\n",
    "3. **Robustness to Noise**: LSTM networks can learn to be robust to noise and variations in the input data, which is crucial for decoding Morse code signals that may be corrupted by environmental factors or imperfect transmission.\n",
    "\n",
    "Overall, the LSTM architecture, combined with the spectrogram representation of Morse code signals, provides a powerful and effective approach for decoding Morse code sequences from audio or radio signals.\n"
   ],
   "metadata": {
    "collapsed": false
   },
   "id": "8d59d51a8960dc70"
  },
  {
   "cell_type": "markdown",
   "source": [
    "### Tokenizer"
   ],
   "metadata": {
    "id": "c95f2cc5f7c41689"
   },
   "id": "b726325126356b6d"
  },
  {
   "cell_type": "code",
   "source": [
    "# 0: blank label\n",
    "tag_to_idx = {c: i + 1 for i, c in enumerate(ALPHABET)}\n",
    "idx_to_tag = {i + 1: c for i, c in enumerate(ALPHABET)}"
   ],
   "metadata": {
    "id": "f7aae072e7218ba4",
    "execution": {
     "iopub.status.busy": "2024-03-28T20:21:48.207236Z",
     "iopub.execute_input": "2024-03-28T20:21:48.207968Z",
     "iopub.status.idle": "2024-03-28T20:21:48.212709Z",
     "shell.execute_reply.started": "2024-03-28T20:21:48.207937Z",
     "shell.execute_reply": "2024-03-28T20:21:48.211659Z"
    },
    "trusted": true,
    "ExecuteTime": {
     "end_time": "2024-04-02T07:03:08.383451Z",
     "start_time": "2024-04-02T07:03:08.366910Z"
    }
   },
   "id": "b1d124518fa7e9fb",
   "outputs": [],
   "execution_count": 11
  },
  {
   "cell_type": "markdown",
   "source": [
    "### Utils"
   ],
   "metadata": {
    "id": "8f256aed3e7b1f67"
   },
   "id": "665344c1f576bc68"
  },
  {
   "cell_type": "code",
   "source": [
    "def prediction_to_str(seq):\n",
    "    \"\"\"\n",
    "    LSTM tokenize output to string\n",
    "    :param seq: \n",
    "    :return: predicted utf-8 string\n",
    "    \"\"\"\n",
    "    if not isinstance(seq, list):\n",
    "        seq = seq.tolist()\n",
    "\n",
    "    seq = [i[0] for i in groupby(seq)]  # remove duplicates\n",
    "    seq = [s for s in seq if s != 0]  # remove blanks\n",
    "    seq = \"\".join(idx_to_tag[c] for c in seq)  # convert to string\n",
    "    seq = seq.rstrip()\n",
    "\n",
    "    return seq\n",
    "\n",
    "\n",
    "def get_training_sample(*args, **kwargs):\n",
    "    \"\"\"\n",
    "    Generate training morse sample\n",
    "    :param args: \n",
    "    :param kwargs: \n",
    "    :return: <spectrogram, tokenized target string>\n",
    "    \"\"\"\n",
    "    _, spec, y, _ = generate_morse_sample(*args, **kwargs)\n",
    "\n",
    "    spec = torch.from_numpy(spec)\n",
    "    spec = spec.permute(1, 0)\n",
    "\n",
    "    y_tags = [tag_to_idx[c] for c in y]\n",
    "    y_tags = torch.tensor(y_tags)\n",
    "\n",
    "    return spec, y_tags\n",
    "\n",
    "\n",
    "def collate_fn_pad(batch):\n",
    "    \"\"\"\n",
    "    Batching helper\n",
    "    :param batch: \n",
    "    :return: \n",
    "    \"\"\"\n",
    "    xs, ys = zip(*batch)\n",
    "\n",
    "    input_lengths = torch.tensor([t.shape[0] for t in xs])\n",
    "    output_lengths = torch.tensor([t.shape[0] for t in ys])\n",
    "\n",
    "    seqs = nn.utils.rnn.pad_sequence(xs, batch_first=True)\n",
    "    ys = nn.utils.rnn.pad_sequence(ys, batch_first=True)\n",
    "\n",
    "    return input_lengths, output_lengths, seqs, ys"
   ],
   "metadata": {
    "id": "e03c2cc147b30235",
    "execution": {
     "iopub.status.busy": "2024-03-28T20:21:50.098168Z",
     "iopub.execute_input": "2024-03-28T20:21:50.098967Z",
     "iopub.status.idle": "2024-03-28T20:21:50.108282Z",
     "shell.execute_reply.started": "2024-03-28T20:21:50.098938Z",
     "shell.execute_reply": "2024-03-28T20:21:50.107434Z"
    },
    "trusted": true,
    "ExecuteTime": {
     "end_time": "2024-04-02T07:03:09.840571Z",
     "start_time": "2024-04-02T07:03:09.817305Z"
    }
   },
   "id": "7cdf80104e2bdcc0",
   "outputs": [],
   "execution_count": 12
  },
  {
   "cell_type": "markdown",
   "source": [
    "### Model Architecture"
   ],
   "metadata": {
    "id": "7ec79507a88b908f"
   },
   "id": "6f7476ffe1da8181"
  },
  {
   "cell_type": "code",
   "source": [
    "class LSTMRnn(nn.Module):\n",
    "    def __init__(self, num_tags, spectrogram_size):\n",
    "        super(LSTMRnn, self).__init__()\n",
    "\n",
    "        num_tags = num_tags + 1  # 0: blank\n",
    "        hidden_dim = 256\n",
    "        lstm_dim1 = 256\n",
    "\n",
    "        self.dense1 = nn.Linear(spectrogram_size, hidden_dim)\n",
    "        self.dropout1 = nn.Dropout(0.1)\n",
    "        self.dense2 = nn.Linear(hidden_dim, hidden_dim)\n",
    "        self.dense3 = nn.Linear(hidden_dim, hidden_dim)\n",
    "        self.dropout2 = nn.Dropout(0.1)\n",
    "        self.dense4 = nn.Linear(hidden_dim, lstm_dim1)\n",
    "        self.lstm1 = nn.LSTM(lstm_dim1, lstm_dim1, batch_first=True)\n",
    "        self.dense5 = nn.Linear(lstm_dim1, num_tags)\n",
    "\n",
    "    def forward(self, x):\n",
    "        x = F.relu(self.dense1(x))\n",
    "        x = self.dropout1(x)\n",
    "        x = F.relu(self.dense2(x))\n",
    "        x = self.dropout2(x)\n",
    "        x = F.relu(self.dense3(x))\n",
    "        x = F.relu(self.dense4(x))\n",
    "        x, _ = self.lstm1(x)\n",
    "        x = self.dense5(x)\n",
    "        x = F.log_softmax(x, dim=2)\n",
    "        return x\n",
    "\n",
    "    def count_parameters(self):\n",
    "        return sum(p.numel() for p in self.parameters() if p.requires_grad)"
   ],
   "metadata": {
    "id": "526e82f9d4e1ff38",
    "ExecuteTime": {
     "end_time": "2024-04-02T07:03:11.906318Z",
     "start_time": "2024-04-02T07:03:11.892296Z"
    }
   },
   "id": "ce36626e74536d5a",
   "outputs": [],
   "execution_count": 13
  },
  {
   "cell_type": "markdown",
   "source": [
    "### Dataset"
   ],
   "metadata": {
    "collapsed": false
   },
   "id": "ca4de58e1f6af71a"
  },
  {
   "cell_type": "code",
   "source": [
    "class Dataset(data.Dataset):\n",
    "    \"\"\"\n",
    "    Custom PyTorch dataset for lstm morse decoder task\n",
    "    Generates data samples in runtime\n",
    "    \"\"\"\n",
    "    def __init__(self, number_of_samples=2048, sr=2000, explicit_snr=None):\n",
    "        self.length = number_of_samples\n",
    "        self.sr = sr\n",
    "        self.explicit_snr = explicit_snr\n",
    "\n",
    "    def __len__(self):\n",
    "        return self.length\n",
    "\n",
    "    def __getitem__(self, index):\n",
    "        length = random.randrange(10, 20)  # 10,20\n",
    "        pitch = 950\n",
    "        wpm = 18\n",
    "        amplitude = random.randrange(50, 200)\n",
    "        if self.explicit_snr != None:\n",
    "            snrDB = self.explicit_snr\n",
    "        else:\n",
    "            snrDB = random.randrange(-10, 10)\n",
    "            \n",
    "        return get_training_sample(self.sr, length, pitch, wpm, snrDB, amplitude, None, None)"
   ],
   "metadata": {
    "collapsed": false,
    "ExecuteTime": {
     "end_time": "2024-04-01T06:35:37.384564Z",
     "start_time": "2024-04-01T06:35:37.380053Z"
    }
   },
   "id": "cbec4fc275815fb1",
   "outputs": [],
   "execution_count": 192
  },
  {
   "cell_type": "markdown",
   "source": [
    "### Training\n",
    "launch tensorboard with CLI\n",
    "tensorboard --logdir C:/Users/Maor/Desktop/dev/tensorboard/morse-dl/runs"
   ],
   "metadata": {
    "id": "b59204188012c80d"
   },
   "id": "840a60ba9c304866"
  },
  {
   "cell_type": "code",
   "source": [
    "tf_board_log_dir_path = \"C:/Users/Maor/Desktop/dev/tensorboard/morse-dl/runs\"  # path without hebrew unicode chars\n",
    "batch_size = 64\n",
    "spectrogram_size = generate_morse_sample(sr=2000)[1].shape[0]\n",
    "\n",
    "device = torch.device('cuda') if torch.cuda.is_available() else torch.device('cpu')\n",
    "writer = SummaryWriter(tf_board_log_dir_path)\n",
    "\n",
    "# Set up trainer & evaluator\n",
    "model = LSTMRnn(num_tags, spectrogram_size).to(device)\n",
    "log.info(\"Number of params\", model.count_parameters())\n",
    "\n",
    "# Lower learning rate to 1e-4 after about 1500 epochs\n",
    "optimizer = optim.Adam(model.parameters(), lr=0.001, betas=(0.9, 0.999))\n",
    "ctc_loss = nn.CTCLoss()\n",
    "\n",
    "train_loader = torch.utils.data.DataLoader(\n",
    "    Dataset(number_of_samples=2048),\n",
    "    batch_size=batch_size,\n",
    "    collate_fn=collate_fn_pad,\n",
    ")\n",
    "\n",
    "random.seed(0)\n",
    "\n",
    "# run_date = datetime.now().strftime(\"%Y-%m-%d_%H-%M-%S\")\n",
    "run_date = '2024-03-31_23-29-30'\n",
    "epoch = 1100\n",
    "epochs = epoch + 0\n",
    "losses = []\n",
    "\n",
    "# Resume training\n",
    "if epoch != 0:\n",
    "    model.load_state_dict(torch.load(f\"models/{run_date}_{epoch:06}.pt\", map_location=device))\n",
    "    # state_dict = torch.load(f\"models/{run_date}_{epoch:06}.pt\")\n",
    "    # model.dense1.weight = torch.nn.Parameter(state_dict[\"dense1.weight\"])\n",
    "    # model.dense1.bias = torch.nn.Parameter(state_dict[\"dense1.bias\"])\n",
    "    # model.dense2.weight = torch.nn.Parameter(state_dict[\"dense2.weight\"])\n",
    "    # model.dense2.bias = torch.nn.Parameter(state_dict[\"dense2.bias\"])\n",
    "    # model.dense3.weight = torch.nn.Parameter(state_dict[\"dense3.weight\"])\n",
    "    # model.dense3.bias = torch.nn.Parameter(state_dict[\"dense3.bias\"])\n",
    "    # model.dense4.weight = torch.nn.Parameter(state_dict[\"dense4.weight\"])\n",
    "    # model.dense4.bias = torch.nn.Parameter(state_dict[\"dense4.bias\"])\n",
    "    # model.dense5.weight = torch.nn.Parameter(state_dict[\"dense5.weight\"])\n",
    "    # model.dense5.bias = torch.nn.Parameter(state_dict[\"dense5.bias\"])\n",
    "    # model.lstm1.weight_ih_l0.data = torch.nn.Parameter(state_dict[\"lstm1.weight_ih_l0\"])\n",
    "    # model.lstm1.weight_hh_l0.data = torch.nn.Parameter(state_dict[\"lstm1.weight_hh_l0\"])\n",
    "    # model.lstm1.bias_ih_l0.data = torch.nn.Parameter(state_dict[\"lstm1.bias_ih_l0\"])\n",
    "    # model.lstm1.bias_hh_l0.data = torch.nn.Parameter(state_dict[\"lstm1.bias_hh_l0\"])\n",
    "    log.info(f'Model has been loaded from prev state of epoch: {epoch}')\n",
    "\n",
    "model.train()\n",
    "while epoch < epochs:\n",
    "    train_loss = 0\n",
    "    curr_cer = 1.0\n",
    "    total_chars = 0\n",
    "\n",
    "    for (input_lengths, output_lengths, x, y) in train_loader:\n",
    "        x, y = x.to(device), y.to(device)\n",
    "\n",
    "        optimizer.zero_grad()\n",
    "        # print(x.shape)\n",
    "        y_pred = model(x)\n",
    "\n",
    "        m = torch.argmax(y_pred[0], 1)\n",
    "        curr_cer, total_chars = aggregate_cer(curr_cer, total_chars, y, y_pred)\n",
    "        y_pred = y_pred.permute(1, 0, 2)\n",
    "\n",
    "        loss = ctc_loss(y_pred, y, input_lengths, output_lengths)\n",
    "        loss.backward()\n",
    "        optimizer.step()\n",
    "\n",
    "        train_loss += loss.item()\n",
    "\n",
    "    writer.add_scalar(f\"training/{run_date}_loss\", train_loss / len(train_loader), epoch)\n",
    "    writer.add_scalar(f\"training/{run_date}_lvstn\", curr_cer * 100, epoch)\n",
    "    if epoch % 10 == 0:\n",
    "        torch.save(model.state_dict(), f\"models/{run_date}_{epoch:06}.pt\")\n",
    "\n",
    "    losses.append(train_loss / len(train_loader))\n",
    "    log.info(\n",
    "        f'Epoch #{epoch}| (e.g. target: {prediction_to_str(y[0])}, pred: {prediction_to_str(m)}), loss: {loss.item():2f}, CER: {curr_cer * 100:1f}% on {total_chars} chars')\n",
    "    epoch += 1"
   ],
   "metadata": {
    "id": "11b47e23310bae3e",
    "outputId": "12a71227-f481-4b30-d407-50c87202c352",
    "ExecuteTime": {
     "end_time": "2024-04-01T06:28:53.402906Z",
     "start_time": "2024-04-01T06:28:53.331901Z"
    }
   },
   "id": "8dfc545e083e38c",
   "outputs": [
    {
     "name": "stdout",
     "output_type": "stream",
     "text": [
      "2024-04-01 09:28:53 [INFO] root - Model has been loaded from prev state of epoch: 1100\n"
     ]
    },
    {
     "name": "stderr",
     "output_type": "stream",
     "text": [
      "C:\\Users\\Maor\\AppData\\Local\\Temp\\ipykernel_31128\\3015226362.py:56: ComplexWarning: Casting complex values to real discards the imaginary part\n",
      "  time_domain_signal = time_domain_signal.astype(np.float32)\n",
      "--- Logging error ---\n",
      "Traceback (most recent call last):\n",
      "  File \"C:\\Users\\Maor\\AppData\\Local\\Programs\\Python\\Python39\\lib\\logging\\__init__.py\", line 1083, in emit\n",
      "    msg = self.format(record)\n",
      "  File \"C:\\Users\\Maor\\AppData\\Local\\Programs\\Python\\Python39\\lib\\logging\\__init__.py\", line 927, in format\n",
      "    return fmt.format(record)\n",
      "  File \"C:\\Users\\Maor\\AppData\\Local\\Programs\\Python\\Python39\\lib\\logging\\__init__.py\", line 663, in format\n",
      "    record.message = record.getMessage()\n",
      "  File \"C:\\Users\\Maor\\AppData\\Local\\Programs\\Python\\Python39\\lib\\logging\\__init__.py\", line 367, in getMessage\n",
      "    msg = msg % self.args\n",
      "TypeError: not all arguments converted during string formatting\n",
      "Call stack:\n",
      "  File \"C:\\Users\\Maor\\AppData\\Local\\Programs\\Python\\Python39\\lib\\runpy.py\", line 197, in _run_module_as_main\n",
      "    return _run_code(code, main_globals, None,\n",
      "  File \"C:\\Users\\Maor\\AppData\\Local\\Programs\\Python\\Python39\\lib\\runpy.py\", line 87, in _run_code\n",
      "    exec(code, run_globals)\n",
      "  File \"c:\\users\\maor\\appdata\\roaming\\jetbrains\\dataspell2021.3\\projects\\workspace\\venv\\lib\\site-packages\\ipykernel_launcher.py\", line 17, in <module>\n",
      "    app.launch_new_instance()\n",
      "  File \"c:\\users\\maor\\appdata\\roaming\\jetbrains\\dataspell2021.3\\projects\\workspace\\venv\\lib\\site-packages\\traitlets\\config\\application.py\", line 1043, in launch_instance\n",
      "    app.start()\n",
      "  File \"c:\\users\\maor\\appdata\\roaming\\jetbrains\\dataspell2021.3\\projects\\workspace\\venv\\lib\\site-packages\\ipykernel\\kernelapp.py\", line 725, in start\n",
      "    self.io_loop.start()\n",
      "  File \"c:\\users\\maor\\appdata\\roaming\\jetbrains\\dataspell2021.3\\projects\\workspace\\venv\\lib\\site-packages\\tornado\\platform\\asyncio.py\", line 215, in start\n",
      "    self.asyncio_loop.run_forever()\n",
      "  File \"C:\\Users\\Maor\\AppData\\Local\\Programs\\Python\\Python39\\lib\\asyncio\\base_events.py\", line 596, in run_forever\n",
      "    self._run_once()\n",
      "  File \"C:\\Users\\Maor\\AppData\\Local\\Programs\\Python\\Python39\\lib\\asyncio\\base_events.py\", line 1890, in _run_once\n",
      "    handle._run()\n",
      "  File \"C:\\Users\\Maor\\AppData\\Local\\Programs\\Python\\Python39\\lib\\asyncio\\events.py\", line 80, in _run\n",
      "    self._context.run(self._callback, *self._args)\n",
      "  File \"c:\\users\\maor\\appdata\\roaming\\jetbrains\\dataspell2021.3\\projects\\workspace\\venv\\lib\\site-packages\\ipykernel\\kernelbase.py\", line 513, in dispatch_queue\n",
      "    await self.process_one()\n",
      "  File \"c:\\users\\maor\\appdata\\roaming\\jetbrains\\dataspell2021.3\\projects\\workspace\\venv\\lib\\site-packages\\ipykernel\\kernelbase.py\", line 502, in process_one\n",
      "    await dispatch(*args)\n",
      "  File \"c:\\users\\maor\\appdata\\roaming\\jetbrains\\dataspell2021.3\\projects\\workspace\\venv\\lib\\site-packages\\ipykernel\\kernelbase.py\", line 409, in dispatch_shell\n",
      "    await result\n",
      "  File \"c:\\users\\maor\\appdata\\roaming\\jetbrains\\dataspell2021.3\\projects\\workspace\\venv\\lib\\site-packages\\ipykernel\\kernelbase.py\", line 729, in execute_request\n",
      "    reply_content = await reply_content\n",
      "  File \"c:\\users\\maor\\appdata\\roaming\\jetbrains\\dataspell2021.3\\projects\\workspace\\venv\\lib\\site-packages\\ipykernel\\ipkernel.py\", line 422, in do_execute\n",
      "    res = shell.run_cell(\n",
      "  File \"c:\\users\\maor\\appdata\\roaming\\jetbrains\\dataspell2021.3\\projects\\workspace\\venv\\lib\\site-packages\\ipykernel\\zmqshell.py\", line 540, in run_cell\n",
      "    return super().run_cell(*args, **kwargs)\n",
      "  File \"c:\\users\\maor\\appdata\\roaming\\jetbrains\\dataspell2021.3\\projects\\workspace\\venv\\lib\\site-packages\\IPython\\core\\interactiveshell.py\", line 2961, in run_cell\n",
      "    result = self._run_cell(\n",
      "  File \"c:\\users\\maor\\appdata\\roaming\\jetbrains\\dataspell2021.3\\projects\\workspace\\venv\\lib\\site-packages\\IPython\\core\\interactiveshell.py\", line 3016, in _run_cell\n",
      "    result = runner(coro)\n",
      "  File \"c:\\users\\maor\\appdata\\roaming\\jetbrains\\dataspell2021.3\\projects\\workspace\\venv\\lib\\site-packages\\IPython\\core\\async_helpers.py\", line 129, in _pseudo_sync_runner\n",
      "    coro.send(None)\n",
      "  File \"c:\\users\\maor\\appdata\\roaming\\jetbrains\\dataspell2021.3\\projects\\workspace\\venv\\lib\\site-packages\\IPython\\core\\interactiveshell.py\", line 3221, in run_cell_async\n",
      "    has_raised = await self.run_ast_nodes(code_ast.body, cell_name,\n",
      "  File \"c:\\users\\maor\\appdata\\roaming\\jetbrains\\dataspell2021.3\\projects\\workspace\\venv\\lib\\site-packages\\IPython\\core\\interactiveshell.py\", line 3400, in run_ast_nodes\n",
      "    if await self.run_code(code, result, async_=asy):\n",
      "  File \"c:\\users\\maor\\appdata\\roaming\\jetbrains\\dataspell2021.3\\projects\\workspace\\venv\\lib\\site-packages\\IPython\\core\\interactiveshell.py\", line 3460, in run_code\n",
      "    exec(code_obj, self.user_global_ns, self.user_ns)\n",
      "  File \"C:\\Users\\Maor\\AppData\\Local\\Temp\\ipykernel_31128\\2709595738.py\", line 10, in <module>\n",
      "    log.info(\"Number of params\", model.count_parameters())\n",
      "Message: 'Number of params'\n",
      "Arguments: (740395,)\n"
     ]
    }
   ],
   "execution_count": 163
  },
  {
   "cell_type": "markdown",
   "source": [],
   "metadata": {
    "id": "2d264e8356d0225b"
   },
   "id": "272ab58d25984ef8"
  },
  {
   "cell_type": "markdown",
   "source": "### Evaluation loop vs SNR",
   "metadata": {
    "id": "8a62f3dbe418a973"
   },
   "id": "87ca24c733e18613"
  },
  {
   "cell_type": "code",
   "source": [
    "snrs = [-15, -10, -5, 0, 5, 10, 15]\n",
    "cers = []\n",
    "val_losses = []\n",
    "\n",
    "for i in range(len(snrs)):\n",
    "    print('Validating model for snr: ', snrs[i])\n",
    "\n",
    "    val_loader = torch.utils.data.DataLoader(\n",
    "        Dataset(number_of_samples=2048, sr=2000, explicit_snr=snrs[i]),\n",
    "        batch_size=batch_size,\n",
    "        collate_fn=collate_fn_pad,\n",
    "    )\n",
    "    val_loss = 0.0\n",
    "    curr_cer = 1.0\n",
    "    total_chars = 0\n",
    "\n",
    "    model.eval()\n",
    "    with torch.no_grad():\n",
    "        for (input_lengths, output_lengths, x, y) in val_loader:\n",
    "            x, y = x.to(device), y.to(device)\n",
    "\n",
    "            # Forward pass\n",
    "            y_pred = model(x)\n",
    "\n",
    "            # Compute loss\n",
    "            m = torch.argmax(y_pred[0], 1)\n",
    "            curr_cer, total_chars = aggregate_cer(curr_cer, total_chars, y, y_pred)\n",
    "            y_pred = y_pred.permute(1, 0, 2)\n",
    "\n",
    "            loss = ctc_loss(y_pred, y, input_lengths, output_lengths)\n",
    "            val_loss += loss.item()\n",
    "\n",
    "    val_losses.append(val_loss/len(val_loader))\n",
    "    cers.append(curr_cer)"
   ],
   "metadata": {
    "id": "c6ab003ccb7a548",
    "ExecuteTime": {
     "end_time": "2024-04-01T06:29:50.250257Z",
     "start_time": "2024-04-01T06:29:01.388064Z"
    }
   },
   "id": "6bb442478096df24",
   "outputs": [
    {
     "name": "stdout",
     "output_type": "stream",
     "text": [
      "Validating model for snr:  -15\n"
     ]
    },
    {
     "name": "stderr",
     "output_type": "stream",
     "text": [
      "C:\\Users\\Maor\\AppData\\Local\\Temp\\ipykernel_31128\\3015226362.py:56: ComplexWarning: Casting complex values to real discards the imaginary part\n",
      "  time_domain_signal = time_domain_signal.astype(np.float32)\n"
     ]
    },
    {
     "name": "stdout",
     "output_type": "stream",
     "text": [
      "Validating model for snr:  -10\n",
      "Validating model for snr:  -5\n",
      "Validating model for snr:  0\n",
      "Validating model for snr:  5\n",
      "Validating model for snr:  10\n",
      "Validating model for snr:  15\n"
     ]
    }
   ],
   "execution_count": 164
  },
  {
   "cell_type": "markdown",
   "source": [
    "### Visualize"
   ],
   "metadata": {
    "id": "8ef156632d6c68e1"
   },
   "id": "6acdf92d006a09ec"
  },
  {
   "cell_type": "code",
   "source": [
    "plt.plot(snrs, val_losses, color='blue')\n",
    "plt.scatter(snrs, val_losses, marker='x', color='red')\n",
    "plt.xlabel('SNR')\n",
    "plt.ylabel('Validating Loss')\n",
    "plt.title('LSTM RNN Validating Loss vs SNR')\n",
    "plt.show()\n",
    "\n",
    "plt.plot(snrs, [100*c for c in cers], color='blue')\n",
    "plt.scatter(snrs, [100*c for c in cers], marker='x', color='red')\n",
    "plt.xlabel('CER')\n",
    "plt.ylabel('CER %')\n",
    "plt.title('LSTM RNN Validating CER vs SNR')\n",
    "plt.show()"
   ],
   "metadata": {
    "id": "17fd95da5aced9b",
    "outputId": "1327f6a9-6c0b-4a7a-e468-4ceef9c611f7",
    "ExecuteTime": {
     "end_time": "2024-04-01T06:32:07.950249Z",
     "start_time": "2024-04-01T06:32:07.674682Z"
    }
   },
   "id": "d59a40f1519b9be",
   "outputs": [
    {
     "data": {
      "text/plain": [
       "<Figure size 640x480 with 1 Axes>"
      ],
      "image/png": "[encoded data removed]"
     },
     "metadata": {},
     "output_type": "display_data"
    },
    {
     "data": {
      "text/plain": [
       "<Figure size 640x480 with 1 Axes>"
      ],
      "image/png": "[encoded data removed]"
     },
     "metadata": {},
     "output_type": "display_data"
    }
   ],
   "execution_count": 166
  },
  {
   "cell_type": "markdown",
   "source": [
    "## Detection: Faster R-CNN\n",
    "Faster R-CNN (Faster Regions with Convolutional Neural Networks) is an object detection algorithm that builds upon the success of its predecessors, R-CNN and Fast R-CNN. It was introduced in the 2015 paper [\"Faster R-CNN: Towards Real-Time Object Detection with Region Proposal Networks\"](https://arxiv.org/abs/1506.01497) by Shaoqing Ren, Kaiming He, Ross Girshick, and Jian Sun.\n",
    "\n",
    "The key innovation in Faster R-CNN is the introduction of a **Region Proposal Network** (RPN), which is a fully convolutional network that generates region proposals (bounding boxes) for objects in the input image. This contrasts with previous approaches that relied on external region proposal algorithms like selective search, which were computationally expensive and slow.\n",
    "\n",
    "The Faster R-CNN architecture consists of two main components:\n",
    "\n",
    "1. **Region Proposal Network (RPN)**: This is a lightweight convolutional neural network that takes an input image and outputs a set of object proposals or regions of interest (RoIs). The RPN works by sliding a small window over the input feature map and outputting multiple region proposals for each window location. These proposals are then filtered and ranked based on their objectness score, which is the probability that a region contains an object of interest.\n",
    "\n",
    "2. **Object Detection Network**: This is a Fast R-CNN network that takes the proposed RoIs from the RPN and performs object classification and bounding box regression. It extracts features from each RoI using a RoI pooling layer and then passes these features through fully connected layers to predict the class and refine the bounding box coordinates.\n",
    "\n",
    "The key advantages of Faster R-CNN are:\n",
    "\n",
    "1. **Speed**: By integrating the region proposal step into the network, Faster R-CNN can process images much faster than its predecessors, enabling real-time object detection.\n",
    "2. **Accuracy**: The RPN and the shared convolutional features used for both region proposal and object detection improve the overall accuracy of the system.\n",
    "3. **End-to-End Training**: The entire Faster R-CNN network can be trained end-to-end, making the training process more efficient and effective.\n",
    "\n",
    "Faster R-CNN has been widely adopted and has inspired numerous subsequent object detection algorithms, such as Mask R-CNN for instance segmentation and RetinaNet for dense object detection.\n",
    "\n",
    "We will use 'fasterrcnn_resnet50_fpn' varient (original model), read more here [\"PyTorch FASTER R-CNN\"](https://pytorch.org/vision/0.16/models/faster_rcnn.html)"
   ],
   "metadata": {
    "id": "c1175cc07be845ad"
   },
   "id": "2edef4d20e0b0c2a"
  },
  {
   "cell_type": "markdown",
   "source": [
    "### Utils"
   ],
   "metadata": {
    "id": "dd055d12afe7f871"
   },
   "id": "e4f228b33cd34368"
  },
  {
   "cell_type": "code",
   "source": [
    "def spectrum_to_img(spec):\n",
    "    '''\n",
    "    Transform spectrum to grey-image, ready for training in resnet50 model\n",
    "    \n",
    "    :param spec: ndarray (shape: [H, W])\n",
    "    :return: normalized torch image (shape: [1, H, W])\n",
    "    '''\n",
    "    # Normalize the spectrum (min-max scaling)\n",
    "    min_value = np.min(spec)\n",
    "    max_value = np.max(spec)\n",
    "    normalized_spectrum = (spec - min_value) / (max_value - min_value)\n",
    "\n",
    "    # Adapt dimension for resnet50\n",
    "    normalized_spectrum = np.expand_dims(normalized_spectrum, axis=-1)\n",
    "    normalized_spectrum = torch.from_numpy(normalized_spectrum).permute(2,0,1)\n",
    "\n",
    "    return normalized_spectrum\n",
    "\n",
    "\n",
    "def get_training_sample_bbx(*args, **kwargs):\n",
    "    '''\n",
    "    Used in NN dataset to generate sample with bounding box of the morse content\n",
    "    :param args: generate_morse_sample args\n",
    "    :param kwargs: \n",
    "    :return: torch image (shape: [1, H, W]) and bounding box (list[x_start, y_start, x_end, y_end])\n",
    "    '''\n",
    "    _, spec, morse_str, bbx = generate_morse_sample(*args, **kwargs)\n",
    "    spec = spectrum_to_img(spec)\n",
    "\n",
    "    return spec, bbx, morse_str\n",
    "\n",
    "\n",
    "def inference(img, model_, detection_threshold=0.5):\n",
    "    '''\n",
    "    Infernece of a single input image from resnet\n",
    "\n",
    "    inputs:\n",
    "      img: input-image as torch.tensor (shape: [C, H, W])\n",
    "      model: model for infernce (torch.nn.Module)\n",
    "      detection_threshold: Confidence-threshold for NMS (default=0.7)\n",
    "\n",
    "    returns:\n",
    "      boxes: bounding boxes (Format [N, 4] => N times [xmin, ymin, xmax, ymax])\n",
    "      labels: class-prediction (Format [N] => N times an number between 0 and _num_classes-1)\n",
    "      scores: confidence-score (Format [N] => N times confidence-score between 0 and 1)\n",
    "    '''\n",
    "    model_.eval()\n",
    "\n",
    "    img = img.to(device)\n",
    "    outputs = model_([img])\n",
    "\n",
    "    boxes = outputs[0]['boxes'].data.cpu().numpy()\n",
    "    scores = outputs[0]['scores'].data.cpu().numpy()\n",
    "    labels = outputs[0]['labels'].data.cpu().numpy()\n",
    "\n",
    "    boxes = boxes[scores >= detection_threshold].astype(np.int32)\n",
    "    labels = labels[scores >= detection_threshold]\n",
    "    scores = scores[scores >= detection_threshold]\n",
    "\n",
    "    return boxes, scores, labels\n",
    "\n",
    "\n",
    "def plot_image(img, boxes, scores, labels, dataset, morse_str, save_path=None):\n",
    "    '''\n",
    "    Function that draws the BBoxes, scores, and labels on the image.\n",
    "\n",
    "    inputs:\n",
    "      img: input-image as numpy.array (shape: [H, W, C])\n",
    "      boxes: list of bounding boxes (Format [N, 4] => N times [xmin, ymin, xmax, ymax])\n",
    "      scores: list of conf-scores (Format [N] => N times confidence-score between 0 and 1)\n",
    "      labels: list of class-prediction (Format [N] => N times an number between 0 and _num_classes-1)\n",
    "      dataset: list of all classes [\"background\", \"morse\"] => Format [N_classes]\n",
    "    '''\n",
    "    # Preprocessing\n",
    "    img = img.permute(1,2,0).numpy()\n",
    "    img = np.squeeze(img, axis=-1)\n",
    "    class_labels = np.array(dataset)\n",
    "\n",
    "    # Plotting\n",
    "    fig, ax = plt.subplots(1, figsize=(16, 8))\n",
    "    plt.pcolormesh(img)\n",
    "    for i, box in enumerate(boxes):\n",
    "\n",
    "        # BBX\n",
    "        class_pred = labels[i]\n",
    "        conf = scores[i]\n",
    "        rect = patches.Rectangle(\n",
    "            (box[0], box[1]),\n",
    "            box[2]-box[0],\n",
    "            box[3]-box[1],\n",
    "            linewidth=4,\n",
    "            edgecolor='red',\n",
    "            facecolor=\"none\",\n",
    "        )\n",
    "        ax.add_patch(rect)\n",
    "\n",
    "        # Add vertical lines\n",
    "        ax.axvline(x=box[0], color='r', linestyle='--', linewidth=3, alpha=0.5)\n",
    "        ax.axvline(x=box[2], color='r', linestyle='--', linewidth=3, alpha=0.5)\n",
    "\n",
    "        # Add the label\n",
    "        plt.text(\n",
    "            box[0], box[1],\n",
    "            s='\"' + morse_str + '\" | ' + class_labels[int(class_pred)] + \" \" + str(int(100*conf)) + \"%\",\n",
    "            color=\"white\",\n",
    "            fontsize=14,\n",
    "            verticalalignment=\"top\",\n",
    "            bbox={\"color\": 'red', \"pad\": 0},\n",
    "        )\n",
    "\n",
    "    # Used to save inference phase results\n",
    "    if save_path is not None:\n",
    "        plt.savefig(save_path)\n",
    "\n",
    "    plt.show()\n",
    "\n",
    "\n",
    "def collate_fn(batch):\n",
    "    return tuple(zip(*batch))"
   ],
   "metadata": {
    "id": "63272d9fae3625cb",
    "execution": {
     "iopub.status.busy": "2024-03-28T20:22:16.920867Z",
     "iopub.execute_input": "2024-03-28T20:22:16.921231Z",
     "iopub.status.idle": "2024-03-28T20:22:16.926791Z",
     "shell.execute_reply.started": "2024-03-28T20:22:16.921202Z",
     "shell.execute_reply": "2024-03-28T20:22:16.925897Z"
    },
    "trusted": true,
    "ExecuteTime": {
     "end_time": "2024-04-02T07:27:58.891635Z",
     "start_time": "2024-04-02T07:27:58.866104Z"
    }
   },
   "id": "c92e273c0bed5d7e",
   "outputs": [],
   "execution_count": 213
  },
  {
   "cell_type": "markdown",
   "source": [
    "### Generate and Plot 1 example"
   ],
   "metadata": {
    "collapsed": false
   },
   "id": "422ed4baf852e536"
  },
  {
   "cell_type": "code",
   "source": [
    "sr = 2000\n",
    "\n",
    "# Random params\n",
    "length = random.randrange(1, 7)\n",
    "pitch = random.randint(2, 19) * 50\n",
    "wpm = 18\n",
    "snrDB = random.randrange(-10, 10)\n",
    "amplitude = random.randrange(50, 200)\n",
    "\n",
    "# Generate\n",
    "spec, bbx, morse_str = get_training_sample_bbx(sr, length, pitch, wpm, snrDB, amplitude)\n",
    "\n",
    "# Plot\n",
    "plot_image(spec, [bbx], [1.0], [1], ['background', 'morse'], morse_str)"
   ],
   "metadata": {
    "colab": {
     "base_uri": "https://localhost:8080/",
     "height": 110
    },
    "id": "31366734189a3736",
    "outputId": "91b21069-8632-41dd-cea5-48a5582d1b06",
    "execution": {
     "iopub.status.busy": "2024-03-28T23:02:10.979132Z",
     "iopub.execute_input": "2024-03-28T23:02:10.979998Z",
     "iopub.status.idle": "2024-03-28T23:02:11.198870Z",
     "shell.execute_reply.started": "2024-03-28T23:02:10.979963Z",
     "shell.execute_reply": "2024-03-28T23:02:11.197920Z"
    },
    "trusted": true,
    "ExecuteTime": {
     "end_time": "2024-04-02T12:41:04.645148Z",
     "start_time": "2024-04-02T12:41:04.522018Z"
    }
   },
   "id": "7d3d2dc3ff75d73",
   "outputs": [
    {
     "data": {
      "text/plain": [
       "<Figure size 1600x800 with 1 Axes>"
      ],
      "image/png": "[encoded data removed]"
     },
     "metadata": {},
     "output_type": "display_data"
    }
   ],
   "execution_count": 228
  },
  {
   "cell_type": "markdown",
   "source": [
    "### Dataset"
   ],
   "metadata": {
    "collapsed": false
   },
   "id": "338d603f7024d549"
  },
  {
   "cell_type": "code",
   "source": [
    "class DatasetBBX(data.Dataset):\n",
    "    \"\"\"\n",
    "    Custom PyTorch dataset for bounding box detection task in morse\n",
    "    Generates data samples in runtime\n",
    "    \"\"\"\n",
    "    def __init__(self, number_of_samples=4096, sr=2000, explicit_snr=None):\n",
    "        self.length = number_of_samples\n",
    "        self.sr = sr\n",
    "        self.explicit_snr=explicit_snr\n",
    "\n",
    "    def __len__(self):\n",
    "        return self.length\n",
    "\n",
    "    def __getitem__(self, index):\n",
    "        target = {}\n",
    "\n",
    "        # Generate random parameters for the sample\n",
    "        length = random.randrange(1, 8)\n",
    "        pitch = random.randint(2, 19) * 50\n",
    "        wpm = 18\n",
    "        amplitude = random.randrange(50, 200)\n",
    "        if self.explicit_snr != None:\n",
    "            snrDB = self.explicit_snr\n",
    "        else:\n",
    "            snrDB = random.randrange(-10, 10)\n",
    "\n",
    "        spec, bbx, _ = get_training_sample_bbx(self.sr, length, pitch, wpm, snrDB, amplitude, None, True)\n",
    "\n",
    "        # Store the bounding box and label in the target dictionary\n",
    "        target[\"boxes\"] = torch.Tensor([bbx]).float()\n",
    "        target[\"labels\"] = torch.LongTensor([1])\n",
    "\n",
    "        return spec, target"
   ],
   "metadata": {
    "id": "8d8c9be72b5b2c29",
    "execution": {
     "iopub.status.busy": "2024-03-28T23:03:06.082110Z",
     "iopub.execute_input": "2024-03-28T23:03:06.082497Z",
     "iopub.status.idle": "2024-03-28T23:03:06.090912Z",
     "shell.execute_reply.started": "2024-03-28T23:03:06.082468Z",
     "shell.execute_reply": "2024-03-28T23:03:06.090003Z"
    },
    "trusted": true,
    "ExecuteTime": {
     "end_time": "2024-04-02T07:11:27.745940Z",
     "start_time": "2024-04-02T07:11:27.724361Z"
    }
   },
   "id": "370d42db68fd5314",
   "outputs": [],
   "execution_count": 48
  },
  {
   "cell_type": "markdown",
   "source": [
    "### Training"
   ],
   "metadata": {
    "id": "43a1e075e6622189"
   },
   "id": "46358481a5f32df4"
  },
  {
   "cell_type": "markdown",
   "source": [
    "#### Hyperparameter"
   ],
   "metadata": {
    "id": "3f4abec0f902b291"
   },
   "id": "ae36613af1671f5e"
  },
  {
   "cell_type": "code",
   "source": [
    "SEED = 42\n",
    "NUM_EPOCHS = 50\n",
    "LR = 0.005\n",
    "LR_MOMENTUM=0.9\n",
    "LR_DECAY_RATE=0.001\n",
    "LR_SCHED_STEP_SIZE = 0.1\n",
    "LR_SCHED_GAMMA = 0.1\n",
    "BATCH_SIZE = 64\n",
    "NUM_TEST_IMAGES = 5\n",
    "OUTPUT_DIR = 'faster_rnn_outputs'"
   ],
   "metadata": {
    "id": "4f508c6753e66ee5",
    "execution": {
     "iopub.status.busy": "2024-03-28T23:04:25.128783Z",
     "iopub.execute_input": "2024-03-28T23:04:25.129503Z",
     "iopub.status.idle": "2024-03-28T23:04:25.134581Z",
     "shell.execute_reply.started": "2024-03-28T23:04:25.129470Z",
     "shell.execute_reply": "2024-03-28T23:04:25.133646Z"
    },
    "trusted": true,
    "ExecuteTime": {
     "end_time": "2024-04-02T07:11:30.085636Z",
     "start_time": "2024-04-02T07:11:30.065002Z"
    }
   },
   "id": "7ed17b7eeab8b271",
   "outputs": [],
   "execution_count": 49
  },
  {
   "cell_type": "markdown",
   "source": [
    "#### Model init"
   ],
   "metadata": {
    "id": "52bedd4c11ece79d"
   },
   "id": "308008fc2d383da"
  },
  {
   "cell_type": "code",
   "source": [
    "device = torch.device('cuda') if torch.cuda.is_available() else torch.device('cpu')\n",
    "\n",
    "# Classes\n",
    "labels = ['background', 'morse']\n",
    "num_classes = len(labels)\n",
    "\n",
    "# Model\n",
    "model = torchvision.models.detection.fasterrcnn_resnet50_fpn(min_size=50, max_size=550) # 1 up to 9 morse chars max img size is ~550\n",
    "in_features = model.roi_heads.box_predictor.cls_score.in_features\n",
    "model.roi_heads.box_predictor = FastRCNNPredictor(in_features, num_classes)\n",
    "model.to(device)\n",
    "\n",
    "# Optimizer\n",
    "params = [p for p in model.parameters() if p.requires_grad]\n",
    "optimizer = torch.optim.SGD(params, lr=LR, momentum=LR_MOMENTUM, weight_decay=LR_DECAY_RATE)\n",
    "\n",
    "# Dataset\n",
    "dataset = DatasetBBX()\n",
    "dataset_test = DatasetBBX()\n",
    "torch.manual_seed(SEED)\n",
    "\n",
    "# learning rate scheduler\n",
    "lr_scheduler = torch.optim.lr_scheduler.StepLR(optimizer, step_size=LR_SCHED_STEP_SIZE, gamma=LR_SCHED_GAMMA)\n",
    "\n",
    "# data loaders\n",
    "data_loader = torch.utils.data.DataLoader(\n",
    "    dataset, batch_size=BATCH_SIZE, shuffle=True,\n",
    "    # num_workers=4,\n",
    "    collate_fn=collate_fn)\n",
    "\n",
    "data_loader_test = torch.utils.data.DataLoader(\n",
    "    dataset_test, batch_size=1, shuffle=False,\n",
    "    # num_workers=4,\n",
    "    collate_fn=collate_fn)"
   ],
   "metadata": {
    "colab": {
     "base_uri": "https://localhost:8080/"
    },
    "id": "844864f0d6609f4",
    "outputId": "d4e796cd-b5b4-4a87-9882-e702d777d2fb",
    "execution": {
     "iopub.status.busy": "2024-03-28T23:04:37.144136Z",
     "iopub.execute_input": "2024-03-28T23:04:37.144851Z",
     "iopub.status.idle": "2024-03-28T23:04:37.896937Z",
     "shell.execute_reply.started": "2024-03-28T23:04:37.144819Z",
     "shell.execute_reply": "2024-03-28T23:04:37.895706Z"
    },
    "trusted": true,
    "ExecuteTime": {
     "end_time": "2024-04-02T07:11:33.290710Z",
     "start_time": "2024-04-02T07:11:32.318477Z"
    }
   },
   "id": "7ffc43d400b9d788",
   "outputs": [],
   "execution_count": 50
  },
  {
   "cell_type": "markdown",
   "source": [
    "#### Training functions"
   ],
   "metadata": {
    "id": "9929889e54fe378c"
   },
   "id": "d15e08d403f0637b"
  },
  {
   "cell_type": "code",
   "source": [
    "def train_one_epoch(model, optimizer, data_loader, device):\n",
    "    '''\n",
    "    train the model over one epoch.\n",
    "    '''\n",
    "    train_loss_list = []\n",
    "    tqdm_bar = tqdm(data_loader, total=len(data_loader))\n",
    "    \n",
    "    for idx, data in enumerate(tqdm_bar):\n",
    "        optimizer.zero_grad()\n",
    "        images, targets = data\n",
    "\n",
    "        images = list(image.to(device) for image in images)\n",
    "        targets = [{k: v.to(device) for k, v in t.items()} for t in targets]  # targets = {'boxes'=tensor, 'labels'=tensor}\n",
    "\n",
    "        losses = model(images, targets)\n",
    "        loss = sum(loss for loss in losses.values())\n",
    "        train_loss_list.append(loss.detach().cpu().numpy())\n",
    "\n",
    "        loss.backward()\n",
    "        optimizer.step()\n",
    "        tqdm_bar.set_description(desc=f\"Training Loss: {loss:.3f}\")\n",
    "\n",
    "    return train_loss_list\n",
    "\n",
    "\n",
    "def evaluate(model, data_loader_test, device):\n",
    "    '''\n",
    "    validate the model\n",
    "    '''\n",
    "    val_loss_list = []\n",
    "    tqdm_bar = tqdm(data_loader_test, total=len(data_loader_test))\n",
    "\n",
    "    for i, data in enumerate(tqdm_bar):\n",
    "        images, targets = data\n",
    "\n",
    "        images = list(image.to(device) for image in images)\n",
    "        targets = [{k: v.to(device) for k, v in t.items()} for t in targets]\n",
    "\n",
    "        with torch.no_grad():\n",
    "            losses = model(images, targets)\n",
    "        loss = sum(loss for loss in losses.values())\n",
    "        loss_val = loss.item()\n",
    "        \n",
    "        val_loss_list.append(loss_val)\n",
    "        tqdm_bar.set_description(desc=f\"Validation Loss: {loss:.4f}\")\n",
    "        \n",
    "    return val_loss_list\n",
    "\n",
    "\n",
    "def plot_loss(train_loss, valid_loss):\n",
    "    '''\n",
    "    plot training and valdiation losses and save them in `output_dir'\n",
    "    '''\n",
    "    \n",
    "    figure_1, train_ax = plt.subplots()\n",
    "    figure_2, valid_ax = plt.subplots()\n",
    "\n",
    "    train_ax.plot(train_loss, color='blue')\n",
    "    train_ax.set_xlabel('Iteration')\n",
    "    train_ax.set_ylabel('Training Loss')\n",
    "\n",
    "    valid_ax.plot(valid_loss, color='red')\n",
    "    valid_ax.set_xlabel('Iteration')\n",
    "    valid_ax.set_ylabel('Validation loss')\n",
    "\n",
    "    figure_1.savefig(f\"{OUTPUT_DIR}/train_loss.png\")\n",
    "    figure_2.savefig(f\"{OUTPUT_DIR}/valid_loss.png\")"
   ],
   "metadata": {
    "id": "e86e16df87d12e57",
    "execution": {
     "iopub.status.busy": "2024-03-28T23:04:41.743986Z",
     "iopub.execute_input": "2024-03-28T23:04:41.744879Z",
     "iopub.status.idle": "2024-03-28T23:04:41.758845Z",
     "shell.execute_reply.started": "2024-03-28T23:04:41.744845Z",
     "shell.execute_reply": "2024-03-28T23:04:41.757958Z"
    },
    "trusted": true,
    "ExecuteTime": {
     "end_time": "2024-04-02T07:11:35.952949Z",
     "start_time": "2024-04-02T07:11:35.932885Z"
    }
   },
   "id": "df221e613fa2df03",
   "outputs": [],
   "execution_count": 51
  },
  {
   "cell_type": "markdown",
   "source": [
    "#### Load checkpoint\n",
    "epoch 541 checkpoint available at: https://we.tl/t-Bk8Sfvh2bR [320 MB]"
   ],
   "metadata": {
    "collapsed": false
   },
   "id": "3b67f1cfadd2c409"
  },
  {
   "cell_type": "code",
   "source": [
    "checkpoint_files = [f for f in os.listdir(OUTPUT_DIR) if f.endswith('.pth')]\n",
    "if checkpoint_files:\n",
    "    # Last checkpoint file\n",
    "    checkpoint_files.sort()\n",
    "    latest_checkpoint = os.path.join(OUTPUT_DIR, checkpoint_files[-1])\n",
    "    checkpoint = torch.load(latest_checkpoint)\n",
    "    model.load_state_dict(checkpoint['model_state_dict'])\n",
    "    optimizer.load_state_dict(checkpoint['optimizer_state_dict'])\n",
    "    start_epoch = checkpoint['epoch']\n",
    "    loss_dict = checkpoint['loss_dict']\n",
    "else:\n",
    "    start_epoch = 0\n",
    "    loss_dict = {'train_loss': [], 'valid_loss': []}"
   ],
   "metadata": {
    "collapsed": false,
    "ExecuteTime": {
     "end_time": "2024-04-02T07:23:54.622638Z",
     "start_time": "2024-04-02T07:23:53.829937Z"
    }
   },
   "id": "d1b1f676e7bafd90",
   "outputs": [],
   "execution_count": 197
  },
  {
   "cell_type": "code",
   "source": [
    "# Count the total number of parameters\n",
    "total_params = sum(p.numel() for p in model.parameters())\n",
    "log.info(f\"Total number of parameters: {total_params}\")\n",
    "\n",
    "# Count the number of trainable parameters\n",
    "trainable_params = sum(p.numel() for p in model.parameters() if p.requires_grad)\n",
    "log.info(f\"Number of trainable parameters: {trainable_params}\")"
   ],
   "metadata": {
    "collapsed": false,
    "ExecuteTime": {
     "end_time": "2024-04-02T07:23:56.410350Z",
     "start_time": "2024-04-02T07:23:56.388264Z"
    }
   },
   "id": "7a5a849a0013d8ec",
   "outputs": [
    {
     "name": "stdout",
     "output_type": "stream",
     "text": [
      "2024-04-02 10:23:56 [INFO] root - Total number of parameters: 41299161\n",
      "2024-04-02 10:23:56 [INFO] root - Number of trainable parameters: 41076761\n"
     ]
    }
   ],
   "execution_count": 198
  },
  {
   "cell_type": "markdown",
   "source": [
    "#### Train"
   ],
   "metadata": {
    "id": "5d3462636bd06cb5"
   },
   "id": "4c00c10f3d12d3d5"
  },
  {
   "cell_type": "code",
   "source": [
    "for epoch in range(start_epoch, start_epoch + NUM_EPOCHS):\n",
    "    log.info(\"----------Epoch {}----------\".format(epoch+1))\n",
    "\n",
    "    # Train the model for one epoch\n",
    "    train_loss_list = train_one_epoch(model, optimizer, data_loader, device)\n",
    "    loss_dict['train_loss'].extend(train_loss_list)\n",
    "\n",
    "    lr_scheduler.step()\n",
    "\n",
    "    # Run evaluation\n",
    "    valid_loss_list = evaluate(model, data_loader_test, device)\n",
    "    loss_dict['valid_loss'].extend(valid_loss_list)\n",
    "\n",
    "    if epoch % 10 == 0:\n",
    "        # Save model\n",
    "        ckpt_file_name = f\"{OUTPUT_DIR}/epoch_{epoch+1}_model.pth\"\n",
    "        torch.save({\n",
    "            'epoch': epoch+1,\n",
    "            'model_state_dict': model.state_dict(),\n",
    "            'optimizer_state_dict': optimizer.state_dict(),\n",
    "            'loss_dict': loss_dict\n",
    "        }, ckpt_file_name)\n",
    "\n",
    "    plot_loss(loss_dict['train_loss'], loss_dict['valid_loss'])\n",
    "\n",
    "# Store the losses after the training in a pickle\n",
    "with open(f\"{OUTPUT_DIR}/loss_dict.pkl\", \"wb\") as file:\n",
    "    pickle.dump(loss_dict, file)\n",
    "\n",
    "log.info(\"Training Finished !\")"
   ],
   "metadata": {
    "colab": {
     "base_uri": "https://localhost:8080/",
     "height": 1000
    },
    "id": "8e04700b64ae7eae",
    "outputId": "599aed50-daa2-4277-8b0f-c1aefcea34ab",
    "execution": {
     "iopub.status.busy": "2024-03-28T23:04:56.869015Z",
     "iopub.execute_input": "2024-03-28T23:04:56.870039Z",
     "iopub.status.idle": "2024-03-29T00:38:42.262969Z",
     "shell.execute_reply.started": "2024-03-28T23:04:56.870005Z",
     "shell.execute_reply": "2024-03-29T00:38:42.261850Z"
    },
    "trusted": true
   },
   "id": "7ff96b0b6a1b24bf",
   "outputs": [],
   "execution_count": null
  },
  {
   "cell_type": "markdown",
   "source": "### Evaluate",
   "metadata": {
    "collapsed": false
   },
   "id": "8b83c72073f4e1e0"
  },
  {
   "metadata": {
    "ExecuteTime": {
     "end_time": "2024-04-02T07:11:45.712067Z",
     "start_time": "2024-04-02T07:11:45.691985Z"
    }
   },
   "cell_type": "code",
   "source": [
    "def IoU_loss_x_axis_only(pred_box, gt_box):\n",
    "    \"\"\"\n",
    "    Calculates modified Intersection-over-Union loss considering only x-axis overlap.\n",
    "  \n",
    "    Args:\n",
    "        pred_boxes: numpy array of predicted bounding boxes (format: [x1, y1, x2, y2])\n",
    "        gt_boxes: numpy array of ground truth bounding boxes (same format)\n",
    "  \n",
    "    Returns:\n",
    "        Modified IoU loss (float)\n",
    "    \"\"\"\n",
    "    # Calculate overlap width\n",
    "    overlap_width = np.maximum(0, np.minimum(pred_box[2], gt_box[2]) - np.maximum(pred_box[0], gt_box[0]))\n",
    "\n",
    "    # Union width based on wider box (modify as needed)\n",
    "    union_width = np.maximum(pred_box[2] - pred_box[0], gt_box[2] - gt_box[0])\n",
    "\n",
    "    # Calculate modified IoU loss (1 - IoU_x)\n",
    "    iou_loss = 1.0 - np.mean(overlap_width / np.maximum(union_width, 1e-10))\n",
    "    return iou_loss"
   ],
   "id": "5f5fb07eea7a4726",
   "outputs": [],
   "execution_count": 54
  },
  {
   "cell_type": "code",
   "source": [
    "random.seed(SEED)\n",
    "num_images = NUM_TEST_IMAGES\n",
    "\n",
    "plot = True\n",
    "num_of_samples = 1\n",
    "\n",
    "eval_loss = []\n",
    "model.eval()\n",
    "for i in range(num_of_samples):\n",
    "    x = random.randint(0, (dataset_test.__len__()-1))\n",
    "    img, target = dataset_test.__getitem__(x)\n",
    "    img = img.to(device)\n",
    "    box, scores, labels = inference(img, model)\n",
    "    if len(box) > 0:\n",
    "        iou_loss = IoU_loss_x_axis_only(box[0], target[\"boxes\"][0].numpy())\n",
    "    else:\n",
    "        iou_loss = 1.0\n",
    "    eval_loss.append(iou_loss)\n",
    "    if plot:\n",
    "        log.info(f'IoU-x loss = {iou_loss}')\n",
    "        plot_image(img.cpu(), box, scores, labels, ['background', 'morse'],'')\n",
    "print(f'Final IoU-x loss = {np.mean(eval_loss)}')"
   ],
   "metadata": {
    "colab": {
     "base_uri": "https://localhost:8080/"
    },
    "id": "sa3HuG6phBD2",
    "outputId": "260d91f7-c053-43ec-fada-b7c5666adfc7",
    "execution": {
     "iopub.status.busy": "2024-03-29T00:41:33.769367Z",
     "iopub.execute_input": "2024-03-29T00:41:33.770382Z",
     "iopub.status.idle": "2024-03-29T00:42:12.182549Z",
     "shell.execute_reply.started": "2024-03-29T00:41:33.770344Z",
     "shell.execute_reply": "2024-03-29T00:42:12.181385Z"
    },
    "trusted": true,
    "ExecuteTime": {
     "end_time": "2024-04-02T07:26:01.334566Z",
     "start_time": "2024-04-02T07:26:01.083200Z"
    }
   },
   "id": "e3433ad6f5bfd005",
   "outputs": [
    {
     "name": "stdout",
     "output_type": "stream",
     "text": [
      "2024-04-02 10:26:01 [INFO] root - IoU-x loss = 0.05405405405405406\n"
     ]
    },
    {
     "data": {
      "text/plain": [
       "<Figure size 1600x800 with 1 Axes>"
      ],
      "image/png": "[encoded data removed]"
     },
     "metadata": {},
     "output_type": "display_data"
    },
    {
     "name": "stdout",
     "output_type": "stream",
     "text": [
      "Final IoU-x loss = 0.05405405405405406\n"
     ]
    }
   ],
   "execution_count": 210
  },
  {
   "metadata": {
    "ExecuteTime": {
     "end_time": "2024-03-31T17:04:15.666586Z",
     "start_time": "2024-03-31T16:59:52.137296Z"
    }
   },
   "cell_type": "code",
   "source": [
    "# per SNR\n",
    "snrs = [-15, -10, -5, 0, 5, 10, 15]\n",
    "ious = []\n",
    "num_of_samples = 1000\n",
    "\n",
    "for i in range(len(snrs)):\n",
    "    log.info(f'Evaluating model for snr: {snrs[i]}')\n",
    "\n",
    "    dataset_test = DatasetBBX(explicit_snr=snrs[i])    \n",
    "    data_loader_test = torch.utils.data.DataLoader(\n",
    "        dataset_test, batch_size=1, shuffle=False,\n",
    "        collate_fn=collate_fn)\n",
    "\n",
    "    eval_loss = []\n",
    "    model.eval()\n",
    "    for i in range(num_of_samples):\n",
    "        x = random.randint(0, (dataset_test.__len__()-1))\n",
    "        img, target = dataset_test.__getitem__(x)\n",
    "        img = img.to(device)\n",
    "        box, scores, labels = inference(img, model)\n",
    "        if len(box) > 0:\n",
    "            iou_loss = IoU_loss_x_axis_only(box[0], target[\"boxes\"][0].numpy())\n",
    "        else:\n",
    "            iou_loss = 1.0\n",
    "        eval_loss.append(iou_loss)\n",
    "\n",
    "    ious.append(np.mean(eval_loss))"
   ],
   "id": "b722dc0ce3511443",
   "outputs": [
    {
     "name": "stdout",
     "output_type": "stream",
     "text": [
      "2024-03-31 19:59:52 [INFO] root - Evaluating model for snr: -15\n"
     ]
    },
    {
     "name": "stderr",
     "output_type": "stream",
     "text": [
      "C:\\Users\\Maor\\AppData\\Local\\Temp\\ipykernel_31128\\3015226362.py:56: ComplexWarning: Casting complex values to real discards the imaginary part\n",
      "  time_domain_signal = time_domain_signal.astype(np.float32)\n"
     ]
    },
    {
     "name": "stdout",
     "output_type": "stream",
     "text": [
      "2024-03-31 20:00:27 [INFO] root - Evaluating model for snr: -10\n",
      "2024-03-31 20:01:00 [INFO] root - Evaluating model for snr: -5\n",
      "2024-03-31 20:01:39 [INFO] root - Evaluating model for snr: 0\n",
      "2024-03-31 20:02:13 [INFO] root - Evaluating model for snr: 5\n",
      "2024-03-31 20:02:48 [INFO] root - Evaluating model for snr: 10\n",
      "2024-03-31 20:03:23 [INFO] root - Evaluating model for snr: 15\n"
     ]
    }
   ],
   "execution_count": 153
  },
  {
   "metadata": {
    "ExecuteTime": {
     "end_time": "2024-03-31T17:08:00.372136Z",
     "start_time": "2024-03-31T17:08:00.283066Z"
    }
   },
   "cell_type": "code",
   "source": [
    "plt.plot(snrs, ious, color='blue')\n",
    "plt.scatter(snrs, ious, marker='x', color='red')\n",
    "plt.xlabel('SNR')\n",
    "plt.ylabel('IoU-x Loss')\n",
    "plt.title('Faster-RCNN IoU-x Loss vs SNR')\n",
    "plt.ylim(0, 0.5)\n",
    "plt.show()"
   ],
   "id": "9caccb4cf349e5f0",
   "outputs": [
    {
     "data": {
      "text/plain": [
       "<Figure size 640x480 with 1 Axes>"
      ],
      "image/png": "[encoded data removed]"
     },
     "metadata": {},
     "output_type": "display_data"
    }
   ],
   "execution_count": 159
  },
  {
   "metadata": {},
   "cell_type": "markdown",
   "source": [
    "# Demo\n",
    "Example on how we can use both models - one for decoding the morse information, and the other for detecting morse in the frame"
   ],
   "id": "69f8abd3fd332155"
  },
  {
   "metadata": {},
   "cell_type": "markdown",
   "source": "## Utils",
   "id": "e156d6428a35225b"
  },
  {
   "metadata": {
    "ExecuteTime": {
     "end_time": "2024-04-02T07:15:41.760569Z",
     "start_time": "2024-04-02T07:15:41.744693Z"
    }
   },
   "cell_type": "code",
   "source": [
    "def plot_decode_detect(img, boxes, scores, labels, dataset, original_str, predicted_str):\n",
    "    '''\n",
    "    Function that draws the BBoxes, scores, and labels on the image.\n",
    "\n",
    "    inputs:\n",
    "      img: input-image as numpy.array (shape: [H, W, C])\n",
    "      boxes: list of bounding boxes (Format [N, 4] => N times [xmin, ymin, xmax, ymax])\n",
    "      scores: list of conf-scores (Format [N] => N times confidence-score between 0 and 1)\n",
    "      labels: list of class-prediction (Format [N] => N times an number between 0 and _num_classes-1)\n",
    "      dataset: list of all classes [\"background\", \"morse\"] => Format [N_classes]\n",
    "    '''\n",
    "    # Preprocessing\n",
    "    img = img.permute(1,2,0).numpy()\n",
    "    img = np.squeeze(img, axis=-1)\n",
    "    class_labels = np.array(dataset)\n",
    "\n",
    "    # Plotting\n",
    "    fig, ax = plt.subplots(1, figsize=(16, 8))\n",
    "    plt.pcolormesh(img)\n",
    "    for i, box in enumerate(boxes):\n",
    "        # box[1] += 1\n",
    "        # box[3] += 1\n",
    "        \n",
    "        # BBX\n",
    "        class_pred = labels[i]\n",
    "        conf = scores[i]\n",
    "        rect = patches.Rectangle(\n",
    "            (box[0], box[1]),\n",
    "            box[2]-box[0],\n",
    "            box[3]-box[1],\n",
    "            linewidth=4,\n",
    "            edgecolor='red',\n",
    "            facecolor=\"none\",\n",
    "        )\n",
    "        ax.add_patch(rect)\n",
    "\n",
    "        # Add vertical lines\n",
    "        ax.axvline(x=box[0], color='r', linestyle='--', linewidth=3, alpha=0.5)\n",
    "        ax.axvline(x=box[2], color='r', linestyle='--', linewidth=3, alpha=0.5)\n",
    "\n",
    "        # Add the label\n",
    "        plt.text(\n",
    "            box[0], box[1],\n",
    "            s='predicted <' + predicted_str + '> ' + class_labels[int(class_pred)] + \" \" + str(int(100*conf)) + \"%\",\n",
    "            color=\"white\",\n",
    "            fontsize=14,\n",
    "            verticalalignment=\"top\",\n",
    "            bbox={\"color\": 'red', \"pad\": 0},\n",
    "        )\n",
    "        plt.text(\n",
    "            box[0], box[3],\n",
    "            s='target <' + original_str + '>',\n",
    "            color=\"white\",\n",
    "            fontsize=14,\n",
    "            verticalalignment=\"bottom\",\n",
    "            bbox={\"color\": 'darkred', \"pad\": 0},\n",
    "        )\n",
    "\n",
    "    plt.show()\n",
    "    \n",
    "    \n",
    "def spec_to_lstm(spec):\n",
    "    spec_ = torch.from_numpy(spec)\n",
    "    spec_ = spec_.permute(1, 0)\n",
    "    return spec_"
   ],
   "id": "4b8952c7a2a2d663",
   "outputs": [],
   "execution_count": 93
  },
  {
   "metadata": {},
   "cell_type": "markdown",
   "source": "## init models",
   "id": "84a1dc7f9e86b088"
  },
  {
   "metadata": {
    "ExecuteTime": {
     "end_time": "2024-04-02T07:27:34.779397Z",
     "start_time": "2024-04-02T07:27:33.141081Z"
    }
   },
   "cell_type": "code",
   "source": [
    "device = torch.device('cuda') if torch.cuda.is_available() else torch.device('cpu')\n",
    "\n",
    "# init decoder\n",
    "run_date = '2024-03-26_01-45-23'\n",
    "# run_date = '2024-03-31_23-29-30'\n",
    "epoch = 3950\n",
    "spectrogram_size = generate_morse_sample(sr=2000)[1].shape[0]\n",
    "model_lstm = LSTMRnn(num_tags, spectrogram_size).to(device)\n",
    "model_lstm.load_state_dict(torch.load(f\"models/{run_date}_{epoch:06}.pt\", map_location=device))\n",
    "model_lstm.eval()\n",
    "print(f\"models/{run_date}_{epoch:06}.pt\")\n",
    "\n",
    "# init detector\n",
    "labels = ['background', 'morse']\n",
    "num_classes = len(labels)\n",
    "model_resnet = torchvision.models.detection.fasterrcnn_resnet50_fpn(min_size=50, max_size=550) # 1 up to 9 morse chars max img size is ~550\n",
    "in_features = model_resnet.roi_heads.box_predictor.cls_score.in_features\n",
    "model_resnet.roi_heads.box_predictor = FastRCNNPredictor(in_features, num_classes)\n",
    "\n",
    "checkpoint_files = [f for f in os.listdir(OUTPUT_DIR) if f.endswith('.pth')]\n",
    "checkpoint_files.sort()\n",
    "latest_checkpoint = os.path.join(OUTPUT_DIR, checkpoint_files[-1])\n",
    "checkpoint = torch.load(latest_checkpoint)\n",
    "model_resnet.load_state_dict(checkpoint['model_state_dict'])\n",
    "optimizer.load_state_dict(checkpoint['optimizer_state_dict'])\n",
    "model_resnet.to(device)\n",
    "print(latest_checkpoint)"
   ],
   "id": "ce0194c92c3f0720",
   "outputs": [
    {
     "name": "stdout",
     "output_type": "stream",
     "text": [
      "models/2024-03-26_01-45-23_003950.pt\n",
      "faster_rnn_outputs\\epoch_541_model.pth\n"
     ]
    }
   ],
   "execution_count": 212
  },
  {
   "metadata": {},
   "cell_type": "markdown",
   "source": "## Generate, Decode & Detect",
   "id": "aa38c0ff364a0326"
  },
  {
   "metadata": {
    "ExecuteTime": {
     "end_time": "2024-04-02T13:27:14.193283Z",
     "start_time": "2024-04-02T13:27:13.801396Z"
    }
   },
   "cell_type": "code",
   "source": [
    "# Params\n",
    "# ----------------------------------------------------------------\n",
    "sr = 2000\n",
    "length = random.randrange(1, 7)\n",
    "pitch = 950 # random.randint(2, 19) * 50\n",
    "wpm = 18\n",
    "snrDB = random.randrange(-5, 10)\n",
    "amplitude = random.randrange(100, 300)\n",
    "\n",
    "# Generate random morse sample\n",
    "# ----------------------------------------------------------------\n",
    "time_domain_signal, spec, target_str, bbx = generate_morse_sample(sr, length, pitch, wpm, -5, amplitude, \"YOUTUBE\")\n",
    "log.info(f\"pitch: {pitch}, wpm: {wpm}, snrDB: {snrDB}, amplitude: {amplitude}, str: {target_str}, bbx: {bbx}\")\n",
    "\n",
    "# Decode\n",
    "# ----------------------------------------------------------------\n",
    "spec_lstm = torch.from_numpy(spec).permute(1, 0).unsqueeze(0).to(device) # preprocess for lstm\n",
    "with torch.no_grad():\n",
    "    y_pred_lstm = model_lstm(spec_lstm)\n",
    "predicted_str = prediction_to_str(torch.argmax(y_pred_lstm[0], 1))\n",
    "\n",
    "# Detect\n",
    "# ----------------------------------------------------------------\n",
    "spec_frnn = spectrum_to_img(spec) # preprocess for faster-rcnn\n",
    "with torch.no_grad():\n",
    "    \n",
    "    bbx, scores, labels = inference(spec_frnn, model_resnet)\n",
    "\n",
    "# Plot\n",
    "# ----------------------------------------------------------------\n",
    "plot_decode_detect(spec_frnn.cpu(), bbx, scores, labels, ['background', 'morse'], predicted_str, target_str)"
   ],
   "id": "9d19f466ac555aeb",
   "outputs": [
    {
     "name": "stdout",
     "output_type": "stream",
     "text": [
      "2024-04-02 16:27:13 [INFO] root - pitch: 950, wpm: 18, snrDB: 3, amplitude: 164, str: YOUTUBE, bbx: (17, 19, 257, 20)\n"
     ]
    },
    {
     "data": {
      "text/plain": [
       "<Figure size 1600x800 with 1 Axes>"
      ],
      "image/png": "[encoded data removed]"
     },
     "metadata": {},
     "output_type": "display_data"
    }
   ],
   "execution_count": 229
  },
  {
   "cell_type": "markdown",
   "source": [
    "# Other stuff"
   ],
   "metadata": {
    "collapsed": false
   },
   "id": "698541de514af309"
  },
  {
   "cell_type": "markdown",
   "source": [
    "## For Kaggle \\ Colab"
   ],
   "metadata": {
    "collapsed": false
   },
   "id": "b90baecc2402ec10"
  },
  {
   "cell_type": "code",
   "execution_count": null,
   "outputs": [],
   "source": [
    "# Free space in Kaggle\n",
    "import os\n",
    "\n",
    "for the_file in os.listdir('/kaggle/working/faster_rnn_outputs'):\n",
    "    if the_file != 'epoch_50_model.pth' and the_file != 'loss_dict.pkl':\n",
    "        os.unlink(os.path.join('/kaggle/working/faster_rnn_outputs', the_file))"
   ],
   "metadata": {
    "collapsed": false
   },
   "id": "ae20e115c25e725"
  },
  {
   "cell_type": "code",
   "execution_count": null,
   "outputs": [],
   "source": [
    "# Move files from input to output in Kaggle\n",
    "import shutil\n",
    "\n",
    "src_path = r\"/kaggle/input/faster-rnn-epoch-50/epoch_50_model.pth\"\n",
    "dst_path = r\"/kaggle/working/faster_rnn_outputs/\"\n",
    "\n",
    "shutil.copy(src_path, dst_path)\n",
    "print('Copied')"
   ],
   "metadata": {
    "collapsed": false
   },
   "id": "bb13f732a9fb4c82"
  },
  {
   "cell_type": "code",
   "execution_count": 14,
   "outputs": [],
   "source": [
    "# Mount google drive in Colab\n",
    "from google.colab import drive\n",
    "\n",
    "drive.mount('/content/drive')"
   ],
   "metadata": {
    "collapsed": false,
    "ExecuteTime": {
     "end_time": "2024-03-29T21:34:43.177849800Z",
     "start_time": "2024-03-29T21:34:42.909033600Z"
    }
   },
   "id": "2518f9aee3cf0922"
  }
 ]
}
