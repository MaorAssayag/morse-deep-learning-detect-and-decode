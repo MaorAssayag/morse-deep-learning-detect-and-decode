{
 "metadata": {
  "kernelspec": {
   "name": "python3",
   "display_name": "Python 3",
   "language": "python"
  },
  "language_info": {
   "name": "python",
   "version": "3.10.13",
   "mimetype": "text/x-python",
   "codemirror_mode": {
    "name": "ipython",
    "version": 3
   },
   "pygments_lexer": "ipython3",
   "nbconvert_exporter": "python",
   "file_extension": ".py"
  },
  "colab": {
   "provenance": [],
   "gpuType": "T4",
   "toc_visible": true
  },
  "accelerator": "GPU",
  "kaggle": {
   "accelerator": "gpu",
   "dataSources": [
    {
     "sourceId": 7969221,
     "sourceType": "datasetVersion",
     "datasetId": 4689038
    }
   ],
   "dockerImageVersionId": 30674,
   "isInternetEnabled": true,
   "language": "python",
   "sourceType": "notebook",
   "isGpuEnabled": true
  }
 },
 "nbformat_minor": 5,
 "nbformat": 4,
 "cells": [
  {
   "metadata": {},
   "cell_type": "markdown",
   "source": "![](assets/demo_output_cropped.png) ",
   "id": "eec962f53602f4a9"
  },
  {
   "cell_type": "markdown",
   "source": [
    "# ECE 046211 - Technion - Deep Learning\n",
    "\n",
    "## Project - DSP in Deep Learning – CW (carrier wave) Detector + Decoder"
   ],
   "metadata": {
    "collapsed": false
   },
   "id": "2133a2c652acd009"
  },
  {
   "cell_type": "markdown",
   "source": [
    "<img src=\"https://img.icons8.com/bubbles/50/000000/information.png\" style=\"height:50px;display:inline\">\n",
    "\n",
    "### Students Information\n",
    "\n",
    "---\n",
    "\n",
    "| Name      |Campus Email| ID  |\n",
    "|-----------|-------------------------------|----------|\n",
    "| Student 1 | maor.asyag@campus.technion.ac.il | 318550746 |\n",
    "| Student 2 | elirazkadosh@campus.technion.ac.il | 315675090 |\n",
    "| Student 3 | eliramamrusi@campus.technion.ac.il | 319040325 |"
   ],
   "metadata": {
    "collapsed": false
   },
   "id": "4f5fbd88a3fd0f97"
  },
  {
   "cell_type": "markdown",
   "source": [
    "<img src=\"https://img.icons8.com/bubbles/50/000000/upload-to-cloud.png\" style=\"height:50px;display:inline\">\n",
    "\n",
    "### Summary\n",
    "\n",
    "---\n",
    "* **General**\n",
    "    * Implementation in pytorch\n",
    "    * Digital signal processing from scratch\n",
    "    * Generating training samples (morse signals -> spectrogram) on-the-fly with various hyperparameters\n",
    "    * Morse signals varies in **pitch** (main frequency), **length** (number of chars), **signal amplitude**, noise amplitude (**SNR** [dB]), morse **dit\\dah length**\n",
    "    * Used **TensorBoard** for local training tracking\n",
    "    \n",
    "* **Part 1: LSTM-RNN morse decoder**\n",
    "    * input: spectrogram [shape: (dynamic, 21)] + target string, output: string\n",
    "    * Model size: 740,395 parameters\n",
    "    * trained on ~50,000,000 morse chars\n",
    "    * Average CER (Character Error Rate) ~98% on SNR above -10dB\n",
    "    * loss function: CTCLoss\n",
    "        * The Connectionist Temporal Classification loss. Calculates loss between a continuous (unsegmented) time series and a target sequence.\n",
    "    * Train loss: , Validation loss:  \n",
    "       \n",
    "* **Part 2: FASTER RCNN (resnet50) morse object detection**\n",
    "    * input: spectrogram [shape: (dynamic, 21)] , output: bounding box, scores, labels\n",
    "    * Bounding box prediction\n",
    "    * Trained on ~1,000,000 spectrogram's\n",
    "    * Model size:\n",
    "        * Total number of parameters: 41,299,161\n",
    "        * Number of trainable parameters: 41,076,761\n",
    "    * Accuracy: IoU-x axis 97%\n",
    "    * loss function: [RPN Loss Function](https://towardsdatascience.com/review-faster-r-cnn-object-detection-f5685cb30202), combines:\n",
    "        * classification loss over 2 classes\n",
    "        * regression loss of bounding boxes\n",
    "    * Train loss: 0.12, Validation loss: 0.3  "
   ],
   "metadata": {
    "collapsed": false
   },
   "id": "702007b2bcf0c8c1"
  },
  {
   "cell_type": "markdown",
   "source": [
    "<img src=\"https://img.icons8.com/bubbles/50/000000/information.png\" style=\"height:50px;display:inline\">\n",
    "\n",
    "### Morse Code\n",
    "\n",
    "---\n",
    "\n",
    "Morse code is a method of transmitting text information using a series of short and long signals, called \"dits\" and \"dahs\" respectively. The basic unit of time measurement in Morse code is the \"dit,\" and the \"dah\" is equal to three dits in duration. The spacing between dits and dahs within a character is equal to one dit. The spacing between characters within a word is equal to three dits, and the spacing between words is equal to seven dits.\n",
    "\n",
    "Here's an image that illustrates the structure of Morse code:\n",
    "\n",
    "<img src=\"assets/International_Morse_Code.png\" style=\"height: 200px;\"/>\n",
    "\n",
    "The image shows the relative timing of dits, dahs, and the spacing between them. As you can see, a \"dah\" is three times longer than a \"dit,\" and the spacing within a character is one dit, between characters is three dits, and between words is seven dits.\n",
    "\n",
    "For example, the letter \"A\" is represented by \".-\" in Morse code, which corresponds to a dit (left) followed by a dah (right). The letter \"Q\" is represented by \"--.-\", which corresponds to two dahs (right, right), a dit (left), and a dah (right)."
   ],
   "metadata": {
    "collapsed": false
   },
   "id": "ec9902b7e0ed1bff"
  },
  {
   "cell_type": "markdown",
   "source": [
    "# Imports"
   ],
   "metadata": {
    "id": "54d4435245ddac68"
   },
   "id": "2e74b85322dde4cf"
  },
  {
   "cell_type": "code",
   "source": [
    "import numpy as np\n",
    "from scipy.io import wavfile\n",
    "from IPython.display import Audio\n",
    "import logging\n",
    "import sys\n",
    "from scipy import signal\n",
    "import torch\n",
    "import os\n",
    "from torch.utils.tensorboard import SummaryWriter\n",
    "import torch.nn as nn\n",
    "import torch.nn.functional as F\n",
    "import torch.optim as optim\n",
    "from torch.utils import data\n",
    "from itertools import groupby\n",
    "# !pip install Levenshtein # uncomment in Colab\n",
    "from Levenshtein import distance\n",
    "import matplotlib.patches as patches\n",
    "import torchvision\n",
    "from torchvision.models.detection.faster_rcnn import FastRCNNPredictor\n",
    "from tqdm import tqdm\n",
    "from matplotlib import pyplot as plt\n",
    "import pickle\n",
    "import random\n",
    "\n",
    "# Configs\n",
    "logging.basicConfig(\n",
    "    format='%(asctime)s [%(levelname)s] %(name)s - %(message)s',\n",
    "    level=logging.DEBUG,\n",
    "    datefmt='%Y-%m-%d %H:%M:%S',\n",
    "    stream=sys.stdout,\n",
    ")\n",
    "log = logging.getLogger('')\n",
    "logging.getLogger(\"matplotlib\").setLevel(logging.INFO)\n",
    "logging.getLogger(\"librosa\").setLevel(logging.INFO)\n",
    "\n",
    "%load_ext tensorboard"
   ],
   "metadata": {
    "id": "98c30cc252db74b0",
    "execution": {
     "iopub.status.busy": "2024-03-28T20:20:14.656648Z",
     "iopub.execute_input": "2024-03-28T20:20:14.657601Z",
     "iopub.status.idle": "2024-03-28T20:20:14.671189Z",
     "shell.execute_reply.started": "2024-03-28T20:20:14.657564Z",
     "shell.execute_reply": "2024-03-28T20:20:14.670322Z"
    },
    "trusted": true,
    "ExecuteTime": {
     "end_time": "2024-03-31T15:40:24.225142Z",
     "start_time": "2024-03-31T15:40:14.500506Z"
    }
   },
   "id": "c2dd0c1c27e8e1d1",
   "outputs": [],
   "execution_count": 1
  },
  {
   "cell_type": "markdown",
   "source": [
    "# Morse"
   ],
   "metadata": {
    "id": "f927a219b95d36a6"
   },
   "id": "e5b015734e36f24f"
  },
  {
   "cell_type": "markdown",
   "source": [
    "## Morse Utils"
   ],
   "metadata": {
    "id": "77db0b15a2d56e44"
   },
   "id": "f6beae8cce1ac2c0"
  },
  {
   "cell_type": "code",
   "source": [
    "MORSE_CODE_DICT = {\n",
    "    'A': '.-',\n",
    "    'B': '-...',\n",
    "    'C': '-.-.', \n",
    "    'D': '-..',\n",
    "    'E': '.',\n",
    "    'F': '..-.',\n",
    "    'G': '--.',\n",
    "    'H': '....',\n",
    "    'I': '..',\n",
    "    'J': '.---',\n",
    "    'K': '-.-',\n",
    "    'L': '.-..',\n",
    "    'M': '--',\n",
    "    'N': '-.',\n",
    "    'O': '---',\n",
    "    'P': '.--.',\n",
    "    'Q': '--.-',\n",
    "    'R': '.-.',\n",
    "    'S': '...',\n",
    "    'T': '-',\n",
    "    'U': '..-',\n",
    "    'V': '...-',\n",
    "    'W': '.--',\n",
    "    'X': '-..-',\n",
    "    'Y': '-.--',\n",
    "    'Z': '--..',\n",
    "    '1': '.----',\n",
    "    '2': '..---',\n",
    "    '3': '...--',\n",
    "    '4': '....-',\n",
    "    '5': '.....',\n",
    "    '6': '-....',\n",
    "    '7': '--...',\n",
    "    '8': '---..',\n",
    "    '9': '----.',\n",
    "    '0': '-----',\n",
    "    '.': '.-.-.-',\n",
    "    ',': '--..--',\n",
    "    '?': '..--..',\n",
    "    '=': '-...-',\n",
    "    '+': '.-.-.',\n",
    "}\n",
    "ALPHABET = \" \" + \"\".join(MORSE_CODE_DICT.keys())\n",
    "num_tags = len(ALPHABET)\n",
    "sr = 2000 # samplerate, affect spectrum size\n",
    "\n",
    "def get_spectrogram(samples, sr):\n",
    "    \"\"\"\n",
    "    Calculate the spectrogram of a time series signal with sample rate sr\n",
    "    :param samples: time domain signal\n",
    "    :param sr: sample rate\n",
    "    :return: \n",
    "    \"\"\"\n",
    "    _, _, sxx = signal.spectrogram(samples, nperseg=int(0.02 * sr) , noverlap=0)\n",
    "    return sxx\n",
    "\n",
    "\n",
    "def aggregate_cer(prev_cer, prev_total_chars, y, y_pred):\n",
    "    \"\"\"\n",
    "    Calculate new CER (Character Error Rate) given previous CER and new data points [y, y_pred]\n",
    "    :param prev_cer: previous CER, from .0 to 1.0\n",
    "    :param prev_total_chars: total chars (int)\n",
    "    :param y: series of chars (tokens)\n",
    "    :param y_pred: target chars\n",
    "    :return: new CER\n",
    "    \"\"\"\n",
    "    new_cer = prev_cer\n",
    "    new_total_chars = prev_total_chars\n",
    "\n",
    "    for i in range(len(y)):\n",
    "        a = prediction_to_str(y[i])\n",
    "        b = prediction_to_str(torch.argmax(y_pred[i], 1))\n",
    "        new_cer = calculate_levenshtein_distance(new_cer, new_total_chars, a, b)\n",
    "        new_total_chars += max(len(a), len(b))\n",
    "\n",
    "    return new_cer, new_total_chars\n",
    "\n",
    "\n",
    "def calculate_levenshtein_distance(prev_cer, prev_total_chars, original, predicted):\n",
    "    \"\"\"\n",
    "    Calculate CER based on Levenshtein distance\n",
    "    :param prev_cer: 0.0 to 1.0\n",
    "    :param prev_total_chars: int\n",
    "    :param original: target string\n",
    "    :param predicted: predicted string\n",
    "    :return: \n",
    "    \"\"\"\n",
    "    d = distance(original, predicted)\n",
    "    new_total_chars = prev_total_chars + max(len(original), len(predicted))\n",
    "\n",
    "    return (prev_cer * prev_total_chars + d) / new_total_chars\n",
    "\n",
    "\n",
    "def calculate_cer(prev_cer, prev_total_chars, original, predicted):\n",
    "    \"\"\"\n",
    "    Computes the Character Error Rate (CER) between the original and predicted strings\n",
    "    :param prev_cer: \n",
    "    :param prev_total_chars: \n",
    "    :param original: \n",
    "    :param predicted: \n",
    "    :return: new CER\n",
    "    \"\"\"\n",
    "    # Convert strings to lists of characters\n",
    "    original_chars = list(original)\n",
    "    predicted_chars = list(predicted)\n",
    "\n",
    "    # Get the length of the longer string\n",
    "    max_length = max(len(original_chars), len(predicted_chars))\n",
    "\n",
    "    # Initialize counters\n",
    "    errors = 0\n",
    "\n",
    "    # Iterate over the characters and count errors\n",
    "    for i in range(max_length):\n",
    "        try:\n",
    "            if original_chars[i] != predicted_chars[i]:\n",
    "                errors += 1\n",
    "        except IndexError:\n",
    "            # If the string is shorter, consider the remaining characters as errors\n",
    "            errors += 1\n",
    "\n",
    "    if errors > 0:\n",
    "        log.error(original, predicted, errors)\n",
    "\n",
    "    return (prev_cer * prev_total_chars + errors) / (prev_total_chars + max_length)\n",
    "\n",
    "def find_one_first_element(ndarrays):\n",
    "    \"\"\"\n",
    "    Find the first and last array that contains ones (bounding the activity in a spectrogram)\n",
    "    :param ndarrays: spectrogram\n",
    "    :return: \n",
    "    \"\"\"\n",
    "    first_index = -1\n",
    "    last_index = -1\n",
    "    for i, arr in enumerate(ndarrays):\n",
    "        if arr[0] == 1:\n",
    "            if first_index == -1:\n",
    "                first_index = i\n",
    "            last_index = i\n",
    "    return first_index, last_index\n",
    "\n",
    "\n",
    "def accumulated_length(array_list, start_index, end_index):\n",
    "    \"\"\"\n",
    "    Given a list of time-series values (represents morse chars), return the accumulated length in the time domain\n",
    "    :param array_list: \n",
    "    :param start_index: \n",
    "    :param end_index: \n",
    "    :return: \n",
    "    \"\"\"\n",
    "    acc_length_start = 0\n",
    "    for i in range(start_index):\n",
    "        acc_length_start += len(array_list[i])\n",
    "\n",
    "    acc_length_end = acc_length_start\n",
    "    for i in range(start_index, end_index + 1):\n",
    "        acc_length_end += len(array_list[i])\n",
    "\n",
    "    return acc_length_start, acc_length_end\n",
    "\n",
    "\n",
    "def get_signal_bbx(signal_array, spec_time_len, signal_len, pitch):\n",
    "    \"\"\"\n",
    "    Get signal boundary box\n",
    "    :param signal_array:\n",
    "    :param spec_time_len:\n",
    "    :param signal_len:\n",
    "    :return: x_start, y_start, x_end, y_end\n",
    "    \"\"\"\n",
    "    activity_array_start_idx, activity_array_end_idx = find_one_first_element(signal_array)\n",
    "    time_domain_start_idx, time_domain_end_idx = accumulated_length(signal_array, activity_array_start_idx,\n",
    "                                                                    activity_array_end_idx)\n",
    "    alpha = signal_len // spec_time_len\n",
    "    bbx_idx_start_x = time_domain_start_idx // alpha\n",
    "    bbx_idx_end_x = time_domain_end_idx // alpha\n",
    "\n",
    "    main_freq_idx = pitch*2 // 100\n",
    "    return bbx_idx_start_x, main_freq_idx, bbx_idx_end_x, main_freq_idx+1\n",
    "\n",
    "\n",
    "def apply_noise_to_signal(signal, SNRdb):\n",
    "    \"\"\"\n",
    "    Apply noise to signal\n",
    "    :param signal: \n",
    "    :param SNRdb: specific SNR (Signal to Noise ratio)\n",
    "    :return: \n",
    "    \"\"\"\n",
    "    signal_power = np.mean(abs(signal ** 2))\n",
    "    sigma2 = signal_power * 10 ** (-SNRdb / 10)  # calculate noise power based on signal power and SNR\n",
    "    noise = np.sqrt(sigma2 / 2) * (np.random.randn(*signal.shape) + 1j * np.random.randn(*signal.shape))\n",
    "    return signal + noise\n",
    "\n",
    "def get_dot(ref, apply_random_length_dots):\n",
    "    if apply_random_length_dots:\n",
    "        scale = np.clip(np.random.normal(1, 0.2), 0.5, 2.0)\n",
    "        return int(ref * scale)\n",
    "    else:\n",
    "        return int(ref)\n",
    "\n",
    "def get_dash(ref, apply_random_length_dots):\n",
    "    if apply_random_length_dots:\n",
    "        scale = np.clip(np.random.normal(1, 0.2), 0.5, 2.0)\n",
    "        return int(3 * ref * scale)\n",
    "    else:\n",
    "        return int(3 * ref)\n"
   ],
   "metadata": {
    "id": "a6b6140ecf98869d",
    "execution": {
     "iopub.status.busy": "2024-03-28T22:59:41.849626Z",
     "iopub.execute_input": "2024-03-28T22:59:41.850500Z",
     "iopub.status.idle": "2024-03-28T22:59:41.872340Z",
     "shell.execute_reply.started": "2024-03-28T22:59:41.850470Z",
     "shell.execute_reply": "2024-03-28T22:59:41.871411Z"
    },
    "trusted": true,
    "ExecuteTime": {
     "end_time": "2024-03-31T15:45:02.112344Z",
     "start_time": "2024-03-31T15:45:02.090316Z"
    }
   },
   "id": "c63ab2923004d52",
   "outputs": [],
   "execution_count": 14
  },
  {
   "cell_type": "markdown",
   "source": [
    "## Morse Generator"
   ],
   "metadata": {
    "id": "3975c073629dba46"
   },
   "id": "969687db1be978b0"
  },
  {
   "cell_type": "code",
   "source": [
    "def generate_morse_sample(sr=2000, text_len=10, pitch=950, wpm=18, snrDB=1, amplitude=100, s=None, apply_random_length_dots = True):\n",
    "    \"\"\"\n",
    "    Generate morse sample\n",
    "    :param apply_random_length_dots: \n",
    "    :param sr: \n",
    "    :param text_len: \n",
    "    :param pitch: \n",
    "    :param wpm: \n",
    "    :param snrDB: \n",
    "    :param amplitude: \n",
    "    :param s: specific string\n",
    "    :return: <time domain signal, frequency domain spectrogram, morse string, spectrogram bounding box>\n",
    "    \"\"\"\n",
    "    assert pitch < sr / 2  # Nyquist\n",
    "\n",
    "    # Common morse spacing [https://en.wikipedia.org/wiki/Morse_code]\n",
    "    ref = (60 / wpm) / 50 * sr\n",
    "\n",
    "    # Create random string that doesn't start or end with a space\n",
    "    if s is None:\n",
    "        s1 = ''.join(random.choices(ALPHABET, k=text_len - 2))\n",
    "        s2 = ''.join(random.choices(ALPHABET[1:], k=2))\n",
    "        s = s2[0] + s1 + s2[1]\n",
    "\n",
    "    time_domain_signal = []\n",
    "    time_domain_signal.append(np.zeros(5 * get_dot(ref, apply_random_length_dots)))\n",
    "\n",
    "    # dat\\dit space = 1 dot, char space = 3 dots, word space = 7 dots\n",
    "    for c in s:\n",
    "        if c == ' ':\n",
    "            time_domain_signal.append(np.zeros(7 * get_dot(ref, apply_random_length_dots)))\n",
    "        else:\n",
    "            for m in MORSE_CODE_DICT[c]:\n",
    "                if m == '.':\n",
    "                    time_domain_signal.append(np.ones(get_dot(ref, apply_random_length_dots)))\n",
    "                    time_domain_signal.append(np.zeros(get_dot(ref, apply_random_length_dots)))\n",
    "                elif m == '-':\n",
    "                    time_domain_signal.append(np.ones(get_dash(ref, apply_random_length_dots)))\n",
    "                    time_domain_signal.append(np.zeros(get_dot(ref,apply_random_length_dots)))\n",
    "\n",
    "            time_domain_signal.append(np.zeros(2 * get_dot(ref, apply_random_length_dots)))\n",
    "\n",
    "    time_domain_signal.append(np.zeros(5 * get_dot(ref, apply_random_length_dots)))\n",
    "    time_domain_signal_ = time_domain_signal.copy()\n",
    "    time_domain_signal = np.hstack(time_domain_signal)\n",
    "\n",
    "    # Modulation\n",
    "    t = np.arange(len(time_domain_signal)) / sr\n",
    "    sine = np.sin(2 * np.pi * t * pitch)\n",
    "    time_domain_signal = sine * time_domain_signal\n",
    "\n",
    "    # Add noise\n",
    "    time_domain_signal = apply_noise_to_signal(time_domain_signal, snrDB)\n",
    "    time_domain_signal *= amplitude / 100\n",
    "    time_domain_signal = np.clip(time_domain_signal, -1, 1)\n",
    "    time_domain_signal = time_domain_signal.astype(np.float32)\n",
    "\n",
    "    # calculate spectrum\n",
    "    spec = get_spectrogram(time_domain_signal, sr=sr)\n",
    "\n",
    "    # calculate spec boundaries\n",
    "    bbx = get_signal_bbx(time_domain_signal_, spec.shape[1], len(time_domain_signal), pitch)\n",
    "\n",
    "    return time_domain_signal, spec, s, bbx"
   ],
   "metadata": {
    "id": "7a24cbc9a2fe62a8",
    "execution": {
     "iopub.status.busy": "2024-03-28T22:57:46.134626Z",
     "iopub.execute_input": "2024-03-28T22:57:46.135262Z",
     "iopub.status.idle": "2024-03-28T22:57:46.150745Z",
     "shell.execute_reply.started": "2024-03-28T22:57:46.135230Z",
     "shell.execute_reply": "2024-03-28T22:57:46.149850Z"
    },
    "trusted": true,
    "ExecuteTime": {
     "end_time": "2024-03-31T15:45:04.481380Z",
     "start_time": "2024-03-31T15:45:04.467848Z"
    }
   },
   "id": "44a8ff173cb2e22f",
   "outputs": [],
   "execution_count": 15
  },
  {
   "cell_type": "markdown",
   "source": [
    "## Example generating 1 signal"
   ],
   "metadata": {
    "id": "84904b9ba97beea0"
   },
   "id": "53d914f5ad1ce270"
  },
  {
   "cell_type": "code",
   "source": [
    "# Params\n",
    "sr = 2000\n",
    "length = random.randrange(1, 8)\n",
    "pitch = random.randint(2, 19) * 50\n",
    "wpm = 18\n",
    "snrDB = random.randrange(-10, 10)\n",
    "amplitude = random.randrange(50, 200)\n",
    "\n",
    "time_domain_signal, spec, y, bbx = generate_morse_sample(sr, length, pitch, wpm, snrDB, amplitude, None)\n",
    "log.info(f\"pitch: {pitch}, wpm: {wpm}, snrDB: {snrDB}, amplitude: {amplitude}, str: {y}, bbx: {bbx}\")\n",
    "\n",
    "# Display spectrogram\n",
    "min_value = np.min(spec)\n",
    "max_value = np.max(spec)\n",
    "normalized_spectrum = (spec - min_value) / (max_value - min_value)\n",
    "\n",
    "fig, ax = plt.subplots(1, figsize=(16, 8))\n",
    "plt.pcolormesh(normalized_spectrum)\n",
    "rect = patches.Rectangle(\n",
    "    (bbx[0], bbx[1]),\n",
    "    bbx[2]-bbx[0],\n",
    "    bbx[3]-bbx[1],\n",
    "    linewidth=4,\n",
    "    edgecolor='red',\n",
    "    facecolor=\"none\",\n",
    ")\n",
    "# Add the patch to the Axes\n",
    "ax.add_patch(rect)\n",
    "plt.text(\n",
    "    bbx[0], bbx[1],\n",
    "    s=y + '| morse' + \" \" + str(int(100*1)) + \"%\",\n",
    "    color=\"white\",\n",
    "    fontsize=16,\n",
    "    verticalalignment=\"top\",\n",
    "    bbox={\"color\": 'red', \"pad\": 0},\n",
    ")\n",
    "plt.show()\n",
    "\n",
    "# Save file\n",
    "filename = f'./assets/test.wav'\n",
    "time_domain_signal = np.int16(time_domain_signal / np.max(np.abs(time_domain_signal)) * 32000)\n",
    "wavfile.write(filename, sr, time_domain_signal)\n",
    "Audio(filename)"
   ],
   "metadata": {
    "colab": {
     "base_uri": "https://localhost:8080/",
     "height": 702
    },
    "id": "48d8e89e0790b22",
    "outputId": "713fde84-077e-4c26-d6e9-e9dcdfd18a6c",
    "execution": {
     "iopub.status.busy": "2024-03-28T21:38:02.621788Z",
     "iopub.execute_input": "2024-03-28T21:38:02.622877Z",
     "iopub.status.idle": "2024-03-28T21:38:02.852546Z",
     "shell.execute_reply.started": "2024-03-28T21:38:02.622834Z",
     "shell.execute_reply": "2024-03-28T21:38:02.851562Z"
    },
    "trusted": true,
    "ExecuteTime": {
     "end_time": "2024-03-31T15:45:10.799534Z",
     "start_time": "2024-03-31T15:45:10.679879Z"
    }
   },
   "id": "bec109a4c16e7b67",
   "outputs": [
    {
     "name": "stdout",
     "output_type": "stream",
     "text": [
      "2024-03-31 18:45:10 [INFO] root - pitch: 950, wpm: 18, snrDB: -2, amplitude: 130, str: PL .T, bbx: (13, 19, 193, 20)\n"
     ]
    },
    {
     "name": "stderr",
     "output_type": "stream",
     "text": [
      "C:\\Users\\Maor\\AppData\\Local\\Temp\\ipykernel_31128\\3015226362.py:56: ComplexWarning: Casting complex values to real discards the imaginary part\n",
      "  time_domain_signal = time_domain_signal.astype(np.float32)\n"
     ]
    },
    {
     "data": {
      "text/plain": [
       "<Figure size 1600x800 with 1 Axes>"
      ],
      "image/png": "[encoded data removed]"
     },
     "metadata": {},
     "output_type": "display_data"
    },
    {
     "data": {
      "text/plain": [
       "<IPython.lib.display.Audio object>"
      ],
      "text/html": [
       "\n",
       "                <audio  controls=\"controls\" >\n",
       "                    <source src=\"data:audio/wav;base64,UklGRkxEAABXQVZFZm10IBAAAAABAAEA0AcAAKAPAAACABAAZGF0YShEAABnKOjcRQm+D+XcZS6ZDD+woik7LI3Cdhft9TvbhgBgG6Dq68xATdPPzOaJo5kBPiqTAaS8TV2KSDA2sP+0wzMw9t0gtBmbI/0AgwQKESfHAjkbhA++1nIkxtb4NUQ2+iKLQlgRb/8rWPm1d/CLpzzn6tk+xgFWeAFUhi8TffzRHL9epwle+lblAH0r21ZscU6nJQCD9M8n9QDHZgi2eMKyF+lX/CTmAH1W6ifWAINm3LzHdxsAfdkEthFgXxYer/aG6Oe6auQAg7/KVy+H4Co4TZ92/EQ6KQcQ1D4mUvJsE03jAH2tuqQCzpXjG2glViT49V8c1t4nH4j7hglCwwLCAIOM3DneAIMJuSQt+MJpv9gH7+vC9GLKd+ccJzXa3EKw/EadU76rC+S3Aqx9csLpoFTf+0JDSCHXXeicN6tSD9MfzPJ8L4+8ze+O7NksRBVedKL+CliyVTk6P6dy5W5Pn3wnSPDVAH0F0NEc6OMAffxAItn+fIjfVgCf3nUVLOPL06HScxEUvrZ3j+nqj3nY48gAg+InL91KK9jzk9z0EX7HawAZd/gDTweBVoqw7Oy+OGvoLugfFIbuAH3NdX5O2AixJ4LBW44aCRLskOYPkUpdZg5e6vjnqw3X4wCD2M8Ag9T1LEkfLNDndZxnJJuwa/lSPtYbAH0n3wCDxx7FzAfFXy0Afft1ldA5+QCDUfSr9+bhwQmgI0s156NJ+jG0czoi5hCkUvWZuJfkUOvlQnDnO+owY65QAIPvKL/VYSoWnDi3VIbs2h0xqFetLZX3qFNfI9UoQydZHhzDkFtxRwhlQxtq0yYoAH0vFiUMq/tZyv/rwrEs5iQFEBkeJIcBpAib9KAjC/YAfQip9bD/MLlL3TZIFgokwhOiy/fE+jRzzbJtNN0AgzE+Ju1AnWWF5/3ioSf1HyYAg6jkSUdBm43FHFF240PgL/PwEF/dtQhN2XOErcBFQ7/K9+bDt87aOSXmwtMCM/wAfX7d32+H/7eed8WUCVoqSeCtFNMfEGYS2JQxbwyYywB9vAyPBojX0KpGxOzsUU0wDYrZeW7b4WojZw4a4YOfSG3kt+j0d0pFD52jZfXAA7S3yfsiEO9DpDOuTygVvv5kB3HQgepJWheXJxp9TiDn7dISsygWqLId8FT1b8hZ1XcadUXMEWED0CkAg0PDGt3nPwB9n+fz4AGfB/Ul02HOo/uppb+2Crdc2KDPEgZH6vOM7SY40MxbVvTWMD1zTh83KW3xAINutJ6TF3zN3CD6S+7PCU7zsXe5H6iToq4MpVL+yvRnaDE4LCucDd34K0YQMFkfAIO/TLHYFDDJDwB9ahRkVgB97MXbzRhoCvpkmNItAH3ppAJP7U8gTdczS0EAg9xKwJQAfYrLARUAg9ACHWusPQCDAH0AgwB9tIoAfeSUYCEAg+pNHM6jWBmtjQf3zBxFAH0L3dtAAIMAfQCDqXUAgwB9AIMAfWUdUw3Tnna7i+u3p/HKtcRAMALFJlYAgwB9AIMAfQCDAH0lugB9AIMiWwCD4zUAgygW6tkOR9qmAg+dTACDPgQAgwB9AIMAffGOAH0AgwB9AIMAfQzOAH0b9Gx71ORy3eWyAfUAfYuZAH0Ag/N3AIMAfSqeAH0Ag6R0AIMAfQCDhj8ODH+cu0QvP9ZDudPbWgCDAH0Ag5hpAIMAfQCDAH0AgwB9AtkGEb8Z+CMAg2EpZiexFkB8b+BebiWiAH0Ag59si4QAfUKgAH0b1nsaAZQc86M7ndJAngCDAIPCErfkXLISoSOqo/a9QgXLayQ2ymE26uBX2DffKBn3ur30BA7LHVvUbbsJCZWyRyhO4Sj3NfOIJ+GR+citGRA4q2I/XiwIvjMw8wCDxftq9HfejdVSyhyZqig1POHxTUnpQTYV/RJeExcybP1u8ioNEPNxTpxeUhDyAPwk5C/oTwoCVwjtC/Pd0GvY8ID7kVjWLAwmtgeIRlAiU1u/rgFjxiMMMWf9ykrCsLAmvE3LEdIt5SyvAykCDxsY+b7sERvnFdtZ3MwAfRbSL62qDcC91fzX/52uud0Ag9LkaSd/lnLrdl+n10VnN9Xt5vJA/91/61JYAIMxfMGoAH2m0gB9AIMAfQCDcTgAg5pIAIM7Lhv+vXkEe5/w50Nrt0DlRsQBVgCDAH0AgwB9AIOHTHnCAH21hgUhAIPzOPssewA4YwCDAH0AgwB9AIMAfQCDAH0AgwB9YLQAfbHFAH0Ag0oeMqLxMwcFMOYC/QCDRnEAg58VAIMAfb7DAH0AgwB9woMAfY/KAH3tyr0g2NrJ59rtupP5JACDAH21lAB9po8AfQCDAH0Ag3VSAIOqY96XAH3su93hAH3646cUQ5jwJgCDAH3ezFl1B4cAfcaM8mEAg2BwAIMAfXodtAafhWLyKRA6plJJAIMAfQCDAH0Ag0o/z48AffqGBnTKnB9blOUv9dUj3cvx69jAAH0AgwJcAINTZMiKAH0uzAB9TJcAffPIAH3m7IciAIOV2HrsFING11uYHToAg8krfIsAfamIUhwAgwB9b4QAfdOmkwNq+sPceZPI7o1w4ufDtQOJAH1UKa0xAIOCdgCDAH0Ag0lY89oWbXaZAH1CAjhHPGXw5OIicNAAfQCDvG8AgwB9AIOSMGS0TmkX1QB9he2jcEXO0S5GH3HnAH3Y/YkRAIMKWeTNAH0AgwB9AIMAfQCDQ0MAg9gJbLgAfWkGfuvj/NOtJVFozQB9AIP11QCDAH0AgwB94vYAfQCD8S4Ag4IZw64AfZzas+97ASmQAH0Ag6ldAIOLNQCDAH0Ag/9wAIP8cfT29lIAg8lVghTj4qcFNq6/PxTk722B9CD+AIMAfQCDAH0AgwB9AIPVSgCDoikCwUkn87NHw785z75LTQCDuHAfxW1mUov8ZQCDAH0AgzFVAIMAfQ0CGV8Ag0EDUQUP+gB9ZQkAfQCDAH0Ag4VmAINAIACDAH0twgB9iZfseLWLv1LZC6dZV8Aj/G9usdq4cQCDAH0AgwB9AIPJT1LFAH0Ag38yFvSYV3u2PyKCCssoMAYAgwB9opsAfYDZmHMAg1FoAIMAfQCDAH2QGQB93YuNOp3XbQIfxnXgAH0vxAB9OLPzdgCDAH0AgwB9AIOuYwCDAH0ziBdsqtz+ZUw9g57Z1QCDAH1augB9k7cAfQCDAH0Ag/xmAIMAfQCDAH0Ag1Ezl660yo8xb78tV9C0AH0AgwB9+scAfQCDAH2knQB9AIMAfXToogEcCZgpkw6PKctlAIMWeoi8AH0PuEdiAIMAfQCDAH0AgypOjh4AfRHEVft1+ACDkKwAgwB93ABWZj7mAH0AgwB9AIPMU0a/72v0sAB9sL8AfQbWOwPyO8woNVsEsQB9i/UAfWAE/MgZ52TANQf1wIWP08sHufs5VetH/QCDJ+rRwSlI54iwqHrvzFyevAC8OBSrmAhAfN1uNHycGAn02h5Y28AP3GPP4DYAGM7Pw9T35u8LiJEFsja2OyCYm8r4/RQ6QKBBB5xUMXr7AH1o2yZ7wzUjtS9H3dFg0SMQitthEpX9WEUyAwB9AIMAfX6p9kgAgzNNwjxLT5IwRqeHXI+pAH2dAgB9logAfdblAH0LrAB9mp4AfQCDn8ZHGH5GXvMY38QIUbssXwCDAH0AgwB9AIMAfQCDAH0Ag/I+5gZHajC9LAeNweWjHh8AgwB9AIOXaiTUP3oAgwB9AIPAe3mXAH19/stIAIMpvnG2x4Rl2K4bg/8zxQB9AIMAfWUEaWgAgwB9AIMAfQCDAH184gB9RD7jEKKJarkAfTHhAH0AgwB9AIMAfQPhAH0AgwB9AINeLACDAH0TtuC93fi7XW9xAIMAfQCDAH0AgwB9AIMAfQCDWnQAgwB9Z58AfQCDFu1F1n1hSTAGFL5Eyb0AfQCDAH39iWtyYqMIZQCDAH0Ag4Z1AIPYPtL6G10AfRZYJ1wAgxhRmajoUACDAH0AgwB9AIMAfQCDelgAg6nuAIPNVpaEAIPhuf6rWQmJjQB9KwA9VQCDAH0AgwB9i40AfQCDAH2ay643+TRqHzg//BdaYZA1LFgAg+xeAIMAfbPZtnEAgwB9Er0AfQCDjXYS931C3EhpSmML2CMEapraXEcukQB9AIMAfQCDAH1dhhcnAIMAfcDwAH1slQB9kQBU0vywWM2iOB2Qt2AAg3BQAIM7cQCDAH15jnR5AIMAfZPtAl20tgMnYtOw60Yh3Y0AfQzRE3aPvRskAIMfcQCDAH0Ag3l4eK8AfUYUJkSi2c0N+2Izv2ZC8I5F+gCDAH0AgwB9zppZULuRAH17i7gkkqqTKGfWDUz6xVrgtCwqFDFbjcI9Y62/AH0Ag/kkAIOcbwCDB/pZ25Xi8uiqAQoZAIOQAaMJLfZsH6SYd783v0MJ24sNHEAbELodVb2wV9irFKWJAIOknujt7uJPynBevOsoth62NhUAfQHythZ36+hH9AvvOwB9Y8a3ngXbRvNm+ZvzVyQLDVslpMMNubgDm3OME30IdxAAgzX9zxNgJ//QF5wcuva3va51/QCDj5svogB9YytIYlbYEMnyhT3QS3jDSQB9EkSXy8JFuBK1/bMK+h4z7xSgRPjrJn80O/6YCM0TrevtL9fPxiFD1RD/si0RTl9fKcrJ1JzwXdt4MLFJTSduy8z/X+r1zjdHt5kgLXsMAIOfxMzeX/1E1Ga+kifXvysg9qwjuTgjnx4AfQB9LcJu6MfZ696u3CMet/yBRUg+O5m9l0T4bzMt86He1j3xtHEVAIMAfQCDAH0Ag9smAIMAfcDL4XuW3JbdiA2WES4Gx8p+Bli2AH0AgwB9AIMAfUj4AH0AgwB9AIMAfXGZAH3A0wC6uziJVD1uAIMAfQCDAH0AgwB9AIMAfQCDAH3tjeAhStIhZQCDAH1eNL//znTcleN2AINee8CpAH3znAB9AIMAfXaHbWYrnMtSasdHWDlf4NlQXKvkVijl3hn2tEhuqOMup8tETbb/FjE+FQCDmEhjMj8dyeqJEwCDJ0TsFe8BStI8YTjOHcHKymIqQzeF3MZB3wJeLTblYQwtSCHxg0wr3ZUO5vlBRsK7AH2BJcX/CkwnvRczgzB+Ldn8ZS82/ekNEdlN+UPlFhrqn/RcY+9H3YH6tenc4439RgfL8j7fFf63ruHJpXGdG/aQFUFpkMvAzPFwaKXSk+4sukXCac1VHb0T9ESLLjnsftIIUegngClrsW0C9M0LFwcdYw8oFwuqT+yeKQvQz/f+zQB9QUqw8Ba5dhaFiKjd2fozMZBFv93Crvj9Fem/yg3dscwDBnAV0wiU4wCDPe6Qq4NNBj1AGU743rXDAIZCawPKvWSf7hezeFSeKNg4pz4OuEdOGCnRytcAfRmdEvoUTbsIO9oMJ8sAgegQCRau2hzvHpIT5DmgDtki5+vA01sZ7QGZ+/HqjOmyAdbXYDmUNGPNUSAAfeEsvS55zRogAbz74bbSERth//1CNCBNGwFpDjln7sDfWPJWTXDuYcXNtlIAShG83BvUx9YAfdlYhPawTQCDJzEQ/WgojfQH7NnNOUXxigCDAH362FUfPxyNt2b94xYJhq/mYqKSNACDItrbkVxRKIe95BvHoybsH/IGmI7Tv8IgTWT29+9Gkrn+AF8PSy7TiKX+hAldo5nkXBLZ+kIPAH1JDHW9+i7P+isMBaoL2tIsah//pp3fMZFEzlhGc+Lf3ZcJ9PqozVz26vigBl6l+GHdQgCSgNQJ7Sf76iA5KqsGmN/aKdC9DrkBFXyfUPA7Z2QqijNEEKIv0BUKtXU1dfL206sTEE78Vdi+rhXh7DwNpZ//TmqZOXEs+mIlf0q6G6tRbbLrEdYqdxYwyGn/mnw7WIOeNA/f+nasAH2871w/5Qd7xF3g47rcsXdXEPX/1a6lAH2kFH/xBgR/E2wM5fQf/XDyPs62N37PSiDXVJFNd/GqSdK3fa8CTJINjKrr82VMpOGu4ToUJftDRQB9F0JKIhTWwg0hD2Xt9L/p8a8aaSTHD1hmmQdaQ5ytIKJjCACDVKKWqhkaIsGQLwkPG0NB3GJftitIQ1/tKAXMPsImx/JQ2dnEj2GLOJ7d5wglOe4WjaCDzpcEfOtJ27+W+Ii/uvM83OQ2mXToFTRCCN3Y3gsAfdMpfrr0YwCDAH0Ag+tVAIMAfQCDAH0Ag2orbZa9QACDoRMsITVO8ScAgxBfm7gAfSCp4UUAgwB9AIMAfUuqAH0Ag/Axl8QIaSPUhU6gd2om3XGs+8fbAIMAfXydAH0AgwB9AIMAfQCDAH25ncM5AIMAfVLtSViJ4gCDAH0AgwB9AIOGLQCDAH0AgwB9AIMAfQCDAH3vxHQfa5wr2hA3wpkC/YojbV8AgwB9oYhhN1edAH0AgwB9AIOsOgCDAH2q7AB9VwYZ8Gem5sISLtrBVXiNumowAIMAfQCDAH0Ag9tPypgAfQCDAH0XrACDVa5LIsE7+s0AfezJgTQAgwB9ho4AfQCD7l+0iS9RL+EAfQCDuQHmyxwOKLmwlvpJAIMAfQCDSftGtwB9AIMAfQCDAH3X6/VutfsSdCb+okJ7SQCDmUK+5Xn67DxkMBiZGF2yBsOT/Y0Ag0goyi9e/t8+m+36MsiqE9LM08j7x6uI6GioP81QWPp0R+sUln7n0h486Tbeuo1QkioRLACe/UYSDhif3Sxt6dMtGaFz6MAAfXDnjdTkp6P5a9/bWhWa8/U6UDUIUwp5ZQUk3D4Ag1RLdxLd+IiVGeCK238SR/x9m3PtPPPpwh3NV/+etmMJOXWu/MHMjSxktWEZ/Qb32zVI7Q8uDPcmKg2Bnp8kk7J4S3gG7JMlE5TURvHZ9ZOxXiZiJ58m/Cv+DznscO8g7lvvOYxw2ACD+RbRBxmyfCx82wB9oe1VBQB9hUA4w/Y30CizCE8+4hyCDCQB7jFC64Xi0LUx5qD1N+LA4FClGh7piAB9X+oAfTqEAH0AgwB9AIMAfQCD2O8Agxo1WNGPMvm+hwyHeg7qAH04yQB9AIMAfQCDAH0AgwB9Db0Aff6zNSEAg9U9//WDOLckRngAfQCDCTgAgwB9AIMAfQCDAH0Ag3lIAIMAfYPSH3IT4hkg4d3wIVhFc5UAfQCDwnAAgwB9AIP3SwCDAH1ugxdgWJ4AfQCDAH3gFMwGKfwT1AB9LYpvYfruAH3eogB91YwAfQCDAH0Ag/hqXcMWRQCDj0ZDD0fxKhnQ3AB9tJYAfQCDAH0AgwB92rI9RwCDAH3IjAB9GNbW5W/9LOTpE+2PUSC/wS9TAIMAfQCDAH1hyAB9AIMAfdO0DWsAg53PINwpSMMa1esxRn2kAH2fv3snAIMWagCDLXMAgwB9AIMAfQCD021+9MVAdv56Vs40GfJPZ7aDAH0Ag691AIMAfemcfmcAg851uMKVecGGAH2WybDut7p/P65HAIPbdQCDVGvWwQB994oAfZeHAH0AgwB9AIM+ZwnDESEAgz0QHRQAg4dEAIM1QXHyAH0AgwB9AIMAfQCDQ0MRQAB9nVOS5wCDVHPGBdwkkuXOE4A80f8AfQCDaT4AgwB9AIMAfQCDAH0GvwB9aykAfVdakZTP8ACDAH250QB9H9YAffmFAH24jgB9AIMKM6K6/D7/5+kZAIPLNp8Cs0FqR4DVAH0AgwB9wCUAfQCDQHSl5Hw7NMNhWVARYWM7hYst17vy8oMaNLmoOvGEAH1ToZwyAIOucACDAH2ouwB9X54AfR/hAH0Ag0TwP0kqB4vc/J0AfQCDAH08hQB9AIPJdwCDAH1piQB9AIP2XyvoAH3bzgB9hiF8EYxc5/KQLQCDmRgAgwB90aAAfQCDAH0Ag5dVAIOfZrinK8CICp32vPQmoes+qqIAfQCD6z0AgwB9AIMAff/W0V73vwB9CN9q8O1D2x1WylqpkjE63gB9AIOQV+n8AH3v+f0q7Rxt+Rhg0hcqI5GZnd4lFSJm31Up/Wu3+9nDAq2539b+1gCD9WQmONLZCFqOYDYbBijJR+PtRZibJ2bl72+1I1UJCv3ZQysdAIOG+GuaCwAusGbaHP7/EfvsB8ftBOsZB3Cz+epd4jJaFqUFBR7Q6LC2qlEI7N/hSthKIgCDUyvfswfs9TWb1xbcfNYjryKgtezq+xM7zcqTIWG+SSawp4rTbtJR/SDncKgoqsIFigVc/IbEqgvmr8/Z2MLC9ftNuCze/wdRjdLEuKYtgk6pIwB9CN8/Sd3EUL0Sq6empXJCuelcAIMAfR2MAH0AgwB9AIPBTQCDDVQpkgB9gOq8Xy8Fz3lcUtf/MxgAg2o6AIMAfQCDAH11i3ReAIMAfUOxAH0srV1HbqovmMrtM9ezM33jAH3K8lN7rPYAfXTCAH2DjAB9AIOcPbKiwzVo+cH2U+Gb/l08jZAAfQCDAH0AgwB9AIMAfQCD4itImgB9AIMAfcCur+0hFnNxYkYAg5cf6YwAfQCDAH0Ag4bXAIN3FACDAH3FsuRTAIPWVACDBUjdwEwHif2bxvRfVKgAfQCDAH0Ag14BAIMAffuE/0C1z05kOxX8Gl7hperC+gB9mWwPtCBHdKBVAYk686qvJgvU/VULuHc3PE69MMD2TBunKWQGFd1Ueff46g86yrPgoFrI4wB9TunzYJ4J6/Wh3k7g6PD3Mzbpz/IAgz4PQPMIJI6rBq1V0IfonQffbJjbckQAfQc/QMPzpyE2+kkzLJwizXXe8d/HQkpdVytGkY2ZhwCDGzVf6vYHAIM7H9L1KoyRCGkV5Tjl5MyXhQs8jcLsROlmMgB9ki59uE/+aYtuDrT7E7yZ2e1Qy/8P+dDbxNGGJJXyhtFyvzisywkzOyRI9FdaKXbD6QDKMdWo3AJZWIcTdmYhCAcOgtWKRLgPAH0hSQB9AIMAfQCDAH0Ag6J5AIOEen2imy2yQAQcFfTOywCDNPhT77ed2hEAgwB9vpsAfQCDAH0AgwxWF66rL6mTAH1N82jvqu24hCosJuNJRgCDAH0AgwB9AIMAfQCD51tHjQB90KUvKrOc4HZ6BdYFVlWRP93euQlKMQCDAH2vgwB9AIMNcACDAH2vqAB9j8uXapAGaThFECn9jvEAg6kkuKwdYACDjhIAg6R21KoAfQCDAH0LuJRdx+M1cHHfBUgbPSR8FTcYos5fAINTVgebAH0Ag1hPzBEAfQCDAH3TvzodHNIYRajFL7+vJ4MQalGtpx4DAIMAfSSWAH0Ag+lnAIMAPQCDIg8G5qv3MeilclG9lRzBKXUv4SJx5GcFACpz1Tb8j7km8t8b/oXwB2kBI6169gB9nGMAfXv3Dh30AgQyZMcAfRrqESZWpQOtYu+BysDQC6LZS43A9N6v4Of8vwpH0b/sMwy1xFwP37raRfXv5Cvc9gwNAH2o2BxC2jHT0vCvm+cIHMIMieV2wA0F/cLa0cX4VljBJOzp2cP11WXX6Q774z4aIEvbYgKqcray6vqk+uOKpP86Rryqxo/jQOXXwoIVFk7vzovhnsmnEEI4SPwIEQB91//vTqSwCdBF0yhFMj4r9B+UK1JzClRBTV+kBNEC5sjJxZum9jaFX9EFLwT9qEXcAH2AKgVAYyBNnWcrbv6lKRM92h/zuunI8lBlBM5D29PmQMRYCJ4OIB5PUZvWCm8k4cXhtGPgApgkEZ2d2lJkDa6mkLh2+ACDAINMCXwzuiDVDWFDAIONDpX9WOQpOToq9eAAg7kkSS5eB0AdNdN8C6n0k99I4tSozNIg6t1Dagg24cvPnrAR7YFL1bru+uPvVSnkqo1aV487rjr3EVXl9EsNY/lgI5QDJJ0AfbDH4OMxzVJddf0j5sr4VHutIaEKX8bgngKZGwXbQDD4Ii66xxYp0xqUVG7GDSSI4wB9pRMeifrQ6coAfS6Hy1CmHbWwVqesoyeykh4NDAIJ1GBHAt02yO8K5YPUVdBCDkTTFVVj0eYFNocUMCMytqSa2CGWXPN0sX49n98fHd4Zccsrhr3vhySbQUL7zpxDRYgKz8wJ/PnQ1bQX4AsJ1OrJnmzLu9GTujrwvDI8/n3IXwDNOni1DZsCTJvRBOIAgwCD7P6LLRDquyCQKq4yB8AeUieb8RqzGACDByQAgwEtFRqoWjv3uF+r3rU3syOQOK3azyv8Beiwoe5qpuHLafN1GDHRuwVS1hqjEOuA4pBVBMNIsACDmcyjvyFBTgawwz5EtR/RD62Q+R0/qd8cAIOlPOTfGxkYXhNW7goPD3bGdBsZEHzxgxZkBoHxoNWX6KG1AIOS93YSAH28JUzqWQocTZAsJucAfW/2BB3d8vAmwMDoBYbiDz0lE1IwP2FNmvzWKgqBXl0PRBRj5oESr8wT/cqhAADc4Wie1x3ZBZ/zFeBNStvM/ByTIBBX9I+jA73yMx+NpsTmMZcAffrU0+fCHfD9kgoIHd4Usf0oEqNsHzuF/DwMXu/lvH8Cr9CiG+thzvJzEZ5joPD2XkBpkN12D56HONVCAM3zVB5P22LlQAF2DtEIqRJ9okoXa/vR3SIPMwDX81xIISNo5gCDe+AAfTBs79nnAPjEuZTC7JNCRzoRLbD/i1BB7YdI37nzZq3GTJ1s2I4PvSTOKuo8fOxqCbUceRSAwVTsJdueuuw8AH0YM2IvcgaWyM3QG3Gm/M4HHIr3kRvOucDBInfbOzrdEqVweepTK+XzBAgbi8nt1kUSLkOOAQx2COzNvZDe3gB92UvDvEupuKP3UWLz9jvI+9n8x0OsSYM9Df/n6SznNOMvEzg6jcBEK/H+LAntg/XeCwrEPM1qdzBnW5VJl8Yxg/v3WEcEOyYkGUEJNH4qYhilsbVAJTHow6jiAIN9jb6p+wNizQCDlTm2MlnQtvw9nSMVRnLd/eMf3hQgcQzyxQ/tiM0mDIXu3EcOSq2MRsoSEhJiDSnc8Z4mlPMwkyb3O4mmdCFiHwB9X/wiZCntSsjNq1K0xQhezAU+c6CI5oqKGOKv4l8BTdUfBTavySQ76wI5RXiQ9gB9KQ2x2f3fOjAmG306CS7YNcD7bOJoRmQWlP7/iv7jAINArvoNjPIAgwB9jRAxyTeYx8vU3cIOjxSfIdk0O9ybI3NJAH173wB9c8s1NK9TZDIcJBwLTEEAg9E1awrTEkEUAIOqFJ0jEhKIHo65IZ5LAPYNDyzmRACDqCpmL3z6olQAg7g4wu2r8rYJotCrxt0pkJGtIPr4/fz8SGYLAOucyb7cQhv+Vcvlax1P+2Z8s4ieOKqnBCrxIp8hAH3p5ACDGu0nISYCAH1Vv4kg+ZAM9pNiohRpGNv9uBsJBPClajwCjxAZQSdhcVjnDexeBKTiyJdsUwCDhhf2HJPqAH0AfffyAIPjwhAhLPzbC4C3JyMTQd0defgV+1dI+DQCd8nPOfGGIbzfEhm5B0ANGwSlQN0dHOEAg4jmfu1y2OYhBNtPxYeJ/U2ymniz7WbcAgB9zRiPmBeYnUoGKh/0OOfP5AB9OOml7szD467DcN6jNqPbJF4FjfTlWi8FLBF95vLN5Tsy9oyvE0jh4hAQk0SjOI/zc8iuCfrUAIOy8lo1rbvS4wB9iUAxxgCDHxVnvV8TNUFYCOEgCzd5nS1rOj+nrQAy/b4WksUhGsNA+Ub72RurPGI/RSyy325Uqw3kP/2arbt8GVrtLR9j6qksJtVz6LoLLggAg5rZTeFUMRU05CZB3n387gituhRLywt4Q24l0KOr+ekmGBmPJvy09pgQ9Rq+EaALlRImNrNq6BTn+avFRJD26SDgviMv7qNCDV+cQT7eLrvnH+39FOYs4i8U2tlwGdUycYvqR0OPWkcpV7dAltWhQhGzB9MAlwUAfezYwu5s5xenIScP1wPekN6CLnEy6QHTGdecxuwF1s/oPCA2QGo7PtnjxgEWlKWaE9wPudy3xdtpa5WIq0z3iN+96JnLnuUV7zX+uOKHK07gZO9q3q+bfRSd+1nwhwqB/6Vj8+N8D1cmAH2bIN4ysiyFbtnR6RTdTyjsAIN93Pzvdh8vzKSfP+JkZxlow0BD8cf1Lu1e6Cm1Ql6QoZ3Sr2AyI0b0SiARzq0rYxAC3hb6lFlIAI0WyB5KMACD1xMAg2UaDxl37B0gwKQMBT07TQwtW2Y4EwYZ33dcMbEWD6bq2y1dIse7KgfIJP/IFvsAfa4Z/wFLjtmoWFDO9qIVFuMzdIHjbAYkvHb0Y88AfcAMRQEDAP/qFBMTz/BLQ+VA8ps+AH0JnwH2mht2mwSl2Jet9bhV65kKFJbsPl2w8kHDgDIyRJM7R/9cG9jIo5ex3hDpb0/lBEspcUVb9lIJAIsSElrDC/0F3SMLfAsQOfc0ljnjw0soHhvm7mEVHzefOAzE/vQPspMVNs9w1zUfFqYEDHTPz0yF8T0EwqdHDLS+4uOeELO/YAqfnfbxnzSpyBc96rM+6zMUJw5FIW8iwsyZAKotNBzxN6XFU69FLE7BulfHiht2hUpPDQB9vHb1sAxLjsXS9rX8VjuXhNPy5PwqM3p6Khk2sDjHCNV9xmaDD7aY7tFhwdWJ6kHHQNu9FFgr3T0AfXrmAIP/070LjMbivgB9WkuLSdtaHx7yL6bguC27V4FAe53WIDgVGTzZewB9j/1zQKg2qsV20pYV5tIN954tXvmHS4FgcsAAgwE2RuYw5xEKq+3JJoXuovqs4eUXnwoAfcwoVAYmT7wiAH0S+MoIAH10UHNPYAIAg6TtTDGsa+O6MhSaUkA4AIMAETvbBS5gVR0TwqwG7ZjRYSMi2s0XaQK6SDWQqbNnLZzSWQwjGF0VMtjrMW8dw1M3mOHAAH0iDvfzAIOZ/9INPcFl56oVpju8M4ZXyPuw9v2fdxX+a4Gur1yQnQB9AIMAfcKqAH0Agz9WPoypawCDjiqhUaTn1/Tk3AB9AIMAfQCDAH0AgwB9AIO/HgCDAH0AgyhtAIPOT6azHCGh6t/OSeU9ofoeAIPmYsOFAH1f0AB9AIP+YwCDPmsAgwB9wPVYRQg2ZG1H4szQAH0Agw58osX4bACDEFCxqAB9AIMAfQCDAH0Ag3T0Au6mBFGUN+DCH+KvhjwAg3p4AIPFagCDAH0AgwB9AIMAfVimZnDQrAB9tRpRGCNMuBMw8OQMBTUAgwodAIMAfayDAH0AgwB95sZ2KgCDltvXrWJHHRPDAOEBgEVyXPo7scdi5aFPPMFrJgCDYkiP4hFGoBr3aReeuworjqPh6dqQIl0Kj9dEJSzlAH3K4kTf367cdiYWBoc1Ebbj6ra8C3DgF8Jc+ElbbK0p4E+stjwAfbkLPjFr4cLmvMxqlZ0pMcpF+b4dkBM/OhgU8fISBhYkRCGHKcf0TxH4tx9UEcBxGWP6YK7wVgfq68ZOy5TNAO7c2gX4FdM0FCP9+zJVJdXKj+VoKDc9YTYuBj/OtQLOCgCDr+5/nqnyzcaXppBAVDC7rSq8pvy6zrH99cQPUbwm89ba2QB9AIPjUpu0AH0AgzgYneuiHO8uGd0qUVKrC24AgwB9AIMAfQCDAH0AgzZ0j4YAfQCDBV7+kQCDSUZjNucfkdUba9/KAH0AgwB9AIMAfQCDAH0Ag8Fy6PY6ZJAmZjmWmQCDlEGNoclWAIMAfQCDAH0Ag3VQAIOfaQCDAH0xprxKAIPORyOvKTEeMyAOw1AAg8FW1tUAfQCDAH0AgwB9AIMAfQCDAH0Agyso5ZK0FGwRilFB0v3FsGDHsQ1hAIORURiUAH1SkQB9M5UAfdSsTziqnYxXsve+A930YokdGgkvAH0Ag5lQAINiHgCDd0IAgwB9kZJtQZXK9HfxMQvqXQ3t9oN3WMNVUgCDtmoAg4ptAINqWwCDAH0AgwB9AIOLWQCDAH0NHAfScgqwqwb7P9SILwCDIlxvkVZ1AIMAfQCDRm3L4AB9D8MAfdbGGhdxhLCz62sAgwB9AIPFTQCDAH1SkgB9AIM/fACDAH0MqQB9XZ1FJHrbJ8FIZjyUwiNcny1bAIMAfQCDAH0Ag/xoAIMAfQCDAH0Ag0VyLr5Eexgp+tm2OnUxskEAgwB9zpMAfQCDAH0Ag2psAIMAfQCDAH3cs1bKmbwAfYsJsbU0IgCDvjGajgB9AIMAfQCDAH0uluI4AIMAfeqGLkCrjnsQhhII9O0VR+aQDACDAH0AgwB9AIMGNbHmAH0AgwB92qWMPTK9TzCKadoqyex123hZOZkAfQCD61fKvQB9FIoAfQCDAH1HhbYbFLvbVtO2K87SYqVt/jAnr/0BJI4AfQCDAH2HjhNoS7IAfQCDAH0AgwB9NLRCIm4QGRsrIFv6V7Y19rIZAIPiG1DAUB99hwB9AIODcgCDAH0Ag8gQuJJ0W0ERGRGpaUDGEA6tp81UAIMAfaKHWCUAgwB9+JIAfdzXAH0JpmpZjD7LKZ8TAIPkGtT/AH0omwB95r4IM7mWAH0Ag+FKAIMtHO4UpTBK1LoxMdUrCJ4CcSLdCVShB/zdTGk/38zixtcSARkL8uHN3s6itQn6Lf8KbgMe4NcAgxHqnQVsCilMbKwAfbTwAH1XE7ZMDgeHy5Yl1tkg/UrIWw/MF7XkxFpRAzEex91OIJCu9KXTZo3c1yHsc0XZWU6t2iwnJLJPzHVWDTOFsSQYisk495k8IsjNsN7ze8OJd6DMs9Rz7qanIgjkmr7camMsFxBIxZRHnwB9oZme9INSY8h3EpPW6WK6Npf/Ys+ixMzcKiOH2ZoLDT2EJSj/PBYAQ58iBgKipYAa3iT2+Tv+9DIMs06+P8JuJ2DiPQVe12UAtf0wQw/f+tFV7TXrAH3I5M8m67Physxs4RT5noPM7rrjwaMDtdoAfanoWEuOPesWkDQuA2gf7Ft2tC0fuO/GD8UtZrKVIyEnJxyaM2TWOUEM0X9shxEUBycHWxgAfVNglAcAgwB9AIPWcwCDAH0AgwB9AIPmMi3SIao+MVe6OuZTzSd4sroAfWyVMW8AgwB9AIMAfTjbvzaoo9JgMvRs9zdOmhtb1wCDgCNstQB9URVWeQCDAH1DiwB9tJQAfQCDAH0Ag8RgJ8d3cWUAfi000Y88AScNACc3AINgYQCDAH0AgwB9AIMAfQvoJkf7luIK9dPH0clV6JzCUiXjAH0AgwB9AIMAfQCDD28Ag/1cSNQAfQCD+BEfkkjFUSLnBwB9T5QAfVGW/0nAny5JAIMAfQCDAH0Ag2lCLIiXTv7LAH2x2jWUNdAqnDn9pqQAfQCDwAbMoAB9AIMAfQCDAH0Ag7CnyPZ4FwB9hLKb3wWyZpoRAnfuWhjHJsAkfaan50OMWcoAgzbwb9dBNfwFi7I7EI8BJl19Ml/87hM3kMkX5faayQ4uHNFP67khT7AMxQB9Qdmi6+/NiAQAgwCi7A+j09npUtCQCQIy8AI5ZuIWkk3c3naX/9jLQg3DhXf8I8NLPg+m+gCDiLXB2llmyOmgjQCymPldo5jmAH0x0xf98ANXGoordscLZra6PwOSZpPI1eabBHMEk6mj8M7uQRQxTcns54YYswB9AH0ICkfJ3OBJrLP7G7q/d78BiMeU3gB9UsDPMUq+If//WrO8SiVCJ6SvLd1xAMzrvELaALgxAAMZW7Y7GZi3ZNrUZcJiZjKwA/ay4lvQzgPtBZ7F0S63GQh1Rwimy+kDtightJtyXO5qIX4lwYQ8RFTktQhV5YvyZVeHBZpv7jEV1wB9mR3IDXvw//vPpwB9AIOjXACDAH0AgwB9AIMXOgCDAH20Bsp2VkeEbsj/5cZQIQGVa2UAgwB9AIMAfQCDAH0Ag5tcAINNMwCDAH0xvTEMJj8HvO48IvJ+PM6YAH3OiQB9AIMAfQCDk2EAgwB9ELnJT+SbAH1v4Xb8+hZ22639Xp/DDgCDAH0AgwB9q5J+UKuTd1m5lKdEmQQAfXPDu5jI8qcSpuv7zD9QpqFhUhaKAH0AgwB9AIO4YwCDk3AAg2cVXZ9UHIvO2rZ9KGHMCVQnsNd2np0AfSeZ43AAgwB9AIMAffnJAH0Ag1ZeAIP5Mo4V6SfKSQCDAH0Ag25tAIMAfQCDAH1dswB9Lc8AfQCDQ1D+GZMjAIMN7oLR6cAAfaWcYVwAgwB9AIMAfQCDAH0AgwB9SrQAfbzNsGneJzpG2eHtuhM8q78vCQCDAH0AgwB9EbUAfQCDsWcK3bscAIMAfQ2DwCAl4ACDQ3GVsAhi1rUAfQCDLHSl0gB9AIMAfQCDoQIAgy5whMtrB0LUJofo49ZDa6kAgwB9AIMAff+dkHUAgwB90KQAfQCDAH3zhAB9AINe/jCtw9GjWACD72WAn3ohUaQAfeyXsnEAgwB9xqkAfVDlAH1MnFMW9ShIoQCDMizqRurgdnYAgwB9HaQAfQCDAH0AgwB9AIMAfcGHAH3MvQB9SQkyDz4Q4EIAfSaWZSiRgwB9AIMAfQCDAH0AgwB9AINUIgCDAH25CgB9VTYAg5sJRrlpaoeDKijJmAB9AIMAffKXAH3AmTdNAIMrSACDyfxdCKjsQDYREAB9PLYAfT7EAH0XjgB9AIOYYQCDAH0AgwB9AIOdaPUmowwLCQa8aUImmwB9TpEAfQCDAH0AgwB9AIMAfbeiWEgAg1IqAIP2ijcQvnmzcQCDCWHs/0z3HqQAfQCDdHB5y7MtAIMAfQCDAH0wiDcvT4sAfU5UowKWWiHDjEEAgwB9AIMAfQCDAH0ZpwB9AIM5YE/2gwYAfQ0pAIOfSHz9B/dR/D7ivyvuAjkybMAAg4b2/OWsrAsp2SyG88gg7NU6THssthwRMQ+29P35FQ/v9SXx66Tpgxnx6veREbXfU5wYOBbmAftX+OA+M24kFejqjmcZG/ZRDX/py+Cy1JkvxFi+/VY1HYzJKjopieWDaKz1nsAqK+DJFBf82T4xjdS2nFfFMAH85YLVAgBW2ULQBNgaQwB9gjnsF0f3XtMiWpqZheRi1D29F5ADxxPrAQzVwLYXnyR1w+HfDu9s64bPXLx//wBoJ22H58Hx2nvx4aRYxbEAfQCD8+MAg/1TAIMAfTOEf2kAg+pWnO3LYiMvAIMAfRqPX3YAg2p1iZQ6TwCDNHIAg1h438gAffzznCEAfXrMw759Qtw4QLwAfQCDAH0AgwB92Z4AfTvc11z3ESstUqAAfVI6AH2nJOxrAH3VIaQFqJwAfQCDvGcAgwB9BtcAfQCDlUBamD5nGM4AfSGGI1x77oceJQ2133oaCqSzQuK7AH0AgwB9AIMAfQCDiRHp0AB99qN0TWP7Bw257KPEtCsz0DJaAIMAfQCD8WsAgzpseIgAfcSMF00Ag9BsSLEAfZ5AwTf9HcndeVx4lAB98agAfQCDAH0Ag55bAIMAfQCDAH3J2CIzOFR4AoP0abu6RbCRwWoAgwB9AIOg6dgLChwBxynmqmuRat94nglK2xWy+OvZ/k9woNfm1Pfy6kKaHAB9FidvDbFMNgBMBsi1kPeJWDbQCuYAg7ft9C6B5UUsdJFKGdkDYFgDQqldht5f7H22wQ1T1VoIwSSuwQLfvcq6J4wDkSUAfSEIUrHeIlXli9w5yWtv5Zy+YpmqQQczUoMN0gNw98otQypjAnjoPz+CCCPmEbTzOjqZokOcNlH48c6eNJWEHEBkAj5KbN86+NJI0JK2ove1y99S4LyedNXmjsIOxtY2HADco+IOWenetFc8id8FGMW85yIafZbVIQCDWHcAgwB9AIOyNACDAH0AgwB9AINK3gCD108TJKTkEuWt9F0V6C/TNACDdyzIpAB9AIMuMQCDAH2bv+l6AIPoWACDAH0/z5IKZlJ3GzA/zYQAfXeIA2rDiQB9k4sAfQCDTlk24psTpK6DUA/SxjcO1R23AH1gASkDJLp+TgCDAH0AgwB9CNMqFgCDcjtGnAB9g4gVOSAc/to+OLPWf/MLzQB9KAAAfQCD22MAg8RuIq0AfQCD7SOWiExoVAMAfR9gAIMAfQCDAH1JouJCCegAfQCDAH0Ag1JmAIMAfUysAH20nwB9LW4APAY4XAUAfQCDr3UAgwB9AIMAfQCDyzUAg5obAIMAfQCD0Eur3MoxgwFTrKhTGzaV6ACD5jixjZM0AIMAfQCDAH0ImwB9SIkSVmGbAIP5LKYe5M6KICvvAIMAfQCDL0kAgwB9zI4AfQCDAH0Ag6k4kSoAfV6EHgaKMjqjeeAAgwB9AIMAfVeDrDsAgwB9AINDJanAAH1qsAB9AIMAfRzbAH13xZXMAH3cw09BAIMAfQCDAH15mAB9UtQddACDZHaa4N0aX60/E6Ao4CaDMuG4RSscxNpJAIMAfQCDH0sAg5RwAQkrVQCDnR2CUD5BcjYNnQL15AaQSxSndVtzrwB9AIPqHtPOAH2BFcdwu6bVRwe7XPiFpUk3AIMAgwB9cvIAfQCDByoAg3cqAIMAfVkKAH2ztAB937aSPuGyNDpt2iF0oPzWjoQ1canlUgCDAH0Ag5VtAINOHwCDAH0Ag5A8jbx/xwCDaQfYIQjkPeIAgwB9AIMAfQ/DAH0AgwB9AIMAfTesAH2Dp7tmRccmawCDHkFW52O993YAg6JkAIMAfX+uAH0AgwB9AIMAfVLKAH2ii9ZceBW/3nWbw+oAfQCDQGXH4AB9AIMAfY6Q8D8AgwB9AIN8OACDHjwAg61Q1gNZxsQQAINScASdPHEAgwB9AIOM4wCDAH0AgwB9AIM2d0C1AH0Fq9w2yEF3Yf8XAIMAfXyww3ghjxzHAIMAfQCDAH0h6wB9mo4AfWkZYyy55ygiAH2EMeYJ4cF2VQCDAH0Ag1NqAIMAfc7HVj4b7gB94AwTB/zRqTWxC3k7AyHUCJ78Z/qDnBIyrjGQEBkXhQsSMUmgDuUTLyY+Mz9EROgtKBruLQCDp88AfaHxGi18jMHgj+s1zGXzSusAfR4hq+6uOzYBRCmLGFkz506k4qoVkxGX1u/ybuuksgIZct7AYpUIMLNiF90q5TnQiAvQIvs8xc9HHch27FYXfwob5+coec6w/LDbLgudtsF4w7wAHkSNlygKzz53CNB1Jfooo+d9lgB9ENMAfbgu5hKS+vEcQrIkwJ/f+s7uJZ0oU437xPQY9AVr4AgQZjQGvFyZlrOS84vgFK9n97u7Mu3eGYMdmG0F6iQZ+WGzPd8rYMib1rAzgu3RK8m+owyo7/+nig3Dz2je4OUAfczhZGPypGSx7uEL8wCDOu0JvhhDtSk9TSVn8eR3SedTObO+DvxGMezYu1P89OjRqZSTsanHDTz2FCpHFoo5BL29LSwHN9IdSlEvmbJY+kFlyD6P8F3htgxhslZugFZE8W7xnKwxprHuH8Ix3gP65BeND0QVVsIgNO7v5j83BmpH1sMAffgsO+MQB0SR6F5+sE4TEtQQX4MyouUNUEcKRuqzV8EQvSNw67ibDKwcD+sYYQt9UZftgPn8nDQ1DADPITNY3ksAfa9g8wRarWcIBB5W5BSpU+o0TNa3GBUAg6H5NVhYxX6tAH2IF8qrmb9GB7rDhkeYbDge+NYP7kfzACbU8casjEC+oV4HEOEjpz8LhV28QDk5saaO7I4JfZrq80z/spws0CjSczqBBFrg4bjFxOI2oSDrDwB9RhSh1JOUAIMl0XcF+aSR8GDz2NUKIS0dp+x/DvH8x5KFFcbyvCBhiYMq6Fnz2mEgyCFYQqxQgCaJ0LDqbxoAfVnkSZd6HBgc7BDhajQn1u0Ag07pg0pHHlnt/ykF+Rbg+AA/taXbOuOr+gB9nR7IPmMVlQ0HGM9CeayKT70LP7KFUtZasg6v/SQmxP13FAgstv1Swmgeb9dIK44j0UhC6elINTVGxVcuWCKq8cgZXtmeSOX8jPNnCQCDdwKc7rWJYk1KPSPvp8KbRQQ/NyjtLSEaeuQlT/T7ehJyMH0dIvm5B6+vyhkTTACDAH0AgwB9AIMAfQCDAH0Ag4UIAH0tuKMkyaxuGjWxAH0AgwB9AINCIgCDAH0AgwB9AIMAfWIRIgTeMiY9tEPm7QYv8hPMUAC9AH3ftIxJAIMWewCDAH0Ag+oi08KOJnHBDwTJ+e5HpxWq6JfQAINYXgCDAH0DjwB9Q5GYenSImXhGlAB9AIPxKyfJ8wBF/LiSEAOEDCFsAINvCy+RAH0Ag5ZqAIMAfQCDAH0K32QSs/xaQgOfVev8/xdTMFZYnQB9v5IAfS+3AH0Ag2daAIMAfQT2uV0Ag/1hJbKOdYHW/VF2wPX+AH2ivwB9QYsAfQCDAH0AgwB9IMrcXACDbkKIN6FRfB4hraklAIPNXACDAH0Ag1Y3kpIAfQCDXErlhWFlUJAAfTzqAH3LgwB90BTZn+UFAINczU/wAH1nUAB9AIMAfSGsAH0AgwB9AIPzRJKv4UJoy1yJAH3hvTFdNuCwIgCDjHEAgyhqo44AfQCDAH16ogB9AIMAfQCDqFR337kUJiL8LQB9nOHhbACDAH0AgwB9AIOOXEzxWXoAgwB9hunD8eqryE5F2++dwC79+gB9btJjZACDAH0Ag+4mAIMAfQCDAH0Ag5VXDs9NK+oCIJLUGwACHC4AgwB9iNVxbOu2AH0Ag2hyAIMAfQCDqj2uor8vErQoMbfeo+2SQoWRAH0AgwB9AIMtcACDAH0Ag09TAIMAfX7HAH13o/7Gwv230gB9RIwAfdamAH1gnwB9AIMAfQCD8DgAgwB9AIM0LIDDe1KS14NMkgpIjRNxmvwAfQCDAH2osNdEAIOlIQCDAH0AgwB9rdm86hzxPkZ7NAidiN0AgwB9AIO6PQCDAH0eIriulfIx75ZA669b9eU+AIMayZjdcpcm12MDAH2w7ATN9RyjvoCgS96kwlr5JbqG7wCDqlUAg7QKEf18QrkxIh897eD3cpwRIt0SGQHd7+nPB4me6WKXPxsAfRoIZexx4LubQfgn6+IfD1QBLiIuRPjSCK36r+GYFyKowSJ/5GrnWdP26wB9oFIAfZ65sD9Y+cQAK/VyFq3eAH0I9RE0zTJjEQfXeV+FLsVRKzftsNKRYM62CYcF3Dvz/aYe8P+1+DjMc24IA5CgjaH84fISNAudCHenjK62GCEkIgs9G7Mt1B0AEbIOSUcr4RLAVJVUSYS5bRc/xw8b0UW7KwIZnBczukcApF+14mI8+unE2Dj94RKg3wCDUh/STX6aMPLu/dLPfOVc95cvVWOmSwCDOsVhtOD2mYz3oTka/c71Mdcj8INfleQK0JemFe4yGx+LRZPS0yUsyJfl2dgqyw0N2PvM2KrUC3axDIjFF9ziGBH+i5TgBME6qlkSadoYW5GrVTMsIhUzlP/HhbQu9btN1V2gDbL7EI6e/AB9SUjPpVPOkh6yPNN0wN5wNz8bSPXMqTzn0pxF9XIoCyvdTYHV8IkAfe3MtWQj6dIhQxQer99ZTNGj4unNJUgAg+NjwfapIq/ocZzpToVU3yLfrgBlGtClWi2v9Ql9GYfQmWOR5uH1V4zR/6jNr+BRj5zplA0mmysa/yCv4cDfbMfETRD0tNBTnYZJoigaDNvyHftGjigUAIO00QCDkIrvAjHPADcp7pX0jwU9IQB9To6GyW3fQhsAfdozPw47Pj88AH0h1dNUO6K308OUI8ZD4EX60x6/02O08mGIDa78cgn51yuj0KMAfThicOhTAwCD7OoUxxYwhM7gRabm9QvVwpARjjWRpVvLpmmv2F06tLM2y7m+yTDu/NT9CuhKAycrY8cQFl4XhzrCKWz65Pw8F3o9SFY65mjIARvMKRY2Fd3lJPstVXPaAmTSe9P/GWQ7dcJj1RDAaf2vW9sJnOSTi7gC0zgiEHoY3mJN6y1zueVkOIbiDPZcfJg5UGBuFt3ledS1IvTEEyi+4/E9sP6d6olT3kkAfZMAvi0AgxwemKZt4+wG4LAAg037FwbU5ZGNU9/9tdxIbWxs0lH509kj6akIFedv2KlYgK+c/K/XKDINyxP2ewGjFsQTAIObzBTy4s+l5h3y8dmz7PctaZ8psfzwPPIAgynBYkgpL40hWTvGogCDAH0jWYLUAIPbFf1AiFl35LPnAH264GYaSKsoJD0BnCnVyuzJClrWSXjbktxm7/31EfUh7BkjtsL/Nl/IAIMSCTgFJ7fySMQf4z9xQIf3fjqYsgB9WC6KETn0vdmYoBLODrtYH5MmAIOVL/RdeI6CQhV8Z04Ag8H540C22NJjUTRiVccvnBluU+8Izv+cW0EoGO/cGkTrMV4AfZiltQrmGY4DGzGv45X1+Q3O/d71CVLZ6N7CiR09qycDPCrat324wonekJ714R3REWsv7kAAfdzuCBRanACDQZpFsxYCuBhvsXEyfFNcFWwnTPWNC8AlEJUAfSYAnw7zJ3YYANpu9zeH/zkR3dx3AH0KQVNwYKgDH2vSxrQAQO7w1xQ/6Hc/NjbcMeigrSgAfWEVfUaH4J7csCbFvLnzJw/A5u4YgGs5K+fMZkC91KoI0NHcYcxKdR+0ldHzUiomGlTJ3RGgB67OT8Xl7mQUrOgAg4nqHAVIRqrLEutHT6kU4YkWNioJC1/A0b/eETAz1+8g3k0Ag8IOO8hdKZEsmtkmmACD7/Z3h7XodgQtDgCDLuhmEG36AIO+Kl2T/OTh5P/iHsrLBXS8aw5MQyTWxSEHnPVGST0T/gCDpjRaBOw6ZL8ueACDjyJSXpTQTgxH8MuZdFaBYXf48uso1gB9iOd2pQoXsPXHGLvnOnS+6xESlhkAfdiWV2FbJRdEAH3R0rnbgcsqA5/ErBfjB43R81FTKX82rg9BPACDw0gXz/w3kEpzCjwE/ZkeK8cKnOlh/SrhzR3D3HgZzPBZHI0hgIjU0l48SEryBAB92OOorh/s3d+BFf+vc+a8Ra3jMB0AfeEh8rXGPjE0/dUmEoqnVcWWjprmvFTwLKrNJFWXDhsji9kJ0j30TDZrR1CN/MT7te34eijAAwCDKEasTYTDzqn+Na0XN9DqBc2QGkrqMcir+f+eXSUYm88khgTDbc3KxruwOQLUxG2vmaGiq62iGkSABwCDPthZIDC7l1XD+ArXUAHspULVHQFuOz49FhbqWXC2lblP2gX4xS2ft24UagvBzxA+ECFPRqGsQMguv9Hah/jOFQXYUk/izo4hbwLcyAeOriun0R4ClghRGKW/IT4CEoi6HzsAfSVPXw+s4FzpjsLiVE/PLFqjSSzltCg2GwCDChQBLEK0bf4/HwMnZKkStd7Jce5OumKyFLAPS0Af9zWk/eQEuQ0LoDilgu4BFwsAGi5Bp/8q4lAzAoSjUfIa4IYspCa81kgoSEgiPFeJhuQAgwB93MUAg5oKJdv0VA3uBKhG0jIut1f0xU/4d8AJLiKoOzj49M+Ym/Qn/M4a6eyV2XFn5HCr75XZrMIa9QB9AH0=\" type=\"audio/wav\" />\n",
       "                    Your browser does not support the audio element.\n",
       "                </audio>\n",
       "              "
      ]
     },
     "execution_count": 21,
     "metadata": {},
     "output_type": "execute_result"
    }
   ],
   "execution_count": 21
  },
  {
   "cell_type": "markdown",
   "source": [
    "# Models"
   ],
   "metadata": {
    "collapsed": false
   },
   "id": "cade18711f007db7"
  },
  {
   "cell_type": "markdown",
   "source": [
    "## Decoder: LSTM RNN\n",
    "\n",
    "Long Short-Term Memory (LSTM) is a type of Recurrent Neural Network (RNN) architecture that has been widely used for sequence-to-sequence tasks, such as machine translation, speech recognition, and, in our case, decoding Morse code from a spectrogram.\n",
    "\n",
    "**Spectrogram Representation**\n",
    "\n",
    "Before feeding the data into the LSTM, we need to represent the Morse code signal as a spectrogram. A spectrogram is a visual representation of the spectrum of frequencies in a signal as they vary with time. It is a 2D image-like representation, where the x-axis represents time, the y-axis represents frequency, and the intensity of each pixel represents the energy or amplitude of the signal at that particular time and frequency.\n",
    "\n",
    "**LSTM Architecture**\n",
    "\n",
    "The LSTM network is designed to process sequential data, such as the spectrogram representation of Morse code. It consists of a series of interconnected memory cells, which are capable of maintaining and updating their internal state over time. This allows the LSTM to selectively remember or forget information from previous time steps, making it well-suited for tasks that require long-term dependencies.\n",
    "\n",
    "Our LSTM architecture typically consists of the following components:\n",
    "\n",
    "1. **Input Layer**: This layer receives the input data, which in our case is the spectrogram of the Morse code signal.\n",
    "2. 3 More **Dense Layers**\n",
    "3. Dropuout Layer after most of the Dense Layers\n",
    "2. **LSTM Layer**: One LSTM layer to process the input sequence\n",
    "4. **Output Layer**: The final layer produces the predicted output sequence, which is the decoded text.\n",
    "\n",
    "**Training and Decoding**\n",
    "\n",
    "During training, the LSTM network is fed with pairs of spectrogram representations and their corresponding text transcriptions. The network learns to map the input spectrograms to the correct text sequences by adjusting its weights and biases through backpropagation and optimization algorithms like stochastic gradient descent.\n",
    "\n",
    "During decoding (inference), the trained LSTM model takes a new spectrogram as input and generates the predicted text sequence by iteratively processing the input and updating its internal state. Techniques like beam search or greedy decoding can be employed to find the most likely text sequence given the input spectrogram.\n",
    "\n",
    "**Advantages of LSTM for Morse Code Decoding**\n",
    "\n",
    "LSTM networks are well-suited for decoding Morse code from spectrograms due to the following reasons:\n",
    "\n",
    "1. **Sequence Processing**: LSTM can handle variable-length input sequences, making it suitable for processing Morse code signals of different durations.\n",
    "2. **Long-Term Dependencies**: LSTM can capture long-term dependencies in the input data, which is important for correctly decoding Morse code characters that may be separated by various timing gaps.\n",
    "3. **Robustness to Noise**: LSTM networks can learn to be robust to noise and variations in the input data, which is crucial for decoding Morse code signals that may be corrupted by environmental factors or imperfect transmission.\n",
    "\n",
    "Overall, the LSTM architecture, combined with the spectrogram representation of Morse code signals, provides a powerful and effective approach for decoding Morse code sequences from audio or radio signals.\n"
   ],
   "metadata": {
    "collapsed": false
   },
   "id": "8d59d51a8960dc70"
  },
  {
   "cell_type": "markdown",
   "source": [
    "### Tokenizer"
   ],
   "metadata": {
    "id": "c95f2cc5f7c41689"
   },
   "id": "b726325126356b6d"
  },
  {
   "cell_type": "code",
   "source": [
    "# 0: blank label\n",
    "tag_to_idx = {c: i + 1 for i, c in enumerate(ALPHABET)}\n",
    "idx_to_tag = {i + 1: c for i, c in enumerate(ALPHABET)}"
   ],
   "metadata": {
    "id": "f7aae072e7218ba4",
    "execution": {
     "iopub.status.busy": "2024-03-28T20:21:48.207236Z",
     "iopub.execute_input": "2024-03-28T20:21:48.207968Z",
     "iopub.status.idle": "2024-03-28T20:21:48.212709Z",
     "shell.execute_reply.started": "2024-03-28T20:21:48.207937Z",
     "shell.execute_reply": "2024-03-28T20:21:48.211659Z"
    },
    "trusted": true,
    "ExecuteTime": {
     "end_time": "2024-03-31T15:40:54.596122Z",
     "start_time": "2024-03-31T15:40:54.590123Z"
    }
   },
   "id": "b1d124518fa7e9fb",
   "outputs": [],
   "execution_count": 5
  },
  {
   "cell_type": "markdown",
   "source": [
    "### Utils"
   ],
   "metadata": {
    "id": "8f256aed3e7b1f67"
   },
   "id": "665344c1f576bc68"
  },
  {
   "cell_type": "code",
   "source": [
    "def prediction_to_str(seq):\n",
    "    \"\"\"\n",
    "    LSTM tokenize output to string\n",
    "    :param seq: \n",
    "    :return: predicted utf-8 string\n",
    "    \"\"\"\n",
    "    if not isinstance(seq, list):\n",
    "        seq = seq.tolist()\n",
    "\n",
    "    seq = [i[0] for i in groupby(seq)]  # remove duplicates\n",
    "    seq = [s for s in seq if s != 0]  # remove blanks\n",
    "    seq = \"\".join(idx_to_tag[c] for c in seq)  # convert to string\n",
    "    seq = seq.rstrip()\n",
    "\n",
    "    return seq\n",
    "\n",
    "\n",
    "def get_training_sample(*args, **kwargs):\n",
    "    \"\"\"\n",
    "    Generate training morse sample\n",
    "    :param args: \n",
    "    :param kwargs: \n",
    "    :return: <spectrogram, tokenized target string>\n",
    "    \"\"\"\n",
    "    _, spec, y, _ = generate_morse_sample(*args, **kwargs)\n",
    "\n",
    "    spec = torch.from_numpy(spec)\n",
    "    spec = spec.permute(1, 0)\n",
    "\n",
    "    y_tags = [tag_to_idx[c] for c in y]\n",
    "    y_tags = torch.tensor(y_tags)\n",
    "\n",
    "    return spec, y_tags\n",
    "\n",
    "\n",
    "def collate_fn_pad(batch):\n",
    "    \"\"\"\n",
    "    Batching helper\n",
    "    :param batch: \n",
    "    :return: \n",
    "    \"\"\"\n",
    "    xs, ys = zip(*batch)\n",
    "\n",
    "    input_lengths = torch.tensor([t.shape[0] for t in xs])\n",
    "    output_lengths = torch.tensor([t.shape[0] for t in ys])\n",
    "\n",
    "    seqs = nn.utils.rnn.pad_sequence(xs, batch_first=True)\n",
    "    ys = nn.utils.rnn.pad_sequence(ys, batch_first=True)\n",
    "\n",
    "    return input_lengths, output_lengths, seqs, ys"
   ],
   "metadata": {
    "id": "e03c2cc147b30235",
    "execution": {
     "iopub.status.busy": "2024-03-28T20:21:50.098168Z",
     "iopub.execute_input": "2024-03-28T20:21:50.098967Z",
     "iopub.status.idle": "2024-03-28T20:21:50.108282Z",
     "shell.execute_reply.started": "2024-03-28T20:21:50.098938Z",
     "shell.execute_reply": "2024-03-28T20:21:50.107434Z"
    },
    "trusted": true,
    "ExecuteTime": {
     "end_time": "2024-03-31T15:40:58.316482Z",
     "start_time": "2024-03-31T15:40:58.294445Z"
    }
   },
   "id": "7cdf80104e2bdcc0",
   "outputs": [],
   "execution_count": 6
  },
  {
   "cell_type": "markdown",
   "source": [
    "### Model Architecture"
   ],
   "metadata": {
    "id": "7ec79507a88b908f"
   },
   "id": "6f7476ffe1da8181"
  },
  {
   "cell_type": "code",
   "source": [
    "class LSTMRnn(nn.Module):\n",
    "    def __init__(self, num_tags, spectrogram_size):\n",
    "        super(LSTMRnn, self).__init__()\n",
    "\n",
    "        num_tags = num_tags + 1  # 0: blank\n",
    "        hidden_dim = 256\n",
    "        lstm_dim1 = 256\n",
    "\n",
    "        self.dense1 = nn.Linear(spectrogram_size, hidden_dim)\n",
    "        self.dropout1 = nn.Dropout(0.1)\n",
    "        self.dense2 = nn.Linear(hidden_dim, hidden_dim)\n",
    "        self.dense3 = nn.Linear(hidden_dim, hidden_dim)\n",
    "        self.dropout2 = nn.Dropout(0.1)\n",
    "        self.dense4 = nn.Linear(hidden_dim, lstm_dim1)\n",
    "        self.lstm1 = nn.LSTM(lstm_dim1, lstm_dim1, batch_first=True)\n",
    "        self.dense5 = nn.Linear(lstm_dim1, num_tags)\n",
    "\n",
    "    def forward(self, x):\n",
    "        x = F.relu(self.dense1(x))\n",
    "        x = self.dropout1(x)\n",
    "        x = F.relu(self.dense2(x))\n",
    "        x = self.dropout2(x)\n",
    "        x = F.relu(self.dense3(x))\n",
    "        x = F.relu(self.dense4(x))\n",
    "        x, _ = self.lstm1(x)\n",
    "        x = self.dense5(x)\n",
    "        x = F.log_softmax(x, dim=2)\n",
    "        return x\n",
    "\n",
    "    def count_parameters(self):\n",
    "        return sum(p.numel() for p in self.parameters() if p.requires_grad)"
   ],
   "metadata": {
    "id": "526e82f9d4e1ff38",
    "ExecuteTime": {
     "end_time": "2024-03-31T15:41:26.374934Z",
     "start_time": "2024-03-31T15:41:26.352790Z"
    }
   },
   "id": "ce36626e74536d5a",
   "outputs": [],
   "execution_count": 7
  },
  {
   "cell_type": "markdown",
   "source": [
    "### Dataset"
   ],
   "metadata": {
    "collapsed": false
   },
   "id": "ca4de58e1f6af71a"
  },
  {
   "cell_type": "code",
   "source": [
    "class Dataset(data.Dataset):\n",
    "    \"\"\"\n",
    "    Custom PyTorch dataset for lstm morse decoder task\n",
    "    Generates data samples in runtime\n",
    "    \"\"\"\n",
    "    def __init__(self, number_of_samples=2048, sr=2000, explicit_snr=None):\n",
    "        self.length = number_of_samples\n",
    "        self.sr = sr\n",
    "        self.explicit_snr = explicit_snr\n",
    "\n",
    "    def __len__(self):\n",
    "        return self.length\n",
    "\n",
    "    def __getitem__(self, index):\n",
    "        length = random.randrange(10, 20)  # 10,20\n",
    "        pitch = 950\n",
    "        wpm = 18\n",
    "        amplitude = random.randrange(50, 200)\n",
    "        if self.explicit_snr != None:\n",
    "            snrDB = self.explicit_snr\n",
    "        else:\n",
    "            snrDB = random.randrange(-10, 10)\n",
    "            \n",
    "        return get_training_sample(self.sr, length, pitch, wpm, snrDB, amplitude, None, None)"
   ],
   "metadata": {
    "collapsed": false,
    "ExecuteTime": {
     "end_time": "2024-03-31T15:44:13.361870Z",
     "start_time": "2024-03-31T15:44:13.343310Z"
    }
   },
   "id": "cbec4fc275815fb1",
   "outputs": [],
   "execution_count": 9
  },
  {
   "cell_type": "markdown",
   "source": [
    "### Training\n",
    "launch tensorboard with CLI\n",
    "tensorboard --logdir C:/Users/Maor/Desktop/dev/tensorboard/morse-dl/runs"
   ],
   "metadata": {
    "id": "b59204188012c80d"
   },
   "id": "840a60ba9c304866"
  },
  {
   "cell_type": "code",
   "source": [
    "tf_board_log_dir_path = \"C:/Users/Maor/Desktop/dev/tensorboard/morse-dl/runs\"  # path without hebrew unicode chars\n",
    "batch_size = 64\n",
    "spectrogram_size = generate_morse_sample(sr=2000)[1].shape[0]\n",
    "\n",
    "device = torch.device('cuda') if torch.cuda.is_available() else torch.device('cpu')\n",
    "writer = SummaryWriter(tf_board_log_dir_path)\n",
    "\n",
    "# Set up trainer & evaluator\n",
    "model = LSTMRnn(num_tags, spectrogram_size).to(device)\n",
    "log.info(\"Number of params\", model.count_parameters())\n",
    "\n",
    "# Lower learning rate to 1e-4 after about 1500 epochs\n",
    "optimizer = optim.Adam(model.parameters(), lr=0.001, betas=(0.9, 0.999))\n",
    "ctc_loss = nn.CTCLoss()\n",
    "\n",
    "train_loader = torch.utils.data.DataLoader(\n",
    "    Dataset(number_of_samples=2048),\n",
    "    batch_size=batch_size,\n",
    "    collate_fn=collate_fn_pad,\n",
    ")\n",
    "\n",
    "random.seed(0)\n",
    "\n",
    "# run_date = datetime.now().strftime(\"%Y-%m-%d_%H-%M-%S\")\n",
    "run_date = '2024-03-26_01-45-23'\n",
    "epoch = 1840\n",
    "epochs = epoch + 501\n",
    "losses = []\n",
    "\n",
    "# Resume training\n",
    "if epoch != 0:\n",
    "    model.load_state_dict(torch.load(f\"models/{run_date}_{epoch:06}.pt\", map_location=device))\n",
    "    # state_dict = torch.load(f\"models/{run_date}_{epoch:06}.pt\")\n",
    "    # model.dense1.weight = torch.nn.Parameter(state_dict[\"dense1.weight\"])\n",
    "    # model.dense1.bias = torch.nn.Parameter(state_dict[\"dense1.bias\"])\n",
    "    # model.dense2.weight = torch.nn.Parameter(state_dict[\"dense2.weight\"])\n",
    "    # model.dense2.bias = torch.nn.Parameter(state_dict[\"dense2.bias\"])\n",
    "    # model.dense3.weight = torch.nn.Parameter(state_dict[\"dense3.weight\"])\n",
    "    # model.dense3.bias = torch.nn.Parameter(state_dict[\"dense3.bias\"])\n",
    "    # model.dense4.weight = torch.nn.Parameter(state_dict[\"dense4.weight\"])\n",
    "    # model.dense4.bias = torch.nn.Parameter(state_dict[\"dense4.bias\"])\n",
    "    # model.dense5.weight = torch.nn.Parameter(state_dict[\"dense5.weight\"])\n",
    "    # model.dense5.bias = torch.nn.Parameter(state_dict[\"dense5.bias\"])\n",
    "    # model.lstm1.weight_ih_l0.data = torch.nn.Parameter(state_dict[\"lstm1.weight_ih_l0\"])\n",
    "    # model.lstm1.weight_hh_l0.data = torch.nn.Parameter(state_dict[\"lstm1.weight_hh_l0\"])\n",
    "    # model.lstm1.bias_ih_l0.data = torch.nn.Parameter(state_dict[\"lstm1.bias_ih_l0\"])\n",
    "    # model.lstm1.bias_hh_l0.data = torch.nn.Parameter(state_dict[\"lstm1.bias_hh_l0\"])\n",
    "    log.info(f'Model has been loaded from prev state of epoch: {epoch}')\n",
    "\n",
    "model.train()\n",
    "while epoch < epochs:\n",
    "    train_loss = 0\n",
    "    curr_cer = 1.0\n",
    "    total_chars = 0\n",
    "\n",
    "    for (input_lengths, output_lengths, x, y) in train_loader:\n",
    "        x, y = x.to(device), y.to(device)\n",
    "\n",
    "        optimizer.zero_grad()\n",
    "        # print(x.shape)\n",
    "        y_pred = model(x)\n",
    "\n",
    "        m = torch.argmax(y_pred[0], 1)\n",
    "        curr_cer, total_chars = aggregate_cer(curr_cer, total_chars, y, y_pred)\n",
    "        y_pred = y_pred.permute(1, 0, 2)\n",
    "\n",
    "        loss = ctc_loss(y_pred, y, input_lengths, output_lengths)\n",
    "        loss.backward()\n",
    "        optimizer.step()\n",
    "\n",
    "        train_loss += loss.item()\n",
    "\n",
    "    writer.add_scalar(f\"training/{run_date}_loss\", train_loss / len(train_loader), epoch)\n",
    "    writer.add_scalar(f\"training/{run_date}_lvstn\", curr_cer * 100, epoch)\n",
    "    if epoch % 10 == 0:\n",
    "        torch.save(model.state_dict(), f\"models/{run_date}_{epoch:06}.pt\")\n",
    "\n",
    "    losses.append(train_loss / len(train_loader))\n",
    "    log.info(\n",
    "        f'Epoch #{epoch}| (e.g. target: {prediction_to_str(y[0])}, pred: {prediction_to_str(m)}), loss: {loss.item():2f}, CER: {curr_cer * 100:1f}% on {total_chars} chars')\n",
    "    epoch += 1"
   ],
   "metadata": {
    "id": "11b47e23310bae3e",
    "outputId": "12a71227-f481-4b30-d407-50c87202c352"
   },
   "id": "8dfc545e083e38c",
   "outputs": [],
   "execution_count": null
  },
  {
   "cell_type": "markdown",
   "source": [],
   "metadata": {
    "id": "2d264e8356d0225b"
   },
   "id": "272ab58d25984ef8"
  },
  {
   "cell_type": "markdown",
   "source": "### Evaluation loop vs SNR",
   "metadata": {
    "id": "8a62f3dbe418a973"
   },
   "id": "87ca24c733e18613"
  },
  {
   "cell_type": "code",
   "source": [
    "snrs = [-15, -10, -5, 0, 5, 10, 15]\n",
    "cers = []\n",
    "val_losses = []\n",
    "\n",
    "for i in range(len(snrs)):\n",
    "    print('Validating model for snr: ', snrs[i])\n",
    "\n",
    "    val_loader = torch.utils.data.DataLoader(\n",
    "        Dataset(number_of_samples=2048, sr=2000, explicit_snr=snrs[i]),\n",
    "        batch_size=batch_size,\n",
    "        collate_fn=collate_fn_pad,\n",
    "    )\n",
    "    val_loss = 0.0\n",
    "    curr_cer = 1.0\n",
    "    total_chars = 0\n",
    "\n",
    "    model.eval()\n",
    "    with torch.no_grad():\n",
    "        for (input_lengths, output_lengths, x, y) in val_loader:\n",
    "            x, y = x.to(device), y.to(device)\n",
    "\n",
    "            # Forward pass\n",
    "            y_pred = model(x)\n",
    "\n",
    "            # Compute loss\n",
    "            m = torch.argmax(y_pred[0], 1)\n",
    "            curr_cer, total_chars = aggregate_cer(curr_cer, total_chars, y, y_pred)\n",
    "            y_pred = y_pred.permute(1, 0, 2)\n",
    "\n",
    "            loss = ctc_loss(y_pred, y, input_lengths, output_lengths)\n",
    "            val_loss += loss.item()\n",
    "\n",
    "    val_losses.append(val_loss/len(val_loader))\n",
    "    cers.append(curr_cer)"
   ],
   "metadata": {
    "id": "c6ab003ccb7a548"
   },
   "execution_count": null,
   "outputs": [],
   "id": "6bb442478096df24"
  },
  {
   "cell_type": "markdown",
   "source": [
    "### Visualize"
   ],
   "metadata": {
    "id": "8ef156632d6c68e1"
   },
   "id": "6acdf92d006a09ec"
  },
  {
   "cell_type": "code",
   "source": [
    "plt.plot(snrs, val_losses, color='blue')\n",
    "plt.scatter(snrs, val_losses, marker='x', color='red')\n",
    "plt.xlabel('SNR')\n",
    "plt.ylabel('Validating Loss')\n",
    "plt.title('Validating Loss vs SNR')\n",
    "plt.show()\n",
    "\n",
    "plt.plot(snrs, [100*c for c in cers], color='blue')\n",
    "plt.scatter(snrs, [100*c for c in cers], marker='x', color='red')\n",
    "plt.xlabel('CER')\n",
    "plt.ylabel('CER %')\n",
    "plt.title('Validating CER vs SNR')\n",
    "plt.show()"
   ],
   "metadata": {
    "id": "17fd95da5aced9b",
    "outputId": "1327f6a9-6c0b-4a7a-e468-4ceef9c611f7"
   },
   "execution_count": null,
   "outputs": [],
   "id": "d59a40f1519b9be"
  },
  {
   "cell_type": "markdown",
   "source": [
    "### Example of tensorboard add images"
   ],
   "metadata": {
    "id": "8f20c6f974cc3138"
   },
   "id": "fb261185bb0ce8cd"
  },
  {
   "cell_type": "code",
   "source": [
    "from torchvision.utils import make_grid\n",
    "\n",
    "for i, image_tensor in enumerate([torch.tensor(spec), torch.tensor(spec)]):\n",
    "    img_grid = make_grid(image_tensor, nrow=8)  # Show 8 images per row\n",
    "    writer.add_image(f\"Training data\", img_grid, i)"
   ],
   "metadata": {
    "ExecuteTime": {
     "end_time": "2024-03-25T12:59:25.854819700Z",
     "start_time": "2024-03-25T12:59:25.825769700Z"
    },
    "id": "98b0ece2c0499190"
   },
   "execution_count": null,
   "outputs": [],
   "id": "398bbffc75ea6938"
  },
  {
   "cell_type": "markdown",
   "source": [
    "## Detection: Faster R-CNN\n",
    "Faster R-CNN (Faster Regions with Convolutional Neural Networks) is an object detection algorithm that builds upon the success of its predecessors, R-CNN and Fast R-CNN. It was introduced in the 2015 paper [\"Faster R-CNN: Towards Real-Time Object Detection with Region Proposal Networks\"](https://arxiv.org/abs/1506.01497) by Shaoqing Ren, Kaiming He, Ross Girshick, and Jian Sun.\n",
    "\n",
    "The key innovation in Faster R-CNN is the introduction of a **Region Proposal Network** (RPN), which is a fully convolutional network that generates region proposals (bounding boxes) for objects in the input image. This contrasts with previous approaches that relied on external region proposal algorithms like selective search, which were computationally expensive and slow.\n",
    "\n",
    "The Faster R-CNN architecture consists of two main components:\n",
    "\n",
    "1. **Region Proposal Network (RPN)**: This is a lightweight convolutional neural network that takes an input image and outputs a set of object proposals or regions of interest (RoIs). The RPN works by sliding a small window over the input feature map and outputting multiple region proposals for each window location. These proposals are then filtered and ranked based on their objectness score, which is the probability that a region contains an object of interest.\n",
    "\n",
    "2. **Object Detection Network**: This is a Fast R-CNN network that takes the proposed RoIs from the RPN and performs object classification and bounding box regression. It extracts features from each RoI using a RoI pooling layer and then passes these features through fully connected layers to predict the class and refine the bounding box coordinates.\n",
    "\n",
    "The key advantages of Faster R-CNN are:\n",
    "\n",
    "1. **Speed**: By integrating the region proposal step into the network, Faster R-CNN can process images much faster than its predecessors, enabling real-time object detection.\n",
    "2. **Accuracy**: The RPN and the shared convolutional features used for both region proposal and object detection improve the overall accuracy of the system.\n",
    "3. **End-to-End Training**: The entire Faster R-CNN network can be trained end-to-end, making the training process more efficient and effective.\n",
    "\n",
    "Faster R-CNN has been widely adopted and has inspired numerous subsequent object detection algorithms, such as Mask R-CNN for instance segmentation and RetinaNet for dense object detection.\n",
    "\n",
    "We will use 'fasterrcnn_resnet50_fpn' varient (original model), read more here [\"PyTorch FASTER R-CNN\"](https://pytorch.org/vision/0.16/models/faster_rcnn.html)"
   ],
   "metadata": {
    "id": "c1175cc07be845ad"
   },
   "id": "2edef4d20e0b0c2a"
  },
  {
   "cell_type": "markdown",
   "source": [
    "### Utils"
   ],
   "metadata": {
    "id": "dd055d12afe7f871"
   },
   "id": "e4f228b33cd34368"
  },
  {
   "cell_type": "code",
   "source": [
    "def spectrum_to_img(spec):\n",
    "    '''\n",
    "    Transform spectrum to grey-image, ready for training in resnet50 model\n",
    "    \n",
    "    :param spec: ndarray (shape: [H, W])\n",
    "    :return: normalized torch image (shape: [1, H, W])\n",
    "    '''\n",
    "    # Normalize the spectrum (min-max scaling)\n",
    "    min_value = np.min(spec)\n",
    "    max_value = np.max(spec)\n",
    "    normalized_spectrum = (spec - min_value) / (max_value - min_value)\n",
    "\n",
    "    # Adapt dimension for resnet50\n",
    "    normalized_spectrum = np.expand_dims(normalized_spectrum, axis=-1)\n",
    "    normalized_spectrum = torch.from_numpy(normalized_spectrum).permute(2,0,1)\n",
    "\n",
    "    return normalized_spectrum\n",
    "\n",
    "\n",
    "def get_training_sample_bbx(*args, **kwargs):\n",
    "    '''\n",
    "    Used in NN dataset to generate sample with bounding box of the morse content\n",
    "    :param args: generate_morse_sample args\n",
    "    :param kwargs: \n",
    "    :return: torch image (shape: [1, H, W]) and bounding box (list[x_start, y_start, x_end, y_end])\n",
    "    '''\n",
    "    _, spec, morse_str, bbx = generate_morse_sample(*args, **kwargs)\n",
    "    spec = spectrum_to_img(spec)\n",
    "\n",
    "    return spec, bbx, morse_str\n",
    "\n",
    "\n",
    "def inference(img, model, detection_threshold=0.5):\n",
    "    '''\n",
    "    Infernece of a single input image from resnet\n",
    "\n",
    "    inputs:\n",
    "      img: input-image as torch.tensor (shape: [C, H, W])\n",
    "      model: model for infernce (torch.nn.Module)\n",
    "      detection_threshold: Confidence-threshold for NMS (default=0.7)\n",
    "\n",
    "    returns:\n",
    "      boxes: bounding boxes (Format [N, 4] => N times [xmin, ymin, xmax, ymax])\n",
    "      labels: class-prediction (Format [N] => N times an number between 0 and _num_classes-1)\n",
    "      scores: confidence-score (Format [N] => N times confidence-score between 0 and 1)\n",
    "    '''\n",
    "    model.eval()\n",
    "\n",
    "    img = img.to(device)\n",
    "    outputs = model([img])\n",
    "\n",
    "    boxes = outputs[0]['boxes'].data.cpu().numpy()\n",
    "    scores = outputs[0]['scores'].data.cpu().numpy()\n",
    "    labels = outputs[0]['labels'].data.cpu().numpy()\n",
    "\n",
    "    boxes = boxes[scores >= detection_threshold].astype(np.int32)\n",
    "    labels = labels[scores >= detection_threshold]\n",
    "    scores = scores[scores >= detection_threshold]\n",
    "\n",
    "    return boxes, scores, labels\n",
    "\n",
    "\n",
    "def plot_image(img, boxes, scores, labels, dataset, morse_str, save_path=None):\n",
    "    '''\n",
    "    Function that draws the BBoxes, scores, and labels on the image.\n",
    "\n",
    "    inputs:\n",
    "      img: input-image as numpy.array (shape: [H, W, C])\n",
    "      boxes: list of bounding boxes (Format [N, 4] => N times [xmin, ymin, xmax, ymax])\n",
    "      scores: list of conf-scores (Format [N] => N times confidence-score between 0 and 1)\n",
    "      labels: list of class-prediction (Format [N] => N times an number between 0 and _num_classes-1)\n",
    "      dataset: list of all classes [\"background\", \"morse\"] => Format [N_classes]\n",
    "    '''\n",
    "    # Preprocessing\n",
    "    img = img.permute(1,2,0).numpy()\n",
    "    img = np.squeeze(img, axis=-1)\n",
    "    class_labels = np.array(dataset)\n",
    "\n",
    "    # Plotting\n",
    "    fig, ax = plt.subplots(1, figsize=(16, 8))\n",
    "    plt.pcolormesh(img)\n",
    "    for i, box in enumerate(boxes):\n",
    "\n",
    "        # BBX\n",
    "        class_pred = labels[i]\n",
    "        conf = scores[i]\n",
    "        rect = patches.Rectangle(\n",
    "            (box[0], box[1]),\n",
    "            box[2]-box[0],\n",
    "            box[3]-box[1],\n",
    "            linewidth=4,\n",
    "            edgecolor='red',\n",
    "            facecolor=\"none\",\n",
    "        )\n",
    "        ax.add_patch(rect)\n",
    "\n",
    "        # Add vertical lines\n",
    "        ax.axvline(x=box[0], color='r', linestyle='--', linewidth=3, alpha=0.5)\n",
    "        ax.axvline(x=box[2], color='r', linestyle='--', linewidth=3, alpha=0.5)\n",
    "\n",
    "        # Add the label\n",
    "        plt.text(\n",
    "            box[0], box[1],\n",
    "            s='\"' + morse_str + '\" | ' + class_labels[int(class_pred)] + \" \" + str(int(100*conf)) + \"%\",\n",
    "            color=\"white\",\n",
    "            fontsize=14,\n",
    "            verticalalignment=\"top\",\n",
    "            bbox={\"color\": 'red', \"pad\": 0},\n",
    "        )\n",
    "\n",
    "    # Used to save inference phase results\n",
    "    if save_path is not None:\n",
    "        plt.savefig(save_path)\n",
    "\n",
    "    plt.show()\n",
    "\n",
    "\n",
    "def collate_fn(batch):\n",
    "    return tuple(zip(*batch))"
   ],
   "metadata": {
    "id": "63272d9fae3625cb",
    "execution": {
     "iopub.status.busy": "2024-03-28T20:22:16.920867Z",
     "iopub.execute_input": "2024-03-28T20:22:16.921231Z",
     "iopub.status.idle": "2024-03-28T20:22:16.926791Z",
     "shell.execute_reply.started": "2024-03-28T20:22:16.921202Z",
     "shell.execute_reply": "2024-03-28T20:22:16.925897Z"
    },
    "trusted": true,
    "ExecuteTime": {
     "end_time": "2024-03-31T15:44:33.558774Z",
     "start_time": "2024-03-31T15:44:33.539048Z"
    }
   },
   "id": "c92e273c0bed5d7e",
   "outputs": [],
   "execution_count": 10
  },
  {
   "cell_type": "markdown",
   "source": [
    "### Generate and Plot 1 example"
   ],
   "metadata": {
    "collapsed": false
   },
   "id": "422ed4baf852e536"
  },
  {
   "cell_type": "code",
   "source": [
    "sr = 2000\n",
    "\n",
    "# Random params\n",
    "length = random.randrange(1, 7)\n",
    "pitch = random.randint(2, 19) * 50\n",
    "wpm = 18\n",
    "snrDB = random.randrange(-10, 10)\n",
    "amplitude = random.randrange(50, 200)\n",
    "\n",
    "# Generate\n",
    "spec, bbx, morse_str = get_training_sample_bbx(sr, length, pitch, wpm, snrDB, amplitude)\n",
    "\n",
    "# Plot\n",
    "plot_image(spec, [bbx], [1.0], [1], ['background', 'morse'], morse_str)"
   ],
   "metadata": {
    "colab": {
     "base_uri": "https://localhost:8080/",
     "height": 110
    },
    "id": "31366734189a3736",
    "outputId": "91b21069-8632-41dd-cea5-48a5582d1b06",
    "execution": {
     "iopub.status.busy": "2024-03-28T23:02:10.979132Z",
     "iopub.execute_input": "2024-03-28T23:02:10.979998Z",
     "iopub.status.idle": "2024-03-28T23:02:11.198870Z",
     "shell.execute_reply.started": "2024-03-28T23:02:10.979963Z",
     "shell.execute_reply": "2024-03-28T23:02:11.197920Z"
    },
    "trusted": true,
    "ExecuteTime": {
     "end_time": "2024-03-31T15:45:24.119376Z",
     "start_time": "2024-03-31T15:45:23.996435Z"
    }
   },
   "id": "7d3d2dc3ff75d73",
   "outputs": [
    {
     "name": "stderr",
     "output_type": "stream",
     "text": [
      "C:\\Users\\Maor\\AppData\\Local\\Temp\\ipykernel_31128\\3015226362.py:56: ComplexWarning: Casting complex values to real discards the imaginary part\n",
      "  time_domain_signal = time_domain_signal.astype(np.float32)\n"
     ]
    },
    {
     "data": {
      "text/plain": [
       "<Figure size 1600x800 with 1 Axes>"
      ],
      "image/png": "[encoded data removed]"
     },
     "metadata": {},
     "output_type": "display_data"
    }
   ],
   "execution_count": 26
  },
  {
   "cell_type": "markdown",
   "source": [
    "### Dataset"
   ],
   "metadata": {
    "collapsed": false
   },
   "id": "338d603f7024d549"
  },
  {
   "cell_type": "code",
   "source": [
    "class DatasetBBX(data.Dataset):\n",
    "    \"\"\"\n",
    "    Custom PyTorch dataset for bounding box detection task in morse\n",
    "    Generates data samples in runtime\n",
    "    \"\"\"\n",
    "    def __init__(self, number_of_samples=4096, sr=2000, explicit_snr=None):\n",
    "        self.length = number_of_samples\n",
    "        self.sr = sr\n",
    "        self.explicit_snr=explicit_snr\n",
    "\n",
    "    def __len__(self):\n",
    "        return self.length\n",
    "\n",
    "    def __getitem__(self, index):\n",
    "        target = {}\n",
    "\n",
    "        # Generate random parameters for the sample\n",
    "        length = random.randrange(1, 8)\n",
    "        pitch = random.randint(2, 19) * 50\n",
    "        wpm = 18\n",
    "        amplitude = random.randrange(50, 200)\n",
    "        if self.explicit_snr != None:\n",
    "            snrDB = self.explicit_snr\n",
    "        else:\n",
    "            snrDB = random.randrange(-10, 10)\n",
    "\n",
    "        spec, bbx, _ = get_training_sample_bbx(self.sr, length, pitch, wpm, snrDB, amplitude, None, True)\n",
    "\n",
    "        # Store the bounding box and label in the target dictionary\n",
    "        target[\"boxes\"] = torch.Tensor([bbx]).float()\n",
    "        target[\"labels\"] = torch.LongTensor([1])\n",
    "\n",
    "        return spec, target"
   ],
   "metadata": {
    "id": "8d8c9be72b5b2c29",
    "execution": {
     "iopub.status.busy": "2024-03-28T23:03:06.082110Z",
     "iopub.execute_input": "2024-03-28T23:03:06.082497Z",
     "iopub.status.idle": "2024-03-28T23:03:06.090912Z",
     "shell.execute_reply.started": "2024-03-28T23:03:06.082468Z",
     "shell.execute_reply": "2024-03-28T23:03:06.090003Z"
    },
    "trusted": true,
    "ExecuteTime": {
     "end_time": "2024-03-31T16:55:35.309430Z",
     "start_time": "2024-03-31T16:55:35.298923Z"
    }
   },
   "id": "370d42db68fd5314",
   "outputs": [],
   "execution_count": 150
  },
  {
   "cell_type": "markdown",
   "source": [
    "### Training"
   ],
   "metadata": {
    "id": "43a1e075e6622189"
   },
   "id": "46358481a5f32df4"
  },
  {
   "cell_type": "markdown",
   "source": [
    "#### Hyperparameter"
   ],
   "metadata": {
    "id": "3f4abec0f902b291"
   },
   "id": "ae36613af1671f5e"
  },
  {
   "cell_type": "code",
   "source": [
    "SEED = 42\n",
    "TEST_SIZE = 0.2\n",
    "NUM_EPOCHS = 50\n",
    "LR = 0.005\n",
    "LR_MOMENTUM=0.9\n",
    "LR_DECAY_RATE=0.001\n",
    "LR_SCHED_STEP_SIZE = 0.1\n",
    "LR_SCHED_GAMMA = 0.1\n",
    "BATCH_SIZE = 64\n",
    "NUM_TEST_IMAGES = 5\n",
    "NMS_THRESH = 0.01\n",
    "OUTPUT_DIR = 'faster_rnn_outputs'"
   ],
   "metadata": {
    "id": "4f508c6753e66ee5",
    "execution": {
     "iopub.status.busy": "2024-03-28T23:04:25.128783Z",
     "iopub.execute_input": "2024-03-28T23:04:25.129503Z",
     "iopub.status.idle": "2024-03-28T23:04:25.134581Z",
     "shell.execute_reply.started": "2024-03-28T23:04:25.129470Z",
     "shell.execute_reply": "2024-03-28T23:04:25.133646Z"
    },
    "trusted": true,
    "ExecuteTime": {
     "end_time": "2024-03-31T15:45:29.491508Z",
     "start_time": "2024-03-31T15:45:29.483993Z"
    }
   },
   "id": "7ed17b7eeab8b271",
   "outputs": [],
   "execution_count": 28
  },
  {
   "cell_type": "markdown",
   "source": [
    "#### Model init"
   ],
   "metadata": {
    "id": "52bedd4c11ece79d"
   },
   "id": "308008fc2d383da"
  },
  {
   "cell_type": "code",
   "source": [
    "device = torch.device('cuda') if torch.cuda.is_available() else torch.device('cpu')\n",
    "num_epochs = NUM_EPOCHS\n",
    "\n",
    "# Classes\n",
    "labels = ['background', 'morse']\n",
    "num_classes = len(labels)\n",
    "\n",
    "# Model\n",
    "model = torchvision.models.detection.fasterrcnn_resnet50_fpn(min_size=50, max_size=550) # 1 up to 9 morse chars max img size is ~550\n",
    "in_features = model.roi_heads.box_predictor.cls_score.in_features\n",
    "model.roi_heads.box_predictor = FastRCNNPredictor(in_features, num_classes)\n",
    "model.to(device)\n",
    "\n",
    "# Optimizer\n",
    "params = [p for p in model.parameters() if p.requires_grad]\n",
    "optimizer = torch.optim.SGD(params, lr=LR, momentum=LR_MOMENTUM, weight_decay=LR_DECAY_RATE)\n",
    "\n",
    "# Dataset\n",
    "dataset = DatasetBBX()\n",
    "dataset_test = DatasetBBX()\n",
    "torch.manual_seed(SEED)\n",
    "\n",
    "# learning rate scheduler\n",
    "lr_scheduler = torch.optim.lr_scheduler.StepLR(optimizer, step_size=LR_SCHED_STEP_SIZE, gamma=LR_SCHED_GAMMA)\n",
    "\n",
    "# data loaders\n",
    "data_loader = torch.utils.data.DataLoader(\n",
    "    dataset, batch_size=BATCH_SIZE, shuffle=True,\n",
    "    # num_workers=4,\n",
    "    collate_fn=collate_fn)\n",
    "\n",
    "data_loader_test = torch.utils.data.DataLoader(\n",
    "    dataset_test, batch_size=1, shuffle=False,\n",
    "    # num_workers=4,\n",
    "    collate_fn=collate_fn)"
   ],
   "metadata": {
    "colab": {
     "base_uri": "https://localhost:8080/"
    },
    "id": "844864f0d6609f4",
    "outputId": "d4e796cd-b5b4-4a87-9882-e702d777d2fb",
    "execution": {
     "iopub.status.busy": "2024-03-28T23:04:37.144136Z",
     "iopub.execute_input": "2024-03-28T23:04:37.144851Z",
     "iopub.status.idle": "2024-03-28T23:04:37.896937Z",
     "shell.execute_reply.started": "2024-03-28T23:04:37.144819Z",
     "shell.execute_reply": "2024-03-28T23:04:37.895706Z"
    },
    "trusted": true,
    "ExecuteTime": {
     "end_time": "2024-03-31T15:45:53.108094Z",
     "start_time": "2024-03-31T15:45:51.961720Z"
    }
   },
   "id": "7ffc43d400b9d788",
   "outputs": [],
   "execution_count": 31
  },
  {
   "cell_type": "markdown",
   "source": [
    "#### Training functions"
   ],
   "metadata": {
    "id": "9929889e54fe378c"
   },
   "id": "d15e08d403f0637b"
  },
  {
   "cell_type": "code",
   "source": [
    "def train_one_epoch(model, optimizer, data_loader, device):\n",
    "    '''\n",
    "    train the model over one epoch.\n",
    "    '''\n",
    "    train_loss_list = []\n",
    "    tqdm_bar = tqdm(data_loader, total=len(data_loader))\n",
    "    \n",
    "    for idx, data in enumerate(tqdm_bar):\n",
    "        optimizer.zero_grad()\n",
    "        images, targets = data\n",
    "\n",
    "        images = list(image.to(device) for image in images)\n",
    "        targets = [{k: v.to(device) for k, v in t.items()} for t in targets]  # targets = {'boxes'=tensor, 'labels'=tensor}\n",
    "\n",
    "        losses = model(images, targets)\n",
    "        loss = sum(loss for loss in losses.values())\n",
    "        train_loss_list.append(loss.detach().cpu().numpy())\n",
    "\n",
    "        loss.backward()\n",
    "        optimizer.step()\n",
    "        tqdm_bar.set_description(desc=f\"Training Loss: {loss:.3f}\")\n",
    "\n",
    "    return train_loss_list\n",
    "\n",
    "\n",
    "def evaluate(model, data_loader_test, device):\n",
    "    '''\n",
    "    validate the model\n",
    "    '''\n",
    "    val_loss_list = []\n",
    "    tqdm_bar = tqdm(data_loader_test, total=len(data_loader_test))\n",
    "\n",
    "    for i, data in enumerate(tqdm_bar):\n",
    "        images, targets = data\n",
    "\n",
    "        images = list(image.to(device) for image in images)\n",
    "        targets = [{k: v.to(device) for k, v in t.items()} for t in targets]\n",
    "\n",
    "        with torch.no_grad():\n",
    "            losses = model(images, targets)\n",
    "        loss = sum(loss for loss in losses.values())\n",
    "        loss_val = loss.item()\n",
    "        \n",
    "        val_loss_list.append(loss_val)\n",
    "        tqdm_bar.set_description(desc=f\"Validation Loss: {loss:.4f}\")\n",
    "        \n",
    "    return val_loss_list\n",
    "\n",
    "\n",
    "def plot_loss(train_loss, valid_loss):\n",
    "    '''\n",
    "    plot training and valdiation losses and save them in `output_dir'\n",
    "    '''\n",
    "    \n",
    "    figure_1, train_ax = plt.subplots()\n",
    "    figure_2, valid_ax = plt.subplots()\n",
    "\n",
    "    train_ax.plot(train_loss, color='blue')\n",
    "    train_ax.set_xlabel('Iteration')\n",
    "    train_ax.set_ylabel('Training Loss')\n",
    "\n",
    "    valid_ax.plot(valid_loss, color='red')\n",
    "    valid_ax.set_xlabel('Iteration')\n",
    "    valid_ax.set_ylabel('Validation loss')\n",
    "\n",
    "    figure_1.savefig(f\"{OUTPUT_DIR}/train_loss.png\")\n",
    "    figure_2.savefig(f\"{OUTPUT_DIR}/valid_loss.png\")"
   ],
   "metadata": {
    "id": "e86e16df87d12e57",
    "execution": {
     "iopub.status.busy": "2024-03-28T23:04:41.743986Z",
     "iopub.execute_input": "2024-03-28T23:04:41.744879Z",
     "iopub.status.idle": "2024-03-28T23:04:41.758845Z",
     "shell.execute_reply.started": "2024-03-28T23:04:41.744845Z",
     "shell.execute_reply": "2024-03-28T23:04:41.757958Z"
    },
    "trusted": true,
    "ExecuteTime": {
     "end_time": "2024-03-31T15:45:33.666888Z",
     "start_time": "2024-03-31T15:45:33.656379Z"
    }
   },
   "id": "df221e613fa2df03",
   "outputs": [],
   "execution_count": 29
  },
  {
   "cell_type": "markdown",
   "source": [
    "#### Load checkpoint\n",
    "epoch 541 checkpoint available at: https://we.tl/t-Bk8Sfvh2bR [320 MB]"
   ],
   "metadata": {
    "collapsed": false
   },
   "id": "3b67f1cfadd2c409"
  },
  {
   "cell_type": "code",
   "source": [
    "checkpoint_files = [f for f in os.listdir(OUTPUT_DIR) if f.endswith('.pth')]\n",
    "if checkpoint_files:\n",
    "    # Last checkpoint file\n",
    "    checkpoint_files.sort()\n",
    "    latest_checkpoint = os.path.join(OUTPUT_DIR, checkpoint_files[-1])\n",
    "    checkpoint = torch.load(latest_checkpoint)\n",
    "    model.load_state_dict(checkpoint['model_state_dict'])\n",
    "    optimizer.load_state_dict(checkpoint['optimizer_state_dict'])\n",
    "    start_epoch = checkpoint['epoch']\n",
    "    loss_dict = checkpoint['loss_dict']\n",
    "else:\n",
    "    start_epoch = 0\n",
    "    loss_dict = {'train_loss': [], 'valid_loss': []}"
   ],
   "metadata": {
    "collapsed": false,
    "ExecuteTime": {
     "end_time": "2024-03-31T16:53:20.375628Z",
     "start_time": "2024-03-31T16:53:19.914893Z"
    }
   },
   "id": "d1b1f676e7bafd90",
   "outputs": [],
   "execution_count": 146
  },
  {
   "cell_type": "code",
   "source": [
    "# Count the total number of parameters\n",
    "total_params = sum(p.numel() for p in model.parameters())\n",
    "log.info(f\"Total number of parameters: {total_params}\")\n",
    "\n",
    "# Count the number of trainable parameters\n",
    "trainable_params = sum(p.numel() for p in model.parameters() if p.requires_grad)\n",
    "log.info(f\"Number of trainable parameters: {trainable_params}\")"
   ],
   "metadata": {
    "collapsed": false,
    "ExecuteTime": {
     "end_time": "2024-03-31T16:53:22.804818Z",
     "start_time": "2024-03-31T16:53:22.786294Z"
    }
   },
   "id": "7a5a849a0013d8ec",
   "outputs": [
    {
     "name": "stdout",
     "output_type": "stream",
     "text": [
      "2024-03-31 19:53:22 [INFO] root - Total number of parameters: 41299161\n",
      "2024-03-31 19:53:22 [INFO] root - Number of trainable parameters: 41076761\n"
     ]
    }
   ],
   "execution_count": 147
  },
  {
   "cell_type": "markdown",
   "source": [
    "#### Train"
   ],
   "metadata": {
    "id": "5d3462636bd06cb5"
   },
   "id": "4c00c10f3d12d3d5"
  },
  {
   "cell_type": "code",
   "source": [
    "for epoch in range(start_epoch, start_epoch + NUM_EPOCHS):\n",
    "    log.info(\"----------Epoch {}----------\".format(epoch+1))\n",
    "\n",
    "    # Train the model for one epoch\n",
    "    train_loss_list = train_one_epoch(model, optimizer, data_loader, device)\n",
    "    loss_dict['train_loss'].extend(train_loss_list)\n",
    "\n",
    "    lr_scheduler.step()\n",
    "\n",
    "    # Run evaluation\n",
    "    valid_loss_list = evaluate(model, data_loader_test, device)\n",
    "    loss_dict['valid_loss'].extend(valid_loss_list)\n",
    "\n",
    "    if epoch % 10 == 0:\n",
    "        # Save model\n",
    "        ckpt_file_name = f\"{OUTPUT_DIR}/epoch_{epoch+1}_model.pth\"\n",
    "        torch.save({\n",
    "            'epoch': epoch+1,\n",
    "            'model_state_dict': model.state_dict(),\n",
    "            'optimizer_state_dict': optimizer.state_dict(),\n",
    "            'loss_dict': loss_dict\n",
    "        }, ckpt_file_name)\n",
    "\n",
    "    plot_loss(loss_dict['train_loss'], loss_dict['valid_loss'])\n",
    "\n",
    "# Store the losses after the training in a pickle\n",
    "with open(f\"{OUTPUT_DIR}/loss_dict.pkl\", \"wb\") as file:\n",
    "    pickle.dump(loss_dict, file)\n",
    "\n",
    "log.info(\"Training Finished !\")"
   ],
   "metadata": {
    "colab": {
     "base_uri": "https://localhost:8080/",
     "height": 1000
    },
    "id": "8e04700b64ae7eae",
    "outputId": "599aed50-daa2-4277-8b0f-c1aefcea34ab",
    "execution": {
     "iopub.status.busy": "2024-03-28T23:04:56.869015Z",
     "iopub.execute_input": "2024-03-28T23:04:56.870039Z",
     "iopub.status.idle": "2024-03-29T00:38:42.262969Z",
     "shell.execute_reply.started": "2024-03-28T23:04:56.870005Z",
     "shell.execute_reply": "2024-03-29T00:38:42.261850Z"
    },
    "trusted": true
   },
   "id": "7ff96b0b6a1b24bf",
   "outputs": [],
   "execution_count": null
  },
  {
   "cell_type": "markdown",
   "source": "### Evaluate",
   "metadata": {
    "collapsed": false
   },
   "id": "8b83c72073f4e1e0"
  },
  {
   "metadata": {
    "ExecuteTime": {
     "end_time": "2024-03-31T15:45:40.225741Z",
     "start_time": "2024-03-31T15:45:40.219235Z"
    }
   },
   "cell_type": "code",
   "source": [
    "def IoU_loss_x_axis_only(pred_box, gt_box):\n",
    "    \"\"\"\n",
    "    Calculates modified Intersection-over-Union loss considering only x-axis overlap.\n",
    "  \n",
    "    Args:\n",
    "        pred_boxes: numpy array of predicted bounding boxes (format: [x1, y1, x2, y2])\n",
    "        gt_boxes: numpy array of ground truth bounding boxes (same format)\n",
    "  \n",
    "    Returns:\n",
    "        Modified IoU loss (float)\n",
    "    \"\"\"\n",
    "    # Calculate overlap width\n",
    "    overlap_width = np.maximum(0, np.minimum(pred_box[2], gt_box[2]) - np.maximum(pred_box[0], gt_box[0]))\n",
    "\n",
    "    # Union width based on wider box (modify as needed)\n",
    "    union_width = np.maximum(pred_box[2] - pred_box[0], gt_box[2] - gt_box[0])\n",
    "\n",
    "    # Calculate modified IoU loss (1 - IoU_x)\n",
    "    iou_loss = 1.0 - np.mean(overlap_width / np.maximum(union_width, 1e-10))\n",
    "    return iou_loss"
   ],
   "id": "5f5fb07eea7a4726",
   "outputs": [],
   "execution_count": 30
  },
  {
   "cell_type": "code",
   "source": [
    "random.seed(SEED)\n",
    "num_images = NUM_TEST_IMAGES\n",
    "\n",
    "plot = False\n",
    "num_of_samples = 1000\n",
    "\n",
    "eval_loss = []\n",
    "model.eval()\n",
    "for i in range(num_of_samples):\n",
    "    x = random.randint(0, (dataset_test.__len__()-1))\n",
    "    img, target = dataset_test.__getitem__(x)\n",
    "    img = img.to(device)\n",
    "    box, scores, labels = inference(img, model)\n",
    "    if len(box) > 0:\n",
    "        iou_loss = IoU_loss_x_axis_only(box[0], target[\"boxes\"][0].numpy())\n",
    "    else:\n",
    "        iou_loss = 1.0\n",
    "    eval_loss.append(iou_loss)\n",
    "    if plot:\n",
    "        log.info(f'IoU-x loss = {iou_loss}')\n",
    "        plot_image(img.cpu(), box, scores, labels, ['background', 'morse'],'')\n",
    "print(f'Final IoU-x loss = {np.mean(eval_loss)}')"
   ],
   "metadata": {
    "colab": {
     "base_uri": "https://localhost:8080/"
    },
    "id": "sa3HuG6phBD2",
    "outputId": "260d91f7-c053-43ec-fada-b7c5666adfc7",
    "execution": {
     "iopub.status.busy": "2024-03-29T00:41:33.769367Z",
     "iopub.execute_input": "2024-03-29T00:41:33.770382Z",
     "iopub.status.idle": "2024-03-29T00:42:12.182549Z",
     "shell.execute_reply.started": "2024-03-29T00:41:33.770344Z",
     "shell.execute_reply": "2024-03-29T00:42:12.181385Z"
    },
    "trusted": true,
    "ExecuteTime": {
     "end_time": "2024-03-31T16:54:09.722873Z",
     "start_time": "2024-03-31T16:53:42.012409Z"
    }
   },
   "id": "e3433ad6f5bfd005",
   "outputs": [
    {
     "name": "stderr",
     "output_type": "stream",
     "text": [
      "C:\\Users\\Maor\\AppData\\Local\\Temp\\ipykernel_31128\\3015226362.py:56: ComplexWarning: Casting complex values to real discards the imaginary part\n",
      "  time_domain_signal = time_domain_signal.astype(np.float32)\n"
     ]
    },
    {
     "name": "stdout",
     "output_type": "stream",
     "text": [
      "Final IoU-x loss = 0.03011449732414833\n"
     ]
    }
   ],
   "execution_count": 149
  },
  {
   "metadata": {
    "ExecuteTime": {
     "end_time": "2024-03-31T17:04:15.666586Z",
     "start_time": "2024-03-31T16:59:52.137296Z"
    }
   },
   "cell_type": "code",
   "source": [
    "# per SNR\n",
    "snrs = [-15, -10, -5, 0, 5, 10, 15]\n",
    "ious = []\n",
    "num_of_samples = 1000\n",
    "\n",
    "for i in range(len(snrs)):\n",
    "    log.info(f'Evaluating model for snr: {snrs[i]}')\n",
    "\n",
    "    dataset_test = DatasetBBX(explicit_snr=snrs[i])    \n",
    "    data_loader_test = torch.utils.data.DataLoader(\n",
    "        dataset_test, batch_size=1, shuffle=False,\n",
    "        collate_fn=collate_fn)\n",
    "\n",
    "    eval_loss = []\n",
    "    model.eval()\n",
    "    for i in range(num_of_samples):\n",
    "        x = random.randint(0, (dataset_test.__len__()-1))\n",
    "        img, target = dataset_test.__getitem__(x)\n",
    "        img = img.to(device)\n",
    "        box, scores, labels = inference(img, model)\n",
    "        if len(box) > 0:\n",
    "            iou_loss = IoU_loss_x_axis_only(box[0], target[\"boxes\"][0].numpy())\n",
    "        else:\n",
    "            iou_loss = 1.0\n",
    "        eval_loss.append(iou_loss)\n",
    "\n",
    "    ious.append(np.mean(eval_loss))"
   ],
   "id": "b722dc0ce3511443",
   "outputs": [
    {
     "name": "stdout",
     "output_type": "stream",
     "text": [
      "2024-03-31 19:59:52 [INFO] root - Evaluating model for snr: -15\n"
     ]
    },
    {
     "name": "stderr",
     "output_type": "stream",
     "text": [
      "C:\\Users\\Maor\\AppData\\Local\\Temp\\ipykernel_31128\\3015226362.py:56: ComplexWarning: Casting complex values to real discards the imaginary part\n",
      "  time_domain_signal = time_domain_signal.astype(np.float32)\n"
     ]
    },
    {
     "name": "stdout",
     "output_type": "stream",
     "text": [
      "2024-03-31 20:00:27 [INFO] root - Evaluating model for snr: -10\n",
      "2024-03-31 20:01:00 [INFO] root - Evaluating model for snr: -5\n",
      "2024-03-31 20:01:39 [INFO] root - Evaluating model for snr: 0\n",
      "2024-03-31 20:02:13 [INFO] root - Evaluating model for snr: 5\n",
      "2024-03-31 20:02:48 [INFO] root - Evaluating model for snr: 10\n",
      "2024-03-31 20:03:23 [INFO] root - Evaluating model for snr: 15\n"
     ]
    }
   ],
   "execution_count": 153
  },
  {
   "metadata": {
    "ExecuteTime": {
     "end_time": "2024-03-31T17:08:00.372136Z",
     "start_time": "2024-03-31T17:08:00.283066Z"
    }
   },
   "cell_type": "code",
   "source": [
    "plt.plot(snrs, ious, color='blue')\n",
    "plt.scatter(snrs, ious, marker='x', color='red')\n",
    "plt.xlabel('SNR')\n",
    "plt.ylabel('IoU-x Loss')\n",
    "plt.title('Faster-RCNN IoU-x Loss vs SNR')\n",
    "plt.ylim(0, 0.5)\n",
    "plt.show()"
   ],
   "id": "9caccb4cf349e5f0",
   "outputs": [
    {
     "data": {
      "text/plain": [
       "<Figure size 640x480 with 1 Axes>"
      ],
      "image/png": "[encoded data removed]"
     },
     "metadata": {},
     "output_type": "display_data"
    }
   ],
   "execution_count": 159
  },
  {
   "metadata": {},
   "cell_type": "markdown",
   "source": [
    "# Demo\n",
    "Example on how we can use both models - one for decoding the morse information, and the other for detecting morse in the frame"
   ],
   "id": "69f8abd3fd332155"
  },
  {
   "metadata": {},
   "cell_type": "markdown",
   "source": "## Utils",
   "id": "e156d6428a35225b"
  },
  {
   "metadata": {
    "ExecuteTime": {
     "end_time": "2024-03-31T16:07:40.288433Z",
     "start_time": "2024-03-31T16:07:40.276419Z"
    }
   },
   "cell_type": "code",
   "source": [
    "def plot_decode_detect(img, boxes, scores, labels, dataset, original_str, predicted_str):\n",
    "    '''\n",
    "    Function that draws the BBoxes, scores, and labels on the image.\n",
    "\n",
    "    inputs:\n",
    "      img: input-image as numpy.array (shape: [H, W, C])\n",
    "      boxes: list of bounding boxes (Format [N, 4] => N times [xmin, ymin, xmax, ymax])\n",
    "      scores: list of conf-scores (Format [N] => N times confidence-score between 0 and 1)\n",
    "      labels: list of class-prediction (Format [N] => N times an number between 0 and _num_classes-1)\n",
    "      dataset: list of all classes [\"background\", \"morse\"] => Format [N_classes]\n",
    "    '''\n",
    "    # Preprocessing\n",
    "    img = img.permute(1,2,0).numpy()\n",
    "    img = np.squeeze(img, axis=-1)\n",
    "    class_labels = np.array(dataset)\n",
    "\n",
    "    # Plotting\n",
    "    fig, ax = plt.subplots(1, figsize=(16, 8))\n",
    "    plt.pcolormesh(img)\n",
    "    for i, box in enumerate(boxes):\n",
    "        box[1] += 1\n",
    "        box[3] += 1\n",
    "        \n",
    "        # BBX\n",
    "        class_pred = labels[i]\n",
    "        conf = scores[i]\n",
    "        rect = patches.Rectangle(\n",
    "            (box[0], box[1]),\n",
    "            box[2]-box[0],\n",
    "            box[3]-box[1],\n",
    "            linewidth=4,\n",
    "            edgecolor='red',\n",
    "            facecolor=\"none\",\n",
    "        )\n",
    "        ax.add_patch(rect)\n",
    "\n",
    "        # Add vertical lines\n",
    "        ax.axvline(x=box[0], color='r', linestyle='--', linewidth=3, alpha=0.5)\n",
    "        ax.axvline(x=box[2], color='r', linestyle='--', linewidth=3, alpha=0.5)\n",
    "\n",
    "        # Add the label\n",
    "        plt.text(\n",
    "            box[0], box[1],\n",
    "            s='predicted <' + predicted_str + '> ' + class_labels[int(class_pred)] + \" \" + str(int(100*conf)) + \"%\",\n",
    "            color=\"white\",\n",
    "            fontsize=14,\n",
    "            verticalalignment=\"top\",\n",
    "            bbox={\"color\": 'red', \"pad\": 0},\n",
    "        )\n",
    "        plt.text(\n",
    "            box[0], box[3],\n",
    "            s='target <' + original_str + '>',\n",
    "            color=\"white\",\n",
    "            fontsize=14,\n",
    "            verticalalignment=\"bottom\",\n",
    "            bbox={\"color\": 'darkred', \"pad\": 0},\n",
    "        )\n",
    "\n",
    "    plt.show()\n",
    "    \n",
    "    \n",
    "def spec_to_lstm(spec):\n",
    "    spec_ = torch.from_numpy(spec)\n",
    "    spec_ = spec_.permute(1, 0)\n",
    "    return spec_"
   ],
   "id": "4b8952c7a2a2d663",
   "outputs": [],
   "execution_count": 126
  },
  {
   "metadata": {},
   "cell_type": "markdown",
   "source": "## init models",
   "id": "84a1dc7f9e86b088"
  },
  {
   "metadata": {
    "ExecuteTime": {
     "end_time": "2024-03-31T15:55:22.771391Z",
     "start_time": "2024-03-31T15:55:20.912641Z"
    }
   },
   "cell_type": "code",
   "source": [
    "device = torch.device('cuda') if torch.cuda.is_available() else torch.device('cpu')\n",
    "\n",
    "# init decoder\n",
    "run_date = '2024-03-26_01-45-23'\n",
    "epoch = 1840\n",
    "spectrogram_size = generate_morse_sample(sr=2000)[1].shape[0]\n",
    "model_lstm = LSTMRnn(num_tags, spectrogram_size).to(device)\n",
    "model_lstm.load_state_dict(torch.load(f\"models/{run_date}_{epoch:06}.pt\", map_location=device))\n",
    "model_lstm.eval()\n",
    "\n",
    "# init detector\n",
    "labels = ['background', 'morse']\n",
    "num_classes = len(labels)\n",
    "model_resnet = torchvision.models.detection.fasterrcnn_resnet50_fpn(min_size=50, max_size=550) # 1 up to 9 morse chars max img size is ~550\n",
    "in_features = model_resnet.roi_heads.box_predictor.cls_score.in_features\n",
    "model_resnet.roi_heads.box_predictor = FastRCNNPredictor(in_features, num_classes)\n",
    "params = [p for p in model_resnet.parameters() if p.requires_grad]\n",
    "optimizer = torch.optim.SGD(params, lr=LR, momentum=LR_MOMENTUM, weight_decay=LR_DECAY_RATE)\n",
    "\n",
    "checkpoint_files = [f for f in os.listdir(OUTPUT_DIR) if f.endswith('.pth')]\n",
    "checkpoint_files.sort()\n",
    "latest_checkpoint = os.path.join(OUTPUT_DIR, checkpoint_files[-1])\n",
    "checkpoint = torch.load(latest_checkpoint)\n",
    "model_resnet.load_state_dict(checkpoint['model_state_dict'])\n",
    "optimizer.load_state_dict(checkpoint['optimizer_state_dict'])\n",
    "model_resnet.to(device)\n",
    "print(latest_checkpoint)"
   ],
   "id": "ce0194c92c3f0720",
   "outputs": [
    {
     "name": "stderr",
     "output_type": "stream",
     "text": [
      "C:\\Users\\Maor\\AppData\\Local\\Temp\\ipykernel_31128\\3015226362.py:56: ComplexWarning: Casting complex values to real discards the imaginary part\n",
      "  time_domain_signal = time_domain_signal.astype(np.float32)\n"
     ]
    },
    {
     "name": "stdout",
     "output_type": "stream",
     "text": [
      "faster_rnn_outputs\\epoch_141_model.pth\n"
     ]
    }
   ],
   "execution_count": 39
  },
  {
   "metadata": {},
   "cell_type": "markdown",
   "source": "## Generate, Decode & Detect",
   "id": "aa38c0ff364a0326"
  },
  {
   "metadata": {
    "ExecuteTime": {
     "end_time": "2024-03-31T16:09:01.212662Z",
     "start_time": "2024-03-31T16:09:00.935945Z"
    }
   },
   "cell_type": "code",
   "source": [
    "# Params\n",
    "sr = 2000\n",
    "length = random.randrange(1, 7)\n",
    "pitch = 950 # random.randint(2, 19) * 50\n",
    "wpm = 18\n",
    "snrDB = random.randrange(-10, 10)\n",
    "amplitude = random.randrange(50, 200)\n",
    "\n",
    "time_domain_signal, spec, target_str, bbx = generate_morse_sample(sr, length, pitch, wpm, -5, amplitude, \"MORSE DL\")\n",
    "log.info(f\"pitch: {pitch}, wpm: {wpm}, snrDB: {snrDB}, amplitude: {amplitude}, str: {target_str}, bbx: {bbx}\")\n",
    "\n",
    "# Decode\n",
    "# ----------------------------------------------------------------\n",
    "spec_lstm = torch.from_numpy(spec).permute(1, 0).unsqueeze(0).to(device) # preprocess for lstm\n",
    "with torch.no_grad():\n",
    "    y_pred_lstm = model_lstm(spec_lstm)\n",
    "predicted_str = prediction_to_str(torch.argmax(y_pred_lstm[0], 1))\n",
    "\n",
    "# Detect\n",
    "# ----------------------------------------------------------------\n",
    "spec_frnn = spectrum_to_img(spec) # preprocess for faster-rcnn\n",
    "bbx, scores, labels = inference(spec_frnn, model_resnet)\n",
    "\n",
    "# Plot\n",
    "plot_decode_detect(spec_frnn.cpu(), bbx, scores, labels, ['background', 'morse'], predicted_str, target_str)"
   ],
   "id": "9d19f466ac555aeb",
   "outputs": [
    {
     "name": "stdout",
     "output_type": "stream",
     "text": [
      "2024-03-31 19:09:00 [INFO] root - pitch: 950, wpm: 18, snrDB: 9, amplitude: 89, str: MORSE DL, bbx: (16, 19, 257, 20)\n"
     ]
    },
    {
     "name": "stderr",
     "output_type": "stream",
     "text": [
      "C:\\Users\\Maor\\AppData\\Local\\Temp\\ipykernel_31128\\3015226362.py:56: ComplexWarning: Casting complex values to real discards the imaginary part\n",
      "  time_domain_signal = time_domain_signal.astype(np.float32)\n"
     ]
    },
    {
     "data": {
      "text/plain": [
       "<Figure size 1600x800 with 1 Axes>"
      ],
      "image/png": "[encoded data removed]"
     },
     "metadata": {},
     "output_type": "display_data"
    }
   ],
   "execution_count": 145
  },
  {
   "cell_type": "markdown",
   "source": [
    "# Other stuff"
   ],
   "metadata": {
    "collapsed": false
   },
   "id": "698541de514af309"
  },
  {
   "cell_type": "markdown",
   "source": [
    "## For Kaggle \\ Colab"
   ],
   "metadata": {
    "collapsed": false
   },
   "id": "b90baecc2402ec10"
  },
  {
   "cell_type": "code",
   "execution_count": null,
   "outputs": [],
   "source": [
    "# Free space in Kaggle\n",
    "import os\n",
    "\n",
    "for the_file in os.listdir('/kaggle/working/faster_rnn_outputs'):\n",
    "    if the_file != 'epoch_50_model.pth' and the_file != 'loss_dict.pkl':\n",
    "        os.unlink(os.path.join('/kaggle/working/faster_rnn_outputs', the_file))"
   ],
   "metadata": {
    "collapsed": false
   },
   "id": "ae20e115c25e725"
  },
  {
   "cell_type": "code",
   "execution_count": null,
   "outputs": [],
   "source": [
    "# Move files from input to output in Kaggle\n",
    "import shutil\n",
    "\n",
    "src_path = r\"/kaggle/input/faster-rnn-epoch-50/epoch_50_model.pth\"\n",
    "dst_path = r\"/kaggle/working/faster_rnn_outputs/\"\n",
    "\n",
    "shutil.copy(src_path, dst_path)\n",
    "print('Copied')"
   ],
   "metadata": {
    "collapsed": false
   },
   "id": "bb13f732a9fb4c82"
  },
  {
   "cell_type": "code",
   "execution_count": 14,
   "outputs": [],
   "source": [
    "# Mount google drive in Colab\n",
    "from google.colab import drive\n",
    "\n",
    "drive.mount('/content/drive')"
   ],
   "metadata": {
    "collapsed": false,
    "ExecuteTime": {
     "end_time": "2024-03-29T21:34:43.177849800Z",
     "start_time": "2024-03-29T21:34:42.909033600Z"
    }
   },
   "id": "2518f9aee3cf0922"
  }
 ]
}
